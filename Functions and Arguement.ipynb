{
 "cells": [
  {
   "cell_type": "markdown",
   "id": "0c768e0e",
   "metadata": {},
   "source": [
    "### Python Function\n",
    "\n",
    "→ In Python, the function is a block of code defined with a name. we use functions whenever we need to perform the same task multiple times without writing the same code again. it can take arguments and return the value.\n",
    "\n",
    "→ Python has a DRY principle like other programming languages. DRY stands for Don't Repeat Yourself. Consider a scenario where we need to do some action/task many times. we can define that action only once using a function and call that function whenever required to do the same activity.\n",
    "\n",
    "→ function improves efficiency and reduces errors because of the reusability of a code. once we create a function, we can call it anywhere and anytime the benifit of using a function is reusability and modularity.\n",
    "\n",
    "#### Types of Functions\n",
    "\n",
    "Python supports two types of Functions\n",
    "\n",
    "- Built-in function\n",
    "- user-defined function\n",
    "\n",
    "the functions which come along with Python itself are called a built-in function or predefined function. some of them are listed below, range(), id(), type(), input() etc.\n",
    "\n",
    "####  user-defined function\n",
    "\n",
    "function which are created by programmer explicitly according to the requirement are called a user-defined function.\n",
    "\n",
    "- creating a function use the following steps to define a function in python.\n",
    "                                          \n",
    "                                          ↓\n",
    "                                          \n",
    "- use the def keyword with the function name to define a function.\n",
    "- next, pass the number of parameters as per your requirement. ( optional )\n",
    "\n",
    "\n",
    "              technically we have not to change the built-in fucntion but sometimes some function get change."
   ]
  },
  {
   "cell_type": "code",
   "execution_count": 34,
   "id": "fa25be63",
   "metadata": {},
   "outputs": [],
   "source": [
    "def prajjwal(a,b,c):\n",
    "    y = a+b*c          # making of a user defined function.\n",
    "    print(y)            # isme y ek esi cheez hai jo a,b,c me relation deta hai."
   ]
  },
  {
   "cell_type": "code",
   "execution_count": 13,
   "id": "a0216ec8",
   "metadata": {},
   "outputs": [
    {
     "name": "stdout",
     "output_type": "stream",
     "text": [
      "14\n"
     ]
    }
   ],
   "source": [
    "prajjwal(2,3,4)"
   ]
  },
  {
   "cell_type": "code",
   "execution_count": 4,
   "id": "1220eccd",
   "metadata": {},
   "outputs": [
    {
     "ename": "IndentationError",
     "evalue": "unexpected indent (3796997659.py, line 4)",
     "output_type": "error",
     "traceback": [
      "\u001b[1;36m  Cell \u001b[1;32mIn[4], line 4\u001b[1;36m\u001b[0m\n\u001b[1;33m    return multiply\u001b[0m\n\u001b[1;37m    ^\u001b[0m\n\u001b[1;31mIndentationError\u001b[0m\u001b[1;31m:\u001b[0m unexpected indent\n"
     ]
    }
   ],
   "source": [
    "###### def calculator(a,b):\n",
    "multiply = a * b\n",
    "\n",
    "    return multiply\n",
    "\n",
    "res = calculator(12,4)\n",
    "\n",
    "print('multiplication :',res)"
   ]
  },
  {
   "cell_type": "code",
   "execution_count": 5,
   "id": "1d30ad8e",
   "metadata": {},
   "outputs": [
    {
     "name": "stdout",
     "output_type": "stream",
     "text": [
      "addition : 25\n"
     ]
    }
   ],
   "source": [
    "def add(c, d):\n",
    "    x = c + d\n",
    "    # return the addition\n",
    "    return x\n",
    "# call function \n",
    "# take return value in variable\n",
    "result = add(20,5)\n",
    "print('addition :', result)"
   ]
  },
  {
   "cell_type": "code",
   "execution_count": 8,
   "id": "856bd55e",
   "metadata": {},
   "outputs": [
    {
     "name": "stdout",
     "output_type": "stream",
     "text": [
      "25\n",
      "addition : None\n"
     ]
    }
   ],
   "source": [
    "def add(c, d):\n",
    "    x = c + d\n",
    "    print(x)\n",
    "result = add(20,5)\n",
    "print('addition :',result)"
   ]
  },
  {
   "cell_type": "code",
   "execution_count": 6,
   "id": "2e65f26f",
   "metadata": {},
   "outputs": [],
   "source": [
    "def mult(a , b):\n",
    "    x = a * b\n",
    "    print(x)"
   ]
  },
  {
   "cell_type": "code",
   "execution_count": 10,
   "id": "ea65e679",
   "metadata": {},
   "outputs": [
    {
     "name": "stdout",
     "output_type": "stream",
     "text": [
      "20\n"
     ]
    }
   ],
   "source": [
    "mult(4,5)"
   ]
  },
  {
   "cell_type": "code",
   "execution_count": 19,
   "id": "3e75c607",
   "metadata": {},
   "outputs": [],
   "source": [
    "def prajwal(a,g,k,l,m,n):\n",
    "    x = a+g-k/l*m*n\n",
    "    print(x)"
   ]
  },
  {
   "cell_type": "code",
   "execution_count": 22,
   "id": "8d324273",
   "metadata": {},
   "outputs": [
    {
     "name": "stdout",
     "output_type": "stream",
     "text": [
      "-28.60000000000001\n"
     ]
    }
   ],
   "source": [
    "prajwal(2,3,4,5,6,7)"
   ]
  },
  {
   "cell_type": "code",
   "execution_count": 5,
   "id": "1a007c81",
   "metadata": {},
   "outputs": [
    {
     "ename": "NameError",
     "evalue": "name 'B' is not defined",
     "output_type": "error",
     "traceback": [
      "\u001b[1;31m---------------------------------------------------------------------------\u001b[0m",
      "\u001b[1;31mNameError\u001b[0m                                 Traceback (most recent call last)",
      "Cell \u001b[1;32mIn[5], line 4\u001b[0m\n\u001b[0;32m      2\u001b[0m     set_ \u001b[38;5;241m=\u001b[39m a\u001b[38;5;241m+\u001b[39mb\u001b[38;5;241m+\u001b[39mc\u001b[38;5;241m+\u001b[39md\u001b[38;5;241m+\u001b[39me\u001b[38;5;241m+\u001b[39mf\u001b[38;5;241m+\u001b[39mg\u001b[38;5;241m+\u001b[39mh\u001b[38;5;241m+\u001b[39mi\u001b[38;5;241m+\u001b[39mj\u001b[38;5;241m+\u001b[39mk\u001b[38;5;241m+\u001b[39ml\n\u001b[0;32m      3\u001b[0m     \u001b[38;5;28;01mreturn\u001b[39;00m set_\n\u001b[1;32m----> 4\u001b[0m result \u001b[38;5;241m=\u001b[39m pencil(B, HB, F,H)\n\u001b[0;32m      5\u001b[0m \u001b[38;5;28mprint\u001b[39m(\u001b[38;5;124m'\u001b[39m\u001b[38;5;124mpencil_set :\u001b[39m\u001b[38;5;124m'\u001b[39m,result)\n",
      "\u001b[1;31mNameError\u001b[0m: name 'B' is not defined"
     ]
    }
   ],
   "source": [
    "def pencil (a,b,c,d,e,f,g,h,i,j,k,l):\n",
    "    set_ = a+b+c+d+e+f+g+h+i+j+k+l\n",
    "    return set_\n",
    "result = pencil(B, HB, F,H)\n",
    "print('pencil_set :',result)"
   ]
  },
  {
   "cell_type": "code",
   "execution_count": 9,
   "id": "2e90a387",
   "metadata": {},
   "outputs": [
    {
     "name": "stdout",
     "output_type": "stream",
     "text": [
      "Even numbers are: [2, 42, 62, 70]\n"
     ]
    }
   ],
   "source": [
    "# To create a function for finding a number either it is odd or even.\n",
    "\n",
    "def is_even(list1):\n",
    "    even_num = []\n",
    "    for n in list1:\n",
    "        if n % 2 == 0 :\n",
    "            even_num.append(n)\n",
    "# return a list\n",
    "    return even_num\n",
    "\n",
    "# pass list to the function \n",
    "even_num = is_even([2,3,42,51,62,70,5,9])\n",
    "print('Even numbers are:',even_num)"
   ]
  },
  {
   "cell_type": "code",
   "execution_count": 1,
   "id": "4f164d04",
   "metadata": {},
   "outputs": [
    {
     "name": "stdout",
     "output_type": "stream",
     "text": [
      "[2, 42, 62, 70]\n",
      "even numbers are: None\n"
     ]
    }
   ],
   "source": [
    "def is_even(list1):\n",
    "    even_num = []\n",
    "    for n in list1:\n",
    "        if n%2==0:\n",
    "            even_num.append(n)\n",
    "    print(even_num) \n",
    "even_num = is_even([2,3,42,51,62,70,5,9])\n",
    "print(\"even numbers are:\",even_num)"
   ]
  },
  {
   "cell_type": "code",
   "execution_count": 3,
   "id": "d7a5e3c2",
   "metadata": {},
   "outputs": [
    {
     "name": "stdout",
     "output_type": "stream",
     "text": [
      "even numbers are: None\n"
     ]
    }
   ],
   "source": [
    "print('even numbers are:',even_num)"
   ]
  },
  {
   "cell_type": "code",
   "execution_count": 4,
   "id": "8d178834",
   "metadata": {},
   "outputs": [
    {
     "name": "stdout",
     "output_type": "stream",
     "text": [
      "None\n"
     ]
    }
   ],
   "source": [
    "print(even_num)"
   ]
  },
  {
   "cell_type": "code",
   "execution_count": 7,
   "id": "de80bc61",
   "metadata": {},
   "outputs": [
    {
     "name": "stdout",
     "output_type": "stream",
     "text": [
      "None\n"
     ]
    }
   ],
   "source": [
    "A = []\n",
    "print(A.append(95))"
   ]
  },
  {
   "cell_type": "code",
   "execution_count": null,
   "id": "fa8d20df",
   "metadata": {},
   "outputs": [],
   "source": [
    "def is_even():\n",
    "    even_num = int(input())\n",
    "    for n in even_num:\n",
    "        if n%2==0:\n",
    "              print(even_num) \n",
    "        else:\n",
    "            print('not_even')\n",
    "is_even(6)"
   ]
  },
  {
   "cell_type": "code",
   "execution_count": null,
   "id": "5bd8c4ab",
   "metadata": {},
   "outputs": [],
   "source": [
    "def is_even(even_num):\n",
    "    even_num = int(input())\n",
    "    for i in even_num:\n",
    "        if i%2==0:\n",
    "              print(even_num) \n",
    "        else: \n",
    "            print('not_even')   # Ques. 6 likhu to even number aajaye and 9 likhu to odd "
   ]
  },
  {
   "cell_type": "code",
   "execution_count": null,
   "id": "80ad9f28",
   "metadata": {},
   "outputs": [],
   "source": [
    "# To create a function for finding a number either it is odd or even.\n",
    "\n",
    "def is_even(even_num):\n",
    "    even_num = int(input())\n",
    "    for i in even_num:\n",
    "        if i%2==0:\n",
    "            even_num.append(i)\n",
    "              print(even_num) \n",
    "even_num = is_even(6)\n",
    "        else:\n",
    "            print('not_even')"
   ]
  },
  {
   "cell_type": "code",
   "execution_count": null,
   "id": "cf73b65d",
   "metadata": {},
   "outputs": [],
   "source": [
    "def add(a,b):\n",
    "    return a+b\n",
    "def subtract(a,b):\n",
    "    return a-b\n",
    "def multiply(a,b):\n",
    "    return a*b\n",
    "def division(a,b):\n",
    "    return a/b\n",
    "    if b==0:\n",
    "        print(\"error\")\n",
    "    else:\n",
    "        print(a/b)\n",
    "\n",
    "def main():\n",
    "\n",
    "    c"
   ]
  },
  {
   "cell_type": "code",
   "execution_count": null,
   "id": "e0259b44-61ae-4cfb-8643-2c7a7cc12ad2",
   "metadata": {},
   "outputs": [],
   "source": []
  },
  {
   "cell_type": "code",
   "execution_count": null,
   "id": "dd2cb9c9-da1e-40e5-b3e5-7e3233ce2c9f",
   "metadata": {},
   "outputs": [],
   "source": []
  },
  {
   "cell_type": "code",
   "execution_count": null,
   "id": "456da8f6-5159-4f8a-a5ab-4150cb6e0ebd",
   "metadata": {},
   "outputs": [],
   "source": []
  },
  {
   "cell_type": "code",
   "execution_count": null,
   "id": "17109691-e091-40de-a040-04010dcd592f",
   "metadata": {},
   "outputs": [],
   "source": []
  },
  {
   "cell_type": "code",
   "execution_count": null,
   "id": "1b13c674-818a-4ce9-8d32-2965be09a690",
   "metadata": {},
   "outputs": [],
   "source": []
  },
  {
   "cell_type": "code",
   "execution_count": null,
   "id": "e21049c5",
   "metadata": {},
   "outputs": [],
   "source": []
  },
  {
   "cell_type": "code",
   "execution_count": null,
   "id": "6fb4d496",
   "metadata": {},
   "outputs": [],
   "source": []
  },
  {
   "cell_type": "code",
   "execution_count": null,
   "id": "d3b23ace",
   "metadata": {},
   "outputs": [],
   "source": []
  },
  {
   "cell_type": "code",
   "execution_count": null,
   "id": "48f01685",
   "metadata": {},
   "outputs": [],
   "source": []
  },
  {
   "cell_type": "code",
   "execution_count": null,
   "id": "350918a5",
   "metadata": {},
   "outputs": [],
   "source": []
  },
  {
   "cell_type": "code",
   "execution_count": null,
   "id": "c6746dac",
   "metadata": {},
   "outputs": [],
   "source": []
  }
 ],
 "metadata": {
  "kernelspec": {
   "display_name": "Python 3 (ipykernel)",
   "language": "python",
   "name": "python3"
  },
  "language_info": {
   "codemirror_mode": {
    "name": "ipython",
    "version": 3
   },
   "file_extension": ".py",
   "mimetype": "text/x-python",
   "name": "python",
   "nbconvert_exporter": "python",
   "pygments_lexer": "ipython3",
   "version": "3.11.7"
  }
 },
 "nbformat": 4,
 "nbformat_minor": 5
}
