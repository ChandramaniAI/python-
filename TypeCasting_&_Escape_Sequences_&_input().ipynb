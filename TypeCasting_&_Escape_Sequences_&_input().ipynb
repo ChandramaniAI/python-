{
 "cells": [
  {
   "cell_type": "markdown",
   "metadata": {
    "id": "4rop-7tpGRn6"
   },
   "source": [
    "# Type Casting"
   ]
  },
  {
   "cell_type": "markdown",
   "metadata": {
    "id": "G4SmEmd9GafK"
   },
   "source": [
    "Type casting is a method to convert one data type to another data type.\n",
    "\n",
    "int()\n",
    "\n",
    "\n",
    "float()\n",
    "\n",
    "bool()\n",
    "\n",
    "complex()\n",
    "\n",
    "str()\n",
    "\n",
    "list()\n",
    "\n",
    "tuple()\n",
    "\n",
    "dict()\n",
    "\n",
    "set()"
   ]
  },
  {
   "cell_type": "code",
   "execution_count": null,
   "metadata": {
    "colab": {
     "base_uri": "https://localhost:8080/"
    },
    "id": "dq7AFzmzi9Sg",
    "outputId": "e3fd601c-4bfb-4e7d-bab3-4d6f71bdfca8"
   },
   "outputs": [
    {
     "data": {
      "text/plain": [
       "90"
      ]
     },
     "execution_count": 1,
     "metadata": {},
     "output_type": "execute_result"
    }
   ],
   "source": [
    "int(\"90\")"
   ]
  },
  {
   "cell_type": "code",
   "execution_count": null,
   "metadata": {
    "colab": {
     "base_uri": "https://localhost:8080/"
    },
    "id": "nwQ1t-N9Hyg_",
    "outputId": "3fd6bcb6-8cca-46e6-d226-92b5f2eecdd6"
   },
   "outputs": [
    {
     "data": {
      "text/plain": [
       "True"
      ]
     },
     "execution_count": 2,
     "metadata": {},
     "output_type": "execute_result"
    }
   ],
   "source": [
    "# convert a float to boolean\n",
    "bool(232.22)"
   ]
  },
  {
   "cell_type": "code",
   "execution_count": null,
   "metadata": {
    "colab": {
     "base_uri": "https://localhost:8080/"
    },
    "id": "UE8a1r2JIFR7",
    "outputId": "ebc19ca5-b362-410d-dcd1-14dba13d359b"
   },
   "outputs": [
    {
     "data": {
      "text/plain": [
       "(1+0j)"
      ]
     },
     "execution_count": 3,
     "metadata": {},
     "output_type": "execute_result"
    }
   ],
   "source": [
    "# convert boolean to complex\n",
    "complex(True)"
   ]
  },
  {
   "cell_type": "code",
   "execution_count": null,
   "metadata": {
    "colab": {
     "base_uri": "https://localhost:8080/"
    },
    "id": "ohUJKCfUIWnA",
    "outputId": "5f0cae30-733a-49e0-dfa7-1ac67dd8f037"
   },
   "outputs": [
    {
     "data": {
      "text/plain": [
       "True"
      ]
     },
     "execution_count": 4,
     "metadata": {},
     "output_type": "execute_result"
    }
   ],
   "source": [
    "# convert string to boolean\n",
    "bool(\"my name is abc\")"
   ]
  },
  {
   "cell_type": "code",
   "execution_count": null,
   "metadata": {
    "colab": {
     "base_uri": "https://localhost:8080/"
    },
    "id": "pOSGV4vpIox0",
    "outputId": "1ee9aca7-e6ff-4065-fb48-943f923224c1"
   },
   "outputs": [
    {
     "data": {
      "text/plain": [
       "45.0"
      ]
     },
     "execution_count": 5,
     "metadata": {},
     "output_type": "execute_result"
    }
   ],
   "source": [
    "# convert integer to float\n",
    "float(45)\n",
    "\n",
    "\n"
   ]
  },
  {
   "cell_type": "code",
   "execution_count": null,
   "metadata": {
    "colab": {
     "base_uri": "https://localhost:8080/"
    },
    "id": "v-ja0mgpI3GM",
    "outputId": "9805e7ae-5bc5-40d6-9b06-fd16d42478bc"
   },
   "outputs": [
    {
     "name": "stdout",
     "output_type": "stream",
     "text": [
      "<class 'int'>\n"
     ]
    }
   ],
   "source": [
    "var=\"45\"\n",
    "print(type(int(var))) # this is creating a new integer but not changing the variable var\n"
   ]
  },
  {
   "cell_type": "markdown",
   "metadata": {
    "id": "MnaI7cjCLCKb"
   },
   "source": [
    "# Escape Sequences"
   ]
  },
  {
   "cell_type": "code",
   "execution_count": null,
   "metadata": {
    "colab": {
     "base_uri": "https://localhost:8080/",
     "height": 106
    },
    "id": "-pHmuij7KgcI",
    "outputId": "f2376474-2f4d-4a2d-9cda-a651bcf9cafc"
   },
   "outputs": [
    {
     "ename": "SyntaxError",
     "evalue": "invalid syntax. Perhaps you forgot a comma? (<ipython-input-10-e1d261136644>, line 1)",
     "output_type": "error",
     "traceback": [
      "\u001b[0;36m  File \u001b[0;32m\"<ipython-input-10-e1d261136644>\"\u001b[0;36m, line \u001b[0;32m1\u001b[0m\n\u001b[0;31m    print(\"Python has many \"data types\"\")\u001b[0m\n\u001b[0m          ^\u001b[0m\n\u001b[0;31mSyntaxError\u001b[0m\u001b[0;31m:\u001b[0m invalid syntax. Perhaps you forgot a comma?\n"
     ]
    }
   ],
   "source": [
    "print(\"Python has many \"data types\"\")"
   ]
  },
  {
   "cell_type": "code",
   "execution_count": null,
   "metadata": {
    "colab": {
     "base_uri": "https://localhost:8080/",
     "height": 106
    },
    "id": "RBAFDX0ALYI4",
    "outputId": "ae93ea53-91fa-4194-8070-988dccc53e56"
   },
   "outputs": [
    {
     "ename": "SyntaxError",
     "evalue": "invalid syntax. Perhaps you forgot a comma? (<ipython-input-12-a81e0577ac81>, line 1)",
     "output_type": "error",
     "traceback": [
      "\u001b[0;36m  File \u001b[0;32m\"<ipython-input-12-a81e0577ac81>\"\u001b[0;36m, line \u001b[0;32m1\u001b[0m\n\u001b[0;31m    print(',Python has many 'data types'')\u001b[0m\n\u001b[0m          ^\u001b[0m\n\u001b[0;31mSyntaxError\u001b[0m\u001b[0;31m:\u001b[0m invalid syntax. Perhaps you forgot a comma?\n"
     ]
    }
   ],
   "source": [
    "print(',Python has many 'data types'')"
   ]
  },
  {
   "cell_type": "code",
   "execution_count": null,
   "metadata": {
    "colab": {
     "base_uri": "https://localhost:8080/"
    },
    "id": "cu6Rt9lGL75X",
    "outputId": "ec310b10-bde9-40d6-ee17-aea220b4ef10"
   },
   "outputs": [
    {
     "name": "stdout",
     "output_type": "stream",
     "text": [
      "Python has many \"data types\"\n"
     ]
    }
   ],
   "source": [
    "print('Python has many \"data types\"')"
   ]
  },
  {
   "cell_type": "code",
   "execution_count": null,
   "metadata": {
    "colab": {
     "base_uri": "https://localhost:8080/"
    },
    "id": "eSQ3JuorPXDR",
    "outputId": "1d824902-eb61-45d3-d25a-c4d0aa5dddb9"
   },
   "outputs": [
    {
     "name": "stdout",
     "output_type": "stream",
     "text": [
      "Python has many \"data types\"\n"
     ]
    }
   ],
   "source": [
    "print(\"Python has many \\\"data types\\\"\")"
   ]
  },
  {
   "cell_type": "code",
   "execution_count": 1,
   "metadata": {
    "id": "idOLhnbQPmYV"
   },
   "outputs": [
    {
     "name": "stdout",
     "output_type": "stream",
     "text": [
      "Python has many 'data types'\n"
     ]
    }
   ],
   "source": [
    "print(\"Python has many 'data types'\")"
   ]
  },
  {
   "cell_type": "markdown",
   "metadata": {
    "id": "s4CMqh1OYAK0"
   },
   "source": [
    "                                 # Escape Sequences\n",
    "\n",
    "                         CODE                          RESULT\n",
    "\n",
    "                         \\'                           Single Quote\n",
    "\n",
    "                         \\\\                           Backslash\n",
    "\n",
    "                         \\n                           New Line\n",
    "\n",
    "                         \\b                           Backspace\n",
    "\n",
    "                         \\t                           Tab\n",
    "\n",
    "                         \\r                           Carriage Return         "
   ]
  },
  {
   "cell_type": "code",
   "execution_count": null,
   "metadata": {
    "colab": {
     "base_uri": "https://localhost:8080/"
    },
    "id": "NrFtggfgPySq",
    "outputId": "2d9f5b6c-6381-4263-8d4f-c18949a7cb1e"
   },
   "outputs": [
    {
     "name": "stdout",
     "output_type": "stream",
     "text": [
      "Python has many'data types'\n"
     ]
    }
   ],
   "source": [
    "print('Python has many\\'data types\\'')"
   ]
  },
  {
   "cell_type": "code",
   "execution_count": null,
   "metadata": {
    "colab": {
     "base_uri": "https://localhost:8080/",
     "height": 106
    },
    "id": "E3pJjkvoLI2u",
    "outputId": "af3368bd-a98c-4662-f030-878c263546da"
   },
   "outputs": [
    {
     "ename": "SyntaxError",
     "evalue": "invalid syntax. Perhaps you forgot a comma? (<ipython-input-10-96469c18bcfc>, line 1)",
     "output_type": "error",
     "traceback": [
      "\u001b[0;36m  File \u001b[0;32m\"<ipython-input-10-96469c18bcfc>\"\u001b[0;36m, line \u001b[0;32m1\u001b[0m\n\u001b[0;31m    print(\"Python has many \\n\"data types\\\"\")\u001b[0m\n\u001b[0m          ^\u001b[0m\n\u001b[0;31mSyntaxError\u001b[0m\u001b[0;31m:\u001b[0m invalid syntax. Perhaps you forgot a comma?\n"
     ]
    }
   ],
   "source": [
    "print(\"Python has many \\n\"data types\\\"\")"
   ]
  },
  {
   "cell_type": "code",
   "execution_count": null,
   "metadata": {
    "colab": {
     "base_uri": "https://localhost:8080/"
    },
    "id": "_0ehASRmL37P",
    "outputId": "776fc39c-842f-4fef-d65e-90db469eb091"
   },
   "outputs": [
    {
     "name": "stdout",
     "output_type": "stream",
     "text": [
      "Python has many \"data types\"\n"
     ]
    }
   ],
   "source": [
    "print(\"Python has many \\\"data types\\\"\")"
   ]
  },
  {
   "cell_type": "code",
   "execution_count": 2,
   "metadata": {
    "colab": {
     "base_uri": "https://localhost:8080/",
     "height": 106
    },
    "id": "PmPAj3hZMlGs",
    "outputId": "8c3ebeae-51fc-45f8-eacf-4225e7969389"
   },
   "outputs": [
    {
     "ename": "SyntaxError",
     "evalue": "invalid syntax. Perhaps you forgot a comma? (1654871651.py, line 1)",
     "output_type": "error",
     "traceback": [
      "\u001b[1;36m  Cell \u001b[1;32mIn[2], line 1\u001b[1;36m\u001b[0m\n\u001b[1;33m    print(\"Python has many \\\\\" data types \\\\\"\")\u001b[0m\n\u001b[1;37m          ^\u001b[0m\n\u001b[1;31mSyntaxError\u001b[0m\u001b[1;31m:\u001b[0m invalid syntax. Perhaps you forgot a comma?\n"
     ]
    }
   ],
   "source": [
    "print(\"Python has many \\\\\" data types \\\\\"\")"
   ]
  },
  {
   "cell_type": "code",
   "execution_count": null,
   "metadata": {
    "colab": {
     "base_uri": "https://localhost:8080/"
    },
    "id": "d_uUwi04NFgX",
    "outputId": "74c4b79f-ae9a-474d-d96c-32d47e21b70c"
   },
   "outputs": [
    {
     "data": {
      "text/plain": [
       "str"
      ]
     },
     "execution_count": 2,
     "metadata": {},
     "output_type": "execute_result"
    }
   ],
   "source": [
    "x=\"89\"\n",
    "type(x)"
   ]
  },
  {
   "cell_type": "code",
   "execution_count": null,
   "metadata": {
    "colab": {
     "base_uri": "https://localhost:8080/"
    },
    "id": "hJxIedmXPhxi",
    "outputId": "8ad489bb-38f6-4b0d-87f8-3a5fdc654f0a"
   },
   "outputs": [
    {
     "data": {
      "text/plain": [
       "89"
      ]
     },
     "execution_count": 3,
     "metadata": {},
     "output_type": "execute_result"
    }
   ],
   "source": [
    "int(x)"
   ]
  },
  {
   "cell_type": "code",
   "execution_count": null,
   "metadata": {
    "colab": {
     "base_uri": "https://localhost:8080/"
    },
    "id": "4ChpxPxRPmzB",
    "outputId": "66330797-9f6b-4aad-e0af-89cd9a5c30c4"
   },
   "outputs": [
    {
     "data": {
      "text/plain": [
       "int"
      ]
     },
     "execution_count": 5,
     "metadata": {},
     "output_type": "execute_result"
    }
   ],
   "source": [
    "type(int(x))"
   ]
  },
  {
   "cell_type": "code",
   "execution_count": null,
   "metadata": {
    "colab": {
     "base_uri": "https://localhost:8080/"
    },
    "id": "GX-UtOIePrCI",
    "outputId": "69270018-ea81-44c7-d373-5730e7b49774"
   },
   "outputs": [
    {
     "name": "stdout",
     "output_type": "stream",
     "text": [
      "Python has many \\ \"data types\"\n"
     ]
    }
   ],
   "source": [
    "print(\"Python has many \\ \\\"data types\\\"\")"
   ]
  },
  {
   "cell_type": "code",
   "execution_count": null,
   "metadata": {
    "colab": {
     "base_uri": "https://localhost:8080/"
    },
    "id": "z-NcQ2LrTH5P",
    "outputId": "94707507-f538-4fcc-f3b7-fd0c49c27c96"
   },
   "outputs": [
    {
     "name": "stdout",
     "output_type": "stream",
     "text": [
      "Machine\\Learning\n"
     ]
    }
   ],
   "source": [
    "print(\"Machine\\\\Learning\")"
   ]
  },
  {
   "cell_type": "code",
   "execution_count": null,
   "metadata": {
    "colab": {
     "base_uri": "https://localhost:8080/"
    },
    "id": "WqmMEkn2TSX4",
    "outputId": "c63990f9-d742-4758-cd8a-9dcc3b80a832"
   },
   "outputs": [
    {
     "name": "stdout",
     "output_type": "stream",
     "text": [
      "Python is easy \n",
      " It is an oriented language\n"
     ]
    }
   ],
   "source": [
    "print(\"Python is easy \\n It is an oriented language\")"
   ]
  },
  {
   "cell_type": "code",
   "execution_count": null,
   "metadata": {
    "colab": {
     "base_uri": "https://localhost:8080/"
    },
    "id": "_oF99vgLTiFX",
    "outputId": "44d50432-7f9e-4e54-a3de-2e61aea28ec1"
   },
   "outputs": [
    {
     "name": "stdout",
     "output_type": "stream",
     "text": [
      "Python is easy \n",
      " It is an\n",
      "oriented language\n"
     ]
    }
   ],
   "source": [
    "print(\"Python is easy \\n It is an\\noriented language\")"
   ]
  },
  {
   "cell_type": "code",
   "execution_count": null,
   "metadata": {
    "colab": {
     "base_uri": "https://localhost:8080/"
    },
    "id": "YeqSo6KaTp6V",
    "outputId": "4540c6a3-f3c2-4af6-b8c4-dd4a7c06b957"
   },
   "outputs": [
    {
     "name": "stdout",
     "output_type": "stream",
     "text": [
      "python is easy\b it high level language\b\n"
     ]
    }
   ],
   "source": [
    "print(\"python is easy\\b it high level language\\b\")"
   ]
  },
  {
   "cell_type": "code",
   "execution_count": 3,
   "metadata": {
    "colab": {
     "base_uri": "https://localhost:8080/"
    },
    "id": "5xyE1axWT-nD",
    "outputId": "31455c6a-c7ce-4d98-f04d-0c1d4ccfbe70"
   },
   "outputs": [
    {
     "name": "stdout",
     "output_type": "stream",
     "text": [
      "python is eas it high level languag\n"
     ]
    }
   ],
   "source": [
    "print(\"python is easy\\b it high level language\\b\\b\\b\\b\\b\\b\\b\\b\\b\\b\\b\")"
   ]
  },
  {
   "cell_type": "code",
   "execution_count": 4,
   "metadata": {
    "colab": {
     "base_uri": "https://localhost:8080/"
    },
    "id": "uqfXtCJWUhym",
    "outputId": "32a08e12-12f4-4570-a09d-8a9e3910cc66"
   },
   "outputs": [
    {
     "name": "stdout",
     "output_type": "stream",
     "text": [
      "python is easy\t\t\t\t it high level language\n"
     ]
    }
   ],
   "source": [
    "print(\"python is easy\\t\\t\\t\\t it high level language\")"
   ]
  },
  {
   "cell_type": "code",
   "execution_count": 5,
   "metadata": {
    "colab": {
     "base_uri": "https://localhost:8080/"
    },
    "id": "-u4WDJsJU5V0",
    "outputId": "8e8331a9-8d9e-432e-e2e0-219998779541"
   },
   "outputs": [
    {
     "name": "stdout",
     "output_type": "stream",
     "text": [
      " it high level language\n"
     ]
    }
   ],
   "source": [
    "print(\"python\\r is easy\\r it high level language\\r\")"
   ]
  },
  {
   "cell_type": "code",
   "execution_count": 6,
   "metadata": {
    "colab": {
     "base_uri": "https://localhost:8080/"
    },
    "id": "qlXeqUNdVOsE",
    "outputId": "6954552b-95c3-4c3e-e028-40cd1bc80a75"
   },
   "outputs": [
    {
     "name": "stdout",
     "output_type": "stream",
     "text": [
      "python is eas it high level langua\n"
     ]
    }
   ],
   "source": [
    "print(\"python is easy\\b it high level language\\b\\b\\b\\b\\b\\b\\b\\b\\b\\b\\b\\b\\b\\b\\b\\b\\b\\b\\b\\b\\b\\b\\b\\b\\b\\b\\b\\b\\b\\b\")"
   ]
  },
  {
   "cell_type": "code",
   "execution_count": 7,
   "metadata": {
    "colab": {
     "base_uri": "https://localhost:8080/"
    },
    "id": "K1GgFljxWFte",
    "outputId": "4c72bf26-6671-477a-dc6b-5035c38b8c21"
   },
   "outputs": [
    {
     "name": "stdout",
     "output_type": "stream",
     "text": [
      "pytho\n"
     ]
    }
   ],
   "source": [
    "print(\"python\\b\\b\\b\")"
   ]
  },
  {
   "cell_type": "code",
   "execution_count": 8,
   "metadata": {
    "colab": {
     "base_uri": "https://localhost:8080/"
    },
    "id": "ZBXpsnOIXDq7",
    "outputId": "36880a30-c3ea-478b-fc8e-6ce01ab901bc"
   },
   "outputs": [
    {
     "name": "stdout",
     "output_type": "stream",
     "text": [
      "PYT\n"
     ]
    }
   ],
   "source": [
    "print(\"PYTH\\bO\\bN\\b\")"
   ]
  },
  {
   "cell_type": "code",
   "execution_count": null,
   "metadata": {
    "colab": {
     "base_uri": "https://localhost:8080/"
    },
    "id": "Z9M-qS4hXUF3",
    "outputId": "3e730854-9f90-4935-e102-97b3b4800b2c"
   },
   "outputs": [
    {
     "name": "stdout",
     "output_type": "stream",
     "text": [
      "python is easy it high level language\b\b\b\b\b\b\b\b\b\b\b\b\b\b\b\b\b\b\b\b\b\b\b\b\b\b\b\b\b\b\n"
     ]
    }
   ],
   "source": [
    "print(\"python is easy it high level language\\b\\b\\b\\b\\b\\b\\b\\b\\b\\b\\b\\b\\b\\b\\b\\b\\b\\b\\b\\b\\b\\b\\b\\b\\b\\b\\b\\b\\b\\b\")"
   ]
  },
  {
   "cell_type": "code",
   "execution_count": null,
   "metadata": {
    "colab": {
     "base_uri": "https://localhost:8080/"
    },
    "id": "5iHidmWyXlHo",
    "outputId": "42351611-ea7b-483b-edbf-74c610a56301"
   },
   "outputs": [
    {
     "name": "stdout",
     "output_type": "stream",
     "text": [
      "python is easy it high level language\b\b\b\b\b\b\b\b\b\b\b\b\b\b\b\b\b\b\b\b\b\b\b\b\b\b\b\b\b\b\b\b\b\b\b\n"
     ]
    }
   ],
   "source": [
    "print(\"python is easy it high level language\\b\\b\\b\\b\\b\\b\\b\\b\\b\\b\\b\\b\\b\\b\\b\\b\\b\\b\\b\\b\\b\\b\\b\\b\\b\\b\\b\\b\\b\\b\\b\\b\\b\\b\\b\")"
   ]
  },
  {
   "cell_type": "code",
   "execution_count": null,
   "metadata": {
    "colab": {
     "base_uri": "https://localhost:8080/"
    },
    "id": "XHe8pghkX5S-",
    "outputId": "4b4ccb7a-560c-467b-c42f-1825bc468b0a"
   },
   "outputs": [
    {
     "name": "stdout",
     "output_type": "stream",
     "text": [
      "python\r",
      "data\n"
     ]
    }
   ],
   "source": [
    "print(\"python\\rdata\")"
   ]
  },
  {
   "cell_type": "code",
   "execution_count": null,
   "metadata": {
    "colab": {
     "base_uri": "https://localhost:8080/"
    },
    "id": "rKm5GzkVZjVq",
    "outputId": "f7dea479-b876-44cf-f28d-c04a4566fb14"
   },
   "outputs": [
    {
     "name": "stdout",
     "output_type": "stream",
     "text": [
      "PYTHON\r",
      "DATA\r",
      "HE\n"
     ]
    }
   ],
   "source": [
    "print(\"PYTHON\\rDATA\\rHE\")"
   ]
  },
  {
   "cell_type": "markdown",
   "metadata": {
    "id": "VkJuUTuOYc0A"
   },
   "source": [
    "# Taking input from users\n",
    "\n",
    "input()\n",
    "\n",
    "- Just like print() is used to give some output, input() is used to take some input from the user."
   ]
  },
  {
   "cell_type": "code",
   "execution_count": null,
   "metadata": {
    "colab": {
     "base_uri": "https://localhost:8080/"
    },
    "id": "SGGUH1lzagmZ",
    "outputId": "3495f073-0359-42be-97d3-5ded3ba3797f"
   },
   "outputs": [
    {
     "name": "stdout",
     "output_type": "stream",
     "text": [
      "78\n"
     ]
    }
   ],
   "source": [
    "x= input()"
   ]
  },
  {
   "cell_type": "code",
   "execution_count": null,
   "metadata": {
    "colab": {
     "base_uri": "https://localhost:8080/"
    },
    "id": "GAmETaAYUOe5",
    "outputId": "3c78793e-021d-482d-f6e1-dead91d5f2e4"
   },
   "outputs": [
    {
     "name": "stdout",
     "output_type": "stream",
     "text": [
      "ab\n"
     ]
    }
   ],
   "source": [
    "x=input()"
   ]
  },
  {
   "cell_type": "code",
   "execution_count": null,
   "metadata": {
    "colab": {
     "base_uri": "https://localhost:8080/",
     "height": 35
    },
    "id": "UL77UA12ZMwM",
    "outputId": "e690288c-4cb4-4dcf-cbc2-e129bd5fcd6c"
   },
   "outputs": [
    {
     "data": {
      "application/vnd.google.colaboratory.intrinsic+json": {
       "type": "string"
      },
      "text/plain": [
       "'78'"
      ]
     },
     "execution_count": 2,
     "metadata": {},
     "output_type": "execute_result"
    }
   ],
   "source": [
    "x"
   ]
  },
  {
   "cell_type": "code",
   "execution_count": null,
   "metadata": {
    "colab": {
     "base_uri": "https://localhost:8080/"
    },
    "id": "rbjpfIYzZWPx",
    "outputId": "b51e420a-4a42-471f-cbd8-5f9c0278451b"
   },
   "outputs": [
    {
     "data": {
      "text/plain": [
       "str"
      ]
     },
     "execution_count": 3,
     "metadata": {},
     "output_type": "execute_result"
    }
   ],
   "source": [
    "#Let us check the data type of x\n",
    "type(x)"
   ]
  },
  {
   "cell_type": "code",
   "execution_count": null,
   "metadata": {
    "colab": {
     "base_uri": "https://localhost:8080/"
    },
    "id": "8jpvM7LlZj7c",
    "outputId": "66b328fb-bb53-4ecc-8e2c-dfa6f62d9edb"
   },
   "outputs": [
    {
     "name": "stdout",
     "output_type": "stream",
     "text": [
      "56\n"
     ]
    }
   ],
   "source": [
    "y= int(input())"
   ]
  },
  {
   "cell_type": "code",
   "execution_count": null,
   "metadata": {
    "colab": {
     "base_uri": "https://localhost:8080/"
    },
    "id": "JjmpN8WqZrSL",
    "outputId": "7a2b4e88-dfc0-44d0-b477-81c482aa75e3"
   },
   "outputs": [
    {
     "data": {
      "text/plain": [
       "int"
      ]
     },
     "execution_count": 5,
     "metadata": {},
     "output_type": "execute_result"
    }
   ],
   "source": [
    "type(y)"
   ]
  },
  {
   "cell_type": "code",
   "execution_count": null,
   "metadata": {
    "colab": {
     "base_uri": "https://localhost:8080/"
    },
    "id": "p15LabJ0Zvcu",
    "outputId": "06f3eb8f-82a9-48d7-ee19-9f82d57cc79a"
   },
   "outputs": [
    {
     "name": "stdout",
     "output_type": "stream",
     "text": [
      "enter number34\n"
     ]
    }
   ],
   "source": [
    "x= input(\"enter number\")"
   ]
  },
  {
   "cell_type": "code",
   "execution_count": null,
   "metadata": {
    "colab": {
     "base_uri": "https://localhost:8080/"
    },
    "id": "sZ6dOZ1BaCqy",
    "outputId": "ff576ad7-d7a7-4672-a1fb-2d2d67bec303"
   },
   "outputs": [
    {
     "name": "stdout",
     "output_type": "stream",
     "text": [
      "Write your name:RAM\n"
     ]
    }
   ],
   "source": [
    "#Message to the user regarding the input to be given (without using print() )\n",
    "a=input(\"Write your name:\")"
   ]
  },
  {
   "cell_type": "code",
   "execution_count": null,
   "metadata": {
    "colab": {
     "base_uri": "https://localhost:8080/"
    },
    "id": "I7IsBgeWbSrU",
    "outputId": "0139f24d-c912-4ba6-ea48-d4563553fd6b"
   },
   "outputs": [
    {
     "data": {
      "text/plain": [
       "str"
      ]
     },
     "execution_count": 9,
     "metadata": {},
     "output_type": "execute_result"
    }
   ],
   "source": [
    "type(a)"
   ]
  },
  {
   "cell_type": "code",
   "execution_count": null,
   "metadata": {
    "colab": {
     "base_uri": "https://localhost:8080/"
    },
    "id": "SpOcQywjbn7h",
    "outputId": "d5e9c419-daa8-4723-963e-95f5abf37e3e"
   },
   "outputs": [
    {
     "name": "stdout",
     "output_type": "stream",
     "text": [
      "Enter two number to add\n",
      "12\n",
      "78\n",
      "the sum of  12 and 78 is 90\n"
     ]
    }
   ],
   "source": [
    "#Program to calculate the sum of two numbers\n",
    "print(\"Enter two number to add\")\n",
    "num1=int(input())\n",
    "num2=int(input())\n",
    "sum=num1+num2\n",
    "print(\"the sum of \",num1,\"and\",num2,\"is\",sum)"
   ]
  },
  {
   "cell_type": "code",
   "execution_count": null,
   "metadata": {
    "colab": {
     "base_uri": "https://localhost:8080/"
    },
    "id": "-mMgEfoSeZ1L",
    "outputId": "1c0cfc31-5c75-4088-a498-6ef891abbda3"
   },
   "outputs": [
    {
     "name": "stdout",
     "output_type": "stream",
     "text": [
      "Enter two number to add\n",
      "34\n",
      "45\n",
      "the sum of  34 and 45 is 79\n"
     ]
    }
   ],
   "source": [
    "#Program to calculate the sum of two numbers\n",
    "print(\"Enter two number to add\")\n",
    "num1=int(input())\n",
    "num2=int(input())\n",
    "sum=num1+num2\n",
    "print(\"the sum of \",num1,\"and\",num2,\"is\",sum)"
   ]
  },
  {
   "cell_type": "code",
   "execution_count": null,
   "metadata": {
    "colab": {
     "base_uri": "https://localhost:8080/"
    },
    "id": "mDpvlhxUeim9",
    "outputId": "c434be63-2869-4e9b-d10e-25d0c27e28fe"
   },
   "outputs": [
    {
     "name": "stdout",
     "output_type": "stream",
     "text": [
      "Enter two number to subtract\n",
      "78\n",
      "45\n",
      "the sum of  78 and 45 is 33\n"
     ]
    }
   ],
   "source": [
    "#Program to calculate the subtract of two numbers\n",
    "print(\"Enter two number to subtract\")\n",
    "num1=int(input())\n",
    "num2=int(input())\n",
    "sum=num1-num2\n",
    "print(\"the sum of \",num1,\"and\",num2,\"is\",sum)"
   ]
  },
  {
   "cell_type": "code",
   "execution_count": null,
   "metadata": {
    "colab": {
     "base_uri": "https://localhost:8080/"
    },
    "id": "U-taBms6e3iB",
    "outputId": "d776122e-90ce-4360-fbb3-861b1f5a68af"
   },
   "outputs": [
    {
     "name": "stdout",
     "output_type": "stream",
     "text": [
      "Enter two number to multiply\n",
      "45\n",
      "67\n",
      "the multiply of  45 and 67 is 3015\n"
     ]
    }
   ],
   "source": [
    "#Program to calculate the multiplication of two numbers\n",
    "print(\"Enter two number to multiply\")\n",
    "a=int(input())\n",
    "b=int(input())\n",
    "c=a*b\n",
    "print(\"the multiply of \",a,\"and\",b,\"is\",c)"
   ]
  },
  {
   "cell_type": "code",
   "execution_count": null,
   "metadata": {
    "colab": {
     "base_uri": "https://localhost:8080/"
    },
    "id": "9RbOjcRsgJZh",
    "outputId": "5b1d023f-465b-470f-cdb3-50fee8f78c97"
   },
   "outputs": [
    {
     "name": "stdout",
     "output_type": "stream",
     "text": [
      "Enter two number to divide\n",
      "98\n",
      "14\n",
      "the division of  98 and 14 is 7.0\n"
     ]
    }
   ],
   "source": [
    "#Program to calculate the division of two numbers\n",
    "print(\"Enter two number to divide\")\n",
    "a=int(input())\n",
    "b=int(input())\n",
    "d=a/b\n",
    "print(\"the division of \",a,\"and\",b,\"is\",d)"
   ]
  },
  {
   "cell_type": "code",
   "execution_count": null,
   "metadata": {
    "colab": {
     "base_uri": "https://localhost:8080/"
    },
    "id": "LeHfMPyhhQCQ",
    "outputId": "99d89957-a58d-419a-c6c9-79987f9348d0"
   },
   "outputs": [
    {
     "name": "stdout",
     "output_type": "stream",
     "text": [
      "Enter two number to divide\n",
      "12\n",
      "84\n",
      "the division of  12 and 84 is 7.0\n"
     ]
    }
   ],
   "source": [
    "#Program to calculate the division of two numbers\n",
    "print(\"Enter two number to divide\")\n",
    "a=int(input())\n",
    "b=int(input())\n",
    "d=b/a\n",
    "print(\"the division of \",a,\"and\",b,\"is\",d)"
   ]
  },
  {
   "cell_type": "code",
   "execution_count": null,
   "metadata": {
    "colab": {
     "base_uri": "https://localhost:8080/"
    },
    "id": "SL_oiIS8hmWg",
    "outputId": "242f0538-3973-4eac-c84d-840382159a5d"
   },
   "outputs": [
    {
     "name": "stdout",
     "output_type": "stream",
     "text": [
      "Create a gmail program\n",
      "First name:Rahul\n",
      "Rahul\n",
      "last name:Kumar\n",
      "Kumar\n",
      "user name:rahul\n",
      "rahul\n",
      "special character:@\n",
      "@\n",
      "domain name:gmail.com\n",
      "gmail.com\n",
      "create a password:abc123@\n",
      "abc123@\n",
      "confirm password:abc123@\n",
      "abc123@\n",
      "dob:12/03/2004\n",
      "12/03/2004\n",
      "gender:Male\n",
      "Male\n"
     ]
    }
   ],
   "source": [
    "print(\"Create a gmail program\")\n",
    "print(input(\"First name:\"))\n",
    "print(input(\"last name:\"))\n",
    "print(input(\"user name:\"))\n",
    "print(input(\"special character:\"))\n",
    "print(input(\"domain name:\"))\n",
    "print(input(\"create a password:\"))\n",
    "print(input(\"confirm password:\"))\n",
    "print(input(\"dob:\"))\n",
    "print(input(\"gender:\"))\n",
    "\n"
   ]
  },
  {
   "cell_type": "code",
   "execution_count": null,
   "metadata": {
    "colab": {
     "base_uri": "https://localhost:8080/"
    },
    "id": "vpBosBk9kl3f",
    "outputId": "baf138cf-1ad6-4ab1-f30f-55f4d33d8d7a"
   },
   "outputs": [
    {
     "name": "stdout",
     "output_type": "stream",
     "text": [
      "gmail account\n",
      "First name:Shyam\n",
      "Shyam\n",
      "Last name:Kumar\n",
      "Kumar\n",
      "User name:shyam\n",
      "shyam\n",
      "special charater:@\n",
      "@\n",
      "Domain name:gmail.com\n",
      "gmail.com\n",
      "create password:abc123@\n",
      "abc123@\n",
      "confirm password:abc123@\n",
      "abc123@\n",
      "date of birth:12/03/2005\n",
      "12/03/2005\n",
      "gender:Male\n",
      "Male\n",
      "right\n"
     ]
    }
   ],
   "source": [
    "print('gmail account')\n",
    "name=print(input(\"First name:\"))\n",
    "last=print(input(\"Last name:\"))\n",
    "user=print(input(\"User name:\"))\n",
    "spl=print(input(\"special charater:\"))\n",
    "domain=print(input(\"Domain name:\"))\n",
    "pas=print(input(\"create password:\"))\n",
    "pas1=print(input(\"confirm password:\"))\n",
    "dob=print(input(\"date of birth:\"))\n",
    "gender=print(input(\"gender:\"))\n",
    "print(\"right\")"
   ]
  },
  {
   "cell_type": "code",
   "execution_count": null,
   "metadata": {
    "colab": {
     "base_uri": "https://localhost:8080/"
    },
    "id": "EbHq1fXwmTIg",
    "outputId": "ccdbdf7c-af34-4356-e1c4-658ff1763181"
   },
   "outputs": [
    {
     "name": "stdout",
     "output_type": "stream",
     "text": [
      "None\n"
     ]
    }
   ],
   "source": [
    "print(name)"
   ]
  },
  {
   "cell_type": "code",
   "execution_count": 10,
   "metadata": {
    "colab": {
     "base_uri": "https://localhost:8080/"
    },
    "id": "4TiksxF3nOae",
    "outputId": "93bba33c-0924-4f21-acca-7844fb6f35d6"
   },
   "outputs": [
    {
     "name": "stdout",
     "output_type": "stream",
     "text": [
      "gmail account\n"
     ]
    },
    {
     "name": "stdin",
     "output_type": "stream",
     "text": [
      "First name: Ram\n",
      "Last name: Yadav\n",
      "User name: ram\n",
      "special charater: @\n",
      "Domain name: gmail.com\n",
      "create password: abc123@\n",
      "confirm password: abc123@\n",
      "date of birth: 12/02/2005\n",
      "gender: Male\n"
     ]
    },
    {
     "name": "stdout",
     "output_type": "stream",
     "text": [
      "right\n"
     ]
    }
   ],
   "source": [
    "print('gmail account')\n",
    "name=input(\"First name:\")\n",
    "last=input(\"Last name:\")\n",
    "user=input(\"User name:\")\n",
    "spl=input(\"special charater:\")\n",
    "domain=input(\"Domain name:\")\n",
    "pas=input(\"create password:\")\n",
    "pas1=input(\"confirm password:\")\n",
    "dob=input(\"date of birth:\")\n",
    "gender=input(\"gender:\")\n",
    "print(\"right\")"
   ]
  },
  {
   "cell_type": "code",
   "execution_count": 14,
   "metadata": {
    "colab": {
     "base_uri": "https://localhost:8080/"
    },
    "id": "8MYbNnpIoNor",
    "outputId": "9e8470b3-622c-4169-baa0-f7504f9daa16"
   },
   "outputs": [
    {
     "name": "stdout",
     "output_type": "stream",
     "text": [
      "Ram Yadav\n"
     ]
    }
   ],
   "source": [
    "print(name,last)"
   ]
  },
  {
   "cell_type": "code",
   "execution_count": null,
   "metadata": {
    "colab": {
     "base_uri": "https://localhost:8080/"
    },
    "id": "yDSjUlzhoz3X",
    "outputId": "a60d9841-f3b8-4484-8557-dc1a4a233d3f"
   },
   "outputs": [
    {
     "name": "stdout",
     "output_type": "stream",
     "text": [
      "abc123@\n"
     ]
    }
   ],
   "source": [
    "print(pas)"
   ]
  },
  {
   "cell_type": "code",
   "execution_count": null,
   "metadata": {
    "colab": {
     "base_uri": "https://localhost:8080/"
    },
    "id": "I7J9U3fJo5QL",
    "outputId": "ef57405b-809f-4ee5-bf3f-0281f3255f39"
   },
   "outputs": [
    {
     "name": "stdout",
     "output_type": "stream",
     "text": [
      "ram @ gmail.com\n"
     ]
    }
   ],
   "source": [
    "print(user,spl,domain)"
   ]
  },
  {
   "cell_type": "code",
   "execution_count": null,
   "metadata": {
    "colab": {
     "base_uri": "https://localhost:8080/"
    },
    "id": "JSddaOsgsN-P",
    "outputId": "afe08e98-6e7c-4c32-f2bf-44779b2305b0"
   },
   "outputs": [
    {
     "name": "stdout",
     "output_type": "stream",
     "text": [
      "ram@gmail.com\n"
     ]
    }
   ],
   "source": [
    "print(user+spl+domain)"
   ]
  },
  {
   "cell_type": "code",
   "execution_count": null,
   "metadata": {
    "colab": {
     "base_uri": "https://localhost:8080/"
    },
    "id": "rra7zlVAtLuP",
    "outputId": "892bbf65-29ec-4c77-e984-6455e0fa6644"
   },
   "outputs": [
    {
     "name": "stdout",
     "output_type": "stream",
     "text": [
      "Ram\n"
     ]
    }
   ],
   "source": [
    "print(name)"
   ]
  },
  {
   "cell_type": "code",
   "execution_count": null,
   "metadata": {
    "colab": {
     "base_uri": "https://localhost:8080/"
    },
    "id": "vS9I-De3tg6M",
    "outputId": "193710d2-1f04-4900-a89d-8a57ff212c5d"
   },
   "outputs": [
    {
     "name": "stdout",
     "output_type": "stream",
     "text": [
      "abc123@\n"
     ]
    }
   ],
   "source": [
    "print(pas)"
   ]
  },
  {
   "cell_type": "code",
   "execution_count": null,
   "metadata": {
    "colab": {
     "base_uri": "https://localhost:8080/"
    },
    "id": "sP6tVaVttjYk",
    "outputId": "3805d0d7-41dc-4300-e261-9126999e9209"
   },
   "outputs": [
    {
     "name": "stdout",
     "output_type": "stream",
     "text": [
      "ram@gmail.com\n"
     ]
    }
   ],
   "source": [
    "print(user+spl+domain)"
   ]
  },
  {
   "cell_type": "code",
   "execution_count": null,
   "metadata": {
    "colab": {
     "base_uri": "https://localhost:8080/"
    },
    "id": "wKiFoHIUtoCe",
    "outputId": "ec8d0605-d3c1-4812-c639-781a7a847315"
   },
   "outputs": [
    {
     "name": "stdout",
     "output_type": "stream",
     "text": [
      "Name RamYadav\n"
     ]
    }
   ],
   "source": [
    "print(\"Name\",name+last)"
   ]
  },
  {
   "cell_type": "code",
   "execution_count": null,
   "metadata": {
    "colab": {
     "base_uri": "https://localhost:8080/"
    },
    "id": "lVRIb-Kiu0UI",
    "outputId": "21f4b934-31c6-4194-9499-713fa6d5aba4"
   },
   "outputs": [
    {
     "name": "stdout",
     "output_type": "stream",
     "text": [
      "userID ram@gmail.com\n"
     ]
    }
   ],
   "source": [
    "print(\"userID\",user+spl+domain)"
   ]
  },
  {
   "cell_type": "code",
   "execution_count": null,
   "metadata": {
    "colab": {
     "base_uri": "https://localhost:8080/"
    },
    "id": "utGNFmfwmmtd",
    "outputId": "983e74fa-cc76-49b1-ea3a-9886f99f7198"
   },
   "outputs": [
    {
     "name": "stdout",
     "output_type": "stream",
     "text": [
      "password abc123@\n"
     ]
    }
   ],
   "source": [
    "print(\"password\",pas)"
   ]
  },
  {
   "cell_type": "code",
   "execution_count": null,
   "metadata": {
    "colab": {
     "base_uri": "https://localhost:8080/"
    },
    "id": "PWHNH4j0mvZg",
    "outputId": "60cef142-ac37-434c-e50a-472c858e2c48"
   },
   "outputs": [
    {
     "name": "stdout",
     "output_type": "stream",
     "text": [
      "[avi]\n"
     ]
    }
   ],
   "source": [
    "x='[avi]'\n",
    "print(x)"
   ]
  },
  {
   "cell_type": "code",
   "execution_count": null,
   "metadata": {
    "colab": {
     "base_uri": "https://localhost:8080/",
     "height": 35
    },
    "id": "pjNUjXehpKmG",
    "outputId": "69d6b98b-995e-486f-cf8e-924e9f3b8d5a"
   },
   "outputs": [
    {
     "data": {
      "application/vnd.google.colaboratory.intrinsic+json": {
       "type": "string"
      },
      "text/plain": [
       "'[avi]'"
      ]
     },
     "execution_count": 7,
     "metadata": {},
     "output_type": "execute_result"
    }
   ],
   "source": [
    "x"
   ]
  },
  {
   "cell_type": "code",
   "execution_count": 15,
   "metadata": {
    "colab": {
     "base_uri": "https://localhost:8080/"
    },
    "id": "7fOYrJaEpPWE",
    "outputId": "c8de2aaf-3f4a-4d96-b6f0-fa0a3fecfd7f"
   },
   "outputs": [
    {
     "name": "stdout",
     "output_type": "stream",
     "text": [
      "\tPHYSICS\t|\tCHEMISTRY\t|\tBIOLOGY\n",
      "JOHN \t 28 \t\t  24 \t\t\t  20\n",
      "\n",
      "JACK \t 25 \t\t  21 \t\t\t  18\n",
      "\n",
      "DICK \t 19 \t\t  23 \t\t\t  30\n",
      "\n"
     ]
    }
   ],
   "source": [
    "print(\"\\tPHYSICS\\t|\\tCHEMISTRY\\t|\\tBIOLOGY\")\n",
    "print(\"JOHN \\t 28 \\t\\t  24 \\t\\t\\t  20\\n\")\n",
    "print(\"JACK \\t 25 \\t\\t  21 \\t\\t\\t  18\\n\")\n",
    "print(\"DICK \\t 19 \\t\\t  23 \\t\\t\\t  30\\n\")"
   ]
  },
  {
   "cell_type": "code",
   "execution_count": null,
   "metadata": {},
   "outputs": [],
   "source": []
  }
 ],
 "metadata": {
  "colab": {
   "provenance": []
  },
  "kernelspec": {
   "display_name": "Python 3 (ipykernel)",
   "language": "python",
   "name": "python3"
  },
  "language_info": {
   "codemirror_mode": {
    "name": "ipython",
    "version": 3
   },
   "file_extension": ".py",
   "mimetype": "text/x-python",
   "name": "python",
   "nbconvert_exporter": "python",
   "pygments_lexer": "ipython3",
   "version": "3.11.7"
  }
 },
 "nbformat": 4,
 "nbformat_minor": 4
}
