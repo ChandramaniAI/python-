{
 "cells": [
  {
   "cell_type": "markdown",
   "metadata": {
    "id": "B94PFh_cL_js"
   },
   "source": [
    "# Python data structure\n",
    "- All data in a Python program is represented by objects.\n",
    "- Every object has an identity, a type and a value.\n",
    "- An object's type determines the operation s that the object supports and also defines the possible value for objects of that type.\n",
    "- The value of some obects can change. Objects whose value can change without changing the identity are said to be mutable; objects whose value is unchangeable once they are created are called immutable.\n",
    "- A variable is not a container,but it point the object."
   ]
  },
  {
   "cell_type": "markdown",
   "metadata": {
    "id": "ua7yqqXUORYR"
   },
   "source": [
    "# LIST\n",
    "\n",
    " A list can store a sequence of value of multiple data type, i.e.,a list is hetrogeneous."
   ]
  },
  {
   "cell_type": "code",
   "execution_count": null,
   "metadata": {
    "colab": {
     "base_uri": "https://localhost:8080/"
    },
    "id": "CQcN-wKkHuhN",
    "outputId": "1909da1e-7c2e-40b9-d23c-18e955378e00"
   },
   "outputs": [
    {
     "data": {
      "text/plain": [
       "[1, 2, 3, 4]"
      ]
     },
     "execution_count": 1,
     "metadata": {},
     "output_type": "execute_result"
    }
   ],
   "source": [
    "#List\n",
    "x=[1,2,3,4]\n",
    "x"
   ]
  },
  {
   "cell_type": "code",
   "execution_count": null,
   "metadata": {
    "colab": {
     "base_uri": "https://localhost:8080/"
    },
    "id": "DnK0a7xYOzIf",
    "outputId": "d7c31279-95c0-4e0c-ac2d-84d7d2742957"
   },
   "outputs": [
    {
     "data": {
      "text/plain": [
       "list"
      ]
     },
     "execution_count": 2,
     "metadata": {},
     "output_type": "execute_result"
    }
   ],
   "source": [
    "type(x)"
   ]
  },
  {
   "cell_type": "code",
   "execution_count": null,
   "metadata": {
    "colab": {
     "base_uri": "https://localhost:8080/"
    },
    "id": "kvUn5RUxO0_D",
    "outputId": "4199dff7-213e-4189-a5d9-3c3b0d4912a4"
   },
   "outputs": [
    {
     "data": {
      "text/plain": [
       "[1, 'python', 89.67, True]"
      ]
     },
     "execution_count": 3,
     "metadata": {},
     "output_type": "execute_result"
    }
   ],
   "source": [
    "y=[1,\"python\",89.67,True]\n",
    "y"
   ]
  },
  {
   "cell_type": "code",
   "execution_count": null,
   "metadata": {
    "colab": {
     "base_uri": "https://localhost:8080/"
    },
    "id": "SJeLsb7EPNxb",
    "outputId": "23b118c9-6109-47a9-8d35-60775c0d977b"
   },
   "outputs": [
    {
     "data": {
      "text/plain": [
       "[123, [1, 2, 'hello world', [23]]]"
      ]
     },
     "execution_count": 4,
     "metadata": {},
     "output_type": "execute_result"
    },
    {
     "data": {
      "text/plain": [
       "[123, [1, 2, 'hello world', [23]]]"
      ]
     },
     "execution_count": 5,
     "metadata": {},
     "output_type": "execute_result"
    }
   ],
   "source": [
    "z=[123,[1,2,\"hello world\",[23]]]\n",
    "z"
   ]
  },
  {
   "cell_type": "code",
   "execution_count": null,
   "metadata": {
    "colab": {
     "base_uri": "https://localhost:8080/"
    },
    "id": "NAGZ2fXTPcFM",
    "outputId": "105a99fe-eef2-4d2f-899a-a7e5e58b25ea"
   },
   "outputs": [
    {
     "data": {
      "text/plain": [
       "[1]"
      ]
     },
     "execution_count": 6,
     "metadata": {},
     "output_type": "execute_result"
    }
   ],
   "source": [
    "a=[1]\n",
    "a"
   ]
  },
  {
   "cell_type": "code",
   "execution_count": null,
   "metadata": {
    "colab": {
     "base_uri": "https://localhost:8080/"
    },
    "id": "GAbI7MQUPmEn",
    "outputId": "85063359-5484-4f58-c89f-cfd6fefb0b87"
   },
   "outputs": [
    {
     "data": {
      "text/plain": [
       "[]"
      ]
     },
     "execution_count": 7,
     "metadata": {},
     "output_type": "execute_result"
    }
   ],
   "source": [
    "b=[]\n",
    "b"
   ]
  },
  {
   "cell_type": "code",
   "execution_count": null,
   "metadata": {
    "colab": {
     "base_uri": "https://localhost:8080/",
     "height": 35
    },
    "id": "nL55S0ZzPpiE",
    "outputId": "52d7ec6f-5c33-4562-8daa-dcb074f16fe0"
   },
   "outputs": [
    {
     "data": {
      "application/vnd.google.colaboratory.intrinsic+json": {
       "type": "string"
      },
      "text/plain": [
       "'y'"
      ]
     },
     "execution_count": 9,
     "metadata": {},
     "output_type": "execute_result"
    }
   ],
   "source": [
    "a=[2,8,['python']]\n",
    "a[2][0][1]"
   ]
  },
  {
   "cell_type": "code",
   "execution_count": null,
   "metadata": {
    "colab": {
     "base_uri": "https://localhost:8080/"
    },
    "id": "hezWLJe-TKKw",
    "outputId": "dd932c73-2b7f-4b68-81cb-f23e427857ab"
   },
   "outputs": [
    {
     "data": {
      "text/plain": [
       "[5, 6, [7, 8]]"
      ]
     },
     "execution_count": 10,
     "metadata": {},
     "output_type": "execute_result"
    }
   ],
   "source": [
    "x=[1,2,'python',[5,6,[7,8]]]\n",
    "x[3]"
   ]
  },
  {
   "cell_type": "code",
   "execution_count": null,
   "metadata": {
    "colab": {
     "base_uri": "https://localhost:8080/"
    },
    "id": "3nWjSed1UZb8",
    "outputId": "017a4d7a-f7a5-4ee9-a3b3-ab3c045f5049"
   },
   "outputs": [
    {
     "data": {
      "text/plain": [
       "[7, 8]"
      ]
     },
     "execution_count": 11,
     "metadata": {},
     "output_type": "execute_result"
    }
   ],
   "source": [
    "x[3][2]"
   ]
  },
  {
   "cell_type": "code",
   "execution_count": null,
   "metadata": {
    "colab": {
     "base_uri": "https://localhost:8080/"
    },
    "id": "ZdkPi9ZBUdDB",
    "outputId": "7ea30d05-5b9b-498b-cbc1-42c17c6f091d"
   },
   "outputs": [
    {
     "data": {
      "text/plain": [
       "8"
      ]
     },
     "execution_count": 12,
     "metadata": {},
     "output_type": "execute_result"
    }
   ],
   "source": [
    "x[3][2][1]"
   ]
  },
  {
   "cell_type": "markdown",
   "metadata": {
    "id": "V0kdqyjrTLm2"
   },
   "source": [
    "# modify list"
   ]
  },
  {
   "cell_type": "code",
   "execution_count": null,
   "metadata": {
    "colab": {
     "base_uri": "https://localhost:8080/"
    },
    "id": "Y_FjI1yiHWvp",
    "outputId": "dbfb76b3-8cb5-4ae1-ebfc-cb80532054b8"
   },
   "outputs": [
    {
     "name": "stdout",
     "output_type": "stream",
     "text": [
      "134116135182720\n",
      "134116135182720\n",
      "['python', 2, 3, 4, 5, 6]\n"
     ]
    }
   ],
   "source": [
    "list = [1,2,3,4,5,6]\n",
    "print(id(list))\n",
    "list[0]=\"python\"\n",
    "print(id(list))\n",
    "print(list)"
   ]
  },
  {
   "cell_type": "code",
   "execution_count": null,
   "metadata": {
    "colab": {
     "base_uri": "https://localhost:8080/"
    },
    "id": "Bf4KoAD1SgoB",
    "outputId": "6bcf256f-a74c-4682-d8f0-b84ea62fe5df"
   },
   "outputs": [
    {
     "name": "stdout",
     "output_type": "stream",
     "text": [
      "['python', 2, 3, 'hello world', 5, 6]\n",
      "134116135182720\n"
     ]
    }
   ],
   "source": [
    "list[3]=\"hello world\"\n",
    "print(list)\n",
    "print(id(list))"
   ]
  },
  {
   "cell_type": "markdown",
   "metadata": {
    "id": "fbNKUe82TRzf"
   },
   "source": [
    "# List method"
   ]
  },
  {
   "cell_type": "code",
   "execution_count": null,
   "metadata": {
    "colab": {
     "base_uri": "https://localhost:8080/"
    },
    "id": "E_FmRa7MS33a",
    "outputId": "523837b4-00cb-40cc-a825-ad8915e9c9ec"
   },
   "outputs": [
    {
     "data": {
      "text/plain": [
       "[1, 2, 123]"
      ]
     },
     "execution_count": 3,
     "metadata": {},
     "output_type": "execute_result"
    }
   ],
   "source": [
    "# List.append(item) - Adds a single item at the end of the list.\n",
    "x=[1,2]\n",
    "x.append(123)\n",
    "x"
   ]
  },
  {
   "cell_type": "code",
   "execution_count": null,
   "metadata": {
    "id": "q1iHg4UkUgTH"
   },
   "outputs": [],
   "source": [
    "a=[\"python\",\"java\",\"c++\",\"data science\"]\n",
    "a.append([23,True])"
   ]
  },
  {
   "cell_type": "code",
   "execution_count": null,
   "metadata": {
    "colab": {
     "base_uri": "https://localhost:8080/"
    },
    "id": "jax3cU9OU06S",
    "outputId": "2c55726f-a310-48eb-d9a9-c2a6a97bb1bd"
   },
   "outputs": [
    {
     "data": {
      "text/plain": [
       "['python', 'java', 'c++', 'data science', [23, True]]"
      ]
     },
     "execution_count": 5,
     "metadata": {},
     "output_type": "execute_result"
    }
   ],
   "source": [
    "a"
   ]
  },
  {
   "cell_type": "code",
   "execution_count": null,
   "metadata": {
    "colab": {
     "base_uri": "https://localhost:8080/",
     "height": 159
    },
    "id": "uM51QkiEU10K",
    "outputId": "83ac7d4c-e95f-4d07-a0e0-4bd60c28c37d"
   },
   "outputs": [
    {
     "ename": "TypeError",
     "evalue": "list.append() takes exactly one argument (2 given)",
     "output_type": "error",
     "traceback": [
      "\u001b[0;31m---------------------------------------------------------------------------\u001b[0m",
      "\u001b[0;31mTypeError\u001b[0m                                 Traceback (most recent call last)",
      "\u001b[0;32m<ipython-input-7-ed380d5bf12c>\u001b[0m in \u001b[0;36m<cell line: 1>\u001b[0;34m()\u001b[0m\n\u001b[0;32m----> 1\u001b[0;31m \u001b[0ma\u001b[0m\u001b[0;34m.\u001b[0m\u001b[0mappend\u001b[0m\u001b[0;34m(\u001b[0m\u001b[0;36m12\u001b[0m\u001b[0;34m,\u001b[0m\u001b[0;36m12\u001b[0m\u001b[0;34m)\u001b[0m \u001b[0;31m# only single item can be added using append.\u001b[0m\u001b[0;34m\u001b[0m\u001b[0;34m\u001b[0m\u001b[0m\n\u001b[0m\u001b[1;32m      2\u001b[0m \u001b[0ma\u001b[0m\u001b[0;34m\u001b[0m\u001b[0;34m\u001b[0m\u001b[0m\n",
      "\u001b[0;31mTypeError\u001b[0m: list.append() takes exactly one argument (2 given)"
     ]
    }
   ],
   "source": [
    "a.append(12,12) # only single item can be added using append.\n",
    "a"
   ]
  },
  {
   "cell_type": "code",
   "execution_count": null,
   "metadata": {
    "colab": {
     "base_uri": "https://localhost:8080/"
    },
    "id": "IvXJTVVSU8Ur",
    "outputId": "e0845cbe-618f-450b-e7bf-c10f37c2bbee"
   },
   "outputs": [
    {
     "data": {
      "text/plain": [
       "[1, 2, 3, 'h', 'e', 'l', 'l', 'o']"
      ]
     },
     "execution_count": 8,
     "metadata": {},
     "output_type": "execute_result"
    }
   ],
   "source": [
    "# List.extend(iterable)- Extends list by adding item from the iterable.\n",
    "# iterable - string, list, tuple, set, dictionary.\n",
    "lst=[1,2,3]\n",
    "lst.extend(\"hello\")\n",
    "lst"
   ]
  },
  {
   "cell_type": "code",
   "execution_count": null,
   "metadata": {
    "colab": {
     "base_uri": "https://localhost:8080/"
    },
    "id": "TVC4EJolW8uU",
    "outputId": "7f932e4a-07ab-4464-92ba-bb26b2d5baae"
   },
   "outputs": [
    {
     "data": {
      "text/plain": [
       "[1, 2, 3, 'h', 'e', 'l', 'l', 'o', 'hello']"
      ]
     },
     "execution_count": 9,
     "metadata": {},
     "output_type": "execute_result"
    }
   ],
   "source": [
    "lst.append(\"hello\")\n",
    "lst"
   ]
  },
  {
   "cell_type": "code",
   "execution_count": null,
   "metadata": {
    "colab": {
     "base_uri": "https://localhost:8080/"
    },
    "id": "TT3xhqzqXD_x",
    "outputId": "b820cb3a-d74c-484c-fb32-311287cce5ba"
   },
   "outputs": [
    {
     "data": {
      "text/plain": [
       "[1, 2, 3, 4]"
      ]
     },
     "execution_count": 10,
     "metadata": {},
     "output_type": "execute_result"
    }
   ],
   "source": [
    "a=[]\n",
    "a.extend([1,2,3,4])\n",
    "a"
   ]
  },
  {
   "cell_type": "code",
   "execution_count": null,
   "metadata": {
    "colab": {
     "base_uri": "https://localhost:8080/"
    },
    "id": "Ws8-CLCJXPm3",
    "outputId": "091df112-5220-4929-f2a9-6948daec0363"
   },
   "outputs": [
    {
     "data": {
      "text/plain": [
       "[1, 2, 3, 4, [5, 6, 7, 8]]"
      ]
     },
     "execution_count": 11,
     "metadata": {},
     "output_type": "execute_result"
    }
   ],
   "source": [
    "a.append([5,6,7,8])\n",
    "a"
   ]
  },
  {
   "cell_type": "code",
   "execution_count": null,
   "metadata": {
    "colab": {
     "base_uri": "https://localhost:8080/"
    },
    "id": "7fRaKXDjXY0A",
    "outputId": "cb0d37b9-b9d9-45f1-e690-ee1500f1fcb0"
   },
   "outputs": [
    {
     "data": {
      "text/plain": [
       "[1, 2, 3, 4, [5, 6, 7, 8], 1, 2]"
      ]
     },
     "execution_count": 13,
     "metadata": {},
     "output_type": "execute_result"
    }
   ],
   "source": [
    "a.extend((1,2))\n",
    "a"
   ]
  },
  {
   "cell_type": "code",
   "execution_count": null,
   "metadata": {
    "colab": {
     "base_uri": "https://localhost:8080/"
    },
    "id": "zU7oOi13Xr59",
    "outputId": "a3904b03-332a-44c0-f83d-1639896bf572"
   },
   "outputs": [
    {
     "data": {
      "text/plain": [
       "[1, 2, 3, 4, [5, 6, 7, 8], 1, 2, 1, 2]"
      ]
     },
     "execution_count": 14,
     "metadata": {},
     "output_type": "execute_result"
    }
   ],
   "source": [
    "a.extend({1,2})\n",
    "a"
   ]
  },
  {
   "cell_type": "code",
   "execution_count": null,
   "metadata": {
    "colab": {
     "base_uri": "https://localhost:8080/"
    },
    "id": "4CHu8JROX5k4",
    "outputId": "d85c3f94-a19d-4c22-d2eb-f02f9f504102"
   },
   "outputs": [
    {
     "name": "stdout",
     "output_type": "stream",
     "text": [
      "['data science', 'projects']\n"
     ]
    }
   ],
   "source": [
    "# .remove(value) - Remove first occurence of value.\n",
    "a=[\"python\",\"data science\",\"projects\"]\n",
    "a.remove(\"python\")\n",
    "print(a)"
   ]
  },
  {
   "cell_type": "code",
   "execution_count": null,
   "metadata": {
    "id": "1d8XauDtZqyG"
   },
   "outputs": [],
   "source": []
  },
  {
   "cell_type": "code",
   "execution_count": null,
   "metadata": {
    "colab": {
     "base_uri": "https://localhost:8080/"
    },
    "id": "ZoSI16LXZvQB",
    "outputId": "1cb902c3-6161-41d0-e2ba-1c62bfa53be3"
   },
   "outputs": [
    {
     "data": {
      "text/plain": [
       "['projects']"
      ]
     },
     "execution_count": 17,
     "metadata": {},
     "output_type": "execute_result"
    }
   ],
   "source": [
    "a.remove(\"data science\")\n",
    "a"
   ]
  },
  {
   "cell_type": "code",
   "execution_count": null,
   "metadata": {
    "colab": {
     "base_uri": "https://localhost:8080/"
    },
    "id": "31VnScFRZ0Hs",
    "outputId": "15931234-8416-4643-87ba-07482e94ce9e"
   },
   "outputs": [
    {
     "data": {
      "text/plain": [
       "['chandra', 'pallavi', 'vicky', 'kavita', 'akhilesh', 'vicky']"
      ]
     },
     "execution_count": 18,
     "metadata": {},
     "output_type": "execute_result"
    }
   ],
   "source": [
    "b=[\"akhilesh\",\"chandra\",\"pallavi\",\"vicky\",\"kavita\",\"akhilesh\",\"vicky\"]\n",
    "b.remove(\"akhilesh\")\n",
    "b"
   ]
  },
  {
   "cell_type": "code",
   "execution_count": null,
   "metadata": {
    "colab": {
     "base_uri": "https://localhost:8080/"
    },
    "id": "z_8vE0tZaQXo",
    "outputId": "8c324e1c-916c-4d12-a04a-19ccf138c50b"
   },
   "outputs": [
    {
     "data": {
      "text/plain": [
       "3"
      ]
     },
     "execution_count": 19,
     "metadata": {},
     "output_type": "execute_result"
    }
   ],
   "source": [
    "# .count()\n",
    "a=[1,2,1,1]\n",
    "a.count(1)"
   ]
  },
  {
   "cell_type": "code",
   "execution_count": null,
   "metadata": {
    "colab": {
     "base_uri": "https://localhost:8080/"
    },
    "id": "RQvJX1Rya2Gc",
    "outputId": "177a09cb-ec28-478e-9d9b-43ada96aa693"
   },
   "outputs": [
    {
     "name": "stdout",
     "output_type": "stream",
     "text": [
      "['Artificial Intelligence']\n"
     ]
    },
    {
     "data": {
      "text/plain": [
       "0"
      ]
     },
     "execution_count": 22,
     "metadata": {},
     "output_type": "execute_result"
    }
   ],
   "source": [
    "a=[]\n",
    "a.append(\"Artificial Intelligence\")\n",
    "print(a)\n",
    "a.count(\"i\")"
   ]
  },
  {
   "cell_type": "code",
   "execution_count": 1,
   "metadata": {},
   "outputs": [
    {
     "data": {
      "text/plain": [
       "4"
      ]
     },
     "execution_count": 1,
     "metadata": {},
     "output_type": "execute_result"
    }
   ],
   "source": [
    "a=\"Artificial Intelligence\"\n",
    "a.count(\"i\")"
   ]
  },
  {
   "cell_type": "code",
   "execution_count": null,
   "metadata": {
    "colab": {
     "base_uri": "https://localhost:8080/"
    },
    "id": "nEzXabHzcFE6",
    "outputId": "9478e028-0107-4556-d4f0-e0f987baf39a"
   },
   "outputs": [
    {
     "name": "stdout",
     "output_type": "stream",
     "text": [
      "['A', 'r', 't', 'i', 'f', 'i', 'c', 'i', 'a', 'l', ' ', 'I', 'n', 't', 'e', 'l', 'l', 'i', 'g', 'e', 'n', 'c', 'e']\n"
     ]
    },
    {
     "data": {
      "text/plain": [
       "4"
      ]
     },
     "execution_count": 23,
     "metadata": {},
     "output_type": "execute_result"
    }
   ],
   "source": [
    "b=[]\n",
    "b.extend(\"Artificial Intelligence\")\n",
    "print(b)\n",
    "b.count(\"i\")"
   ]
  },
  {
   "cell_type": "code",
   "execution_count": null,
   "metadata": {
    "id": "Ao8korEEckRt"
   },
   "outputs": [],
   "source": [
    "#.sort(reverse=True/False)\n",
    "d=[3,2,1,45,23,5]\n",
    "d.sort()"
   ]
  },
  {
   "cell_type": "code",
   "execution_count": null,
   "metadata": {
    "colab": {
     "base_uri": "https://localhost:8080/"
    },
    "id": "aEkm290_dgi-",
    "outputId": "3c5d1932-0a50-45c5-d67f-ca074a969195"
   },
   "outputs": [
    {
     "data": {
      "text/plain": [
       "[1, 2, 3, 5, 23, 45]"
      ]
     },
     "execution_count": 25,
     "metadata": {},
     "output_type": "execute_result"
    }
   ],
   "source": [
    "d"
   ]
  },
  {
   "cell_type": "code",
   "execution_count": null,
   "metadata": {
    "colab": {
     "base_uri": "https://localhost:8080/"
    },
    "id": "SmKPm_xedlC7",
    "outputId": "7ee50b0a-5876-4c5e-e3e9-e7a4c16ad976"
   },
   "outputs": [
    {
     "data": {
      "text/plain": [
       "[45, 23, 5, 3, 2, 1]"
      ]
     },
     "execution_count": 26,
     "metadata": {},
     "output_type": "execute_result"
    }
   ],
   "source": [
    "d.sort(reverse=True)\n",
    "d"
   ]
  },
  {
   "cell_type": "code",
   "execution_count": null,
   "metadata": {
    "colab": {
     "base_uri": "https://localhost:8080/"
    },
    "id": "GcWjR5_2drfD",
    "outputId": "92cfd464-323c-44ec-b815-e5d9d5a610fb"
   },
   "outputs": [
    {
     "data": {
      "text/plain": [
       "[1, 2, 3, 5, 23, 45]"
      ]
     },
     "execution_count": 27,
     "metadata": {},
     "output_type": "execute_result"
    }
   ],
   "source": [
    "d.sort(reverse=False)\n",
    "d"
   ]
  },
  {
   "cell_type": "code",
   "execution_count": null,
   "metadata": {
    "id": "7FiEZUDHd8FI"
   },
   "outputs": [],
   "source": [
    "#.reverse()\n",
    "a=[1,7,8,4,1]\n",
    "a.reverse()"
   ]
  },
  {
   "cell_type": "code",
   "execution_count": null,
   "metadata": {
    "colab": {
     "base_uri": "https://localhost:8080/"
    },
    "id": "hxPjsK80fACl",
    "outputId": "e9b27a83-873d-4125-effb-1fc16ccecb21"
   },
   "outputs": [
    {
     "data": {
      "text/plain": [
       "[1, 4, 8, 7, 1]"
      ]
     },
     "execution_count": 29,
     "metadata": {},
     "output_type": "execute_result"
    }
   ],
   "source": [
    "a"
   ]
  },
  {
   "cell_type": "code",
   "execution_count": null,
   "metadata": {
    "colab": {
     "base_uri": "https://localhost:8080/"
    },
    "id": "OxeiyxRMfA7d",
    "outputId": "0f2d04a7-3ffe-40a2-fa5e-b7dd992e921a"
   },
   "outputs": [
    {
     "data": {
      "text/plain": [
       "['artificial', 'intelligence']"
      ]
     },
     "execution_count": 30,
     "metadata": {},
     "output_type": "execute_result"
    }
   ],
   "source": [
    "#.split()\n",
    "s=\"artificial intelligence\"\n",
    "s.split(\" \")"
   ]
  },
  {
   "cell_type": "markdown",
   "metadata": {
    "id": "aiR8vCpla-ev"
   },
   "source": [
    "# Tuple"
   ]
  },
  {
   "cell_type": "code",
   "execution_count": null,
   "metadata": {
    "colab": {
     "base_uri": "https://localhost:8080/"
    },
    "id": "hryZ3RmifO08",
    "outputId": "2844ee70-73be-431c-f821-49c996a9a2da"
   },
   "outputs": [
    {
     "data": {
      "text/plain": [
       "(1, 2, True, 'str')"
      ]
     },
     "execution_count": 1,
     "metadata": {},
     "output_type": "execute_result"
    }
   ],
   "source": [
    "#Tuple\n",
    "x=(1,2,True,\"str\")\n",
    "x"
   ]
  },
  {
   "cell_type": "code",
   "execution_count": null,
   "metadata": {
    "colab": {
     "base_uri": "https://localhost:8080/"
    },
    "id": "tUcpBD60cFt7",
    "outputId": "19f0cd8c-191b-477e-ad83-054098a50a18"
   },
   "outputs": [
    {
     "data": {
      "text/plain": [
       "tuple"
      ]
     },
     "execution_count": 2,
     "metadata": {},
     "output_type": "execute_result"
    }
   ],
   "source": [
    "type(x)"
   ]
  },
  {
   "cell_type": "code",
   "execution_count": null,
   "metadata": {
    "colab": {
     "base_uri": "https://localhost:8080/"
    },
    "id": "UF_9I-w7cOTR",
    "outputId": "7d41dda2-0156-4cef-cadd-5b4f8d845bbf"
   },
   "outputs": [
    {
     "data": {
      "text/plain": [
       "int"
      ]
     },
     "execution_count": 6,
     "metadata": {},
     "output_type": "execute_result"
    }
   ],
   "source": [
    "x=(123) #this not a tuple\n",
    "type(x)"
   ]
  },
  {
   "cell_type": "code",
   "execution_count": null,
   "metadata": {
    "colab": {
     "base_uri": "https://localhost:8080/"
    },
    "id": "G_PMkxB_cWx6",
    "outputId": "b30ac025-2950-4800-da0f-a9bd564b5d20"
   },
   "outputs": [
    {
     "data": {
      "text/plain": [
       "tuple"
      ]
     },
     "execution_count": 7,
     "metadata": {},
     "output_type": "execute_result"
    }
   ],
   "source": [
    "y=1,2 #this is a tuple\n",
    "type(y)"
   ]
  },
  {
   "cell_type": "code",
   "execution_count": null,
   "metadata": {
    "colab": {
     "base_uri": "https://localhost:8080/"
    },
    "id": "hEny_YUzcuO1",
    "outputId": "702e6c39-8cc1-406a-d8eb-3deaf6371191"
   },
   "outputs": [
    {
     "data": {
      "text/plain": [
       "(1, 2)"
      ]
     },
     "execution_count": 8,
     "metadata": {},
     "output_type": "execute_result"
    }
   ],
   "source": [
    "y"
   ]
  },
  {
   "cell_type": "code",
   "execution_count": null,
   "metadata": {
    "colab": {
     "base_uri": "https://localhost:8080/"
    },
    "id": "I-XlNIj3cv2W",
    "outputId": "d253e7ed-8694-4ef5-ac56-42b114a9f0dd"
   },
   "outputs": [
    {
     "data": {
      "text/plain": [
       "(12,)"
      ]
     },
     "execution_count": 9,
     "metadata": {},
     "output_type": "execute_result"
    }
   ],
   "source": [
    "x=12\n",
    "c=34\n",
    "x,"
   ]
  },
  {
   "cell_type": "markdown",
   "metadata": {
    "id": "F4o1zVQPdHeX"
   },
   "source": [
    "# Tuple Methods"
   ]
  },
  {
   "cell_type": "code",
   "execution_count": null,
   "metadata": {
    "colab": {
     "base_uri": "https://localhost:8080/"
    },
    "id": "xfcBkmsWc0q6",
    "outputId": "1d583a7b-7e9b-4a28-fa9b-dd32c9e62e27"
   },
   "outputs": [
    {
     "data": {
      "text/plain": [
       "2"
      ]
     },
     "execution_count": 10,
     "metadata": {},
     "output_type": "execute_result"
    }
   ],
   "source": [
    "# ,count(item)\n",
    "tup_1=(1,1,2)\n",
    "tup_1.count(1)"
   ]
  },
  {
   "cell_type": "code",
   "execution_count": null,
   "metadata": {
    "colab": {
     "base_uri": "https://localhost:8080/"
    },
    "id": "sh_Gao-Idb_4",
    "outputId": "b8a3a43f-b1f0-4499-8b20-b9a3f698217f"
   },
   "outputs": [
    {
     "data": {
      "text/plain": [
       "1"
      ]
     },
     "execution_count": 11,
     "metadata": {},
     "output_type": "execute_result"
    }
   ],
   "source": [
    "tup_1.count(2)"
   ]
  },
  {
   "cell_type": "code",
   "execution_count": null,
   "metadata": {
    "colab": {
     "base_uri": "https://localhost:8080/"
    },
    "id": "8RT1e4xOdgnf",
    "outputId": "2238ad62-2145-4907-8e63-701458c7a932"
   },
   "outputs": [
    {
     "data": {
      "text/plain": [
       "0"
      ]
     },
     "execution_count": 12,
     "metadata": {},
     "output_type": "execute_result"
    }
   ],
   "source": [
    "#.index(item)\n",
    "tup_1.index(1)"
   ]
  },
  {
   "cell_type": "markdown",
   "metadata": {
    "id": "HUoN-LOsenWp"
   },
   "source": [
    "# SET"
   ]
  },
  {
   "cell_type": "markdown",
   "metadata": {
    "id": "Crkr4tF9es73"
   },
   "source": [
    "<font size=4>\n",
    "1. <b>Unordered</b>: The items in the set aer unordered, i.e., it will not maintain the order in which the items are inserted. <br>\n",
    "2. <b>Unindexed</b>: Set items are unindexed<br>\n",
    "3. <b>Unique</b>: There cannot be two items with the same value in the set.<br>\n",
    "4. <b>Set items must be immutable</b>. We cannot change the set items<br>\n",
    "5. <b>Sets are mutable</b>"
   ]
  },
  {
   "cell_type": "code",
   "execution_count": null,
   "metadata": {
    "colab": {
     "base_uri": "https://localhost:8080/"
    },
    "id": "FuO2FpY6hkuc",
    "outputId": "7e0cc739-bef9-42c4-b3e4-88a6b20084af"
   },
   "outputs": [
    {
     "data": {
      "text/plain": [
       "{1, 2, 3, 4}"
      ]
     },
     "execution_count": 15,
     "metadata": {},
     "output_type": "execute_result"
    }
   ],
   "source": [
    "# Sets\n",
    "x={1,2,3,4}\n",
    "x"
   ]
  },
  {
   "cell_type": "code",
   "execution_count": null,
   "metadata": {
    "colab": {
     "base_uri": "https://localhost:8080/",
     "height": 159
    },
    "id": "LexwJSR5j8Ur",
    "outputId": "152b4c52-322b-4040-f9a9-73adb3cba5a5"
   },
   "outputs": [
    {
     "ename": "TypeError",
     "evalue": "unhashable type: 'list'",
     "output_type": "error",
     "traceback": [
      "\u001b[0;31m---------------------------------------------------------------------------\u001b[0m",
      "\u001b[0;31mTypeError\u001b[0m                                 Traceback (most recent call last)",
      "\u001b[0;32m<ipython-input-16-dc9b9f468aae>\u001b[0m in \u001b[0;36m<cell line: 1>\u001b[0;34m()\u001b[0m\n\u001b[0;32m----> 1\u001b[0;31m \u001b[0ma\u001b[0m\u001b[0;34m=\u001b[0m\u001b[0;34m{\u001b[0m\u001b[0;34m[\u001b[0m\u001b[0;36m1\u001b[0m\u001b[0;34m,\u001b[0m\u001b[0;36m2\u001b[0m\u001b[0;34m]\u001b[0m\u001b[0;34m}\u001b[0m\u001b[0;34m\u001b[0m\u001b[0;34m\u001b[0m\u001b[0m\n\u001b[0m\u001b[1;32m      2\u001b[0m \u001b[0ma\u001b[0m\u001b[0;34m\u001b[0m\u001b[0;34m\u001b[0m\u001b[0m\n",
      "\u001b[0;31mTypeError\u001b[0m: unhashable type: 'list'"
     ]
    }
   ],
   "source": [
    "a={[1,2]}\n",
    "a"
   ]
  },
  {
   "cell_type": "code",
   "execution_count": null,
   "metadata": {
    "colab": {
     "base_uri": "https://localhost:8080/",
     "height": 159
    },
    "id": "B2ewWKkrkVHz",
    "outputId": "cd29e034-8353-43d3-a8c0-00369e2fe2a6"
   },
   "outputs": [
    {
     "ename": "TypeError",
     "evalue": "unhashable type: 'set'",
     "output_type": "error",
     "traceback": [
      "\u001b[0;31m---------------------------------------------------------------------------\u001b[0m",
      "\u001b[0;31mTypeError\u001b[0m                                 Traceback (most recent call last)",
      "\u001b[0;32m<ipython-input-17-c5d41c76e739>\u001b[0m in \u001b[0;36m<cell line: 1>\u001b[0;34m()\u001b[0m\n\u001b[0;32m----> 1\u001b[0;31m \u001b[0mz\u001b[0m\u001b[0;34m=\u001b[0m\u001b[0;34m{\u001b[0m\u001b[0;34m{\u001b[0m\u001b[0;36m1\u001b[0m\u001b[0;34m,\u001b[0m\u001b[0;36m2\u001b[0m\u001b[0;34m,\u001b[0m\u001b[0;36m3\u001b[0m\u001b[0;34m}\u001b[0m\u001b[0;34m}\u001b[0m\u001b[0;34m\u001b[0m\u001b[0;34m\u001b[0m\u001b[0m\n\u001b[0m\u001b[1;32m      2\u001b[0m \u001b[0mz\u001b[0m\u001b[0;34m\u001b[0m\u001b[0;34m\u001b[0m\u001b[0m\n",
      "\u001b[0;31mTypeError\u001b[0m: unhashable type: 'set'"
     ]
    }
   ],
   "source": [
    "z={{1,2,3}}\n",
    "z"
   ]
  },
  {
   "cell_type": "code",
   "execution_count": null,
   "metadata": {
    "colab": {
     "base_uri": "https://localhost:8080/"
    },
    "id": "7ORWtvQBkc8h",
    "outputId": "aef25318-a4b2-4291-b740-73ef953ad3a7"
   },
   "outputs": [
    {
     "data": {
      "text/plain": [
       "[]"
      ]
     },
     "execution_count": 18,
     "metadata": {},
     "output_type": "execute_result"
    },
    {
     "data": {
      "text/plain": [
       "[]"
      ]
     },
     "execution_count": 19,
     "metadata": {},
     "output_type": "execute_result"
    }
   ],
   "source": [
    "#empty list\n",
    "lst1=[]\n",
    "lst1"
   ]
  },
  {
   "cell_type": "code",
   "execution_count": null,
   "metadata": {
    "colab": {
     "base_uri": "https://localhost:8080/"
    },
    "id": "S3m5uL0TmHiT",
    "outputId": "69549b06-ee6e-447c-a666-cc684badf965"
   },
   "outputs": [
    {
     "data": {
      "text/plain": [
       "tuple"
      ]
     },
     "execution_count": 21,
     "metadata": {},
     "output_type": "execute_result"
    }
   ],
   "source": [
    "#empty tuple\n",
    "tup=()\n",
    "type(tup)"
   ]
  },
  {
   "cell_type": "code",
   "execution_count": null,
   "metadata": {
    "colab": {
     "base_uri": "https://localhost:8080/"
    },
    "id": "Xd8ACHkfmqkY",
    "outputId": "9fc17192-4f82-42c3-919d-92820a144032"
   },
   "outputs": [
    {
     "data": {
      "text/plain": [
       "dict"
      ]
     },
     "execution_count": 22,
     "metadata": {},
     "output_type": "execute_result"
    }
   ],
   "source": [
    "#empty dictionary\n",
    "x={}\n",
    "type(x)"
   ]
  },
  {
   "cell_type": "code",
   "execution_count": null,
   "metadata": {
    "colab": {
     "base_uri": "https://localhost:8080/"
    },
    "id": "MGivei-xn9dh",
    "outputId": "9c9f0ec6-9be2-461b-d977-73013831abe7"
   },
   "outputs": [
    {
     "data": {
      "text/plain": [
       "set"
      ]
     },
     "execution_count": 25,
     "metadata": {},
     "output_type": "execute_result"
    }
   ],
   "source": [
    "#empty set\n",
    "x=set()\n",
    "type(x)"
   ]
  },
  {
   "cell_type": "markdown",
   "metadata": {
    "id": "yOmiTu_PnEM2"
   },
   "source": [
    "# Set Method"
   ]
  },
  {
   "cell_type": "code",
   "execution_count": null,
   "metadata": {
    "colab": {
     "base_uri": "https://localhost:8080/"
    },
    "id": "Jm2SCn3dnCY3",
    "outputId": "c9c1d594-a761-4818-86e2-2e85819d05b0"
   },
   "outputs": [
    {
     "data": {
      "text/plain": [
       "{1, 2, 45, 'string'}"
      ]
     },
     "execution_count": 23,
     "metadata": {},
     "output_type": "execute_result"
    }
   ],
   "source": [
    "# .add(item) ---- This is same as .append() in lists\n",
    "set1={1,\"string\",2}\n",
    "set1.add(45)\n",
    "set1"
   ]
  },
  {
   "cell_type": "code",
   "execution_count": null,
   "metadata": {
    "colab": {
     "base_uri": "https://localhost:8080/"
    },
    "id": "YdpS2zrlnrOx",
    "outputId": "824c4836-77f7-46dc-faeb-4267b0c54937"
   },
   "outputs": [
    {
     "data": {
      "text/plain": [
       "{1, 2, 45, 'string'}"
      ]
     },
     "execution_count": 24,
     "metadata": {},
     "output_type": "execute_result"
    }
   ],
   "source": [
    "set1.add(\"string\")\n",
    "set1"
   ]
  },
  {
   "cell_type": "code",
   "execution_count": null,
   "metadata": {
    "colab": {
     "base_uri": "https://localhost:8080/"
    },
    "id": "VDCJe_1GnydU",
    "outputId": "56c7583e-5e8a-43e7-c485-b2655c1a7917"
   },
   "outputs": [
    {
     "name": "stdout",
     "output_type": "stream",
     "text": [
      "{1, 2, 3, 4, 't', 'r', 's'}\n"
     ]
    },
    {
     "data": {
      "text/plain": [
       "139722180380256"
      ]
     },
     "execution_count": 3,
     "metadata": {},
     "output_type": "execute_result"
    }
   ],
   "source": [
    "# .update(iterable) ---- This is same as .extend() in lists\n",
    "set2={1,2,3,4}\n",
    "set2.update(\"str\")\n",
    "print(set2)\n",
    "id(set2)"
   ]
  },
  {
   "cell_type": "code",
   "execution_count": null,
   "metadata": {
    "colab": {
     "base_uri": "https://localhost:8080/"
    },
    "id": "nJaG5Ehiqivs",
    "outputId": "598bbccb-6f50-4e92-a82d-84dde52944ea"
   },
   "outputs": [
    {
     "name": "stdout",
     "output_type": "stream",
     "text": [
      "{'h', 1, 2, 3, 4, 'l', 'e', 'o', 't', 'r', 's'}\n"
     ]
    },
    {
     "data": {
      "text/plain": [
       "139722180380256"
      ]
     },
     "execution_count": 4,
     "metadata": {},
     "output_type": "execute_result"
    }
   ],
   "source": [
    "set2.update(\"hello\")\n",
    "print(set2)\n",
    "id(set2)"
   ]
  },
  {
   "cell_type": "code",
   "execution_count": null,
   "metadata": {
    "colab": {
     "base_uri": "https://localhost:8080/"
    },
    "id": "4Eu-lZTFqpTP",
    "outputId": "3c04d115-927a-4505-a7a8-5d3c38f26607"
   },
   "outputs": [
    {
     "name": "stdout",
     "output_type": "stream",
     "text": [
      "{'h', 2, 3, 4, 'l', 'e', 'o', 't', 'r', 's'}\n"
     ]
    }
   ],
   "source": [
    "# .remove(item)\n",
    "set2.remove(1)\n",
    "print(set2)"
   ]
  },
  {
   "cell_type": "code",
   "execution_count": null,
   "metadata": {
    "colab": {
     "base_uri": "https://localhost:8080/"
    },
    "id": "EIxiE2Y2rzgj",
    "outputId": "eb60f29a-537f-41d4-a9e0-1ee282e90a0d"
   },
   "outputs": [
    {
     "name": "stdout",
     "output_type": "stream",
     "text": [
      "union Method has been used {1, 2, 3, 4, 5}\n",
      "{1, 2, 3} {1, 2, 3, 4, 5}\n"
     ]
    }
   ],
   "source": [
    "# Union\n",
    "# .union()\n",
    "a={1,2,3}\n",
    "b={1,2,3,4,5}\n",
    "print(\"union Method has been used\",a.union(b))\n",
    "print(a,b)"
   ]
  },
  {
   "cell_type": "code",
   "execution_count": null,
   "metadata": {
    "colab": {
     "base_uri": "https://localhost:8080/"
    },
    "id": "kH6klLQexMWp",
    "outputId": "6a10a5ed-2012-44d3-858c-1546ed83ff1e"
   },
   "outputs": [
    {
     "name": "stdout",
     "output_type": "stream",
     "text": [
      "update Method has been used {1, 2, 3, 4, 5}\n",
      "{1, 2, 4, 5}\n"
     ]
    }
   ],
   "source": [
    "# set1.update(set2)-Makes set1 the union of set1 and set2\n",
    "# set2.update(set1)-Makes set2 the union of set1 and set2\n",
    "a={1,2,3}\n",
    "b={1,2,4,5}\n",
    "a.update(b) # This only changes the set a not set b\n",
    "print(\"update Method has been used\",a)\n",
    "print(b)"
   ]
  },
  {
   "cell_type": "code",
   "execution_count": null,
   "metadata": {
    "colab": {
     "base_uri": "https://localhost:8080/"
    },
    "id": "-PRnmr3Qxfcp",
    "outputId": "2d50be01-6766-45aa-d7a7-a474412a5de6"
   },
   "outputs": [
    {
     "name": "stdout",
     "output_type": "stream",
     "text": [
      "{1, 2, 3, 4, 5}\n"
     ]
    }
   ],
   "source": [
    "b.update(a)\n",
    "print(b)"
   ]
  },
  {
   "cell_type": "code",
   "execution_count": null,
   "metadata": {
    "colab": {
     "base_uri": "https://localhost:8080/"
    },
    "id": "-reuJwURy7E2",
    "outputId": "0329e1b0-fb9e-407a-97e7-415319ef9e8a"
   },
   "outputs": [
    {
     "data": {
      "text/plain": [
       "set"
      ]
     },
     "execution_count": 3,
     "metadata": {},
     "output_type": "execute_result"
    }
   ],
   "source": [
    "x={()}\n",
    "type(x)"
   ]
  },
  {
   "cell_type": "code",
   "execution_count": null,
   "metadata": {
    "colab": {
     "base_uri": "https://localhost:8080/"
    },
    "id": "uoznt9PMp7Bo",
    "outputId": "f2cd7f17-0305-40a0-cd8d-975e5864eef4"
   },
   "outputs": [
    {
     "name": "stdout",
     "output_type": "stream",
     "text": [
      "{1, 2}\n"
     ]
    }
   ],
   "source": [
    "a={1,2,3}\n",
    "b={1,2,4,5}\n",
    "a.intersection_update(b)\n",
    "print(a)"
   ]
  },
  {
   "cell_type": "code",
   "execution_count": null,
   "metadata": {
    "colab": {
     "base_uri": "https://localhost:8080/"
    },
    "id": "JmMehvozRHEv",
    "outputId": "52524f13-d6cc-4a14-ae18-e6424e727eb9"
   },
   "outputs": [
    {
     "name": "stdout",
     "output_type": "stream",
     "text": [
      "{1, 2}\n",
      "{1, 2, 3} {1, 2, 4, 5}\n"
     ]
    }
   ],
   "source": [
    "#Intersection\n",
    "a={1,2,3}\n",
    "b={1,2,4,5}\n",
    "print(a.intersection(b))# this will create a new set\n",
    "print(a,b)"
   ]
  },
  {
   "cell_type": "code",
   "execution_count": null,
   "metadata": {
    "colab": {
     "base_uri": "https://localhost:8080/"
    },
    "id": "MgwzVt0bNBNl",
    "outputId": "bc9eac31-da0a-458a-a67c-bbac2e60c00b"
   },
   "outputs": [
    {
     "name": "stdout",
     "output_type": "stream",
     "text": [
      "None\n",
      "{1, 2} {1, 2, 4, 5}\n"
     ]
    }
   ],
   "source": [
    "print(a.intersection_update(b)) # this will make a the intersection of a & b\n",
    "print(a,b)"
   ]
  },
  {
   "cell_type": "code",
   "execution_count": null,
   "metadata": {
    "colab": {
     "base_uri": "https://localhost:8080/"
    },
    "id": "gpP1H3KHNahP",
    "outputId": "8bfe803c-fb86-40c1-c6c5-258202d50b4a"
   },
   "outputs": [
    {
     "name": "stdout",
     "output_type": "stream",
     "text": [
      "{'hello'}\n",
      "{'str', 'hello', True} {1, 2, 3, 'Hello', 'str'}\n"
     ]
    }
   ],
   "source": [
    "# difference\n",
    "x={'str','hello',True,1}\n",
    "y={1,2,3,'Hello','str'}\n",
    "print(x.difference(y))\n",
    "print(x,y)"
   ]
  },
  {
   "cell_type": "code",
   "execution_count": null,
   "metadata": {
    "colab": {
     "base_uri": "https://localhost:8080/"
    },
    "id": "S6xsywaxQb1-",
    "outputId": "56b1ba58-3a06-40f5-9ec1-76a37017ff8a"
   },
   "outputs": [
    {
     "name": "stdout",
     "output_type": "stream",
     "text": [
      "None\n",
      "{'hello'} {1, 2, 3, 'Hello', 'str'}\n"
     ]
    }
   ],
   "source": [
    "print(x.difference_update(y))\n",
    "print(x,y)"
   ]
  },
  {
   "cell_type": "code",
   "execution_count": null,
   "metadata": {
    "colab": {
     "base_uri": "https://localhost:8080/"
    },
    "id": "5A0N6UtPQo3l",
    "outputId": "a155d09f-7b3e-4d7e-b48f-6e9d4af93aee"
   },
   "outputs": [
    {
     "name": "stdout",
     "output_type": "stream",
     "text": [
      "{2, 3, 'hello', 'Hello'}\n",
      "{'str', 'hello', True} {1, 2, 3, 'Hello', 'str'}\n",
      "None\n",
      "{2, 3, 'hello', 'Hello'} {1, 2, 3, 'Hello', 'str'}\n"
     ]
    }
   ],
   "source": [
    "#symmetric difference\n",
    "x={'str','hello',True,1}\n",
    "y={1,2,3,'Hello','str'}\n",
    "print(x.symmetric_difference(y))\n",
    "print(x,y)\n",
    "print(x.symmetric_difference_update(y))\n",
    "print(x,y)"
   ]
  },
  {
   "cell_type": "markdown",
   "metadata": {
    "id": "8aHx2QDoXNMq"
   },
   "source": [
    "# Subset and Superset"
   ]
  },
  {
   "cell_type": "code",
   "execution_count": null,
   "metadata": {
    "colab": {
     "base_uri": "https://localhost:8080/"
    },
    "id": "UJnXKLiRURCI",
    "outputId": "6add9187-f624-4505-db4b-27b81e381d91"
   },
   "outputs": [
    {
     "name": "stdout",
     "output_type": "stream",
     "text": [
      "False\n"
     ]
    }
   ],
   "source": [
    "p={1,2,3,4,5}\n",
    "q={1,2,3}\n",
    "print(p.issubset(q)) #where p is subset of q"
   ]
  },
  {
   "cell_type": "code",
   "execution_count": null,
   "metadata": {
    "colab": {
     "base_uri": "https://localhost:8080/"
    },
    "id": "KAPeIydRWNCP",
    "outputId": "575ee540-6055-480a-fc98-9cb355678f69"
   },
   "outputs": [
    {
     "name": "stdout",
     "output_type": "stream",
     "text": [
      "True\n"
     ]
    }
   ],
   "source": [
    "print(p.issubset(p)) # where p is subset of p"
   ]
  },
  {
   "cell_type": "code",
   "execution_count": null,
   "metadata": {
    "colab": {
     "base_uri": "https://localhost:8080/"
    },
    "id": "0QnHeeMYWVJ6",
    "outputId": "f52b4abe-1cb9-42fb-b058-107cf6d07c3c"
   },
   "outputs": [
    {
     "name": "stdout",
     "output_type": "stream",
     "text": [
      "True\n"
     ]
    }
   ],
   "source": [
    "print(q.issubset(p))# where q is subset of p"
   ]
  },
  {
   "cell_type": "code",
   "execution_count": null,
   "metadata": {
    "colab": {
     "base_uri": "https://localhost:8080/"
    },
    "id": "TCbooAMYWn8F",
    "outputId": "2ef2ae9b-eb1d-492b-f61c-ad058915789f"
   },
   "outputs": [
    {
     "name": "stdout",
     "output_type": "stream",
     "text": [
      "True\n",
      "True\n",
      "False\n"
     ]
    }
   ],
   "source": [
    "p={1,2,3,4,5}\n",
    "q={1,2,3}\n",
    "print(p.issuperset(q)) # where p is a superset of q\n",
    "print(p.issuperset(p)) # where p is a superset of p\n",
    "print(q.issuperset(p)) # where q is a superset of p"
   ]
  },
  {
   "cell_type": "markdown",
   "metadata": {
    "id": "rHEp9hjxXaR3"
   },
   "source": [
    "# Disjoint"
   ]
  },
  {
   "cell_type": "code",
   "execution_count": null,
   "metadata": {
    "colab": {
     "base_uri": "https://localhost:8080/"
    },
    "id": "KzBrjQjbXT2O",
    "outputId": "2f854ded-418a-4cb7-fa93-18581a4ed0d3"
   },
   "outputs": [
    {
     "name": "stdout",
     "output_type": "stream",
     "text": [
      "True\n"
     ]
    }
   ],
   "source": [
    "p={1,2,3,4,5}\n",
    "q={6,7}\n",
    "print(q.isdisjoint(p))"
   ]
  },
  {
   "cell_type": "code",
   "execution_count": null,
   "metadata": {
    "colab": {
     "base_uri": "https://localhost:8080/"
    },
    "id": "wrAHvJiFX-Ro",
    "outputId": "5e548576-27ad-4f78-9a3d-472821cb8561"
   },
   "outputs": [
    {
     "data": {
      "text/plain": [
       "False"
      ]
     },
     "execution_count": 9,
     "metadata": {},
     "output_type": "execute_result"
    }
   ],
   "source": [
    "p.isdisjoint(p)"
   ]
  },
  {
   "cell_type": "code",
   "execution_count": null,
   "metadata": {
    "colab": {
     "base_uri": "https://localhost:8080/"
    },
    "id": "HdP-iGoPavoE",
    "outputId": "20a0e67e-c328-43b5-dffa-041ec7845ea5"
   },
   "outputs": [
    {
     "data": {
      "text/plain": [
       "False"
      ]
     },
     "execution_count": 10,
     "metadata": {},
     "output_type": "execute_result"
    }
   ],
   "source": [
    "q.isdisjoint(q)"
   ]
  },
  {
   "cell_type": "markdown",
   "metadata": {
    "id": "0MnG_BSDa1UO"
   },
   "source": [
    "# Function for sets"
   ]
  },
  {
   "cell_type": "code",
   "execution_count": 1,
   "metadata": {},
   "outputs": [
    {
     "data": {
      "text/plain": [
       "3"
      ]
     },
     "execution_count": 1,
     "metadata": {},
     "output_type": "execute_result"
    }
   ],
   "source": [
    "# finding length of the set\n",
    "a = {1,2,3}\n",
    "len(a)"
   ]
  },
  {
   "cell_type": "code",
   "execution_count": 2,
   "metadata": {},
   "outputs": [
    {
     "name": "stdout",
     "output_type": "stream",
     "text": [
      "1\n",
      "78\n"
     ]
    }
   ],
   "source": [
    "# minimum and maximum values\n",
    "a={1,2,3,4,5,78}\n",
    "print(min(a))\n",
    "print(max(a))"
   ]
  },
  {
   "cell_type": "code",
   "execution_count": 3,
   "metadata": {},
   "outputs": [
    {
     "name": "stdout",
     "output_type": "stream",
     "text": [
      "224\n"
     ]
    }
   ],
   "source": [
    "# adding all the values inside a set\n",
    "x={45,89,90}\n",
    "print(sum(x))"
   ]
  },
  {
   "cell_type": "code",
   "execution_count": 6,
   "metadata": {},
   "outputs": [
    {
     "data": {
      "text/plain": [
       "'a'"
      ]
     },
     "execution_count": 6,
     "metadata": {},
     "output_type": "execute_result"
    }
   ],
   "source": [
    "min({'a','b'}) # a is smaller then b because it comes  before in the english alphabet"
   ]
  },
  {
   "cell_type": "code",
   "execution_count": 8,
   "metadata": {},
   "outputs": [
    {
     "data": {
      "text/plain": [
       "'a'"
      ]
     },
     "execution_count": 8,
     "metadata": {},
     "output_type": "execute_result"
    }
   ],
   "source": [
    "max({'A','a'}) # python gives higher value to lower case letter then uper case letter"
   ]
  },
  {
   "cell_type": "code",
   "execution_count": 9,
   "metadata": {},
   "outputs": [
    {
     "data": {
      "text/plain": [
       "'b'"
      ]
     },
     "execution_count": 9,
     "metadata": {},
     "output_type": "execute_result"
    }
   ],
   "source": [
    "min({'c','b'}) # bcomes before c in the english alphabet"
   ]
  },
  {
   "cell_type": "code",
   "execution_count": 10,
   "metadata": {},
   "outputs": [
    {
     "data": {
      "text/plain": [
       "'c'"
      ]
     },
     "execution_count": 10,
     "metadata": {},
     "output_type": "execute_result"
    }
   ],
   "source": [
    "max({'c','b'}) # bcomes after b in the english alphabet"
   ]
  },
  {
   "cell_type": "markdown",
   "metadata": {},
   "source": [
    "# Dictionary"
   ]
  },
  {
   "cell_type": "markdown",
   "metadata": {},
   "source": [
    "## syntax dict1={key1:value1,key2:value2,.....}"
   ]
  },
  {
   "cell_type": "markdown",
   "metadata": {},
   "source": [
    "## Dictionaries\n",
    "Dictionaries are the ordered collection of unique items stored in (Key-Value) pairs\n",
    "1. <b>Ordered</b> :- Dictionaries are ordered , which means that the items have a defined order ,and that order will not change.\n",
    "2. <b>Unique</b> :- The keys in Dictionaries should be unique. If we store any value with a Key that already exists,<br>then the most recent value will replace the old value.\n",
    "3. <b>Keys must be of immutable data type </b>\n",
    "4. <b>Dictionaries are mutable</b>"
   ]
  },
  {
   "cell_type": "code",
   "execution_count": 1,
   "metadata": {},
   "outputs": [
    {
     "data": {
      "text/plain": [
       "{1: 'apple', 2: 'orange'}"
      ]
     },
     "execution_count": 1,
     "metadata": {},
     "output_type": "execute_result"
    }
   ],
   "source": [
    "dict1={1:'apple',2:'orange'}\n",
    "dict1"
   ]
  },
  {
   "cell_type": "code",
   "execution_count": 13,
   "metadata": {},
   "outputs": [
    {
     "data": {
      "text/plain": [
       "{'a': 's', 'b': 'd'}"
      ]
     },
     "execution_count": 13,
     "metadata": {},
     "output_type": "execute_result"
    }
   ],
   "source": [
    "a={'a':'s','b':'d'}\n",
    "a"
   ]
  },
  {
   "cell_type": "code",
   "execution_count": 15,
   "metadata": {},
   "outputs": [
    {
     "data": {
      "text/plain": [
       "'s'"
      ]
     },
     "execution_count": 15,
     "metadata": {},
     "output_type": "execute_result"
    }
   ],
   "source": [
    "a['a']"
   ]
  },
  {
   "cell_type": "code",
   "execution_count": 17,
   "metadata": {},
   "outputs": [
    {
     "data": {
      "text/plain": [
       "{(1, 2): 'a'}"
      ]
     },
     "execution_count": 17,
     "metadata": {},
     "output_type": "execute_result"
    }
   ],
   "source": [
    "s={(1,2):'a'}\n",
    "s"
   ]
  },
  {
   "cell_type": "code",
   "execution_count": 19,
   "metadata": {},
   "outputs": [
    {
     "data": {
      "text/plain": [
       "{1.2: {1, 2}}"
      ]
     },
     "execution_count": 19,
     "metadata": {},
     "output_type": "execute_result"
    }
   ],
   "source": [
    "s={1.2:{1,2}}\n",
    "s"
   ]
  },
  {
   "cell_type": "code",
   "execution_count": 20,
   "metadata": {},
   "outputs": [
    {
     "data": {
      "text/plain": [
       "'parth'"
      ]
     },
     "execution_count": 20,
     "metadata": {},
     "output_type": "execute_result"
    }
   ],
   "source": [
    "a={1:'parth',2:'rahul',3:'ram',}\n",
    "a[1]"
   ]
  },
  {
   "cell_type": "code",
   "execution_count": 21,
   "metadata": {},
   "outputs": [
    {
     "data": {
      "text/plain": [
       "'ram'"
      ]
     },
     "execution_count": 21,
     "metadata": {},
     "output_type": "execute_result"
    }
   ],
   "source": [
    "a[3]"
   ]
  },
  {
   "cell_type": "markdown",
   "metadata": {},
   "source": [
    "## Accesing Items in a Dictionaries"
   ]
  },
  {
   "cell_type": "code",
   "execution_count": 2,
   "metadata": {},
   "outputs": [
    {
     "data": {
      "text/plain": [
       "'ram'"
      ]
     },
     "execution_count": 2,
     "metadata": {},
     "output_type": "execute_result"
    }
   ],
   "source": [
    "a={1:'ram',2:\"rahul\"}\n",
    "a[1]"
   ]
  },
  {
   "cell_type": "code",
   "execution_count": 3,
   "metadata": {},
   "outputs": [
    {
     "name": "stdout",
     "output_type": "stream",
     "text": [
      "dict_keys([1, 2])\n",
      "dict_values(['ram', 'rahul'])\n",
      "dict_items([(1, 'ram'), (2, 'rahul')])\n"
     ]
    }
   ],
   "source": [
    "#Keys\n",
    "print(a.keys())\n",
    "\n",
    "#Values\n",
    "print(a.values())\n",
    "\n",
    "#Items\n",
    "print(a.items())\n"
   ]
  },
  {
   "cell_type": "code",
   "execution_count": 4,
   "metadata": {},
   "outputs": [
    {
     "name": "stdout",
     "output_type": "stream",
     "text": [
      "<class 'dict_keys'>\n",
      "<class 'dict_values'>\n",
      "<class 'dict_items'>\n"
     ]
    }
   ],
   "source": [
    "keys=a.keys()\n",
    "values=a.values()\n",
    "items=a.items()\n",
    "print(type(keys))\n",
    "print(type(values))\n",
    "print(type(items))"
   ]
  },
  {
   "cell_type": "code",
   "execution_count": 15,
   "metadata": {},
   "outputs": [
    {
     "data": {
      "text/plain": [
       "'dict_keys([1, 2])'"
      ]
     },
     "execution_count": 15,
     "metadata": {},
     "output_type": "execute_result"
    }
   ],
   "source": [
    "str(keys)"
   ]
  },
  {
   "cell_type": "markdown",
   "metadata": {},
   "source": [
    "## Adding new items to a dictionary"
   ]
  },
  {
   "cell_type": "code",
   "execution_count": 1,
   "metadata": {
    "scrolled": true
   },
   "outputs": [
    {
     "name": "stdout",
     "output_type": "stream",
     "text": [
      "{'India': 'New Delhi', 'US': 'Washington'}\n"
     ]
    }
   ],
   "source": [
    "# Key-value assignment\n",
    "a={\"India\":\"New Delhi\",\"US\":\"Washington\"}\n",
    "print(a)"
   ]
  },
  {
   "cell_type": "code",
   "execution_count": 2,
   "metadata": {},
   "outputs": [
    {
     "name": "stdout",
     "output_type": "stream",
     "text": [
      "{'India': 'New Delhi', 'US': 'Washington', 'Pakistan': 'Islamabad'}\n"
     ]
    }
   ],
   "source": [
    "a[\"Pakistan\"]=\"Islamabad\"\n",
    "print(a)"
   ]
  },
  {
   "cell_type": "code",
   "execution_count": 4,
   "metadata": {},
   "outputs": [
    {
     "name": "stdout",
     "output_type": "stream",
     "text": [
      "{'India': 'New Delhi', 'US': 'Washington', 'Pakistan': 'Islamabad', 'England': 'London'}\n"
     ]
    }
   ],
   "source": [
    "# .update()\n",
    "a.update({\"England\":\"London\"})\n",
    "print(a)"
   ]
  },
  {
   "cell_type": "code",
   "execution_count": 9,
   "metadata": {},
   "outputs": [
    {
     "name": "stdout",
     "output_type": "stream",
     "text": [
      "{'India': 'New Delhi', 'US': 'Washington', 'Pakistan': 'Islamabad', 'England': 'London', 1: 'abc', 2: 'sdf'}\n"
     ]
    }
   ],
   "source": [
    "a.update({1:\"abc\",2:\"sdf\"})\n",
    "print(a)"
   ]
  },
  {
   "cell_type": "markdown",
   "metadata": {},
   "source": [
    "## Removing items from a dictionary"
   ]
  },
  {
   "cell_type": "code",
   "execution_count": 26,
   "metadata": {},
   "outputs": [
    {
     "data": {
      "text/plain": [
       "(2, 'sdf')"
      ]
     },
     "execution_count": 26,
     "metadata": {},
     "output_type": "execute_result"
    }
   ],
   "source": [
    "# .popitem() - Returns and removes the last inserted item from the dictionary.\n",
    "a={'India': 'New Delhi', 'US': 'Washington', 'Pakistan': 'Islamabad', 'England': 'London', 1: 'abc', 2: 'sdf'}\n",
    "a.popitem()"
   ]
  },
  {
   "cell_type": "code",
   "execution_count": 15,
   "metadata": {},
   "outputs": [
    {
     "name": "stdout",
     "output_type": "stream",
     "text": [
      "{'India': 'New Delhi', 'US': 'Washington', 'Pakistan': 'Islamabad', 'England': 'London', 1: 'abc'}\n"
     ]
    }
   ],
   "source": [
    "print(a)"
   ]
  },
  {
   "cell_type": "code",
   "execution_count": 16,
   "metadata": {},
   "outputs": [
    {
     "data": {
      "text/plain": [
       "'Washington'"
      ]
     },
     "execution_count": 16,
     "metadata": {},
     "output_type": "execute_result"
    }
   ],
   "source": [
    "# .pop() - Removes the item with the key and returns the value.\n",
    "a.pop(\"US\")"
   ]
  },
  {
   "cell_type": "code",
   "execution_count": 17,
   "metadata": {},
   "outputs": [
    {
     "name": "stdout",
     "output_type": "stream",
     "text": [
      "{'India': 'New Delhi', 'Pakistan': 'Islamabad', 'England': 'London', 1: 'abc'}\n"
     ]
    }
   ],
   "source": [
    "print(a)"
   ]
  },
  {
   "cell_type": "code",
   "execution_count": 21,
   "metadata": {},
   "outputs": [
    {
     "name": "stdout",
     "output_type": "stream",
     "text": [
      "{'India': 'New Delhi', 'England': 'London'}\n"
     ]
    }
   ],
   "source": [
    "# del statement\n",
    "del a[1]\n",
    "print(a)"
   ]
  },
  {
   "cell_type": "code",
   "execution_count": 25,
   "metadata": {},
   "outputs": [
    {
     "name": "stdout",
     "output_type": "stream",
     "text": [
      "{'England': 'London'}\n"
     ]
    }
   ],
   "source": [
    "del a[\"India\"]\n",
    "print(a)"
   ]
  },
  {
   "cell_type": "code",
   "execution_count": null,
   "metadata": {},
   "outputs": [],
   "source": []
  }
 ],
 "metadata": {
  "colab": {
   "provenance": []
  },
  "kernelspec": {
   "display_name": "Python 3 (ipykernel)",
   "language": "python",
   "name": "python3"
  },
  "language_info": {
   "codemirror_mode": {
    "name": "ipython",
    "version": 3
   },
   "file_extension": ".py",
   "mimetype": "text/x-python",
   "name": "python",
   "nbconvert_exporter": "python",
   "pygments_lexer": "ipython3",
   "version": "3.11.7"
  }
 },
 "nbformat": 4,
 "nbformat_minor": 4
}
