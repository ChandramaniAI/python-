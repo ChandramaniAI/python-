{
 "cells": [
  {
   "cell_type": "markdown",
   "id": "98b03f30-14ca-4af4-8c32-3d70910f95d8",
   "metadata": {},
   "source": [
    "# Python list(Mutable/unhashable/Sequence Data Type)"
   ]
  },
  {
   "cell_type": "markdown",
   "id": "947fc1b5-70f5-453b-87fd-9029dae599a7",
   "metadata": {},
   "source": [
    "The following are the properties of a list.\n",
    "- <b>Mutable:</b> The elements of the list can be modified.We can add or remove items to the list after it has been created.\n",
    "- <b>Ordered:</b> The items in the list are ordered . Each item has a unique index value . The new items will be added to the end of the list,\n",
    "- <b>Heterogenous:</b> The list can contain different kinds of elements i.e; they can contain elements of string , integer, boolean, or any type.\n",
    "- <b>Duplicates:</b> The list can contain duplicate i.e., lists can have two items with with the same value.\n",
    "- <b>Iterable:</b> "
   ]
  },
  {
   "cell_type": "markdown",
   "id": "5ee65400-6fe1-4ed6-a67b-9a0f202b2552",
   "metadata": {},
   "source": [
    "### Creating a Python list\n",
    "The list can be created using either the list constructor or using square brackets [].\n",
    "- <b>Using list() constructor</b> In general , the constructor of a class has its class name. Similarly.<br>\n",
    "  Create a list by passing the comma-separated values inside the list().\n",
    "- <b>Using square bracket []:</b> In this method , we can create a list simply by enclosing the items inside the square brackets."
   ]
  },
  {
   "cell_type": "code",
   "execution_count": 3,
   "id": "799a0740-fdf1-44d6-aa4f-b2bc77009564",
   "metadata": {},
   "outputs": [
    {
     "ename": "TypeError",
     "evalue": "list expected at most 1 argument, got 3",
     "output_type": "error",
     "traceback": [
      "\u001b[1;31m---------------------------------------------------------------------------\u001b[0m",
      "\u001b[1;31mTypeError\u001b[0m                                 Traceback (most recent call last)",
      "Cell \u001b[1;32mIn[3], line 1\u001b[0m\n\u001b[1;32m----> 1\u001b[0m a\u001b[38;5;241m=\u001b[39m\u001b[38;5;28mlist\u001b[39m(\u001b[38;5;241m2\u001b[39m,\u001b[38;5;241m5\u001b[39m,\u001b[38;5;241m9\u001b[39m)\n\u001b[0;32m      2\u001b[0m a\n",
      "\u001b[1;31mTypeError\u001b[0m: list expected at most 1 argument, got 3"
     ]
    }
   ],
   "source": [
    "a=list(2,5,9)\n",
    "a"
   ]
  },
  {
   "cell_type": "code",
   "execution_count": 4,
   "id": "479774f9-fad3-4337-a5ac-bf34ec2ace10",
   "metadata": {},
   "outputs": [
    {
     "ename": "TypeError",
     "evalue": "list expected at most 1 argument, got 3",
     "output_type": "error",
     "traceback": [
      "\u001b[1;31m---------------------------------------------------------------------------\u001b[0m",
      "\u001b[1;31mTypeError\u001b[0m                                 Traceback (most recent call last)",
      "Cell \u001b[1;32mIn[4], line 1\u001b[0m\n\u001b[1;32m----> 1\u001b[0m \u001b[38;5;28mlist\u001b[39m(\u001b[38;5;241m1\u001b[39m,\u001b[38;5;241m2\u001b[39m,\u001b[38;5;241m3\u001b[39m)\n",
      "\u001b[1;31mTypeError\u001b[0m: list expected at most 1 argument, got 3"
     ]
    }
   ],
   "source": [
    "list(1,2,3)"
   ]
  },
  {
   "cell_type": "code",
   "execution_count": 5,
   "id": "67ed955e-f906-4999-99d7-a247fad9f047",
   "metadata": {},
   "outputs": [
    {
     "ename": "TypeError",
     "evalue": "'int' object is not iterable",
     "output_type": "error",
     "traceback": [
      "\u001b[1;31m---------------------------------------------------------------------------\u001b[0m",
      "\u001b[1;31mTypeError\u001b[0m                                 Traceback (most recent call last)",
      "Cell \u001b[1;32mIn[5], line 1\u001b[0m\n\u001b[1;32m----> 1\u001b[0m \u001b[38;5;28mlist\u001b[39m(\u001b[38;5;241m2\u001b[39m)\n",
      "\u001b[1;31mTypeError\u001b[0m: 'int' object is not iterable"
     ]
    }
   ],
   "source": [
    "list(2)"
   ]
  },
  {
   "cell_type": "code",
   "execution_count": 6,
   "id": "864449bb-fdce-47ca-b43d-9a80e8a45c1a",
   "metadata": {},
   "outputs": [
    {
     "data": {
      "text/plain": [
       "[2]"
      ]
     },
     "execution_count": 6,
     "metadata": {},
     "output_type": "execute_result"
    }
   ],
   "source": [
    "list([2])"
   ]
  },
  {
   "cell_type": "code",
   "execution_count": 7,
   "id": "de3b6809-f2c6-4ebb-8906-4d189a236135",
   "metadata": {},
   "outputs": [
    {
     "data": {
      "text/plain": [
       "['2']"
      ]
     },
     "execution_count": 7,
     "metadata": {},
     "output_type": "execute_result"
    }
   ],
   "source": [
    "list('2')"
   ]
  },
  {
   "cell_type": "code",
   "execution_count": 8,
   "id": "648c6c9a-b9d0-4076-a06a-fd28124d6ada",
   "metadata": {},
   "outputs": [
    {
     "data": {
      "text/plain": [
       "[2, 5, 9]"
      ]
     },
     "execution_count": 8,
     "metadata": {},
     "output_type": "execute_result"
    }
   ],
   "source": [
    "list((2,5,9))"
   ]
  },
  {
   "cell_type": "code",
   "execution_count": 9,
   "id": "1e5f48e2-d15f-4e08-a504-80df4dc41680",
   "metadata": {},
   "outputs": [
    {
     "ename": "TypeError",
     "evalue": "list expected at most 1 argument, got 2",
     "output_type": "error",
     "traceback": [
      "\u001b[1;31m---------------------------------------------------------------------------\u001b[0m",
      "\u001b[1;31mTypeError\u001b[0m                                 Traceback (most recent call last)",
      "Cell \u001b[1;32mIn[9], line 1\u001b[0m\n\u001b[1;32m----> 1\u001b[0m \u001b[38;5;28mlist\u001b[39m((\u001b[38;5;241m2\u001b[39m,\u001b[38;5;241m5\u001b[39m,\u001b[38;5;241m9\u001b[39m),(\u001b[38;5;241m3\u001b[39m,\u001b[38;5;241m4\u001b[39m,\u001b[38;5;241m5\u001b[39m))\n",
      "\u001b[1;31mTypeError\u001b[0m: list expected at most 1 argument, got 2"
     ]
    }
   ],
   "source": [
    "list((2,5,9),(3,4,5))"
   ]
  },
  {
   "cell_type": "code",
   "execution_count": 10,
   "id": "9e1bff75-90b2-48fa-bd31-dedad5d1d09d",
   "metadata": {},
   "outputs": [
    {
     "data": {
      "text/plain": [
       "[(2, 5, 9), (3, 4, 5)]"
      ]
     },
     "execution_count": 10,
     "metadata": {},
     "output_type": "execute_result"
    }
   ],
   "source": [
    "list(((2,5,9),(3,4,5)))"
   ]
  },
  {
   "cell_type": "code",
   "execution_count": 1,
   "id": "05cc1f47-bc5c-4d63-82b6-31ee53909b2b",
   "metadata": {},
   "outputs": [],
   "source": [
    "# list Constructor\n",
    "# list(only one argument and it should be iterable.)\n",
    "# iterable meaning- list, string, set, dict, tuple data types are iterable "
   ]
  },
  {
   "cell_type": "code",
   "execution_count": 2,
   "id": "ea4533b6-2e62-4cb7-83d8-09ba33b228c4",
   "metadata": {},
   "outputs": [
    {
     "data": {
      "text/plain": [
       "[]"
      ]
     },
     "execution_count": 2,
     "metadata": {},
     "output_type": "execute_result"
    }
   ],
   "source": [
    "list([])"
   ]
  },
  {
   "cell_type": "code",
   "execution_count": 5,
   "id": "9ff3cfaf-d27b-44c2-91de-45d105bc4b3e",
   "metadata": {},
   "outputs": [
    {
     "data": {
      "text/plain": [
       "[]"
      ]
     },
     "execution_count": 5,
     "metadata": {},
     "output_type": "execute_result"
    }
   ],
   "source": [
    "list(())"
   ]
  },
  {
   "cell_type": "code",
   "execution_count": 6,
   "id": "d18e1cc0-28c3-447b-ba0f-7dc9f9bad937",
   "metadata": {},
   "outputs": [
    {
     "ename": "SyntaxError",
     "evalue": "invalid syntax (2752496790.py, line 1)",
     "output_type": "error",
     "traceback": [
      "\u001b[1;36m  Cell \u001b[1;32mIn[6], line 1\u001b[1;36m\u001b[0m\n\u001b[1;33m    list((,))\u001b[0m\n\u001b[1;37m          ^\u001b[0m\n\u001b[1;31mSyntaxError\u001b[0m\u001b[1;31m:\u001b[0m invalid syntax\n"
     ]
    }
   ],
   "source": [
    "list((,))"
   ]
  },
  {
   "cell_type": "code",
   "execution_count": 7,
   "id": "b5f5304d-1250-4958-a999-c141dba7fc54",
   "metadata": {},
   "outputs": [
    {
     "data": {
      "text/plain": [
       "[]"
      ]
     },
     "execution_count": 7,
     "metadata": {},
     "output_type": "execute_result"
    }
   ],
   "source": [
    "list(\"\")"
   ]
  },
  {
   "cell_type": "code",
   "execution_count": 8,
   "id": "ca8a44ab-0114-46f6-9c60-78a4734c97bb",
   "metadata": {},
   "outputs": [
    {
     "ename": "TypeError",
     "evalue": "list expected at most 1 argument, got 2",
     "output_type": "error",
     "traceback": [
      "\u001b[1;31m---------------------------------------------------------------------------\u001b[0m",
      "\u001b[1;31mTypeError\u001b[0m                                 Traceback (most recent call last)",
      "Cell \u001b[1;32mIn[8], line 1\u001b[0m\n\u001b[1;32m----> 1\u001b[0m \u001b[38;5;28mlist\u001b[39m([],[])\n",
      "\u001b[1;31mTypeError\u001b[0m: list expected at most 1 argument, got 2"
     ]
    }
   ],
   "source": [
    "list([],[])"
   ]
  },
  {
   "cell_type": "code",
   "execution_count": 9,
   "id": "8844cac5-0f68-486a-a042-d61cf374f586",
   "metadata": {},
   "outputs": [
    {
     "data": {
      "text/plain": [
       "['p', 'r', 'e', 'e', 't', 'i']"
      ]
     },
     "execution_count": 9,
     "metadata": {},
     "output_type": "execute_result"
    }
   ],
   "source": [
    "list('preeti')"
   ]
  },
  {
   "cell_type": "code",
   "execution_count": 14,
   "id": "8607bd4a-8b23-4a18-9889-bbf9664884c0",
   "metadata": {},
   "outputs": [
    {
     "data": {
      "text/plain": [
       "[('preeti',)]"
      ]
     },
     "execution_count": 14,
     "metadata": {},
     "output_type": "execute_result"
    }
   ],
   "source": [
    "list(([('preeti',)]))"
   ]
  },
  {
   "cell_type": "code",
   "execution_count": 15,
   "id": "8d636d93-86bf-44d4-b557-343be58fd60f",
   "metadata": {},
   "outputs": [
    {
     "data": {
      "text/plain": [
       "str"
      ]
     },
     "execution_count": 15,
     "metadata": {},
     "output_type": "execute_result"
    }
   ],
   "source": [
    "a=(\"preeti\")\n",
    "type(a)"
   ]
  },
  {
   "cell_type": "code",
   "execution_count": 16,
   "id": "4c85f380-2217-41fe-9cf1-3e15105ce79d",
   "metadata": {},
   "outputs": [
    {
     "ename": "TypeError",
     "evalue": "'int' object is not iterable",
     "output_type": "error",
     "traceback": [
      "\u001b[1;31m---------------------------------------------------------------------------\u001b[0m",
      "\u001b[1;31mTypeError\u001b[0m                                 Traceback (most recent call last)",
      "Cell \u001b[1;32mIn[16], line 1\u001b[0m\n\u001b[1;32m----> 1\u001b[0m \u001b[38;5;28mlist\u001b[39m((\u001b[38;5;241m2\u001b[39m))\n",
      "\u001b[1;31mTypeError\u001b[0m: 'int' object is not iterable"
     ]
    }
   ],
   "source": [
    "list((2))"
   ]
  },
  {
   "cell_type": "code",
   "execution_count": 17,
   "id": "88329e2b-7b86-4fea-acf4-384fc675a144",
   "metadata": {},
   "outputs": [
    {
     "data": {
      "text/plain": [
       "[2]"
      ]
     },
     "execution_count": 17,
     "metadata": {},
     "output_type": "execute_result"
    }
   ],
   "source": [
    "list((2,))"
   ]
  },
  {
   "cell_type": "code",
   "execution_count": 1,
   "id": "3d4002e3-b6ce-4449-b002-b07a058845a4",
   "metadata": {},
   "outputs": [
    {
     "ename": "TypeError",
     "evalue": "list expected at most 1 argument, got 4",
     "output_type": "error",
     "traceback": [
      "\u001b[1;31m---------------------------------------------------------------------------\u001b[0m",
      "\u001b[1;31mTypeError\u001b[0m                                 Traceback (most recent call last)",
      "Cell \u001b[1;32mIn[1], line 1\u001b[0m\n\u001b[1;32m----> 1\u001b[0m lst\u001b[38;5;241m=\u001b[39m\u001b[38;5;28mlist\u001b[39m(\u001b[38;5;241m1\u001b[39m,\u001b[38;5;241m2\u001b[39m,\u001b[38;5;241m3\u001b[39m,\u001b[38;5;124m\"\u001b[39m\u001b[38;5;124masd\u001b[39m\u001b[38;5;124m\"\u001b[39m)\n",
      "\u001b[1;31mTypeError\u001b[0m: list expected at most 1 argument, got 4"
     ]
    }
   ],
   "source": [
    "lst=list(1,2,3,\"asd\")"
   ]
  },
  {
   "cell_type": "code",
   "execution_count": 2,
   "id": "4b23c654-482d-437b-83cf-75c6f67b4c56",
   "metadata": {},
   "outputs": [
    {
     "ename": "TypeError",
     "evalue": "'int' object is not iterable",
     "output_type": "error",
     "traceback": [
      "\u001b[1;31m---------------------------------------------------------------------------\u001b[0m",
      "\u001b[1;31mTypeError\u001b[0m                                 Traceback (most recent call last)",
      "Cell \u001b[1;32mIn[2], line 1\u001b[0m\n\u001b[1;32m----> 1\u001b[0m lst\u001b[38;5;241m=\u001b[39m\u001b[38;5;28mlist\u001b[39m(\u001b[38;5;241m1\u001b[39m)\n",
      "\u001b[1;31mTypeError\u001b[0m: 'int' object is not iterable"
     ]
    }
   ],
   "source": [
    "lst=list(1)"
   ]
  },
  {
   "cell_type": "code",
   "execution_count": 4,
   "id": "3e0e076f-7f33-4424-9757-6b350c583d14",
   "metadata": {},
   "outputs": [
    {
     "data": {
      "text/plain": [
       "[1, 2, 3, 'asd']"
      ]
     },
     "execution_count": 4,
     "metadata": {},
     "output_type": "execute_result"
    }
   ],
   "source": [
    "lst=list((1,2,3,\"asd\"))\n",
    "lst"
   ]
  },
  {
   "cell_type": "code",
   "execution_count": 9,
   "id": "836b912d-b34a-4b53-8226-2a00193f39a2",
   "metadata": {},
   "outputs": [
    {
     "data": {
      "text/plain": [
       "['shivani']"
      ]
     },
     "execution_count": 9,
     "metadata": {},
     "output_type": "execute_result"
    }
   ],
   "source": [
    "list((\"shivani\",))"
   ]
  },
  {
   "cell_type": "code",
   "execution_count": null,
   "id": "957f31e7-378c-4d01-b8e5-5d063fdccd94",
   "metadata": {},
   "outputs": [],
   "source": []
  }
 ],
 "metadata": {
  "kernelspec": {
   "display_name": "Python 3 (ipykernel)",
   "language": "python",
   "name": "python3"
  },
  "language_info": {
   "codemirror_mode": {
    "name": "ipython",
    "version": 3
   },
   "file_extension": ".py",
   "mimetype": "text/x-python",
   "name": "python",
   "nbconvert_exporter": "python",
   "pygments_lexer": "ipython3",
   "version": "3.11.7"
  }
 },
 "nbformat": 4,
 "nbformat_minor": 5
}
