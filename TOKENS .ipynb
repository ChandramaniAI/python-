{
 "cells": [
  {
   "cell_type": "markdown",
   "id": "a2c239a3-25f4-4730-a9c4-a7e4ae5b1c98",
   "metadata": {},
   "source": [
    "# TOKENS"
   ]
  },
  {
   "cell_type": "markdown",
   "id": "787d5f2b-84ae-4830-8c7a-ee71cd1d47c4",
   "metadata": {},
   "source": [
    "A token is the <b>smallest individual unit</b> in a python program. All statements and intructions in a program are built with tokens.\n",
    "- Keywords\n",
    "- Identifiers\n",
    "- literals\n",
    "- Operators\n",
    "- Punctuators"
   ]
  },
  {
   "cell_type": "code",
   "execution_count": null,
   "id": "b8dcf12d-79fe-4554-94c7-49c402220073",
   "metadata": {},
   "outputs": [],
   "source": []
  },
  {
   "cell_type": "markdown",
   "id": "747c4163-66e1-449f-903b-8e3dc9cf7cde",
   "metadata": {},
   "source": [
    "## Keywords\n",
    "- Keywords are special words which have a unique meaning and purpose in Python,\n",
    "- Keywords cannot be used as variable names,function names etc."
   ]
  },
  {
   "cell_type": "code",
   "execution_count": 1,
   "id": "dbf56136-eca6-4c8d-b183-95c6bb2d247c",
   "metadata": {},
   "outputs": [
    {
     "name": "stdout",
     "output_type": "stream",
     "text": [
      "\n",
      "Here is a list of the Python keywords.  Enter any keyword to get more help.\n",
      "\n",
      "False               class               from                or\n",
      "None                continue            global              pass\n",
      "True                def                 if                  raise\n",
      "and                 del                 import              return\n",
      "as                  elif                in                  try\n",
      "assert              else                is                  while\n",
      "async               except              lambda              with\n",
      "await               finally             nonlocal            yield\n",
      "break               for                 not                 \n",
      "\n"
     ]
    }
   ],
   "source": [
    "help(\"keywords\")"
   ]
  },
  {
   "cell_type": "markdown",
   "id": "13d1e59a-cca1-4dda-b236-671f80148b52",
   "metadata": {},
   "source": [
    "## Identifiers\n",
    "Identifiers are names given to any variable,class,function,method,etc"
   ]
  },
  {
   "cell_type": "code",
   "execution_count": 2,
   "id": "9db6ebba-8994-40cb-825a-64c7bcce9a1d",
   "metadata": {},
   "outputs": [
    {
     "name": "stdout",
     "output_type": "stream",
     "text": [
      "python is necessary foe Mechine Learning\n"
     ]
    }
   ],
   "source": [
    "x=89 # x is an identifier\n",
    "print(\"python is necessary foe Mechine Learning\")# print is an identifier"
   ]
  },
  {
   "cell_type": "code",
   "execution_count": 3,
   "id": "3e8d8eb6-5689-4a42-b477-9e65e9bd22a8",
   "metadata": {},
   "outputs": [
    {
     "data": {
      "text/plain": [
       "int"
      ]
     },
     "execution_count": 3,
     "metadata": {},
     "output_type": "execute_result"
    }
   ],
   "source": [
    "type(x) # here type & x are identifiers"
   ]
  },
  {
   "cell_type": "markdown",
   "id": "30a72a64-5ddd-4bd8-a87d-dfbcb6e74fce",
   "metadata": {},
   "source": [
    "## Literals\n",
    "Literals are simple the raw data that is assigned into the variables"
   ]
  },
  {
   "cell_type": "markdown",
   "id": "cdc88157-37d6-4f94-8642-b0f1b5b1c5e4",
   "metadata": {},
   "source": [
    "### Literals\n",
    "1. String Literal\n",
    "2. Numeric Literal<br>\n",
    "   A. Integer<br>\n",
    "   B. Float<br>\n",
    "   C. Complex<br>\n",
    "3. Boolean Literal\n",
    "4. Special Literal(None)\n",
    "5. Literal Collections<br>\n",
    "   A. List Literal<br>\n",
    "   B. Tuple Literal<br>\n",
    "   C. Dictionary Literal<br>\n",
    "   D. Set Literal   "
   ]
  },
  {
   "cell_type": "code",
   "execution_count": 4,
   "id": "a219d739-c9f2-4fa2-8fe4-6834941aa252",
   "metadata": {},
   "outputs": [
    {
     "name": "stdout",
     "output_type": "stream",
     "text": [
      "python\n"
     ]
    }
   ],
   "source": [
    "lst = [1,2,3,4] # is list literal\n",
    "str1 = \"mechine learning\" # \"machine learning\" is a string literal\n",
    "print(\"python\") # \"python\"is a string literal"
   ]
  },
  {
   "cell_type": "markdown",
   "id": "ea6d619a-c96d-4048-94c1-63722a55df92",
   "metadata": {},
   "source": [
    "## Punctuators\n",
    "Punctuators are symbols that are used to structure the statements. Some commonly used punctuators are \",\",#,\\,(),{},[].@,:"
   ]
  },
  {
   "cell_type": "code",
   "execution_count": 5,
   "id": "980a51c6-5584-4ab9-a16d-1173c83f623c",
   "metadata": {},
   "outputs": [
    {
     "name": "stdout",
     "output_type": "stream",
     "text": [
      "hello\n"
     ]
    }
   ],
   "source": [
    "print(\"hello\") # () and \"\" are punctuators\n",
    "x,y= 56,23 # , is a punctuator"
   ]
  },
  {
   "cell_type": "markdown",
   "id": "e4a506f9-786e-4392-88ee-5f1d14529166",
   "metadata": {},
   "source": [
    "## Operators"
   ]
  },
  {
   "cell_type": "markdown",
   "id": "cd902a2e-d4a1-4fe9-bb92-2f0566d7f8f5",
   "metadata": {},
   "source": [
    " <b>Operators</b> are symbols which are used to perform a specific operation brtween values.\n",
    "1. Arithematic opreators\n",
    "2. Comparison operators\n",
    "3. Assignment ioperators\n",
    "4. Logical operators\n",
    "5. Bitwise operators\n",
    "6. Membership operators\n",
    "7. identity operators"
   ]
  },
  {
   "cell_type": "code",
   "execution_count": 9,
   "id": "8e8b4376-41ea-4c05-bed1-1b530f932dc9",
   "metadata": {},
   "outputs": [
    {
     "data": {
      "text/plain": [
       "'python'"
      ]
     },
     "execution_count": 9,
     "metadata": {},
     "output_type": "execute_result"
    }
   ],
   "source": [
    "# Arithematic Operators  +  -  *  /   //   **  %\n",
    "7+9\n",
    "\"py\"+\"thon\""
   ]
  },
  {
   "cell_type": "code",
   "execution_count": 10,
   "id": "cc5b7275-8e43-46c6-830d-464378a57e4d",
   "metadata": {},
   "outputs": [
    {
     "data": {
      "text/plain": [
       "22"
      ]
     },
     "execution_count": 10,
     "metadata": {},
     "output_type": "execute_result"
    }
   ],
   "source": [
    "45-23"
   ]
  },
  {
   "cell_type": "code",
   "execution_count": 1,
   "id": "afefffee-3d8e-443d-815b-08ec8a93db18",
   "metadata": {},
   "outputs": [
    {
     "name": "stdout",
     "output_type": "stream",
     "text": [
      "False\n",
      "True\n",
      "True\n",
      "False\n",
      "True\n",
      "False\n"
     ]
    }
   ],
   "source": [
    "# Comparison Operators   ==  !=  <  >  >=  <=\n",
    "\n",
    "x=78\n",
    "y=10\n",
    "\n",
    "print(x==y)\n",
    "print(x!=y)\n",
    "print(x>y)\n",
    "print(x<y)\n",
    "print(x>=y)\n",
    "print(x<=y)"
   ]
  },
  {
   "cell_type": "code",
   "execution_count": 1,
   "id": "edb08f74-2b6f-48d1-9808-d01b4acb2dcd",
   "metadata": {},
   "outputs": [
    {
     "data": {
      "text/plain": [
       "False"
      ]
     },
     "execution_count": 1,
     "metadata": {},
     "output_type": "execute_result"
    }
   ],
   "source": [
    "# Logical Operators     and    or    not  \n",
    "x=23\n",
    "y=34\n",
    "x<45 and x==y"
   ]
  },
  {
   "cell_type": "code",
   "execution_count": 1,
   "id": "e01908c5-4d6b-427b-a56e-7e8537fd6b96",
   "metadata": {},
   "outputs": [
    {
     "data": {
      "text/plain": [
       "False"
      ]
     },
     "execution_count": 1,
     "metadata": {},
     "output_type": "execute_result"
    }
   ],
   "source": [
    "True and False or True and False and not False"
   ]
  },
  {
   "cell_type": "code",
   "execution_count": 2,
   "id": "fdcef553-ba40-46f3-9557-9ed2c1f62716",
   "metadata": {},
   "outputs": [
    {
     "name": "stdout",
     "output_type": "stream",
     "text": [
      "140707122234504\n",
      "140707122234504\n",
      "True\n",
      "False\n"
     ]
    }
   ],
   "source": [
    "# Identity Operators      is      is not\n",
    "# Check whether two variables or objects share the same memory Location or not \n",
    "x= 12\n",
    "y= 12\n",
    "print(id(x))\n",
    "print(id(y))\n",
    "print(x is y)\n",
    "print(x is not y)"
   ]
  },
  {
   "cell_type": "code",
   "execution_count": 3,
   "id": "e72aa295-cf21-47da-8c97-96ef35d322aa",
   "metadata": {},
   "outputs": [
    {
     "name": "stdout",
     "output_type": "stream",
     "text": [
      "140707122234504\n",
      "140707122234536\n",
      "False\n"
     ]
    }
   ],
   "source": [
    "a= 12\n",
    "b= 13\n",
    "print(id(a))\n",
    "print(id(b))\n",
    "print(a is b)"
   ]
  },
  {
   "cell_type": "code",
   "execution_count": 5,
   "id": "1fac067d-3105-4569-b405-350f4a23262e",
   "metadata": {},
   "outputs": [
    {
     "name": "stdout",
     "output_type": "stream",
     "text": [
      "False\n",
      "True\n",
      "1929178729792\n",
      "1929178728896\n"
     ]
    }
   ],
   "source": [
    "a= [12]\n",
    "b= [12]\n",
    "print(a is b)\n",
    "print(a==b)\n",
    "\n",
    "\n",
    "\n",
    "print(id(a))\n",
    "print(id(b))"
   ]
  },
  {
   "cell_type": "code",
   "execution_count": 6,
   "id": "719dc9a2-6817-4dbf-8df0-90c69864ab43",
   "metadata": {},
   "outputs": [
    {
     "data": {
      "text/plain": [
       "True"
      ]
     },
     "execution_count": 6,
     "metadata": {},
     "output_type": "execute_result"
    }
   ],
   "source": [
    "# Membership Operators        in     not in\n",
    "# Membership operators check whether a value is present in a sequence of values\n",
    "# sequence - string. list, Tuple, sets, dictionaries.\n",
    "a=\"data science\"\n",
    "b= \"data\"\n",
    "b in a"
   ]
  },
  {
   "cell_type": "code",
   "execution_count": 7,
   "id": "d1870dbd-7b81-4c67-a0a6-d0254adca1e4",
   "metadata": {},
   "outputs": [
    {
     "data": {
      "text/plain": [
       "True"
      ]
     },
     "execution_count": 7,
     "metadata": {},
     "output_type": "execute_result"
    }
   ],
   "source": [
    "c=[1,2,3,4]\n",
    "d=6\n",
    "d not in c"
   ]
  },
  {
   "cell_type": "code",
   "execution_count": 8,
   "id": "17ccc8a7-5740-4aec-97eb-fdc284dc0de4",
   "metadata": {},
   "outputs": [
    {
     "data": {
      "text/plain": [
       "False"
      ]
     },
     "execution_count": 8,
     "metadata": {},
     "output_type": "execute_result"
    }
   ],
   "source": [
    "d in c"
   ]
  },
  {
   "cell_type": "code",
   "execution_count": 9,
   "id": "e9dc21d9-590b-4ce9-ba1f-95fc7554c131",
   "metadata": {},
   "outputs": [
    {
     "data": {
      "text/plain": [
       "False"
      ]
     },
     "execution_count": 9,
     "metadata": {},
     "output_type": "execute_result"
    }
   ],
   "source": [
    "(1,2,3) in [1,2,3,4,5]"
   ]
  },
  {
   "cell_type": "code",
   "execution_count": 10,
   "id": "cb65f8c2-ded2-4161-bb70-75cc224e67ef",
   "metadata": {},
   "outputs": [
    {
     "data": {
      "text/plain": [
       "True"
      ]
     },
     "execution_count": 10,
     "metadata": {},
     "output_type": "execute_result"
    }
   ],
   "source": [
    "(1,2,3) not in  [1,2,3,4,5]"
   ]
  },
  {
   "cell_type": "code",
   "execution_count": 11,
   "id": "72bf9658-3b7e-4835-ab7a-d94d000aec20",
   "metadata": {},
   "outputs": [
    {
     "data": {
      "text/plain": [
       "True"
      ]
     },
     "execution_count": 11,
     "metadata": {},
     "output_type": "execute_result"
    }
   ],
   "source": [
    "(1,2,3) in [(1,2,3),4,5]"
   ]
  },
  {
   "cell_type": "code",
   "execution_count": 13,
   "id": "accb55e0-da68-447a-94a1-7342835089d4",
   "metadata": {},
   "outputs": [],
   "source": [
    "# Bitwise Operators   &   |    ^    ~    <<   >>\n",
    "# & - Bitwise AND\n",
    "# | - Bitwise OR\n",
    "# ^ - Bitwise XOR\n",
    "# ~ - Bitwise NOT\n",
    "# << - Left shift\n",
    "# >> - Right shift"
   ]
  },
  {
   "cell_type": "code",
   "execution_count": 27,
   "id": "720139b9-0361-452e-8568-625c89a0f761",
   "metadata": {},
   "outputs": [
    {
     "data": {
      "text/plain": [
       "16"
      ]
     },
     "execution_count": 27,
     "metadata": {},
     "output_type": "execute_result"
    }
   ],
   "source": [
    "# Assignment Operators   =   +=  -=  *=   /=   //=   **=   %=  |=  &=  ^=   <<=   >>=   ~= \n",
    "x=8 \n",
    "x=x+8\n",
    "x"
   ]
  },
  {
   "cell_type": "code",
   "execution_count": 28,
   "id": "7fc27690-5484-458a-9b40-55584c045d27",
   "metadata": {},
   "outputs": [
    {
     "data": {
      "text/plain": [
       "24"
      ]
     },
     "execution_count": 28,
     "metadata": {},
     "output_type": "execute_result"
    }
   ],
   "source": [
    "x+=8 # x=x+8\n",
    "x"
   ]
  },
  {
   "cell_type": "code",
   "execution_count": 29,
   "id": "440e18e8-e1da-412b-bf7f-b82432facc7c",
   "metadata": {},
   "outputs": [
    {
     "data": {
      "text/plain": [
       "16"
      ]
     },
     "execution_count": 29,
     "metadata": {},
     "output_type": "execute_result"
    }
   ],
   "source": [
    "x-=8\n",
    "x"
   ]
  },
  {
   "cell_type": "code",
   "execution_count": 30,
   "id": "f540a419-0e1e-44d6-8a7b-04f2461adfcd",
   "metadata": {},
   "outputs": [
    {
     "data": {
      "text/plain": [
       "64"
      ]
     },
     "execution_count": 30,
     "metadata": {},
     "output_type": "execute_result"
    }
   ],
   "source": [
    "x*=4\n",
    "x"
   ]
  },
  {
   "cell_type": "code",
   "execution_count": 31,
   "id": "cbb2ad3b-cab7-4216-9f6a-63e9cf45e70f",
   "metadata": {},
   "outputs": [
    {
     "data": {
      "text/plain": [
       "8.0"
      ]
     },
     "execution_count": 31,
     "metadata": {},
     "output_type": "execute_result"
    }
   ],
   "source": [
    "x/=8\n",
    "x"
   ]
  },
  {
   "attachments": {
    "4942d8fb-8d30-4831-93d6-53d9757d7b2f.jpeg": {
     "image/jpeg": "[encoded data removed]"
    }
   },
   "cell_type": "markdown",
   "id": "823fd21f-bda7-4fe9-9644-081ad5806be9",
   "metadata": {},
   "source": [
    "![WhatsApp Image 2024-03-15 at 4.46.08 PM.jpeg](attachment:4942d8fb-8d30-4831-93d6-53d9757d7b2f.jpeg)"
   ]
  },
  {
   "cell_type": "code",
   "execution_count": 16,
   "id": "05076e36-ec57-482f-a1b5-24bcc54940ca",
   "metadata": {},
   "outputs": [
    {
     "name": "stdout",
     "output_type": "stream",
     "text": [
      "net effect on balance: 65\n",
      "net effect on balance: 65\n",
      "net effect on balance: 65 deposite is 100 penalty is -10\n",
      "net effect on balance: 65 deposite is 100\n"
     ]
    }
   ],
   "source": [
    "# Unary plus operator\n",
    "deposite = 100\n",
    "withdrawal = -50\n",
    "bonus = 20\n",
    "penalty = -10\n",
    "adjustment = 5\n",
    "net_effect = (+deposite) + withdrawal + (+bonus) + penalty + adjustment\n",
    "print(f\"net effect on balance: {net_effect}\") # f string\n",
    "print(\"net effect on balance:\",net_effect)\n",
    "print(f\"net effect on balance: {net_effect} deposite is {deposite} penalty is {penalty}\")\n",
    "print(\"net effect on balance:\",net_effect,\"deposite is\",deposite)"
   ]
  },
  {
   "cell_type": "code",
   "execution_count": 17,
   "id": "e8e15dcf-fbc5-4742-b5aa-c09a78df5021",
   "metadata": {},
   "outputs": [
    {
     "data": {
      "text/plain": [
       "-9"
      ]
     },
     "execution_count": 17,
     "metadata": {},
     "output_type": "execute_result"
    }
   ],
   "source": [
    "# Unary minus operator\n",
    "x=9\n",
    "y=-x\n",
    "y"
   ]
  }
 ],
 "metadata": {
  "kernelspec": {
   "display_name": "Python 3 (ipykernel)",
   "language": "python",
   "name": "python3"
  },
  "language_info": {
   "codemirror_mode": {
    "name": "ipython",
    "version": 3
   },
   "file_extension": ".py",
   "mimetype": "text/x-python",
   "name": "python",
   "nbconvert_exporter": "python",
   "pygments_lexer": "ipython3",
   "version": "3.11.7"
  }
 },
 "nbformat": 4,
 "nbformat_minor": 5
}
