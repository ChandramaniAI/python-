{
 "cells": [
  {
   "cell_type": "markdown",
   "id": "b0829c43-2b4c-47b3-a05b-f7687c7adfbe",
   "metadata": {},
   "source": [
    "# Iterative Statements\n",
    "# LOOPS"
   ]
  },
  {
   "cell_type": "markdown",
   "id": "b4c7b9fc-8eed-44e1-b617-c9d3d7f981e5",
   "metadata": {},
   "source": [
    "Loop are used to execute a block of code repeatedly."
   ]
  },
  {
   "cell_type": "markdown",
   "id": "d66b1007-7d68-4fe5-ae28-d6c5f1c80970",
   "metadata": {},
   "source": [
    "## for loop"
   ]
  },
  {
   "cell_type": "markdown",
   "id": "6b3a5354-b408-423b-898e-003f3102a4f1",
   "metadata": {},
   "source": [
    "The for loop iterables over an iterable object."
   ]
  },
  {
   "cell_type": "markdown",
   "id": "dfb7a458-40f5-4ffb-b671-c064baf643dd",
   "metadata": {},
   "source": [
    "<b>Use of loop-</b><br>\n",
    "1.For loops are used when you have a block of code which you want to repeat a <b>fixed number of time.</b> <br>\n",
    "2.For loops are also used to perform the <b>same set of operations for each item in an iterable.</b><br>\n",
    "Thus, for loops reduce the code complexity and save time.<br>\n",
    "<b>Iterable- str,list,tuple,set,dict,range</b>"
   ]
  },
  {
   "cell_type": "code",
   "execution_count": 1,
   "id": "6118ba7c-5988-4f5e-bfef-16379d8aeead",
   "metadata": {},
   "outputs": [
    {
     "name": "stdout",
     "output_type": "stream",
     "text": [
      "2\n",
      "3\n",
      "4\n",
      "5\n"
     ]
    }
   ],
   "source": [
    "lst1=[1,2,3,4] # lst1 is iterate kar raha h\n",
    "for i in lst1:\n",
    "    print(i+1)"
   ]
  },
  {
   "cell_type": "code",
   "execution_count": 2,
   "id": "92ae7c86-1fa1-4490-a030-dd823a5c88ec",
   "metadata": {},
   "outputs": [
    {
     "name": "stdout",
     "output_type": "stream",
     "text": [
      "2\n",
      "3\n",
      "4\n",
      "5\n"
     ]
    }
   ],
   "source": [
    "x=[1,2,3,4]\n",
    "i=x[0]\n",
    "print(i+1)\n",
    "i=x[1]\n",
    "print(i+1)\n",
    "i=x[2]\n",
    "print(i+1)\n",
    "i=x[3]\n",
    "print(i+1)"
   ]
  },
  {
   "cell_type": "code",
   "execution_count": 3,
   "id": "ba0cd199-40a7-453b-8f1f-796e73bfd50c",
   "metadata": {},
   "outputs": [
    {
     "name": "stdout",
     "output_type": "stream",
     "text": [
      "2\n",
      "loop are easy\n",
      "3\n",
      "loop are easy\n",
      "4\n",
      "loop are easy\n",
      "5\n",
      "loop are easy\n",
      "This is a list\n"
     ]
    }
   ],
   "source": [
    "lst1=[1,2,3,4] # lst me add 1 kar raha h with help of loop\n",
    "for i in lst1:\n",
    "    print(i+1)\n",
    "    print(\"loop are easy\")\n",
    "print(\"This is a list\")   "
   ]
  },
  {
   "cell_type": "code",
   "execution_count": 4,
   "id": "167a18e8-d930-4117-be8a-c8429f6537e4",
   "metadata": {},
   "outputs": [
    {
     "name": "stdout",
     "output_type": "stream",
     "text": [
      "2\n",
      "loop are easy\n",
      "3\n",
      "loop are easy\n",
      "4\n",
      "loop are easy\n",
      "5\n",
      "loop are easy\n",
      "loop 1 end!\n",
      "7\n",
      "This is second loop\n",
      "8\n",
      "This is second loop\n",
      "loop 2 ends!\n"
     ]
    }
   ],
   "source": [
    "lst1=[1,2,3,4]\n",
    "for i in lst1:\n",
    "    print(i+1)\n",
    "    print(\"loop are easy\")\n",
    "print(\"loop 1 end!\") # if we take print without taking tab then it will terminate the loop\n",
    "\n",
    "lst2 = [5,6] # here a new loop starts\n",
    "for x in lst2:\n",
    "    print(x+2)\n",
    "    print(\"This is second loop\")\n",
    "print(\"loop 2 ends!\")"
   ]
  },
  {
   "cell_type": "code",
   "execution_count": 5,
   "id": "b112fdf4-864f-4efc-9035-2600a71f244a",
   "metadata": {},
   "outputs": [
    {
     "name": "stdout",
     "output_type": "stream",
     "text": [
      "[2, 3, 4, 5]\n"
     ]
    }
   ],
   "source": [
    "a=[1,2,3,4]\n",
    "a[0]=a[0]+1\n",
    "a[1]=a[1]+1\n",
    "a[2]=a[2]+1\n",
    "a[3]=a[3]+1\n",
    "print(a)"
   ]
  },
  {
   "cell_type": "code",
   "execution_count": 6,
   "id": "50603413-92b3-424c-9265-294ef7787977",
   "metadata": {},
   "outputs": [
    {
     "name": "stdout",
     "output_type": "stream",
     "text": [
      "[2, 3, 4, 5]\n"
     ]
    }
   ],
   "source": [
    "a=[1,2,3,4]\n",
    "x=0\n",
    "a[x]=a[x]+1\n",
    "x=x+1\n",
    "a[x]=a[x]+1\n",
    "x=x+1\n",
    "a[x]=a[x]+1\n",
    "x=x+1\n",
    "a[x]=a[x]+1\n",
    "print(a)"
   ]
  },
  {
   "cell_type": "code",
   "execution_count": 7,
   "id": "66137019-6d4f-44bb-a23c-883400556d87",
   "metadata": {},
   "outputs": [
    {
     "name": "stdout",
     "output_type": "stream",
     "text": [
      "[2, 3, 4, 5]\n"
     ]
    }
   ],
   "source": [
    "a=[1,2,3,4]\n",
    "y=[]\n",
    "for i in a:\n",
    "    x=i+1\n",
    "    y.append(x) # here we append data in empty list\n",
    "print(y)   "
   ]
  },
  {
   "cell_type": "code",
   "execution_count": 1,
   "id": "6f016aeb-a489-46c8-a85d-8605b1bbe9eb",
   "metadata": {},
   "outputs": [
    {
     "name": "stdout",
     "output_type": "stream",
     "text": [
      "[2, 3, 4, 5]\n"
     ]
    }
   ],
   "source": [
    "a=[1,2,3,4]\n",
    "for i in range(4):\n",
    "    a[i]=a[i]+1 \n",
    "print(a)"
   ]
  },
  {
   "cell_type": "code",
   "execution_count": 2,
   "id": "eddad8e2-a075-46bb-80d5-eeebfbf8b2a5",
   "metadata": {},
   "outputs": [
    {
     "data": {
      "text/plain": [
       "[2, 3, 4, 5]"
      ]
     },
     "execution_count": 2,
     "metadata": {},
     "output_type": "execute_result"
    }
   ],
   "source": [
    "a"
   ]
  },
  {
   "cell_type": "code",
   "execution_count": 3,
   "id": "6ed1e360-e5b3-44e8-a842-1bfe546861ac",
   "metadata": {},
   "outputs": [
    {
     "name": "stdout",
     "output_type": "stream",
     "text": [
      "[2, 3, 4, 5]\n"
     ]
    }
   ],
   "source": [
    "a=[1,2,3,4]\n",
    "for i in [0,1,2,3]:\n",
    "    a[i]=a[i]+1 \n",
    "print(a)"
   ]
  },
  {
   "cell_type": "code",
   "execution_count": 4,
   "id": "5b625f63-4fc1-42a9-a87a-7244126b5386",
   "metadata": {},
   "outputs": [
    {
     "data": {
      "text/plain": [
       "[1, 3, 5, 7]"
      ]
     },
     "execution_count": 4,
     "metadata": {},
     "output_type": "execute_result"
    }
   ],
   "source": [
    "list(range(1,8,2) ) "
   ]
  },
  {
   "cell_type": "code",
   "execution_count": 5,
   "id": "6a57631e-8d21-4f5d-8da4-f8e14c4b247b",
   "metadata": {},
   "outputs": [
    {
     "name": "stdout",
     "output_type": "stream",
     "text": [
      "[0, 1, 2, 3, 4, 5, 6, 7, 8, 9, 10, 11, 12, 13, 14, 15, 16, 17, 18, 19, 20, 21, 22, 23, 24, 25, 26, 27, 28, 29, 30, 31, 32, 33, 34, 35, 36, 37, 38, 39, 40, 41, 42, 43, 44, 45, 46, 47, 48, 49, 50, 51, 52, 53, 54, 55, 56, 57, 58, 59, 60, 61, 62, 63, 64, 65, 66, 67, 68, 69, 70, 71, 72, 73, 74, 75, 76, 77, 78, 79, 80, 81, 82, 83, 84, 85, 86, 87, 88, 89, 90, 91, 92, 93, 94, 95, 96, 97, 98, 99, 100]\n"
     ]
    }
   ],
   "source": [
    "a=[]\n",
    "for i in range(101):\n",
    "    a.append(i)\n",
    "print(a)"
   ]
  },
  {
   "cell_type": "code",
   "execution_count": 6,
   "id": "2b9a3490-13ef-4e51-b75f-2c3fa7a49b33",
   "metadata": {},
   "outputs": [
    {
     "name": "stdout",
     "output_type": "stream",
     "text": [
      "positive\n",
      "negative\n",
      "positive\n",
      "positive\n",
      "zero\n",
      "negative\n",
      "positive\n",
      "negative\n",
      "zero\n"
     ]
    }
   ],
   "source": [
    "a=[1,-2,3,2,0,-2,4,-4,0] # here we checking positive , negative and zero\n",
    "for i in a:\n",
    "    if i>0:\n",
    "        print(\"positive\")\n",
    "    elif i==0:\n",
    "        print(\"zero\")\n",
    "    else:\n",
    "        print(\"negative\")"
   ]
  },
  {
   "cell_type": "code",
   "execution_count": 10,
   "id": "b83ace06-e55b-432c-92f8-da44a3b2961a",
   "metadata": {},
   "outputs": [
    {
     "name": "stdin",
     "output_type": "stream",
     "text": [
      " america\n"
     ]
    },
    {
     "name": "stdout",
     "output_type": "stream",
     "text": [
      "america\n",
      "america\n",
      "america\n",
      "america\n",
      "america\n",
      "america\n",
      "america\n"
     ]
    }
   ],
   "source": [
    "a=input()\n",
    "for i in a:\n",
    "    a.replace(\"a\",\"e\")\n",
    "    print(a)"
   ]
  },
  {
   "cell_type": "code",
   "execution_count": 11,
   "id": "07559486-7fb9-411c-b14b-d3bdb6f34740",
   "metadata": {},
   "outputs": [
    {
     "name": "stdout",
     "output_type": "stream",
     "text": [
      "10 positive\n",
      "11 positive\n",
      "0 zero\n",
      "this is a string\n",
      "-12 negative\n",
      "198 positive\n",
      "-72 negative\n",
      "this is a string\n"
     ]
    }
   ],
   "source": [
    "a=[10,11,0,\"fgfgfh\",-12,198,-72,\"ghk\"]\n",
    "for x in a:\n",
    "    if type(x) is int or type(x) is float:\n",
    "        if x<0:\n",
    "            print(f\"{x} negative\")\n",
    "        elif x>0:\n",
    "            print(f\"{x} positive\")\n",
    "        else:\n",
    "            print(f\"{x} zero\")\n",
    "    else:\n",
    "        print(\"this is a string\")"
   ]
  },
  {
   "cell_type": "code",
   "execution_count": 12,
   "id": "6a5bac5d-0ca4-4ede-8ecf-3e07770a31c5",
   "metadata": {},
   "outputs": [
    {
     "name": "stdout",
     "output_type": "stream",
     "text": [
      "0 even\n",
      "1 odd\n",
      "2 even\n",
      "3 odd\n",
      "4 even\n",
      "5 odd\n",
      "6 even\n",
      "7 odd\n",
      "8 even\n",
      "9 odd\n",
      "10 even\n",
      "11 odd\n",
      "12 even\n",
      "13 odd\n",
      "14 even\n",
      "15 odd\n",
      "16 even\n",
      "17 odd\n",
      "18 even\n",
      "19 odd\n",
      "20 even\n",
      "21 odd\n",
      "22 even\n",
      "23 odd\n",
      "24 even\n",
      "25 odd\n",
      "26 even\n",
      "27 odd\n",
      "28 even\n",
      "29 odd\n",
      "30 even\n",
      "31 odd\n",
      "32 even\n",
      "33 odd\n",
      "34 even\n",
      "35 odd\n",
      "36 even\n",
      "37 odd\n",
      "38 even\n",
      "39 odd\n",
      "40 even\n",
      "41 odd\n",
      "42 even\n",
      "43 odd\n",
      "44 even\n",
      "45 odd\n",
      "46 even\n",
      "47 odd\n",
      "48 even\n",
      "49 odd\n",
      "50 even\n",
      "51 odd\n",
      "52 even\n",
      "53 odd\n",
      "54 even\n",
      "55 odd\n",
      "56 even\n",
      "57 odd\n",
      "58 even\n",
      "59 odd\n",
      "60 even\n",
      "61 odd\n",
      "62 even\n",
      "63 odd\n",
      "64 even\n",
      "65 odd\n",
      "66 even\n",
      "67 odd\n",
      "68 even\n",
      "69 odd\n",
      "70 even\n",
      "71 odd\n",
      "72 even\n",
      "73 odd\n",
      "74 even\n",
      "75 odd\n",
      "76 even\n",
      "77 odd\n",
      "78 even\n",
      "79 odd\n",
      "80 even\n",
      "81 odd\n",
      "82 even\n",
      "83 odd\n",
      "84 even\n",
      "85 odd\n",
      "86 even\n",
      "87 odd\n",
      "88 even\n",
      "89 odd\n",
      "90 even\n",
      "91 odd\n",
      "92 even\n",
      "93 odd\n",
      "94 even\n",
      "95 odd\n",
      "96 even\n",
      "97 odd\n",
      "98 even\n",
      "99 odd\n",
      "100 even\n"
     ]
    }
   ],
   "source": [
    "for x in range(101): # checking number is even or odd\n",
    "    if x%2==0:\n",
    "        print(f\"{x} even\")\n",
    "    else:\n",
    "        print(f\"{x} odd\")"
   ]
  },
  {
   "cell_type": "code",
   "execution_count": 13,
   "id": "b0c7adf0-21ba-4321-822d-81ec0988ef9f",
   "metadata": {},
   "outputs": [
    {
     "name": "stdin",
     "output_type": "stream",
     "text": [
      "enter start point range: 0\n",
      "enter end point range: 10\n"
     ]
    },
    {
     "name": "stdout",
     "output_type": "stream",
     "text": [
      "0 even\n",
      "1 odd\n",
      "2 even\n",
      "3 odd\n",
      "4 even\n",
      "5 odd\n",
      "6 even\n",
      "7 odd\n",
      "8 even\n",
      "9 odd\n"
     ]
    }
   ],
   "source": [
    "a=int(input(\"enter start point range:\"))\n",
    "b=int(input(\"enter end point range:\"))\n",
    "for x in range(a,b): # here we take range from user to check whether the number is even or odd\n",
    "    if x%2==0:\n",
    "        print(f\"{x} even\")\n",
    "    else:\n",
    "        print(f\"{x} odd\")"
   ]
  },
  {
   "cell_type": "code",
   "execution_count": 14,
   "id": "28bc43fa-79b9-4e65-88d8-5c0339856785",
   "metadata": {},
   "outputs": [
    {
     "name": "stdout",
     "output_type": "stream",
     "text": [
      "even: [0, 2, 4, 6, 8, 10, 12, 14, 16, 18, 20, 22, 24, 26, 28, 30, 32, 34, 36, 38, 40, 42, 44, 46, 48, 50, 52, 54, 56, 58, 60, 62, 64, 66, 68, 70, 72, 74, 76, 78, 80, 82, 84, 86, 88, 90, 92, 94, 96, 98, 100]\n",
      "odd: [1, 3, 5, 7, 9, 11, 13, 15, 17, 19, 21, 23, 25, 27, 29, 31, 33, 35, 37, 39, 41, 43, 45, 47, 49, 51, 53, 55, 57, 59, 61, 63, 65, 67, 69, 71, 73, 75, 77, 79, 81, 83, 85, 87, 89, 91, 93, 95, 97, 99]\n",
      "2550\n",
      "2500\n"
     ]
    }
   ],
   "source": [
    "x=[]\n",
    "y=[]\n",
    "for a in range(101): #here we take two empty list to add all even and odd number seperatily and add them seperatily using sum function\n",
    "    if a%2==0:\n",
    "        x.append(a)\n",
    "        \n",
    "    else:\n",
    "        y.append(a)\n",
    "        \n",
    "print(\"even:\",x)\n",
    "print(\"odd:\",y)\n",
    "print(sum(x))\n",
    "print(sum(y))"
   ]
  },
  {
   "cell_type": "code",
   "execution_count": 16,
   "id": "74c7845b-836c-41fb-8e24-02c192b9bae4",
   "metadata": {},
   "outputs": [
    {
     "name": "stdin",
     "output_type": "stream",
     "text": [
      " america\n",
      " a\n",
      " e\n"
     ]
    },
    {
     "data": {
      "text/plain": [
       "'emerice'"
      ]
     },
     "execution_count": 16,
     "metadata": {},
     "output_type": "execute_result"
    }
   ],
   "source": [
    "x=input()\n",
    "a=input()\n",
    "b=input()\n",
    "x.replace(a,b)"
   ]
  },
  {
   "cell_type": "code",
   "execution_count": 17,
   "id": "e9c14fb7-d245-4d7d-815f-c6fd7d1f05a9",
   "metadata": {},
   "outputs": [
    {
     "name": "stdout",
     "output_type": "stream",
     "text": [
      "2550\n"
     ]
    }
   ],
   "source": [
    "s=0\n",
    "for a in range(101): # here we add even number without using sum function\n",
    "    if a%2==0:\n",
    "        s=s+a\n",
    "print(s)"
   ]
  },
  {
   "cell_type": "code",
   "execution_count": 18,
   "id": "6efce9ca-1f64-4e53-8aa8-6205636d4efe",
   "metadata": {},
   "outputs": [
    {
     "name": "stdout",
     "output_type": "stream",
     "text": [
      "2550\n",
      "2500\n"
     ]
    }
   ],
   "source": [
    "y=0\n",
    "z=0\n",
    "for a in range(101): # here we add even and odd number without using sum function\n",
    "    if a%2==0:\n",
    "        y=y+a\n",
    "    else:\n",
    "        z=z+a\n",
    "\n",
    "print(y)\n",
    "print(z)"
   ]
  },
  {
   "cell_type": "code",
   "execution_count": 19,
   "id": "ec229bcd-5ea4-40cc-8168-38d47f323f25",
   "metadata": {},
   "outputs": [
    {
     "name": "stdout",
     "output_type": "stream",
     "text": [
      "0 hello world\n",
      "1 hello world\n",
      "2 hello world\n",
      "3 hello world\n",
      "4 hello world\n",
      "5 hello world\n",
      "6 hello world\n",
      "7 hello world\n",
      "8 hello world\n",
      "9 hello world\n",
      "10 hello world\n",
      "11 hello world\n",
      "12 hello world\n",
      "13 hello world\n",
      "14 hello world\n",
      "15 hello world\n",
      "16 hello world\n",
      "17 hello world\n",
      "18 hello world\n",
      "19 hello world\n",
      "20 hello world\n",
      "21 hello world\n",
      "22 hello world\n",
      "23 hello world\n",
      "24 hello world\n",
      "25 hello world\n",
      "26 hello world\n",
      "27 hello world\n",
      "28 hello world\n",
      "29 hello world\n",
      "30 hello world\n",
      "31 hello world\n",
      "32 hello world\n",
      "33 hello world\n",
      "34 hello world\n",
      "35 hello world\n",
      "36 hello world\n",
      "37 hello world\n",
      "38 hello world\n",
      "39 hello world\n",
      "40 hello world\n",
      "41 hello world\n",
      "42 hello world\n",
      "43 hello world\n",
      "44 hello world\n",
      "45 hello world\n",
      "46 hello world\n",
      "47 hello world\n",
      "48 hello world\n",
      "49 hello world\n",
      "50 hello world\n",
      "51 hello world\n",
      "52 hello world\n",
      "53 hello world\n",
      "54 hello world\n",
      "55 hello world\n",
      "56 hello world\n",
      "57 hello world\n",
      "58 hello world\n",
      "59 hello world\n",
      "60 hello world\n",
      "61 hello world\n",
      "62 hello world\n",
      "63 hello world\n",
      "64 hello world\n",
      "65 hello world\n",
      "66 hello world\n",
      "67 hello world\n",
      "68 hello world\n",
      "69 hello world\n",
      "70 hello world\n",
      "71 hello world\n",
      "72 hello world\n",
      "73 hello world\n",
      "74 hello world\n",
      "75 hello world\n",
      "76 hello world\n",
      "77 hello world\n",
      "78 hello world\n",
      "79 hello world\n",
      "80 hello world\n",
      "81 hello world\n",
      "82 hello world\n",
      "83 hello world\n",
      "84 hello world\n",
      "85 hello world\n",
      "86 hello world\n",
      "87 hello world\n",
      "88 hello world\n",
      "89 hello world\n",
      "90 hello world\n",
      "91 hello world\n",
      "92 hello world\n",
      "93 hello world\n",
      "94 hello world\n",
      "95 hello world\n",
      "96 hello world\n",
      "97 hello world\n",
      "98 hello world\n",
      "99 hello world\n",
      "100 hello world\n"
     ]
    }
   ],
   "source": [
    "for i in range(101): # here we print hello world 100times\n",
    "    print(i,\"hello world\")"
   ]
  },
  {
   "cell_type": "code",
   "execution_count": 20,
   "id": "5a3ae66c-a4d8-49c6-b574-88a1b8b47071",
   "metadata": {},
   "outputs": [
    {
     "name": "stdout",
     "output_type": "stream",
     "text": [
      "h hello world\n",
      "e hello world\n",
      "l hello world\n",
      "l hello world\n",
      "o hello world\n",
      "  hello world\n",
      "w hello world\n",
      "o hello world\n",
      "r hello world\n",
      "l hello world\n",
      "d hello world\n"
     ]
    }
   ],
   "source": [
    "a=\"hello world\"\n",
    "for i in a:\n",
    "    print(i,a)"
   ]
  },
  {
   "cell_type": "code",
   "execution_count": 21,
   "id": "60de3e58-4736-4226-a0a0-28bfd2859c9e",
   "metadata": {},
   "outputs": [
    {
     "name": "stdout",
     "output_type": "stream",
     "text": [
      "h\n",
      "e\n",
      "l\n",
      "l\n",
      "o\n",
      " \n",
      "w\n",
      "o\n",
      "r\n",
      "l\n",
      "d\n"
     ]
    }
   ],
   "source": [
    "a=\"hello world\"\n",
    "for i in a:\n",
    "    print(i)"
   ]
  },
  {
   "cell_type": "code",
   "execution_count": 22,
   "id": "394e06a3-4a49-43ad-b62b-4f7e7ce86dee",
   "metadata": {},
   "outputs": [
    {
     "name": "stdout",
     "output_type": "stream",
     "text": [
      "[5, 7, 9]\n"
     ]
    }
   ],
   "source": [
    "a=[1,2,3]\n",
    "b=[4,5,6]\n",
    "c=[]\n",
    "for i in range(3):\n",
    "    c.append(b[i]+a[i])\n",
    "print(c)   "
   ]
  },
  {
   "cell_type": "code",
   "execution_count": 23,
   "id": "454644d3-4064-415f-a991-1b4dcfe55d28",
   "metadata": {},
   "outputs": [
    {
     "name": "stdout",
     "output_type": "stream",
     "text": [
      "Ram is 12 years old\n",
      "Raj is 23 years old\n",
      "kamal is 45 years old\n"
     ]
    }
   ],
   "source": [
    "names=['Ram','Raj','kamal']\n",
    "ages=[12,23,45]\n",
    "for i in range(3):\n",
    "    print(names[i],\"is\",ages[i],\"years old\")"
   ]
  },
  {
   "cell_type": "code",
   "execution_count": 24,
   "id": "cfe95402-5438-43d6-a381-349d1c872f57",
   "metadata": {},
   "outputs": [
    {
     "name": "stdout",
     "output_type": "stream",
     "text": [
      "[2, 4, 6, 8]\n"
     ]
    }
   ],
   "source": [
    "numbers=[1,2,3,4]\n",
    "double=[]\n",
    "for i in numbers:\n",
    "      double.append(i*2)\n",
    "      \n",
    "print(double)  "
   ]
  },
  {
   "cell_type": "code",
   "execution_count": null,
   "id": "c70fb854-6fef-423d-9b00-1ed7af62907a",
   "metadata": {},
   "outputs": [],
   "source": []
  },
  {
   "cell_type": "code",
   "execution_count": null,
   "id": "eb7bbc0b-08a3-4d96-8862-a7b0d20fb8b5",
   "metadata": {},
   "outputs": [],
   "source": []
  }
 ],
 "metadata": {
  "kernelspec": {
   "display_name": "Python 3 (ipykernel)",
   "language": "python",
   "name": "python3"
  },
  "language_info": {
   "codemirror_mode": {
    "name": "ipython",
    "version": 3
   },
   "file_extension": ".py",
   "mimetype": "text/x-python",
   "name": "python",
   "nbconvert_exporter": "python",
   "pygments_lexer": "ipython3",
   "version": "3.11.7"
  }
 },
 "nbformat": 4,
 "nbformat_minor": 5
}
