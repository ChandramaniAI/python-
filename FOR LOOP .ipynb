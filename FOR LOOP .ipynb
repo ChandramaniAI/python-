{
 "cells": [
  {
   "cell_type": "markdown",
   "id": "733860ee",
   "metadata": {},
   "source": [
    "# DEFINITION-\n",
    "\n",
    "A for loop is used for iterating over a sequence of elements(items) inside an ITERABLE DATA TYPE."
   ]
  },
  {
   "cell_type": "code",
   "execution_count": 2,
   "id": "65a78de6",
   "metadata": {},
   "outputs": [
    {
     "name": "stdout",
     "output_type": "stream",
     "text": [
      "1\n",
      "2\n",
      "3\n",
      "4\n",
      "5\n"
     ]
    }
   ],
   "source": [
    "a=[1,2,3,4,5] # the order of print is from starting element to the ending element.\n",
    "print(a[0])\n",
    "print(a[1])\n",
    "print(a[2])\n",
    "print(a[3])\n",
    "print(a[4])"
   ]
  },
  {
   "cell_type": "code",
   "execution_count": 19,
   "id": "63020bd2",
   "metadata": {},
   "outputs": [
    {
     "name": "stdout",
     "output_type": "stream",
     "text": [
      "1\n",
      "2\n",
      "3\n",
      "4\n",
      "5\n"
     ]
    }
   ],
   "source": [
    "a=[1,2,3,4,5]\n",
    "for item in a : # note-- 'item' is just a variable assigned to the elements or memebers in a.\n",
    "    print(item) # instead of item you can assign any variable for the FOR LOOP to understand it."
   ]
  },
  {
   "cell_type": "code",
   "execution_count": 22,
   "id": "969de53a",
   "metadata": {},
   "outputs": [
    {
     "name": "stdout",
     "output_type": "stream",
     "text": [
      "data\n",
      "vijai\n",
      "science\n",
      "5\n",
      "3\n",
      "1\n",
      "4\n",
      "3\n",
      "a\n",
      "5\n",
      "A\n"
     ]
    }
   ],
   "source": [
    "a=['data','vijai','science',5,3,1,4,3,'a',5,'A']\n",
    "for i in a:\n",
    "    print(i)"
   ]
  },
  {
   "cell_type": "code",
   "execution_count": 4,
   "id": "52138399",
   "metadata": {},
   "outputs": [
    {
     "name": "stdout",
     "output_type": "stream",
     "text": [
      "1\n",
      "2\n",
      "3\n",
      "4\n",
      "5\n"
     ]
    }
   ],
   "source": [
    "a=[1,2,3,4,5] # HERE THE VARIABLE ASSIGNED IS i FOR CHECKING THE MEMBERS.\n",
    "for i in a:\n",
    "    print(i) # print(i) is the command given to elements if they are satisfying the conditions inside the for loop\n",
    "    # and as there is no specific condition given inside the for loop , i.e. no use of 'if or else' therefore every element\n",
    "    # will perform the command of printing i"
   ]
  },
  {
   "cell_type": "code",
   "execution_count": 42,
   "id": "76073f9f",
   "metadata": {},
   "outputs": [
    {
     "name": "stdout",
     "output_type": "stream",
     "text": [
      "a\n",
      "a\n",
      "a\n",
      "a\n",
      "a\n"
     ]
    }
   ],
   "source": [
    "a=[1,2,3,4,5] # HERE THE VARIABLE ASSIGNED IS i FOR CHECKING THE MEMBERS.\n",
    "for i in a:\n",
    "    print('a') # here the command is to print 'a' so each element will be printing 'a'"
   ]
  },
  {
   "cell_type": "code",
   "execution_count": 44,
   "id": "399e17c5",
   "metadata": {},
   "outputs": [
    {
     "name": "stdout",
     "output_type": "stream",
     "text": [
      "a 2\n",
      "a 4\n"
     ]
    }
   ],
   "source": [
    "a=[1,2,3,4,5] # HERE THE VARIABLE ASSIGNED IS i FOR CHECKING THE MEMBERS.\n",
    "for i in a:\n",
    "    if i%2==0: # if the modulus of i is 0 then only the bool i%2==0 will be true and then it will perform the command inside\n",
    "               # the if statement.\n",
    "            \n",
    "        print('a',i) # here the command is to print 'a' so each element whose modulus is 0 i.e.\n",
    "                   # every even number will be printing 'a'."
   ]
  },
  {
   "cell_type": "code",
   "execution_count": null,
   "id": "88c35bf8",
   "metadata": {},
   "outputs": [],
   "source": [
    "# in the given list if you get a particular element greater equal than 10 , then\n",
    "a=[12,31,5,6,1,2,3,4,1,55,12,321,32]"
   ]
  },
  {
   "cell_type": "markdown",
   "id": "20f3edba",
   "metadata": {},
   "source": [
    "##### now you can see , that in a for loop the item which is checked first is necessarily the first item of the given iterable data type , is valid for only ordered iterable data types like tuple , list , dictionary , string."
   ]
  },
  {
   "cell_type": "code",
   "execution_count": 9,
   "id": "b842e258",
   "metadata": {},
   "outputs": [
    {
     "name": "stdout",
     "output_type": "stream",
     "text": [
      "1\n",
      "2\n",
      "3\n",
      "4\n",
      "5\n",
      "7\n",
      "8\n",
      "9\n",
      "d\n",
      "e\n",
      "11\n",
      "10\n",
      "b\n",
      "f\n",
      "a\n"
     ]
    }
   ],
   "source": [
    "a={1,2,3,4,5,'a','b',7,8,9,'d','e',11,'f',10}\n",
    "for i in a:\n",
    "    print(i)\n",
    "    \n",
    "# here you can see randomly the items are getting printed as the set is unordered."
   ]
  },
  {
   "cell_type": "markdown",
   "id": "830b66cb",
   "metadata": {},
   "source": [
    "###### the work of for loop is to access all the items in the iterable data type and return the command given inside the for loop."
   ]
  },
  {
   "cell_type": "code",
   "execution_count": 10,
   "id": "98fce403",
   "metadata": {},
   "outputs": [
    {
     "name": "stdout",
     "output_type": "stream",
     "text": [
      "a\n",
      "a\n",
      "a\n"
     ]
    }
   ],
   "source": [
    "a=[1,2,3]\n",
    "for i in a:\n",
    "    print('a') # it checks the first element and verifies the command given as print('a') and as the list has 3 elements\n",
    "               # therefore 'a' is printed 3 times as when ever it reads an element command of printin 'a' is given. "
   ]
  },
  {
   "cell_type": "code",
   "execution_count": 12,
   "id": "d5c69e2a",
   "metadata": {},
   "outputs": [
    {
     "name": "stdout",
     "output_type": "stream",
     "text": [
      "v\n",
      "v\n"
     ]
    }
   ],
   "source": [
    "a=[1,2] # here two items are present so 'v' is printed 2 times.\n",
    "for i in a: \n",
    "    print('v')"
   ]
  },
  {
   "cell_type": "code",
   "execution_count": 23,
   "id": "ea5b2025",
   "metadata": {},
   "outputs": [
    {
     "name": "stdout",
     "output_type": "stream",
     "text": [
      "[1, 2, 3]\n",
      "[1, 2, 3]\n",
      "[1, 2, 3]\n"
     ]
    }
   ],
   "source": [
    "a=[1,2,3]     #### try to guess the answer of this code without running the code.\n",
    "for i in a :\n",
    "    print(a) "
   ]
  },
  {
   "cell_type": "markdown",
   "id": "379a7be4",
   "metadata": {},
   "source": [
    "###### we can give conditions inside the for loops as well like-->"
   ]
  },
  {
   "cell_type": "code",
   "execution_count": 14,
   "id": "b2804298",
   "metadata": {},
   "outputs": [
    {
     "name": "stdout",
     "output_type": "stream",
     "text": [
      "2\n",
      "2\n",
      "2\n",
      "2\n"
     ]
    }
   ],
   "source": [
    "a=[1,2,3,4,5,23,12,2,2,2]\n",
    "for i in a:\n",
    "    if i==2: # wherever in for loop i==2 is TRUE i is printed. i.e. the item is equal to 2 there i(the item) will be printed\n",
    "        print(i)"
   ]
  },
  {
   "cell_type": "code",
   "execution_count": null,
   "id": "dd087d66",
   "metadata": {},
   "outputs": [],
   "source": [
    "#### get all the '1' present in the list\n",
    "a=['1',2,'1',3,4,2,'1',24,4,'1',42]"
   ]
  },
  {
   "cell_type": "code",
   "execution_count": 15,
   "id": "68014242",
   "metadata": {},
   "outputs": [
    {
     "data": {
      "text/plain": [
       "True"
      ]
     },
     "execution_count": 15,
     "metadata": {},
     "output_type": "execute_result"
    }
   ],
   "source": [
    "# for finding even numbers we write \n",
    "44%2==0 # as no remainder is left means number is even"
   ]
  },
  {
   "cell_type": "code",
   "execution_count": 16,
   "id": "e73a4726",
   "metadata": {},
   "outputs": [
    {
     "data": {
      "text/plain": [
       "True"
      ]
     },
     "execution_count": 16,
     "metadata": {},
     "output_type": "execute_result"
    }
   ],
   "source": [
    "45%2==1 # means the number is odd as 1 remainder is left"
   ]
  },
  {
   "cell_type": "code",
   "execution_count": null,
   "id": "12dab416",
   "metadata": {},
   "outputs": [],
   "source": [
    "# now after understanding the 2 codes given just above find the even numbers present inside the list and in next cell find \n",
    "# find the odd numbers\n",
    "\n",
    "a=[1,2,3,4,5,6,7,8,9,10]"
   ]
  },
  {
   "cell_type": "code",
   "execution_count": 33,
   "id": "59de0226",
   "metadata": {},
   "outputs": [
    {
     "name": "stdout",
     "output_type": "stream",
     "text": [
      "a 3\n",
      "a 4\n",
      "a 5\n"
     ]
    }
   ],
   "source": [
    "a=[1,2,3,4,5]\n",
    "for i in a:\n",
    "    if i+2>=5:\n",
    "        print('a',i)"
   ]
  },
  {
   "cell_type": "code",
   "execution_count": 25,
   "id": "d4fe12d8",
   "metadata": {},
   "outputs": [
    {
     "name": "stdout",
     "output_type": "stream",
     "text": [
      "2\n",
      "a\n",
      "4\n",
      "a\n"
     ]
    }
   ],
   "source": [
    "a=[1,2,3,4,5]\n",
    "for i in a:\n",
    "    if i%2==0:\n",
    "        print(i)\n",
    "        print('a')"
   ]
  },
  {
   "cell_type": "code",
   "execution_count": 34,
   "id": "fff491d4",
   "metadata": {},
   "outputs": [
    {
     "name": "stdout",
     "output_type": "stream",
     "text": [
      "old b []\n",
      "new b [1, 2, 3, 4, 5, 6, 7, 8]\n"
     ]
    }
   ],
   "source": [
    "a=[1,2,3,4,5,6,7,8]\n",
    "b=[]\n",
    "print('old b',b)\n",
    "for i in a:\n",
    "    b.append(i)\n",
    "print('new b',b)"
   ]
  },
  {
   "cell_type": "code",
   "execution_count": null,
   "id": "3bca423e",
   "metadata": {},
   "outputs": [],
   "source": [
    "# make two lists such that one contains even number of list a and the other contains odd\n",
    "a=[1,2,3,4,5,6,7,8]\n",
    "b=[]                # for even"
   ]
  },
  {
   "cell_type": "code",
   "execution_count": null,
   "id": "0083a386",
   "metadata": {},
   "outputs": [],
   "source": [
    "# make two lists such that one contains even number of list a and the other contains odd\n",
    "a=[1,2,3,4,5,6,7,8]\n",
    "b=[]                     # for odd "
   ]
  },
  {
   "cell_type": "code",
   "execution_count": null,
   "id": "7cc6f711",
   "metadata": {},
   "outputs": [],
   "source": [
    "# make two lists such that one contains even number of list a and the other contains odd\n",
    "a=[1,2,3,4,5,6,7,8]\n",
    "b=[]\n",
    "c=[]         # do it in once."
   ]
  },
  {
   "cell_type": "code",
   "execution_count": 28,
   "id": "9cce921a",
   "metadata": {},
   "outputs": [
    {
     "name": "stdout",
     "output_type": "stream",
     "text": [
      "rajshree\n",
      "odd number\n",
      "rajshree\n",
      "2\n",
      "rajshree\n",
      "odd number\n",
      "rajshree\n",
      "4\n",
      "rajshree\n",
      "odd number\n"
     ]
    }
   ],
   "source": [
    "a=[1,2,3,4,5]\n",
    "for i in a:\n",
    "    print('rajshree')\n",
    "    if i%2==0:\n",
    "        print(i)\n",
    "    else:\n",
    "        print('odd number')"
   ]
  },
  {
   "cell_type": "code",
   "execution_count": null,
   "id": "f14b141c",
   "metadata": {},
   "outputs": [],
   "source": [
    "fruits=['apple','kiwi','banana','mango','orange','grapes','blueberry','litchi','bengen']\n",
    "#get the fruits which do not have string 'a' in them.\n",
    "#get the fruits which have string 'a' in them.\n",
    "# get fruits in which string length is greater than 7.\n",
    "# get fruits in which string length is less than 7."
   ]
  },
  {
   "cell_type": "markdown",
   "id": "746e5c3e",
   "metadata": {},
   "source": [
    "### anamolous behaviour of FOR LOOPS."
   ]
  },
  {
   "cell_type": "markdown",
   "id": "6a3e236d",
   "metadata": {},
   "source": [
    "###### what happens when we modify the the same list in which for looping is being done."
   ]
  },
  {
   "cell_type": "code",
   "execution_count": null,
   "id": "12840893",
   "metadata": {},
   "outputs": [
    {
     "name": "stderr",
     "output_type": "stream",
     "text": [
      "IOPub data rate exceeded.\n",
      "The notebook server will temporarily stop sending output\n",
      "to the client in order to avoid crashing it.\n",
      "To change this limit, set the config variable\n",
      "`--NotebookApp.iopub_data_rate_limit`.\n",
      "\n",
      "Current values:\n",
      "NotebookApp.iopub_data_rate_limit=1000000.0 (bytes/sec)\n",
      "NotebookApp.rate_limit_window=3.0 (secs)\n",
      "\n"
     ]
    }
   ],
   "source": [
    "a=[1,2,3,4,5] ## do not run just understand the statement shown below in output\n",
    "for i in a:\n",
    "    a.append(i)\n",
    "    print(a)\n",
    "\n",
    "## after we append 1 in the list , the iterations keep on getting increased by +1 and as there is no break pass or anything\n",
    "## else therefore the iteration will keep on getting increased infinitely."
   ]
  },
  {
   "cell_type": "code",
   "execution_count": null,
   "id": "1abde7c6",
   "metadata": {},
   "outputs": [],
   "source": [
    "a=[1,2,3,4,5] ## do not run just understand the statement shown below in output\n",
    "for i in a:\n",
    "    a.append(1)\n",
    "    print(a)\n",
    "print(a)"
   ]
  },
  {
   "cell_type": "code",
   "execution_count": 3,
   "id": "2b5e8ad8",
   "metadata": {},
   "outputs": [
    {
     "name": "stdout",
     "output_type": "stream",
     "text": [
      "[1, 2, 3, 4, 5, 1] 1\n",
      "[1, 2, 3, 4, 5, 1, 3] 1\n",
      "[1, 2, 3, 4, 5, 1, 3] 2\n",
      "[1, 2, 3, 4, 5, 1, 3] 2\n",
      "[1, 2, 3, 4, 5, 1, 3] 3\n",
      "[1, 2, 3, 4, 5, 1, 3] 3\n",
      "[1, 2, 3, 4, 5, 1, 3] 4\n",
      "[1, 2, 3, 4, 5, 1, 3] 4\n",
      "[1, 2, 3, 4, 5, 1, 3] 5\n",
      "[1, 2, 3, 4, 5, 1, 3] 5\n",
      "[1, 2, 3, 4, 5, 1, 3] 1\n",
      "[1, 2, 3, 4, 5, 1, 3, 3] 1\n",
      "[1, 2, 3, 4, 5, 1, 3, 3] 3\n",
      "[1, 2, 3, 4, 5, 1, 3, 3] 3\n",
      "[1, 2, 3, 4, 5, 1, 3, 3] 3\n",
      "[1, 2, 3, 4, 5, 1, 3, 3] 3\n",
      "[1, 2, 3, 4, 5, 1, 3, 3]\n"
     ]
    }
   ],
   "source": [
    "a=[1,2,3,4,5,1] ## do not run just understand the statement shown below in output\n",
    "for i in a:\n",
    "    print(a,i)\n",
    "    if i==1:\n",
    "        a.append(3)\n",
    "    print(a,i)\n",
    "print(a)"
   ]
  },
  {
   "cell_type": "code",
   "execution_count": null,
   "id": "22d0a2c4",
   "metadata": {},
   "outputs": [],
   "source": [
    "a=[1,2,3,4,5] ## do not run just understand the statement shown below in output\n",
    "for i in a:\n",
    "    if i==1:\n",
    "        a.append(1)\n",
    "print(a)"
   ]
  },
  {
   "cell_type": "code",
   "execution_count": 6,
   "id": "6ae5b23f",
   "metadata": {},
   "outputs": [
    {
     "name": "stdout",
     "output_type": "stream",
     "text": [
      "[2, 1, 3, 1, 1]\n",
      "[2, 3, 1, 1]\n",
      "[2, 3, 1]\n",
      "[2, 3, 1]\n"
     ]
    }
   ],
   "source": [
    "a=[1,2,1,3,1,1] ## do not run just understand the statement shown below in output\n",
    "for i in a:\n",
    "    a.remove(1) ### here all 1 are not removed as after removing 1 the iteration will now become -1 over and over again\n",
    "    print(a)           ### until it attains a saturation point where the current iteration of item will exceed the length of list\n",
    "                ### and therefore no remove operation will be done\n",
    "print(a)"
   ]
  },
  {
   "cell_type": "code",
   "execution_count": null,
   "id": "2bbf9ab9",
   "metadata": {},
   "outputs": [],
   "source": [
    "#### now there is a way to remove all iterations of recurring item "
   ]
  },
  {
   "cell_type": "code",
   "execution_count": 9,
   "id": "b626fc9f",
   "metadata": {},
   "outputs": [
    {
     "name": "stdout",
     "output_type": "stream",
     "text": [
      "[2, 3, 4, 5, 1, 1, 1, 1]\n",
      "[2, 3, 4, 5, 1, 1, 1, 1]\n",
      "[2, 3, 4, 5, 1, 1, 1]\n",
      "[2, 3, 4, 5, 1, 1]\n",
      "[2, 3, 4, 5, 1]\n",
      "[2, 3, 4, 5]\n"
     ]
    },
    {
     "ename": "ValueError",
     "evalue": "list.remove(x): x not in list",
     "output_type": "error",
     "traceback": [
      "\u001b[1;31m---------------------------------------------------------------------------\u001b[0m",
      "\u001b[1;31mValueError\u001b[0m                                Traceback (most recent call last)",
      "Cell \u001b[1;32mIn[9], line 8\u001b[0m\n\u001b[0;32m      4\u001b[0m \u001b[38;5;28mprint\u001b[39m(b)\n\u001b[0;32m      5\u001b[0m \u001b[38;5;28;01mfor\u001b[39;00m i \u001b[38;5;129;01min\u001b[39;00m b:  \u001b[38;5;66;03m### now looping inside the copied  list and doing operation on the original list\u001b[39;00m\n\u001b[0;32m      6\u001b[0m              \u001b[38;5;66;03m### will not contribute to any change in iteration of the copied list.\u001b[39;00m\n\u001b[1;32m----> 8\u001b[0m     a\u001b[38;5;241m.\u001b[39mremove(\u001b[38;5;241m1\u001b[39m)\n\u001b[0;32m      9\u001b[0m     \u001b[38;5;28mprint\u001b[39m(a)\n\u001b[0;32m     10\u001b[0m \u001b[38;5;28mprint\u001b[39m(a)\n",
      "\u001b[1;31mValueError\u001b[0m: list.remove(x): x not in list"
     ]
    }
   ],
   "source": [
    "a=[2,3,4,5,1,1,1,1] ## make a copy\n",
    "print(a)\n",
    "b=a.copy()\n",
    "print(b)\n",
    "for i in b:  ### now looping inside the copied  list and doing operation on the original list\n",
    "             ### will not contribute to any change in iteration of the copied list.\n",
    "    \n",
    "    a.remove(1)\n",
    "    print(a)\n",
    "print(a)"
   ]
  },
  {
   "cell_type": "code",
   "execution_count": null,
   "id": "9c5a8632",
   "metadata": {},
   "outputs": [],
   "source": [
    "#### understanf the concept of the codes written below."
   ]
  },
  {
   "cell_type": "code",
   "execution_count": 26,
   "id": "94c409ac",
   "metadata": {},
   "outputs": [
    {
     "name": "stdout",
     "output_type": "stream",
     "text": [
      "1\n",
      "4\n",
      "5\n",
      "6\n",
      "7\n",
      "8\n"
     ]
    }
   ],
   "source": [
    "a=[1,2,3,4,5,6,7,72,1,1,4,4,5,6,7,8,8,8,9]\n",
    "b=set(a)\n",
    "for i in b:\n",
    "    if a.count(i)>1:\n",
    "        print(i)"
   ]
  },
  {
   "cell_type": "code",
   "execution_count": 40,
   "id": "40499561",
   "metadata": {},
   "outputs": [
    {
     "name": "stdout",
     "output_type": "stream",
     "text": [
      "1 has 3 duplicates\n",
      "4 has 2 duplicates\n",
      "5 has 2 duplicates\n",
      "6 has 2 duplicates\n",
      "7 has 2 duplicates\n"
     ]
    }
   ],
   "source": [
    "a=[1,2,3,4,5,6,7,72,81,1,1,4,5,6,7,8,9]\n",
    "for i in set(a):\n",
    "    if a.count(i)>1:\n",
    "        print(i,'has',a.count(i),'duplicates') "
   ]
  },
  {
   "cell_type": "code",
   "execution_count": 36,
   "id": "ee4cfd75",
   "metadata": {},
   "outputs": [
    {
     "name": "stdout",
     "output_type": "stream",
     "text": [
      "['HarryPotter', 'HarryPotter', 'HarryPotter', 'HarryPotter', 'HarryPotter', 'HarryPotter', 'HarryPotter', 'HarryPotter', 'HarryPotter', 'HarryPotter', '', 'TheMegaLiving', 'TheMegaLiving', 'TheMegaLiving', 'TheMegaLiving', 'TheMegaLiving', 'TheMegaLiving', 'TheMegaLiving', 'TheMegaLiving', 'TheMegaLiving', 'TheMegaLiving', '', 'AtomicHabits', 'AtomicHabits', 'AtomicHabits', 'AtomicHabits', '', 'BhagwadGita', 'BhagwadGita', '', 'Secret', 'Secret', 'Secret', 'Secret', '']\n"
     ]
    }
   ],
   "source": [
    "\n",
    "a=('HarryPotter '*10).split(' ')\n",
    "b=('TheMegaLiving '*10).split(' ')\n",
    "c=('AtomicHabits '*4).split(' ')\n",
    "d=('BhagwadGita '*2).split(' ')\n",
    "e=('Secret '*4).split(' ')\n",
    "g=[]\n",
    "g.extend(a)\n",
    "g.extend(b)\n",
    "g.extend(c)\n",
    "g.extend(d)\n",
    "g.extend(e)\n",
    "print(g)"
   ]
  },
  {
   "cell_type": "markdown",
   "id": "de4eb192",
   "metadata": {},
   "source": [
    "['HarryPotter', 'HarryPotter', 'HarryPotter', 'HarryPotter', 'HarryPotter', 'HarryPotter', 'HarryPotter', 'HarryPotter', 'HarryPotter', 'HarryPotter', '', 'TheMegaLiving', 'TheMegaLiving', 'TheMegaLiving', 'TheMegaLiving', 'TheMegaLiving', 'TheMegaLiving', 'TheMegaLiving', 'TheMegaLiving', 'TheMegaLiving', 'TheMegaLiving', '', 'AtomicHabits', 'AtomicHabits', 'AtomicHabits', 'AtomicHabits', '', 'BhagwadGita', 'BhagwadGita', '', 'Secret', 'Secret', 'Secret', 'Secret', '']\n",
    "in the given list of books find the books that have duplicates more than 5 times and of those who have duplicates less than 5 times. "
   ]
  },
  {
   "cell_type": "code",
   "execution_count": 3,
   "id": "9f6c424f",
   "metadata": {},
   "outputs": [
    {
     "data": {
      "text/plain": [
       "'**'"
      ]
     },
     "execution_count": 3,
     "metadata": {},
     "output_type": "execute_result"
    }
   ],
   "source": [
    "#### with help of the list\n",
    "a=[0,1,2,3,4,5,6,7,8,9,10]\n",
    "# make the star pyramid # AS SHOWN BELOW\n",
    "\n",
    "\n",
    "#### hint---> run the codes \n",
    "'*' * 1\n",
    "'*' *2"
   ]
  },
  {
   "cell_type": "code",
   "execution_count": null,
   "id": "7f27f830",
   "metadata": {},
   "outputs": [],
   "source": [
    "*\n",
    "**\n",
    "***\n",
    "****\n",
    "*****\n",
    "******\n",
    "*******\n",
    "********\n",
    "*********"
   ]
  },
  {
   "cell_type": "markdown",
   "id": "9c5208c3",
   "metadata": {},
   "source": [
    "##### 31 october 2023"
   ]
  },
  {
   "cell_type": "markdown",
   "id": "5e120d67",
   "metadata": {},
   "source": [
    "###### for using if else in for loop , we need to have a basic level of understanding of how if else work.\n",
    "\n",
    "###### to understand if else statements we must understand bool data type."
   ]
  },
  {
   "cell_type": "markdown",
   "id": "79410191",
   "metadata": {},
   "source": [
    "bool is basically True / False output , that is understood by python according to the command that we provide."
   ]
  },
  {
   "cell_type": "code",
   "execution_count": null,
   "id": "d7fcf8a1",
   "metadata": {},
   "outputs": [],
   "source": []
  },
  {
   "cell_type": "code",
   "execution_count": 11,
   "id": "22670cb0",
   "metadata": {},
   "outputs": [
    {
     "name": "stdout",
     "output_type": "stream",
     "text": [
      "True\n",
      "False\n",
      "False\n",
      "True\n"
     ]
    }
   ],
   "source": [
    "# for example\n",
    "print(1==1) # is true data type as this will be comprehended by pyhton as a correct statement.\n",
    "print(1!=1) # as 1 is equal to 1 so declaring it not equal to 1 will be an incorrect statement\n",
    "print(2==1) # but 2 is not equal to 1 so false will be shown\n",
    "print(2!=1) # as 2 is not equal to 1 so writing it inside and giving the command that 2 is not equal to 1 will be correct\n",
    "            # statement for python "
   ]
  },
  {
   "cell_type": "code",
   "execution_count": 41,
   "id": "a730b93a",
   "metadata": {},
   "outputs": [
    {
     "name": "stdout",
     "output_type": "stream",
     "text": [
      "True\n",
      "True False False True\n",
      "True\n",
      "False\n"
     ]
    }
   ],
   "source": [
    "a=1\n",
    "b=2\n",
    "c = 1==1\n",
    "d = 1!=1\n",
    "e = 2==1\n",
    "f = 2!=1\n",
    "print(c and d and e or f)\n",
    "      # c and d and e or f\n",
    "      # false and e or f\n",
    "      # false and false or f\n",
    "      # false or true\n",
    "      # true\n",
    "print(False and False or False)\n",
    "print(c,d,e,f)\n",
    "print(c or d or e or f)\n",
    "print(d or e)"
   ]
  },
  {
   "cell_type": "code",
   "execution_count": 42,
   "id": "8d4db4b0",
   "metadata": {},
   "outputs": [
    {
     "name": "stdout",
     "output_type": "stream",
     "text": [
      "3\n",
      "[1, 2, 3, 4, 6, 1, 3, 4, 1, 1, 1, 6, 6, 3]\n",
      "6\n",
      "[1, 2, 3, 4, 6, 1, 3, 4, 1, 1, 1, 6, 6, 3]\n"
     ]
    }
   ],
   "source": [
    "list_1=[1,2,3,4,6,1,3,4,1,1,1,6,6,3]\n",
    "for i in set(list_1):\n",
    "    if i%3==0:\n",
    "        print(i)\n",
    "        print(list_1)"
   ]
  },
  {
   "cell_type": "code",
   "execution_count": 43,
   "id": "ea9c8518",
   "metadata": {},
   "outputs": [
    {
     "name": "stdout",
     "output_type": "stream",
     "text": [
      "3\n",
      "[1, 2, 3, 4, 6, 1, 3, 4, 1, 1, 1, 6, 6, 3]\n",
      "6\n",
      "[1, 2, 3, 4, 6, 1, 3, 4, 1, 1, 1, 6, 6, 3]\n"
     ]
    }
   ],
   "source": [
    "list_1=[1,2,3,4,6,1,3,4,1,1,1,6,6,3]\n",
    "for i in set(list_1):\n",
    "    a=i%3==0\n",
    "    if a:\n",
    "        print(i)\n",
    "        print(list_1)"
   ]
  },
  {
   "cell_type": "code",
   "execution_count": 25,
   "id": "e917cf71",
   "metadata": {},
   "outputs": [
    {
     "name": "stdout",
     "output_type": "stream",
     "text": [
      "2659992597568\n",
      "2659992597568\n",
      "['suryansh']\n",
      "2659992054256\n",
      "suryansh\n",
      "['suryansh']\n",
      "2659992597568\n"
     ]
    }
   ],
   "source": [
    "x=['suryansh']\n",
    "y=x\n",
    "print(id(x))\n",
    "print(id(y))\n",
    "print(x)\n",
    "x=y[0]\n",
    "print(id(x))\n",
    "print(x)\n",
    "print(y)\n",
    "print(id(y))"
   ]
  },
  {
   "cell_type": "code",
   "execution_count": 47,
   "id": "578051d9",
   "metadata": {},
   "outputs": [
    {
     "data": {
      "text/plain": [
       "True"
      ]
     },
     "execution_count": 47,
     "metadata": {},
     "output_type": "execute_result"
    }
   ],
   "source": [
    "list1=[1,2,3]\n",
    "a=list1\n",
    "a is list1"
   ]
  },
  {
   "cell_type": "code",
   "execution_count": 10,
   "id": "d391710f",
   "metadata": {},
   "outputs": [
    {
     "name": "stdout",
     "output_type": "stream",
     "text": [
      "4\n"
     ]
    }
   ],
   "source": [
    "a=(1,2,3,4)\n",
    "b=max(a)\n",
    "print(b)"
   ]
  },
  {
   "cell_type": "code",
   "execution_count": 62,
   "id": "38864daf",
   "metadata": {},
   "outputs": [
    {
     "name": "stdout",
     "output_type": "stream",
     "text": [
      "[1, 23, 1, 1]\n",
      "None\n",
      "140711113550576\n"
     ]
    }
   ],
   "source": [
    "list==list\n",
    "a=[1,23]\n",
    "c=(a.append(1))\n",
    "d=id(a.append(1))\n",
    "print(a)\n",
    "print(c)\n",
    "print(d)"
   ]
  },
  {
   "cell_type": "code",
   "execution_count": 3,
   "id": "88638417",
   "metadata": {},
   "outputs": [
    {
     "name": "stdout",
     "output_type": "stream",
     "text": [
      "True\n",
      "True\n"
     ]
    },
    {
     "data": {
      "text/plain": [
       "140711113468448"
      ]
     },
     "execution_count": 3,
     "metadata": {},
     "output_type": "execute_result"
    }
   ],
   "source": [
    "a=[1,2]  \n",
    "print(type(a)==list)\n",
    "c=type(a)==list\n",
    "print(c)\n",
    "id(c)"
   ]
  },
  {
   "cell_type": "code",
   "execution_count": 15,
   "id": "cab2acba",
   "metadata": {
    "scrolled": true
   },
   "outputs": [
    {
     "data": {
      "text/plain": [
       "True"
      ]
     },
     "execution_count": 15,
     "metadata": {},
     "output_type": "execute_result"
    }
   ],
   "source": [
    "a=[1]\n",
    "b=['a',2]\n",
    "type(a)==type(b)"
   ]
  },
  {
   "cell_type": "code",
   "execution_count": 45,
   "id": "e0dafe00",
   "metadata": {},
   "outputs": [
    {
     "data": {
      "text/plain": [
       "True"
      ]
     },
     "execution_count": 45,
     "metadata": {},
     "output_type": "execute_result"
    }
   ],
   "source": [
    "a=(1,)           # answer the question\n",
    "b=('a',2)\n",
    "type(a)==type(b)"
   ]
  },
  {
   "cell_type": "code",
   "execution_count": 20,
   "id": "b356cb10",
   "metadata": {},
   "outputs": [
    {
     "data": {
      "text/plain": [
       "True"
      ]
     },
     "execution_count": 20,
     "metadata": {},
     "output_type": "execute_result"
    }
   ],
   "source": [
    "24-13==9+2"
   ]
  },
  {
   "cell_type": "code",
   "execution_count": 6,
   "id": "212246ce",
   "metadata": {},
   "outputs": [
    {
     "name": "stdout",
     "output_type": "stream",
     "text": [
      "True\n"
     ]
    }
   ],
   "source": [
    "#### to understand the concept of bool let us look at the exmaple\n",
    "\n",
    "a=['a','b','c'] # the given list has 3 elements\n",
    "\n",
    "# subtracting the length of a with 1 will reuslt in making the value less by 1 . now as the indexing starts from 0 so \n",
    "\n",
    "# so the index of 3rd will be 0 , 1 , 2\n",
    "\n",
    "# now as the length was 3 , 3-1 becomes 2 and as the index of last element and length of list are basically just integers \n",
    "\n",
    "# therefore both of them can be compared.\n",
    "\n",
    "print(len(a)-1 == a.index('c'))\n",
    "\n",
    "# therefore this will be True\n",
    "\n",
    "#### now try to guess the answer of the following code below without running the cell.\n",
    "\n",
    "\n",
    "print(len(a)-1==a.index(a[-1]))"
   ]
  },
  {
   "cell_type": "code",
   "execution_count": null,
   "id": "888ac36d",
   "metadata": {},
   "outputs": [],
   "source": [
    "# answer the given question\n",
    "\n",
    "a=['a','b','c']\n",
    "a.index('c')+1 == len(a)\n",
    "a.index(a[-1])+1 != len(a)"
   ]
  },
  {
   "cell_type": "code",
   "execution_count": null,
   "id": "b328e6eb",
   "metadata": {},
   "outputs": [],
   "source": [
    "if True:\n",
    "    print('True bool is accepted')\n",
    "else:\n",
    "    print('True bool is not accepted in IF')"
   ]
  },
  {
   "cell_type": "code",
   "execution_count": null,
   "id": "e5e0d343",
   "metadata": {},
   "outputs": [],
   "source": [
    "if False:\n",
    "    print('False bool is accepted')\n",
    "else:\n",
    "    print('False bool is not accepted in if')"
   ]
  },
  {
   "cell_type": "code",
   "execution_count": 64,
   "id": "6b52d6b2",
   "metadata": {},
   "outputs": [
    {
     "name": "stdout",
     "output_type": "stream",
     "text": [
      "ARJUN eligible for having license\n"
     ]
    }
   ],
   "source": [
    "# now with the understanding of the use of BOOL with if else statements make a program to check the eligibility of a person \n",
    "# to check whethter he / she is older than or equal to 18 he she is eligible for  driving scooty.\n",
    "\n",
    "# make programs with the given person.\n",
    "# first attempt to solve the question taking each value 1 by 1.\n",
    "\n",
    "person1=('arjun',19)\n",
    "person2=('udit',22)\n",
    "person3=('hardik',14)\n",
    "if person1[1]>=18:\n",
    "    print(person1[0].upper(),'is eligible for having a license')\n",
    "else:\n",
    "    print()\n",
    "\n",
    "## after doing it 1 by 1 try to solve it with help of for loops and the data that will be accessed is given below\n",
    "\n",
    "a=['arjun','hardik','udit']\n",
    "b=[19,14,22]\n",
    "for i in a:\n",
    "    if b[0]>18:\n",
    "        print(i.upper()\n",
    "# the names and ages are given in the lists in respective indexes\n",
    "\n",
    "# or use\n",
    "\n",
    "a=[('arjun',19),('hardik',22),('udit',14)]"
   ]
  },
  {
   "cell_type": "code",
   "execution_count": null,
   "id": "433016ed",
   "metadata": {},
   "outputs": [],
   "source": [
    "##### more questions\n",
    "a=['suryansh','arjun','udit','gautam','ayush','raj','sandeep','shreya','pratiksha']\n",
    "#### get the naeme which are of equal to or less than 5 letters \n",
    "#### and get the names which have more than 5 letters."
   ]
  },
  {
   "cell_type": "code",
   "execution_count": null,
   "id": "44a81ebd",
   "metadata": {},
   "outputs": [],
   "source": [
    "a=[2,3,4,8,80,20,55,21,55,44,12,34,54,64]\n",
    "#### get those elements of the list that are divisible by 4.\n",
    "\n",
    "#### hint-- use the same methods that we used while seperating even and odd numbers"
   ]
  },
  {
   "cell_type": "markdown",
   "id": "42ad5164",
   "metadata": {},
   "source": [
    "### new topic-----> ( range )"
   ]
  },
  {
   "cell_type": "code",
   "execution_count": 21,
   "id": "61d81c29",
   "metadata": {},
   "outputs": [
    {
     "name": "stdout",
     "output_type": "stream",
     "text": [
      "\n",
      "*\n",
      "**\n",
      "***\n",
      "****\n",
      "*****\n",
      "******\n",
      "*******\n",
      "********\n",
      "*********\n",
      "**********\n",
      "*********\n",
      "********\n",
      "*******\n",
      "******\n",
      "*****\n",
      "****\n",
      "***\n",
      "**\n",
      "*\n",
      "\n"
     ]
    }
   ],
   "source": [
    "a=[0,1,2,3,4,5,6,7,8,9,10,9,8,7,6,5,4,3,2,1,0]\n",
    "for i in a :\n",
    "    print(i*'*')"
   ]
  },
  {
   "cell_type": "code",
   "execution_count": 16,
   "id": "10a98c92",
   "metadata": {},
   "outputs": [
    {
     "name": "stdout",
     "output_type": "stream",
     "text": [
      "0\n",
      "1\n",
      "2\n",
      "3\n",
      "4\n",
      "5\n",
      "6\n",
      "7\n",
      "8\n",
      "9\n"
     ]
    }
   ],
   "source": [
    "for i in range(10): # when we write only the integer inside the parenthesis it automatically becomes the upper limit or the \n",
    "    # ending element of the range.\n",
    "    print(i)"
   ]
  },
  {
   "cell_type": "code",
   "execution_count": 20,
   "id": "5a775d59",
   "metadata": {},
   "outputs": [
    {
     "name": "stdout",
     "output_type": "stream",
     "text": [
      "2\n",
      "0\n",
      "-2\n",
      "-4\n",
      "-6\n",
      "-8\n"
     ]
    }
   ],
   "source": [
    "for i in range(2,-10,-2): # if we want to start the range from 0 then we can write the range without specifying the starting\n",
    "    # element as 0 .\n",
    "    print(i)"
   ]
  },
  {
   "cell_type": "code",
   "execution_count": 16,
   "id": "8949ffab",
   "metadata": {},
   "outputs": [
    {
     "name": "stdout",
     "output_type": "stream",
     "text": [
      "22\n",
      "20\n",
      "18\n",
      "16\n",
      "14\n",
      "12\n",
      "10\n",
      "8\n",
      "6\n",
      "4\n"
     ]
    }
   ],
   "source": [
    "for i in range(22,2,-2):\n",
    "    print(i)"
   ]
  },
  {
   "cell_type": "code",
   "execution_count": 36,
   "id": "f5442d79",
   "metadata": {},
   "outputs": [
    {
     "name": "stdout",
     "output_type": "stream",
     "text": [
      "10  a  l 11  a  l 12  a  l 13  a  l 14  a  l 15  a  l 16  a  l 17  a  l 18  a  l 19  a  l 20  a  l "
     ]
    }
   ],
   "source": [
    "for i in range(10,21): # use of 'end = ' in print inside the forloop .\n",
    "    print(i,' a ',end=' l ')"
   ]
  },
  {
   "cell_type": "code",
   "execution_count": 20,
   "id": "2e482a75",
   "metadata": {},
   "outputs": [
    {
     "name": "stdout",
     "output_type": "stream",
     "text": [
      "10\n",
      "11\n",
      "12\n",
      "13\n",
      "14\n",
      "15\n",
      "16\n",
      "17\n",
      "18\n",
      "19\n",
      "20\n"
     ]
    }
   ],
   "source": [
    "for i in range(10,21): # as the starting element or item is 10 so range will start from 10 and as the upper limit is 21\n",
    "    # therfore the last element will be 20.\n",
    "    print(i)"
   ]
  },
  {
   "cell_type": "code",
   "execution_count": 39,
   "id": "8a5d459f",
   "metadata": {},
   "outputs": [
    {
     "name": "stdout",
     "output_type": "stream",
     "text": [
      "21 a 20 a 19 a 18 a 17 a 16 a 15 a 14 a 13 a 12 a 11 a "
     ]
    }
   ],
   "source": [
    "for i in range(21,10,-1): # use of 'end = ' in print inside the forloop .\n",
    "    print(i , end = ' a ')"
   ]
  },
  {
   "cell_type": "code",
   "execution_count": 25,
   "id": "7f6d7790",
   "metadata": {},
   "outputs": [
    {
     "name": "stdout",
     "output_type": "stream",
     "text": [
      "10 hi 11 hi 12 hi 13 hi 14 hi 15 hi 16 hi 17 hi 18 hi 19 hi 20 hi "
     ]
    }
   ],
   "source": [
    "for i in range(10,21): # use of 'end = ' in print inside the forloop .\n",
    "    print(i , end = ' hi ')"
   ]
  },
  {
   "cell_type": "code",
   "execution_count": 37,
   "id": "cc308fb9",
   "metadata": {},
   "outputs": [
    {
     "name": "stdout",
     "output_type": "stream",
     "text": [
      "\n",
      "*\n",
      "**\n",
      "***\n",
      "****\n",
      "*****\n",
      "******\n",
      "*******\n",
      "********\n",
      "*********\n"
     ]
    }
   ],
   "source": [
    "for i in range(10): \n",
    "    print(i*'*')"
   ]
  },
  {
   "cell_type": "code",
   "execution_count": 48,
   "id": "fe6c5f41",
   "metadata": {},
   "outputs": [
    {
     "name": "stdout",
     "output_type": "stream",
     "text": [
      "\n",
      "*\n",
      "**\n",
      "***\n",
      "****\n",
      "*****\n",
      "******\n",
      "*******\n",
      "********\n",
      "*********\n",
      "*********\n",
      "********\n",
      "*******\n",
      "******\n",
      "*****\n",
      "****\n",
      "***\n",
      "**\n",
      "*\n"
     ]
    }
   ],
   "source": [
    "for i in range(10): \n",
    "    print(i*'*');\n",
    "for i in range(9,0,-1):\n",
    "    print(i*'*')"
   ]
  },
  {
   "cell_type": "code",
   "execution_count": 49,
   "id": "9730623d",
   "metadata": {},
   "outputs": [
    {
     "name": "stdout",
     "output_type": "stream",
     "text": [
      "\n",
      "*\n",
      "**\n",
      "***\n",
      "****\n",
      "*****\n",
      "******\n",
      "*******\n",
      "********\n",
      "*********\n",
      "*********\n",
      "********\n",
      "*******\n",
      "******\n",
      "*****\n",
      "****\n",
      "***\n",
      "**\n",
      "*\n"
     ]
    }
   ],
   "source": [
    "for i in range(10): \n",
    "    print(i*'*');\n",
    "for i in range(9,0,-1):\n",
    "    print(i*'*')"
   ]
  },
  {
   "cell_type": "code",
   "execution_count": 52,
   "id": "3a77d04a",
   "metadata": {},
   "outputs": [
    {
     "name": "stdout",
     "output_type": "stream",
     "text": [
      "*\n",
      "**\n",
      "***\n",
      "****\n",
      "*****\n",
      "******\n",
      "*******\n",
      "********\n",
      "*********\n",
      "*********\n",
      "********\n",
      "*******\n",
      "******\n",
      "*****\n",
      "****\n",
      "***\n",
      "**\n",
      "*\n"
     ]
    }
   ],
   "source": [
    "for i in range(1,10): \n",
    "    print(i*'*');\n",
    "for i in range(9,0,-1):\n",
    "    print(i*'*')"
   ]
  },
  {
   "cell_type": "code",
   "execution_count": 55,
   "id": "e23b0d95",
   "metadata": {},
   "outputs": [
    {
     "name": "stdout",
     "output_type": "stream",
     "text": [
      "*********\n",
      "********\n",
      "*******\n",
      "******\n",
      "*****\n",
      "****\n",
      "***\n",
      "**\n",
      "*\n",
      "*\n",
      "**\n",
      "***\n",
      "****\n",
      "*****\n",
      "******\n",
      "*******\n",
      "********\n",
      "*********\n"
     ]
    }
   ],
   "source": [
    "for i in range(9,0,-1): \n",
    "    print(i*'*');\n",
    "for i in range(1,10):\n",
    "    print(i*'*')"
   ]
  },
  {
   "cell_type": "code",
   "execution_count": 60,
   "id": "e2a248fc",
   "metadata": {},
   "outputs": [
    {
     "name": "stdout",
     "output_type": "stream",
     "text": [
      "0\n",
      "2\n",
      "4\n",
      "6\n",
      "8\n",
      "10\n"
     ]
    }
   ],
   "source": [
    "for i in range(0,11):\n",
    "    print(i)"
   ]
  },
  {
   "cell_type": "markdown",
   "id": "387e817e",
   "metadata": {},
   "source": [
    "#### NESTED FOR LOOPS."
   ]
  },
  {
   "cell_type": "code",
   "execution_count": 7,
   "id": "049c1deb",
   "metadata": {},
   "outputs": [
    {
     "name": "stdout",
     "output_type": "stream",
     "text": [
      "suryansh  : this is  0  element of list ['suryansh', 'sandeep', 'shreya']\n",
      "s  : this is  0  string of element suryansh\n",
      "u  : this is  1  string of element suryansh\n",
      "r  : this is  2  string of element suryansh\n",
      "y  : this is  3  string of element suryansh\n",
      "a  : this is  4  string of element suryansh\n",
      "n  : this is  5  string of element suryansh\n",
      "s  : this is  0  string of element suryansh\n",
      "h  : this is  7  string of element suryansh\n",
      "sandeep  : this is  1  element of list ['suryansh', 'sandeep', 'shreya']\n",
      "s  : this is  0  string of element sandeep\n",
      "a  : this is  1  string of element sandeep\n",
      "n  : this is  2  string of element sandeep\n",
      "d  : this is  3  string of element sandeep\n",
      "e  : this is  4  string of element sandeep\n",
      "e  : this is  4  string of element sandeep\n",
      "p  : this is  6  string of element sandeep\n",
      "shreya  : this is  2  element of list ['suryansh', 'sandeep', 'shreya']\n",
      "s  : this is  0  string of element shreya\n",
      "h  : this is  1  string of element shreya\n",
      "r  : this is  2  string of element shreya\n",
      "e  : this is  3  string of element shreya\n",
      "y  : this is  4  string of element shreya\n",
      "a  : this is  5  string of element shreya\n"
     ]
    }
   ],
   "source": [
    "list_1=['suryansh','sandeep','shreya']\n",
    "for element in list_1:\n",
    "    print(element,' : this is ', list_1.index(element) ,' element of list',list_1)\n",
    "    for string in element:\n",
    "        print(string,' : this is ',element.index(string),' string','of element',element)"
   ]
  },
  {
   "cell_type": "code",
   "execution_count": 19,
   "id": "a434aa21",
   "metadata": {},
   "outputs": [
    {
     "name": "stdout",
     "output_type": "stream",
     "text": [
      "suryansh 0  element of outer loop\n",
      "  \n",
      "suryansh 0  element of inner loop\n",
      "sandeep 1  element of inner loop\n",
      "shreya 2  element of inner loop\n",
      "  \n",
      "sandeep 1  element of outer loop\n",
      "  \n",
      "suryansh 0  element of inner loop\n",
      "sandeep 1  element of inner loop\n",
      "shreya 2  element of inner loop\n",
      "  \n",
      "shreya 2  element of outer loop\n",
      "  \n",
      "suryansh 0  element of inner loop\n",
      "sandeep 1  element of inner loop\n",
      "shreya 2  element of inner loop\n",
      "  \n"
     ]
    }
   ],
   "source": [
    "list1=['suryansh','sandeep','shreya']\n",
    "for i in list_1:\n",
    "    print(i,list1.index(i),' element of outer loop')\n",
    "    print('  ')\n",
    "    for v in list_1:\n",
    "        print(v,list1.index(v),' element of inner loop')\n",
    "    print('  ')"
   ]
  },
  {
   "cell_type": "code",
   "execution_count": null,
   "id": "4751a79f",
   "metadata": {},
   "outputs": [],
   "source": [
    "b = ['mango','apple','banana','papaya']\n",
    "# print the list b , whenever you find 'a' string in any element of list."
   ]
  },
  {
   "cell_type": "code",
   "execution_count": null,
   "id": "a69518af",
   "metadata": {},
   "outputs": [],
   "source": [
    "b = [('suryansh',14),('sandeep',21),('shreya',23)]\n",
    "# print the list b whenever the integer of tuple is greater than 20. "
   ]
  },
  {
   "cell_type": "code",
   "execution_count": null,
   "id": "97c692ab",
   "metadata": {},
   "outputs": [],
   "source": []
  },
  {
   "cell_type": "code",
   "execution_count": 13,
   "id": "9a9e839c",
   "metadata": {},
   "outputs": [
    {
     "name": "stdout",
     "output_type": "stream",
     "text": [
      "a  of  mango\n",
      "a  of  apple\n",
      "a  of  banana\n",
      "a  of  banana\n",
      "a  of  banana\n",
      "done for current fruit  banana\n",
      "a  of  papaya\n",
      "a  of  papaya\n",
      "a  of  papaya\n",
      "done for current fruit  papaya\n"
     ]
    }
   ],
   "source": [
    "fruit_list = ['mango','apple','banana','papaya']\n",
    "# print the list b , whenever you find 'a' string in any element of list.\n",
    "for fruit in fruit_list:\n",
    "    for string in fruit:\n",
    "        if string=='a':\n",
    "            print(string,' of ',fruit)\n",
    "    if fruit.count('a')>1:\n",
    "        print('done for current fruit ',fruit)"
   ]
  },
  {
   "cell_type": "code",
   "execution_count": 22,
   "id": "2576743c",
   "metadata": {},
   "outputs": [
    {
     "name": "stdout",
     "output_type": "stream",
     "text": [
      "['mango', 'apple', 'banana', 'papaya']\n",
      "['mango', 'apple', 'banana', 'papaya']\n",
      "['mango', 'apple', 'banana', 'papaya']\n",
      "['mango', 'apple', 'banana', 'papaya']\n",
      "['mango', 'apple', 'banana', 'papaya']\n",
      "['mango', 'apple', 'banana', 'papaya']\n",
      "['mango', 'apple', 'banana', 'papaya']\n",
      "['mango', 'apple', 'banana', 'papaya']\n"
     ]
    }
   ],
   "source": [
    "fruit_list = ['mango','apple','banana','papaya']\n",
    "# print the list b , whenever you find 'a' string in any element of list.\n",
    "for fruit in fruit_list:\n",
    "    for string in fruit:\n",
    "        if string=='a':\n",
    "            print(string,' of ',fruit)\n",
    "            print('done for current fruit ',fruit)"
   ]
  },
  {
   "cell_type": "code",
   "execution_count": 18,
   "id": "f3757349",
   "metadata": {},
   "outputs": [
    {
     "name": "stdout",
     "output_type": "stream",
     "text": [
      "['mango', 'apple', 'banana', 'papaya']\n",
      "['mango', 'apple', 'banana', 'papaya']\n",
      "['mango', 'apple', 'banana', 'papaya']\n",
      "['mango', 'apple', 'banana', 'papaya']\n",
      "['mango', 'apple', 'banana', 'papaya']\n",
      "['mango', 'apple', 'banana', 'papaya']\n",
      "['mango', 'apple', 'banana', 'papaya']\n",
      "['mango', 'apple', 'banana', 'papaya']\n"
     ]
    }
   ],
   "source": [
    "fruit_list = ['mango','apple','banana','papaya']\n",
    "# print the list b , whenever you find 'a' string in any element of list.\n",
    "for fruit in fruit_list:\n",
    "    for string in fruit:\n",
    "        if string=='a':\n",
    "            print(fruit_list)"
   ]
  },
  {
   "cell_type": "code",
   "execution_count": 20,
   "id": "4055b9ea",
   "metadata": {},
   "outputs": [
    {
     "name": "stdout",
     "output_type": "stream",
     "text": [
      "['mango', 'apple', 'banana', 'papaya'] mango\n",
      "['mango', 'apple', 'banana', 'papaya'] apple\n",
      "['mango', 'apple', 'banana', 'papaya'] banana\n",
      "['mango', 'apple', 'banana', 'papaya'] banana\n",
      "['mango', 'apple', 'banana', 'papaya'] banana\n",
      "['mango', 'apple', 'banana', 'papaya'] papaya\n",
      "['mango', 'apple', 'banana', 'papaya'] papaya\n",
      "['mango', 'apple', 'banana', 'papaya'] papaya\n"
     ]
    }
   ],
   "source": [
    "a = ['mango','apple','banana','papaya']\n",
    "for i in a:\n",
    "    for x in range(i.count('a')):\n",
    "        print(a,i)"
   ]
  },
  {
   "cell_type": "code",
   "execution_count": 27,
   "id": "91fd4646",
   "metadata": {},
   "outputs": [
    {
     "name": "stdout",
     "output_type": "stream",
     "text": [
      "6 total number of False\n"
     ]
    }
   ],
   "source": [
    "a = [True,False,False,True,False,False,True,True,False,False]\n",
    "# hint - use add and assign.\n",
    "print(a.count(False),'total number of False')"
   ]
  },
  {
   "cell_type": "code",
   "execution_count": null,
   "id": "44f146e7",
   "metadata": {},
   "outputs": [],
   "source": [
    "for i in range(3):\n",
    "    print('*',end='')\n",
    "    for i in range(2):\n",
    "        print('z',end=' ')"
   ]
  },
  {
   "cell_type": "code",
   "execution_count": 26,
   "id": "ef21883b",
   "metadata": {},
   "outputs": [
    {
     "name": "stdout",
     "output_type": "stream",
     "text": [
      "6 total number of False\n"
     ]
    }
   ],
   "source": [
    "a = [[True,False,False,True],[False,False,True],[True,False,False]]\n",
    "# find the total number of True , and False in the list using for loop\n",
    "# hint - use add and assign.\n",
    "b = 0\n",
    "b += a[0].count(False)\n",
    "b += a[1].count(False)\n",
    "b += a[2].count(False)\n",
    "print(b,'total number of False')\n"
   ]
  },
  {
   "cell_type": "code",
   "execution_count": 1,
   "id": "4d3d5409",
   "metadata": {},
   "outputs": [
    {
     "name": "stdout",
     "output_type": "stream",
     "text": [
      "6 total number of False\n"
     ]
    }
   ],
   "source": [
    "a = [[True,False,False,True],[False,False,True],[True,False,False]]\n",
    "# find the total number of True , and False in the list using for loop\n",
    "# hint - use add and assign.\n",
    "# find the total number of True , and False in the list using for loop\n",
    "# hint - use add and assign.\n",
    "b = 0\n",
    "b += a[0].count(False)\n",
    "b += a[1].count(False)\n",
    "b += a[2].count(False)\n",
    "print(b,'total number of False')"
   ]
  },
  {
   "cell_type": "code",
   "execution_count": 18,
   "id": "3c6c3d8b",
   "metadata": {},
   "outputs": [
    {
     "name": "stdout",
     "output_type": "stream",
     "text": [
      "22\n"
     ]
    }
   ],
   "source": [
    "list_1 = [[True,True,False],[False,False,True],[True,False],[True,False,False,True],[True,False,False,True],[True,False,False,True],[True,False,False,True],[True,False,False,True],[True,False,False,True],[True,False,False,True],[True,False,False,True],[True,False,False,True]]\n",
    "false_count = 0\n",
    "true_count  = 0\n",
    "for i in list_1:\n",
    "    false_count+=i.count(False)"
   ]
  },
  {
   "cell_type": "code",
   "execution_count": null,
   "id": "696efee5",
   "metadata": {},
   "outputs": [],
   "source": [
    "# end the loop if you find an even number , print found an even number , breaking the loop , else print the numbers.\n",
    "a = [1,3,5,7,8,9,11,12,13,15]"
   ]
  },
  {
   "cell_type": "code",
   "execution_count": null,
   "id": "040b3533",
   "metadata": {},
   "outputs": [],
   "source": [
    "# print the odd numbers and break the loop when you find an even number."
   ]
  },
  {
   "cell_type": "code",
   "execution_count": 8,
   "id": "44da3bbc",
   "metadata": {},
   "outputs": [
    {
     "name": "stdout",
     "output_type": "stream",
     "text": [
      "1\n",
      "3\n",
      "5\n",
      "7\n",
      "found an even number  8  breaking the loop.\n",
      "9\n",
      "11\n",
      "found an even number  12  breaking the loop.\n",
      "13\n",
      "15\n"
     ]
    }
   ],
   "source": [
    "a = [1,3,5,7,8,9,11,12,13,15]\n",
    "for i in a:\n",
    "    if i%2==1:\n",
    "        print(i)\n",
    "    else:\n",
    "        print('found an even number ',i,' breaking the loop.')"
   ]
  },
  {
   "cell_type": "code",
   "execution_count": 2,
   "id": "4419aa5c",
   "metadata": {},
   "outputs": [
    {
     "name": "stdout",
     "output_type": "stream",
     "text": [
      "1\n",
      "3\n",
      "5\n",
      "7\n",
      "found an even number  8  breaking the loop.\n"
     ]
    }
   ],
   "source": [
    "a = [1,3,5,7,8,9,11,12,13,15] \n",
    "for i in a:\n",
    "    if i%2==1:\n",
    "        print(i)\n",
    "    else:\n",
    "        print('found an even number ',i,' breaking the loop.')\n",
    "        break"
   ]
  },
  {
   "cell_type": "code",
   "execution_count": 11,
   "id": "4a52caae",
   "metadata": {},
   "outputs": [
    {
     "name": "stdout",
     "output_type": "stream",
     "text": [
      "1\n",
      "3\n",
      "5\n",
      "7\n",
      "found an even number  8  breaking the loop.\n"
     ]
    }
   ],
   "source": [
    "a = [1,3,5,7,8,9,11,12,13,15] \n",
    "for i in a:\n",
    "    if i%2==1:\n",
    "        print(i)\n",
    "    else:\n",
    "        print('found an even number ',i,' breaking the loop.')\n",
    "        break"
   ]
  },
  {
   "cell_type": "code",
   "execution_count": null,
   "id": "c3f6fb4a",
   "metadata": {},
   "outputs": [],
   "source": [
    "a = [1,2,4,5,7,8,9,0,1,3,4,5,6,7,4,5,5,6,6,7,8,8,4,4,'sandeep',1,2,4,5,7,8,9,4,3,2,3,6]"
   ]
  },
  {
   "cell_type": "code",
   "execution_count": 19,
   "id": "ee2d20bc",
   "metadata": {},
   "outputs": [
    {
     "name": "stdout",
     "output_type": "stream",
     "text": [
      "<class 'str'>\n"
     ]
    }
   ],
   "source": [
    "a = [1,2,4,5,7,8,9,0,1,3,4,5,6,7,4,5,5,6,6,7,8,8,4,4,'sandeep',1,2,4,5,7,8,9,4,3,2,3,6]\n",
    "for i in a:\n",
    "    if i==str:\n",
    "        print(i)"
   ]
  },
  {
   "cell_type": "code",
   "execution_count": 16,
   "id": "a29a8ee5",
   "metadata": {},
   "outputs": [
    {
     "name": "stdout",
     "output_type": "stream",
     "text": [
      "sandeep\n"
     ]
    }
   ],
   "source": [
    "a = [1,2,4,5,7,8,9,0,1,3,4,5,6,7,4,5,5,6,6,7,8,8,4,4,'sandeep',1,2,4,5,7,8,9,4,3,2,3,6]\n",
    "for i in a:\n",
    "    if type(i)==str:\n",
    "        print(i)"
   ]
  },
  {
   "cell_type": "code",
   "execution_count": 20,
   "id": "1666ff25",
   "metadata": {},
   "outputs": [
    {
     "name": "stdout",
     "output_type": "stream",
     "text": [
      "sandeep\n",
      "suryansh\n",
      "shreya\n"
     ]
    }
   ],
   "source": [
    "a = [1,2,4,5,7,8,9,0,1,3,4,5,6,7,4,5,5,6,6,7,8,8,4,4,'sandeep',1,2,4,5,7,8,9,4,3,2,3,6,'suryansh','shreya']\n",
    "for i in a:\n",
    "    if type(i)==str:\n",
    "        print(i)"
   ]
  },
  {
   "cell_type": "code",
   "execution_count": 22,
   "id": "e4b4f1a9",
   "metadata": {},
   "outputs": [
    {
     "name": "stdout",
     "output_type": "stream",
     "text": [
      "found a string sandeep now breaking the loop.\n"
     ]
    }
   ],
   "source": [
    "a = [1,2,4,5,7,8,9,0,1,3,4,5,6,7,4,5,5,6,6,7,8,8,4,4,'sandeep',1,2,4,5,7,8,9,4,3,2,3,6,'suryansh','shreya']\n",
    "for i in a:\n",
    "    if type(i)==str:\n",
    "        print('found a string',i,'now breaking the loop.')\n",
    "        break"
   ]
  },
  {
   "cell_type": "code",
   "execution_count": null,
   "id": "0db94e8e",
   "metadata": {},
   "outputs": [],
   "source": [
    "a = [1,2,4,5,7,8,9,0,1,3,4,5,6,7,4,5,5,6,6,7,8,8,4,4,'sandeep',1,2,4,5,7,8,9,4,3,2,3,6,'suryansh','shreya']\n",
    "for i in a:\n",
    "    if type(i)==str:\n",
    "        print('found a string',i,'at index',    ,', now breaking the loop.')\n",
    "        break"
   ]
  },
  {
   "cell_type": "code",
   "execution_count": null,
   "id": "c904b5ec",
   "metadata": {},
   "outputs": [],
   "source": []
  },
  {
   "cell_type": "code",
   "execution_count": null,
   "id": "d940561b",
   "metadata": {},
   "outputs": [],
   "source": []
  },
  {
   "cell_type": "code",
   "execution_count": null,
   "id": "efe87122",
   "metadata": {},
   "outputs": [],
   "source": []
  },
  {
   "cell_type": "code",
   "execution_count": null,
   "id": "6f51c166",
   "metadata": {},
   "outputs": [],
   "source": []
  },
  {
   "cell_type": "code",
   "execution_count": 25,
   "id": "47e18301",
   "metadata": {},
   "outputs": [
    {
     "name": "stdout",
     "output_type": "stream",
     "text": [
      "12 X 1 = 12\n",
      "12 X 2 = 24\n",
      "12 X 3 = 36\n",
      "12 X 4 = 48\n",
      "12 X 5 = 60\n",
      "12 X 6 = 72\n",
      "12 X 7 = 84\n",
      "12 X 8 = 96\n",
      "12 X 9 = 108\n",
      "12 X 10 = 120\n",
      "\n",
      "\n",
      "\n",
      "13 X 1 = 13\n",
      "13 X 2 = 26\n",
      "13 X 3 = 39\n",
      "13 X 4 = 52\n",
      "13 X 5 = 65\n",
      "13 X 6 = 78\n",
      "13 X 7 = 91\n",
      "13 X 8 = 104\n",
      "13 X 9 = 117\n",
      "13 X 10 = 130\n",
      "\n",
      "\n",
      "\n",
      "14 X 1 = 14\n",
      "14 X 2 = 28\n",
      "14 X 3 = 42\n",
      "14 X 4 = 56\n",
      "14 X 5 = 70\n",
      "14 X 6 = 84\n",
      "14 X 7 = 98\n",
      "14 X 8 = 112\n",
      "14 X 9 = 126\n",
      "14 X 10 = 140\n",
      "\n",
      "\n",
      "\n"
     ]
    }
   ],
   "source": [
    "for i in range(12,15):\n",
    "    for b in range(1,11):\n",
    "        print(i,'X',b,'=',i*b)\n",
    "    print('\\n\\n')"
   ]
  },
  {
   "cell_type": "code",
   "execution_count": 24,
   "id": "c11bec8d",
   "metadata": {
    "scrolled": true
   },
   "outputs": [
    {
     "name": "stdout",
     "output_type": "stream",
     "text": [
      "ok  a\n",
      "hi  0\n",
      "hi  1\n",
      "\n",
      "ok  b\n",
      "hi  0\n",
      "hi  1\n",
      "\n",
      "ok  c\n",
      "hi  0\n",
      "hi  1\n",
      "\n",
      "ok  d\n",
      "hi  0\n",
      "hi  1\n",
      "\n"
     ]
    }
   ],
   "source": [
    "list1=['a','b','c','d']\n",
    "for k in list1:\n",
    "    print('ok ',k)\n",
    "    for i in range(2):\n",
    "        print('hi ',i)\n",
    "    print()"
   ]
  },
  {
   "cell_type": "code",
   "execution_count": null,
   "id": "779338b7",
   "metadata": {},
   "outputs": [],
   "source": [
    "list1=['a','b','c']\n",
    "print(list[0])\n"
   ]
  },
  {
   "cell_type": "code",
   "execution_count": 26,
   "id": "a945199f",
   "metadata": {},
   "outputs": [
    {
     "name": "stdout",
     "output_type": "stream",
     "text": [
      "found a in mango\n",
      "found a in apple\n",
      "found a in papaya\n",
      "found a in papaya\n",
      "found a in papaya\n"
     ]
    }
   ],
   "source": [
    "list1 = ['mango','apple','papaya']\n",
    "\n",
    "print('found a in','mango')\n",
    "print('found a in','apple')\n",
    "print('found a in','papaya')\n",
    "print('found a in','papaya')\n",
    "print('found a in','papaya')"
   ]
  },
  {
   "cell_type": "code",
   "execution_count": 30,
   "id": "258d25da",
   "metadata": {},
   "outputs": [
    {
     "name": "stdout",
     "output_type": "stream",
     "text": [
      "hello\n",
      "yes\n",
      "hello\n",
      "yes\n",
      "hello\n",
      "yes\n"
     ]
    }
   ],
   "source": [
    "for i in range(3):\n",
    "    print('hello')\n",
    "    for i in range(2):\n",
    "        if i == 1:\n",
    "            break\n",
    "        print('yes')"
   ]
  },
  {
   "cell_type": "code",
   "execution_count": null,
   "id": "a10f6856",
   "metadata": {},
   "outputs": [],
   "source": []
  },
  {
   "cell_type": "code",
   "execution_count": null,
   "id": "e32667fe",
   "metadata": {},
   "outputs": [],
   "source": []
  },
  {
   "cell_type": "code",
   "execution_count": null,
   "id": "154453c3",
   "metadata": {},
   "outputs": [],
   "source": []
  },
  {
   "cell_type": "code",
   "execution_count": null,
   "id": "7759cc43",
   "metadata": {},
   "outputs": [],
   "source": []
  },
  {
   "cell_type": "code",
   "execution_count": null,
   "id": "826b68b9",
   "metadata": {},
   "outputs": [],
   "source": []
  },
  {
   "cell_type": "code",
   "execution_count": 17,
   "id": "86c24694",
   "metadata": {},
   "outputs": [
    {
     "name": "stdout",
     "output_type": "stream",
     "text": [
      "                **                                *\n",
      "            ***                        *\n",
      "        ****                *\n",
      "    *****        *\n"
     ]
    }
   ],
   "source": [
    "a='*'\n",
    "b='    '\n",
    "c=' '\n",
    "count1=len(b)\n",
    "count2=1\n",
    "for i in range(len(b)):\n",
    "    "
   ]
  },
  {
   "cell_type": "code",
   "execution_count": null,
   "id": "b9518819",
   "metadata": {},
   "outputs": [],
   "source": [
    "   *\n",
    "  * * \n",
    "*  *  *"
   ]
  },
  {
   "cell_type": "code",
   "execution_count": 25,
   "id": "bd8596fc",
   "metadata": {},
   "outputs": [
    {
     "name": "stdout",
     "output_type": "stream",
     "text": [
      "*           *          \n",
      "**           **          \n",
      "***           ***          \n"
     ]
    }
   ],
   "source": [
    "a='*'\n",
    "d='***'\n",
    "b=' '\n",
    "b='   '\n",
    "c=3\n",
    "count=1\n",
    "for i in range(3):\n",
    "    print(a*count,c*b,a*count,c*b)\n",
    "    count+=1"
   ]
  },
  {
   "cell_type": "code",
   "execution_count": 63,
   "id": "76fded5e",
   "metadata": {},
   "outputs": [
    {
     "name": "stdout",
     "output_type": "stream",
     "text": [
      "               *                              *                              *\n",
      "              ***                            ***                            ***\n",
      "             *****                          *****                          *****\n",
      "            *******                        *******                        *******\n",
      "           *********                      *********                      *********\n",
      "          ***********                    ***********                    ***********\n",
      "         *************                  *************                  *************\n",
      "        ***************                ***************                ***************\n",
      "       *****************              *****************              *****************\n",
      "      *******************            *******************            *******************\n",
      "     *********************          *********************          *********************\n",
      "    ***********************        ***********************        ***********************\n",
      "   *************************      *************************      *************************\n",
      "  ***************************    ***************************    ***************************\n",
      " *****************************  *****************************  *****************************\n",
      " *****************************  *****************************  *****************************\n",
      "  ***************************    ***************************    ***************************\n",
      "   *************************      *************************      *************************\n",
      "    ***********************        ***********************        ***********************\n",
      "     *********************          *********************          *********************\n",
      "      *******************            *******************            *******************\n",
      "       *****************              *****************              *****************\n",
      "        ***************                ***************                ***************\n",
      "         *************                  *************                  *************\n",
      "          ***********                    ***********                    ***********\n",
      "           *********                      *********                      *********\n",
      "            *******                        *******                        *******\n",
      "             *****                          *****                          *****\n",
      "              ***                            ***                            ***\n",
      "               *                              *                              *\n"
     ]
    }
   ],
   "source": [
    "a=' '\n",
    "b='*'\n",
    "c=15\n",
    "d=1\n",
    "count=0\n",
    "while c!=0:\n",
    "    print(a*c+b*(count+d)+a*c+a*c+b*(count+d)+a*c+a*c+b*(count+d))\n",
    "    count+=2\n",
    "    c-=1\n",
    "while c!=15:\n",
    "    print(a*c,b*(count-d),a*c+a*c,b*(count-d),a*c+a*c,b*(count-d))\n",
    "    count-=2\n",
    "    c+=1"
   ]
  },
  {
   "cell_type": "code",
   "execution_count": 5,
   "id": "a25c2802",
   "metadata": {},
   "outputs": [
    {
     "name": "stdout",
     "output_type": "stream",
     "text": [
      "                **                \n",
      "               ****               \n",
      "              ******              \n",
      "             ********             \n",
      "            **********            \n",
      "           ************           \n",
      "          **************          \n",
      "         ****************         \n",
      "        ******************        \n",
      "       ********************       \n",
      "      **********************      \n",
      "     ************************     \n",
      "    **************************    \n",
      "   ****************************   \n",
      "  ******************************  \n"
     ]
    }
   ],
   "source": [
    "a=' '\n",
    "b='*'\n",
    "c=15\n",
    "d=1\n",
    "while c!=0:\n",
    "    print(a*c,(b+'*')*(d),a*c)\n",
    "    c-=1\n",
    "    d+=1"
   ]
  },
  {
   "cell_type": "code",
   "execution_count": 8,
   "id": "58f85729",
   "metadata": {},
   "outputs": [
    {
     "name": "stdout",
     "output_type": "stream",
     "text": [
      "      *             *             *             *             *             *      \n",
      "     ***           ***           ***           ***           ***           ***     \n",
      "    *****         *****         *****         *****         *****         *****    \n",
      "   *******       *******       *******       *******       *******       *******   \n",
      "  *********     *********     *********     *********     *********     *********  \n",
      " *********   *********   *********   *********   *********   *********   ********* \n",
      "  *******     *******     *******     *******     *******     *******     *******  \n",
      "   *****       *****       *****       *****       *****       *****       *****   \n",
      "    ***         ***         ***         ***         ***         ***         ***    \n",
      "     *           *           *           *           *           *           *     \n"
     ]
    }
   ],
   "source": [
    "a=' '\n",
    "b='*'\n",
    "c=5\n",
    "d=1\n",
    "count=0\n",
    "while c!=0:\n",
    "    print(a*c,b*(count+d),a*c,a*c,b*(count+d),a*c,a*c,b*(count+d),a*c,a*c,b*(count+d),a*c,a*c,b*(count+d),a*c,a*c,b*(count+d),a*c)\n",
    "    count+=2\n",
    "    c-=1\n",
    "while c!=5:\n",
    "    print(a*c,b*(count-d),a*c,a*c,b*(count-d),a*c,a*c,b*(count-d),a*c,a*c,b*(count-d),a*c,a*c,b*(count-d),a*c,a*c,b*(count-d),a*c,a*c,b*(count-d),a*c,a*c,b*(count-d),a*c)\n",
    "    count-=2\n",
    "    c+=1"
   ]
  },
  {
   "cell_type": "code",
   "execution_count": 38,
   "id": "41766633",
   "metadata": {},
   "outputs": [
    {
     "ename": "TypeError",
     "evalue": "can't multiply sequence by non-int of type 'float'",
     "output_type": "error",
     "traceback": [
      "\u001b[1;31m---------------------------------------------------------------------------\u001b[0m",
      "\u001b[1;31mTypeError\u001b[0m                                 Traceback (most recent call last)",
      "Cell \u001b[1;32mIn[38], line 6\u001b[0m\n\u001b[0;32m      4\u001b[0m d\u001b[38;5;241m=\u001b[39m\u001b[38;5;241m0.5\u001b[39m\n\u001b[0;32m      5\u001b[0m \u001b[38;5;28;01mwhile\u001b[39;00m d\u001b[38;5;241m!=\u001b[39mc:\n\u001b[1;32m----> 6\u001b[0m     \u001b[38;5;28mprint\u001b[39m(b\u001b[38;5;241m*\u001b[39m(\u001b[38;5;241m2\u001b[39m\u001b[38;5;241m*\u001b[39md))\n\u001b[0;32m      7\u001b[0m     d\u001b[38;5;241m+\u001b[39m\u001b[38;5;241m=\u001b[39m\u001b[38;5;241m1\u001b[39m\n\u001b[0;32m      8\u001b[0m     c\u001b[38;5;241m-\u001b[39m\u001b[38;5;241m=\u001b[39m\u001b[38;5;241m1\u001b[39m\n",
      "\u001b[1;31mTypeError\u001b[0m: can't multiply sequence by non-int of type 'float'"
     ]
    }
   ],
   "source": [
    "a=' '\n",
    "b='*'\n",
    "c=15\n",
    "d=0.5\n",
    "while d!=c:\n",
    "    print(b*(2*d))\n",
    "    d+=1\n",
    "    c-=1"
   ]
  },
  {
   "cell_type": "code",
   "execution_count": 46,
   "id": "b046b000",
   "metadata": {},
   "outputs": [
    {
     "name": "stdout",
     "output_type": "stream",
     "text": [
      "             *             \n",
      "             ***             \n",
      "             *****             \n",
      "             *******             \n",
      "             *********             \n",
      "             ***********             \n",
      "             *************             \n",
      "             ***************             \n",
      "             *****************             \n",
      "             *******************             \n",
      "             *********************             \n",
      "             ***********************             \n"
     ]
    }
   ],
   "source": [
    "a='*'\n",
    "b=' '\n",
    "number=12\n",
    "current=0\n",
    "for i in range(number):\n",
    "    print(b*number,a+a*current,b*number)\n",
    "    current+=2"
   ]
  },
  {
   "cell_type": "code",
   "execution_count": 7,
   "id": "7480afad",
   "metadata": {
    "collapsed": true,
    "jupyter": {
     "outputs_hidden": true
    }
   },
   "outputs": [
    {
     "name": "stdout",
     "output_type": "stream",
     "text": [
      "0 1st for loop\n",
      "0 2nd for loop\n",
      "0 3rd for loop\n",
      "1 3rd for loop\n",
      "2 3rd for loop\n",
      "1 2nd for loop\n",
      "0 3rd for loop\n",
      "1 3rd for loop\n",
      "2 3rd for loop\n",
      "2 2nd for loop\n",
      "0 3rd for loop\n",
      "1 3rd for loop\n",
      "2 3rd for loop\n",
      "1 1st for loop\n",
      "0 2nd for loop\n",
      "0 3rd for loop\n",
      "1 3rd for loop\n",
      "2 3rd for loop\n",
      "1 2nd for loop\n",
      "0 3rd for loop\n",
      "1 3rd for loop\n",
      "2 3rd for loop\n",
      "2 2nd for loop\n",
      "0 3rd for loop\n",
      "1 3rd for loop\n",
      "2 3rd for loop\n",
      "2 1st for loop\n",
      "0 2nd for loop\n",
      "0 3rd for loop\n",
      "1 3rd for loop\n",
      "2 3rd for loop\n",
      "1 2nd for loop\n",
      "0 3rd for loop\n",
      "1 3rd for loop\n",
      "2 3rd for loop\n",
      "2 2nd for loop\n",
      "0 3rd for loop\n",
      "1 3rd for loop\n",
      "2 3rd for loop\n"
     ]
    }
   ],
   "source": [
    "for i in range(3):   # 0 , 1 , 2\n",
    "    print(i,'1st for loop')\n",
    "    for i in range(3): # 0 , 1 , 2\n",
    "        print(i,'2nd for loop')\n",
    "        for i in range(3): # 0 , 1 , 2\n",
    "            print(i,'3rd for loop') "
   ]
  },
  {
   "cell_type": "code",
   "execution_count": null,
   "id": "86877481",
   "metadata": {},
   "outputs": [],
   "source": [
    "a = [1,2,3,4,5,6,7,8,9,10,'asd',11,12,'asda']"
   ]
  },
  {
   "cell_type": "code",
   "execution_count": 9,
   "id": "c16508b0",
   "metadata": {},
   "outputs": [
    {
     "name": "stdout",
     "output_type": "stream",
     "text": [
      "1 is odd\n",
      "2 is even\n",
      "3 is odd\n",
      "4 is even\n",
      "5 is odd\n",
      "6 is even\n",
      "7 is odd\n",
      "8 is even\n",
      "9 is odd\n",
      "10 is even\n"
     ]
    },
    {
     "ename": "TypeError",
     "evalue": "not all arguments converted during string formatting",
     "output_type": "error",
     "traceback": [
      "\u001b[1;31m---------------------------------------------------------------------------\u001b[0m",
      "\u001b[1;31mTypeError\u001b[0m                                 Traceback (most recent call last)",
      "Cell \u001b[1;32mIn[9], line 3\u001b[0m\n\u001b[0;32m      1\u001b[0m a \u001b[38;5;241m=\u001b[39m [\u001b[38;5;241m1\u001b[39m,\u001b[38;5;241m2\u001b[39m,\u001b[38;5;241m3\u001b[39m,\u001b[38;5;241m4\u001b[39m,\u001b[38;5;241m5\u001b[39m,\u001b[38;5;241m6\u001b[39m,\u001b[38;5;241m7\u001b[39m,\u001b[38;5;241m8\u001b[39m,\u001b[38;5;241m9\u001b[39m,\u001b[38;5;241m10\u001b[39m,\u001b[38;5;124m'\u001b[39m\u001b[38;5;124masd\u001b[39m\u001b[38;5;124m'\u001b[39m,\u001b[38;5;241m11\u001b[39m,\u001b[38;5;241m12\u001b[39m,\u001b[38;5;124m'\u001b[39m\u001b[38;5;124masda\u001b[39m\u001b[38;5;124m'\u001b[39m]\n\u001b[0;32m      2\u001b[0m \u001b[38;5;28;01mfor\u001b[39;00m i \u001b[38;5;129;01min\u001b[39;00m a:\n\u001b[1;32m----> 3\u001b[0m     \u001b[38;5;28;01mif\u001b[39;00m i\u001b[38;5;241m%\u001b[39m\u001b[38;5;241m2\u001b[39m\u001b[38;5;241m==\u001b[39m\u001b[38;5;241m0\u001b[39m:\n\u001b[0;32m      4\u001b[0m         \u001b[38;5;28mprint\u001b[39m(i,\u001b[38;5;124m'\u001b[39m\u001b[38;5;124mis even\u001b[39m\u001b[38;5;124m'\u001b[39m)\n\u001b[0;32m      5\u001b[0m     \u001b[38;5;28;01melif\u001b[39;00m i\u001b[38;5;241m%\u001b[39m\u001b[38;5;241m2\u001b[39m\u001b[38;5;241m==\u001b[39m\u001b[38;5;241m1\u001b[39m:\n",
      "\u001b[1;31mTypeError\u001b[0m: not all arguments converted during string formatting"
     ]
    }
   ],
   "source": [
    "a = [1,2,3,4,5,6,7,8,9,10,'asd',11,12,'asda']\n",
    "for i in a:\n",
    "    if i%2==0:\n",
    "        print(i,'is even')\n",
    "    elif i%2==1:\n",
    "        print(i,'is odd')"
   ]
  },
  {
   "cell_type": "code",
   "execution_count": 10,
   "id": "e1bec5b4",
   "metadata": {},
   "outputs": [
    {
     "name": "stdout",
     "output_type": "stream",
     "text": [
      "1 is odd\n",
      "2 is even\n",
      "3 is odd\n",
      "4 is even\n",
      "5 is odd\n",
      "6 is even\n",
      "7 is odd\n",
      "8 is even\n",
      "9 is odd\n",
      "10 is even\n",
      "11 is odd\n",
      "12 is even\n"
     ]
    }
   ],
   "source": [
    "a = [1,2,3,4,5,6,7,8,9,10,'asd',11,12,'asda']\n",
    "for i in a:\n",
    "    if type(i)==str:\n",
    "        pass\n",
    "    elif i%2==0:\n",
    "        print(i,'is even')\n",
    "    elif i%2==1:\n",
    "        print(i,'is odd')"
   ]
  },
  {
   "cell_type": "code",
   "execution_count": 14,
   "id": "97d1924a",
   "metadata": {
    "collapsed": true,
    "jupyter": {
     "outputs_hidden": true
    }
   },
   "outputs": [
    {
     "name": "stdout",
     "output_type": "stream",
     "text": [
      "1 is odd\n",
      "2 is even\n",
      "3 is odd\n",
      "4 is even\n",
      "5 is odd\n",
      "6 is even\n",
      "7 is odd\n",
      "8 is even\n",
      "9 is odd\n",
      "10 is even\n",
      "11 is odd\n",
      "12 is even\n"
     ]
    }
   ],
   "source": [
    "a = [1,2,3,4,5,6,7,8,9,10,'asd',11,12,'asda']\n",
    "for i in a:\n",
    "    if type(i)==str:\n",
    "        pass\n",
    "    else:\n",
    "        if i%2==0:\n",
    "            print(i,'is even')\n",
    "        else:\n",
    "            if i%2==1:\n",
    "                print(i,'is odd')\n",
    "            else:\n",
    "                print('hello')"
   ]
  },
  {
   "cell_type": "code",
   "execution_count": 8,
   "id": "a2600cc3",
   "metadata": {},
   "outputs": [
    {
     "name": "stdout",
     "output_type": "stream",
     "text": [
      "1 is odd\n",
      "2 is even\n",
      "hello\n",
      "3 is odd\n",
      "4 is even\n",
      "hello\n",
      "5 is odd\n",
      "6 is even\n",
      "hello\n",
      "7 is odd\n",
      "8 is even\n",
      "hello\n",
      "9 is odd\n",
      "10 is even\n",
      "hello\n",
      "11 is odd\n",
      "12 is even\n",
      "hello\n"
     ]
    }
   ],
   "source": [
    "a = [1,2,3,4,5,6,7,8,9,10,'asd',11,12,'asda']\n",
    "for i in a:\n",
    "    if type(i)==str:\n",
    "        continue\n",
    "    else:\n",
    "        if i%2==0:\n",
    "            print(i,'is even')\n",
    "        if i%2==1:\n",
    "                print(i,'is odd')\n",
    "        else:\n",
    "            print('hello')"
   ]
  },
  {
   "cell_type": "code",
   "execution_count": null,
   "id": "67d9e774",
   "metadata": {},
   "outputs": [],
   "source": [
    "a = [1,2,3,4,5,6,7,8,9,10,'asd',11,12,'asda']\n",
    "for i in a:\n",
    "    if type(i)==str:\n",
    "        pass\n",
    "    elif i%2==0:\n",
    "        print(i,'is even')\n",
    "    elif i%2==1:\n",
    "        print(i,'is odd')\n",
    "    else:\n",
    "        print('hello')"
   ]
  },
  {
   "cell_type": "code",
   "execution_count": 19,
   "id": "62930667",
   "metadata": {},
   "outputs": [
    {
     "name": "stdout",
     "output_type": "stream",
     "text": [
      "hello 1\n",
      "1 is not present\n",
      "hello 2\n",
      "2 is not present\n",
      "hello 3\n",
      "3 is not present\n",
      "hello 4\n",
      "4 is not present\n",
      "hello 5\n"
     ]
    }
   ],
   "source": [
    "a=[1,2,3,4,5]\n",
    "for i in a:\n",
    "    if i==1:                   # here all the if's will be accessed\n",
    "        print('hello',i)\n",
    "    if i==2:\n",
    "        print('hello',i)\n",
    "    if i==3:\n",
    "        print('hello',i)        # here all the if's have their independent existence\n",
    "    if i==4:                    # therefore if condition in  any 'if' is false the next if won't be affected\n",
    "        print('hello',i)\n",
    "    if i==5:\n",
    "        print('hello',i)                 # the else is related with  only the last if  \n",
    "    else:\n",
    "        print(i,'is not present')"
   ]
  },
  {
   "cell_type": "code",
   "execution_count": 20,
   "id": "a90f87b3",
   "metadata": {},
   "outputs": [
    {
     "name": "stdout",
     "output_type": "stream",
     "text": [
      "hello 1\n",
      "hello 2\n",
      "hello 3\n",
      "hello 4\n",
      "hello 5\n"
     ]
    }
   ],
   "source": [
    "a=[1,2,3,4,5]\n",
    "for i in a:\n",
    "    if i==1:\n",
    "        print('hello',i)\n",
    "    else: \n",
    "        if i==2:\n",
    "            print('hello',i)\n",
    "        else:\n",
    "            if i==3:\n",
    "                print('hello',i)\n",
    "            else:\n",
    "                if i==4:\n",
    "                    print('hello',i)\n",
    "                else:\n",
    "                    if i==5:\n",
    "                        print('hello',i)\n",
    "                    else:\n",
    "                        print(i,'is not present')"
   ]
  },
  {
   "cell_type": "code",
   "execution_count": 21,
   "id": "fd0b13cd",
   "metadata": {},
   "outputs": [
    {
     "name": "stdout",
     "output_type": "stream",
     "text": [
      "hello 1\n",
      "hello 2\n",
      "hello 3\n",
      "hello 4\n",
      "hello 5\n",
      "6 is not present\n"
     ]
    }
   ],
   "source": [
    "a=[1,2,3,4,5,]\n",
    "for i in a:\n",
    "    if i==1:\n",
    "        print('hello',i)\n",
    "    else:\n",
    "        if i==2:\n",
    "            print('hello',i)\n",
    "        else:\n",
    "            if i==3:\n",
    "                print('hello',i)\n",
    "            else:\n",
    "                if i==4:\n",
    "                    print('hello',i)\n",
    "                else:\n",
    "                    if i==5:\n",
    "                        print('hello',i)\n",
    "                    else:\n",
    "                        print(i,'is not present')"
   ]
  },
  {
   "cell_type": "code",
   "execution_count": 23,
   "id": "528937df",
   "metadata": {},
   "outputs": [
    {
     "name": "stdout",
     "output_type": "stream",
     "text": [
      "hello 1\n",
      "hello 2\n",
      "hello 3\n",
      "hello 4\n",
      "hello 5\n"
     ]
    }
   ],
   "source": [
    "a=[1,2,3,4,5,6]\n",
    "for i in a:\n",
    "    if i==1:\n",
    "        print('hello',i)\n",
    "    elif i==2:\n",
    "        print('hello',i)\n",
    "    elif i==3:\n",
    "        print('hello',i)\n",
    "    elif i==4:\n",
    "        print('hello',i)\n",
    "    elif i==5:\n",
    "        print('hello',i)"
   ]
  },
  {
   "cell_type": "code",
   "execution_count": 25,
   "id": "c987ffec",
   "metadata": {},
   "outputs": [],
   "source": [
    "# you have a budget of 10000 rupees , if after the shopping the price of products exceeds 8000 rupees then tell the user\n",
    "# that he should avoid buying the products\n",
    "# if price of products is less than 6000 rupees then tell the user\n",
    "# that he can buy the products\n",
    "# if price of products is less than 2000 rupees then tell the user\n",
    "# that he should buy more products"
   ]
  },
  {
   "cell_type": "code",
   "execution_count": null,
   "id": "a9811c8c",
   "metadata": {},
   "outputs": [],
   "source": [
    "# take the budget as input from user , if after the shopping the price of products exceeds 80 percent of budget then \n",
    "# tell the user that he should avoid buying the products\n",
    "# if price of products is less than 80 percent but and greater than 20 percent of budget rupees then tell the user\n",
    "# that he can buy the products\n",
    "# if price of products is less than 20 percent of the budget then tell the user\n",
    "# that he should buy more products"
   ]
  },
  {
   "cell_type": "code",
   "execution_count": 9,
   "id": "51c8cacc",
   "metadata": {},
   "outputs": [
    {
     "name": "stdout",
     "output_type": "stream",
     "text": [
      "enter the number : 1\n"
     ]
    }
   ],
   "source": [
    "a = [1,1,1,1,2,3,4,5,3,2,2,2,3,3,4,4,5,6,5,5,6,1,3,1,123,142,543,321,156]\n",
    "x = int(input('enter the number : '))\n",
    "if x in a:\n",
    "    print(x,' has ',a.count(x),' repititions')\n",
    "else:\n",
    "    print(x,'is not in the list .')"
   ]
  },
  {
   "cell_type": "code",
   "execution_count": 20,
   "id": "d68b3ef3",
   "metadata": {},
   "outputs": [
    {
     "name": "stdout",
     "output_type": "stream",
     "text": [
      "enter the number : 1\n"
     ]
    },
    {
     "ename": "SyntaxError",
     "evalue": "'break' outside loop (682272972.py, line 5)",
     "output_type": "error",
     "traceback": [
      "\u001b[1;36m  Cell \u001b[1;32mIn[20], line 5\u001b[1;36m\u001b[0m\n\u001b[1;33m    break                       # continue will only be used inside the loops .\u001b[0m\n\u001b[1;37m    ^\u001b[0m\n\u001b[1;31mSyntaxError\u001b[0m\u001b[1;31m:\u001b[0m 'break' outside loop\n"
     ]
    }
   ],
   "source": [
    "a = [1,1,1,1,2,3,4,5,3,2,2,2,3,3,4,4,5,6,5,5,6,1,3,1,123,142,543,321,156] # pass can be used inside for loops\n",
    "                                                                      # and as well as in if elif else conditions.\n",
    "x = int(input('enter the number : '))\n",
    "if x in a:\n",
    "    break\n",
    "    # continue will only be used inside the loops .\n",
    "else:\n",
    "    print(x,'is not in the list .')"
   ]
  },
  {
   "cell_type": "code",
   "execution_count": null,
   "id": "5fea495d",
   "metadata": {},
   "outputs": [],
   "source": [
    "# get two different dictionaries such that one has those keys which have mutable data type and the other one having values\n",
    "# of immutable data type . \n",
    "dict1 = {'1st key' : [1,2,4,5,6,7] , '2nd key': {1,2,3,4,5,6} ,  '3rd key' : 12345 , '4th key' : (1,2,3,4,5,6) ,'5th key' : '12345' , '6th key' : 132.32 , '7th key' : {1:'a',2:'b'}} \n"
   ]
  },
  {
   "cell_type": "code",
   "execution_count": 2,
   "id": "d3bfa07d",
   "metadata": {},
   "outputs": [],
   "source": [
    "# get two different dictionaries such that one has those keys which have mutable data type and the other one having values\n",
    "# of immutable data type . \n",
    "dict1 = {'1st key' : [1,2,4,5,6,7] , '2nd key': {1,2,3,4,5,6} , '3rd key' : 12345 , '4th key' : (1,2,3,4,5,6) ,'5th key' : '12345' , '6th key' : 132.32 , '7th key' : {1:'a',2:'b'}} "
   ]
  },
  {
   "cell_type": "code",
   "execution_count": 3,
   "id": "0b4e328f",
   "metadata": {},
   "outputs": [
    {
     "name": "stdout",
     "output_type": "stream",
     "text": [
      "{'1st key': [1, 2, 4, 5, 6, 7], '2nd key': {1, 2, 3, 4, 5, 6}, '7th key': {1: 'a', 2: 'b'}}\n"
     ]
    }
   ],
   "source": [
    "a = {i:dict1[i] for i in dict1 if type(dict1[i])==list or type(dict1[i])==set or type(dict1[i])==dict}\n",
    "print(a)"
   ]
  },
  {
   "cell_type": "code",
   "execution_count": 4,
   "id": "5d9f47dd",
   "metadata": {},
   "outputs": [
    {
     "name": "stdout",
     "output_type": "stream",
     "text": [
      "{'3rd key': 12345, '4th key': (1, 2, 3, 4, 5, 6), '5th key': '12345', '6th key': 132.32}\n"
     ]
    }
   ],
   "source": [
    "b = {i:dict1[i] for i in dict1 if type(dict1[i])==tuple or type(dict1[i])==int or type(dict1[i])==float or type(dict1[i])== str}\n",
    "print(b)"
   ]
  },
  {
   "cell_type": "code",
   "execution_count": null,
   "id": "7f32ad1b",
   "metadata": {},
   "outputs": [],
   "source": [
    "# make a program of calculator , where the signs of operators given by user is same as those used in coding.\n",
    "\n",
    "# check whether a person is eligible for having a driving license , eligibility criteria is that the person should\n",
    "# be above 18 years of age and should be a citizen of India. "
   ]
  },
  {
   "cell_type": "code",
   "execution_count": 15,
   "id": "a5aade43",
   "metadata": {},
   "outputs": [
    {
     "data": {
      "text/plain": [
       "True"
      ]
     },
     "execution_count": 15,
     "metadata": {},
     "output_type": "execute_result"
    }
   ],
   "source": [
    "a = 10\n",
    "b = 10\n",
    "a is b"
   ]
  },
  {
   "cell_type": "code",
   "execution_count": 35,
   "id": "915a4e1a",
   "metadata": {},
   "outputs": [
    {
     "data": {
      "text/plain": [
       "True"
      ]
     },
     "execution_count": 35,
     "metadata": {},
     "output_type": "execute_result"
    }
   ],
   "source": [
    "a = 256   # from 257 and onwards.\n",
    "b = 256\n",
    "a is b"
   ]
  },
  {
   "cell_type": "code",
   "execution_count": 36,
   "id": "e0fbda4d",
   "metadata": {},
   "outputs": [
    {
     "data": {
      "text/plain": [
       "False"
      ]
     },
     "execution_count": 36,
     "metadata": {},
     "output_type": "execute_result"
    }
   ],
   "source": [
    "a = 2256   # from 257 and onwards.\n",
    "b = 2256\n",
    "a is b"
   ]
  },
  {
   "cell_type": "code",
   "execution_count": 37,
   "id": "93e3d973",
   "metadata": {},
   "outputs": [
    {
     "data": {
      "text/plain": [
       "False"
      ]
     },
     "execution_count": 37,
     "metadata": {},
     "output_type": "execute_result"
    }
   ],
   "source": [
    "a = 556   # from 257 and onwards.\n",
    "b = 556\n",
    "a is b"
   ]
  },
  {
   "cell_type": "code",
   "execution_count": 36,
   "id": "586fec90",
   "metadata": {},
   "outputs": [
    {
     "name": "stdout",
     "output_type": "stream",
     "text": [
      "{(1, 2), (1, 2, 3, 4, 5, 6, 7), (1, 2, 3), (1, 2, 3, 4), (1, 2, 3, 4, 5, 6), (1,), (), (1, 2, 3, 4, 5)}\n"
     ]
    }
   ],
   "source": [
    "list1 = [1,2,3,4,5,6,7]\n",
    "count = len(list1)\n",
    "b = set()\n",
    "while count!=0:\n",
    "    b.add(tuple(list1[0:count]))\n",
    "    count -= 1\n",
    "b.add(())\n",
    "print(b)"
   ]
  },
  {
   "cell_type": "code",
   "execution_count": 25,
   "id": "2225b32e",
   "metadata": {
    "scrolled": true
   },
   "outputs": [
    {
     "name": "stdout",
     "output_type": "stream",
     "text": [
      "[[1, 2, 3, 4, 5, 6, 7]]\n"
     ]
    }
   ],
   "source": [
    "list1 = [1,2,3,4,5,6,7]\n",
    "b = []\n",
    "b.append(list1)\n",
    "print(b)"
   ]
  },
  {
   "cell_type": "code",
   "execution_count": 5,
   "id": "c1d45855",
   "metadata": {
    "collapsed": true,
    "jupyter": {
     "outputs_hidden": true
    }
   },
   "outputs": [
    {
     "name": "stdout",
     "output_type": "stream",
     "text": [
      "enter the number of elements :0\n",
      "<generator object <genexpr> at 0x0000023264289A80>q\n",
      "['q']\n"
     ]
    }
   ],
   "source": [
    "list_1 = [input(f'element at index {i} :' for i in range(int(input('enter the number of elements :'))))]\n",
    "print(list_1)"
   ]
  },
  {
   "cell_type": "code",
   "execution_count": 3,
   "id": "6216ff2a",
   "metadata": {
    "collapsed": true,
    "jupyter": {
     "outputs_hidden": true
    }
   },
   "outputs": [
    {
     "name": "stdout",
     "output_type": "stream",
     "text": [
      "enter the number of elements :6\n",
      "element at index 0 :qsad\n",
      "element at index 1 :asdsa\n",
      "element at index 2 :waaw\n",
      "element at index 3 :afas\n",
      "element at index 4 :aadada\n",
      "element at index 5 :aaewwar\n",
      "['qsad', 'asdsa', 'waaw', 'afas', 'aadada', 'aaewwar']\n"
     ]
    }
   ],
   "source": [
    "list_1 = [input(f'element at index {i} :') for i in range(int(input('enter the number of elements :')))]\n",
    "print(list_1)"
   ]
  },
  {
   "cell_type": "code",
   "execution_count": null,
   "id": "6d49576e",
   "metadata": {},
   "outputs": [],
   "source": []
  }
 ],
 "metadata": {
  "kernelspec": {
   "display_name": "Python 3 (ipykernel)",
   "language": "python",
   "name": "python3"
  },
  "language_info": {
   "codemirror_mode": {
    "name": "ipython",
    "version": 3
   },
   "file_extension": ".py",
   "mimetype": "text/x-python",
   "name": "python",
   "nbconvert_exporter": "python",
   "pygments_lexer": "ipython3",
   "version": "3.11.7"
  }
 },
 "nbformat": 4,
 "nbformat_minor": 5
}
