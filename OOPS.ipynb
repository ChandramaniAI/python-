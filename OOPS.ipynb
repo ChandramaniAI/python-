{
 "cells": [
  {
   "cell_type": "markdown",
   "id": "c8d284a8-cc2b-4c86-a5c3-be5af6faaf30",
   "metadata": {},
   "source": [
    "# OOPS\n",
    "In Python, object-oriented Programming (OOPS) is a programming paradigm(pattern) that uses objects and classes in programming. It aims to impelement real-word entities like inhentance, polymorphism, encapsulation,etc. in the programming. The main concept of oops is to bind the data and the functions that work on that together as a single unit so that no other part of the code can access this data. "
   ]
  },
  {
   "cell_type": "markdown",
   "id": "7f0802a3-5e96-4975-b2d8-b3ed5a20a024",
   "metadata": {},
   "source": [
    "### OOPs concepts in python \n",
    "- class\n",
    "- object\n",
    "- Polymorphism\n",
    "- Encapsulation\n",
    "- Inheritance\n",
    "- Data Abtraction"
   ]
  },
  {
   "cell_type": "markdown",
   "id": "09839a64-104c-4b74-b693-b428d965ec32",
   "metadata": {},
   "source": [
    "# Python Class\n",
    "A class is a collection of objects. A class contains the blueprints or prototype from which the objects are bring create. It is a logical entity that contains some attributes and methods.<br>\n",
    "Class is the factory of producing objects.<br>\n",
    "All the user defined classes are mutable \n",
    "\n"
   ]
  },
  {
   "cell_type": "markdown",
   "id": "27f762e7-9f0a-489a-8f3c-b591ba559e4e",
   "metadata": {},
   "source": [
    "#### some points on Python class\n",
    "- Classes are created by keyword class.\n",
    "- Attributes are the variables that belong to a class.\n",
    "- Attributes are always public and can be accessed using the dot(.) operator. Eg:<br>\n",
    "  Myclass.Myattribute"
   ]
  },
  {
   "cell_type": "markdown",
   "id": "57dfff01-f110-4821-a4b9-9cbd8859d2f4",
   "metadata": {},
   "source": [
    "# Note\n",
    "object.attribute= value\n",
    "\n",
    "object.method() return data type may be none or list, tuple etc"
   ]
  },
  {
   "cell_type": "markdown",
   "id": "9e672ca5-e4d4-45f5-b95c-c782d081a3a4",
   "metadata": {},
   "source": [
    "## Class and Objects\n",
    "In Python, everything is an object. A class is a blueprint for the object. To create an object we require a model or plan or blueprint which is nothing but class."
   ]
  },
  {
   "cell_type": "markdown",
   "id": "eacbea16-2055-4497-aa1c-86332b2c3aac",
   "metadata": {},
   "source": [
    "#### What is a class and Objects in Python?\n",
    "- <b>Class:</b>The class is a user-defined data structure that binds the data members and methods\n",
    "- <b>Object:</b>An object is an instance of class.\n",
    "- Objects have two characteristics : they have states and behaviours (object has methods attached to it) Attributes represent this state and methods represent its behavior. Using its methods, we can modify its state."
   ]
  },
  {
   "cell_type": "markdown",
   "id": "286c768c-f70f-46b3-a7da-bf757000076b",
   "metadata": {},
   "source": [
    "In short, Every object has the following property.\n",
    " - Identity: Every object(list, tuple, etc) must be unique identified.\n",
    " - state: an object has an attribute that represents a state(mutable or immutable in case of a data type) of an object. and it also reflects the property of an object.\n",
    " - behavior : An object has methods like list is an object has method .copy(), .insert(), etc. That represent its behavior."
   ]
  },
  {
   "cell_type": "code",
   "execution_count": 2,
   "id": "bc80c5b2-f429-4898-abce-4a868686328e",
   "metadata": {},
   "outputs": [
    {
     "name": "stdout",
     "output_type": "stream",
     "text": [
      "Name is: Jessa and percentage is: 80\n"
     ]
    }
   ],
   "source": [
    "class Student:\n",
    "    def __init__(self,name,percentage):\n",
    "        self.name = name\n",
    "        self.percentage = percentage\n",
    "\n",
    "    def show(self):\n",
    "        print(\"Name is:\",self.name,\"and percentage is:\",self.percentage)\n",
    "\n",
    "stud = Student(\"Jessa\",80)\n",
    "stud.show()"
   ]
  },
  {
   "cell_type": "code",
   "execution_count": 5,
   "id": "e2e32b1d-94f5-49a9-b449-f1c1c7652586",
   "metadata": {},
   "outputs": [
    {
     "name": "stdout",
     "output_type": "stream",
     "text": [
      "Name is: chandra and percentage is: 78\n"
     ]
    }
   ],
   "source": [
    "class Student:\n",
    "    def __init__(self,name,percentage):\n",
    "        self.name = name\n",
    "        self.percentage = percentage\n",
    "\n",
    "    def show(self):\n",
    "        print(\"Name is:\",self.name,\"and percentage is:\",self.percentage)\n",
    "\n",
    "stud = Student(\"chandra\",78)\n",
    "stud.show()"
   ]
  },
  {
   "cell_type": "code",
   "execution_count": 6,
   "id": "ab261cc3-3438-4bb1-bc79-29f62136a8e4",
   "metadata": {},
   "outputs": [
    {
     "name": "stdout",
     "output_type": "stream",
     "text": [
      "Name is: rahul and percentage is: 67\n"
     ]
    }
   ],
   "source": [
    "class Student:\n",
    "    def __init__(self,name,percentage):\n",
    "        self.name = name\n",
    "        self.percentage = percentage\n",
    "\n",
    "    def show(self):\n",
    "        print(\"Name is:\",self.name,\"and percentage is:\",self.percentage)\n",
    "\n",
    "stud = Student(\"rahul\",67)\n",
    "stud.show()"
   ]
  },
  {
   "cell_type": "code",
   "execution_count": 8,
   "id": "410ba564-6f3d-4e36-a370-544a926e27e0",
   "metadata": {},
   "outputs": [
    {
     "name": "stdout",
     "output_type": "stream",
     "text": [
      "Name is: ram and percentage is: 78\n"
     ]
    }
   ],
   "source": [
    "class Student:\n",
    "    def __init__(self,name,percentage):\n",
    "        self.name = name\n",
    "        self.percentage = percentage\n",
    "\n",
    "    def show(self):\n",
    "        print(\"Name is:\",self.name,\"and percentage is:\",self.percentage)\n",
    "\n",
    "stud = Student(\"ram\",78)\n",
    "stud.show()"
   ]
  },
  {
   "cell_type": "code",
   "execution_count": 10,
   "id": "ec9f10bd-48ce-44fe-b97a-4d67335ce326",
   "metadata": {},
   "outputs": [
    {
     "name": "stdout",
     "output_type": "stream",
     "text": [
      "Name is: pawan and percentage is: 79\n"
     ]
    }
   ],
   "source": [
    "class Student:\n",
    "    def __init__(self,name,percentage):\n",
    "        self.name = name\n",
    "        self.percentage = percentage\n",
    "\n",
    "    def show(self):\n",
    "        print(\"Name is:\",self.name,\"and percentage is:\",self.percentage)\n",
    "\n",
    "stud = Student(\"pawan\",79)\n",
    "stud.show()"
   ]
  },
  {
   "cell_type": "code",
   "execution_count": 11,
   "id": "c0c61c41-55a9-4cdd-a69d-70e85c02c705",
   "metadata": {},
   "outputs": [
    {
     "name": "stdout",
     "output_type": "stream",
     "text": [
      "Name is: shyam and percentage is: 76\n"
     ]
    }
   ],
   "source": [
    "class Student:\n",
    "    def __init__(self,name,percentage):\n",
    "        self.name = name\n",
    "        self.percentage = percentage\n",
    "\n",
    "    def show(self):\n",
    "        print(\"Name is:\",self.name,\"and percentage is:\",self.percentage)\n",
    "\n",
    "stud = Student(\"shyam\",76)\n",
    "stud.show()"
   ]
  },
  {
   "cell_type": "code",
   "execution_count": 16,
   "id": "b18633b2-0004-4d86-83a5-eb867da2512d",
   "metadata": {},
   "outputs": [
    {
     "name": "stdout",
     "output_type": "stream",
     "text": [
      "Name is: mohan and percentage is: 72\n"
     ]
    }
   ],
   "source": [
    "class Student:\n",
    "    def __init__(self,name,percentage):\n",
    "        self.name = name\n",
    "        self.percentage = percentage\n",
    "\n",
    "    def show(self):\n",
    "         print(\"Name is:\",self.name,\"and percentage is:\",self.percentage)\n",
    "\n",
    "stud = Student(\"mohan\",72)\n",
    "stud.show()"
   ]
  },
  {
   "cell_type": "code",
   "execution_count": 17,
   "id": "0a66db37-cdcc-44e2-827e-5204b6b5740b",
   "metadata": {},
   "outputs": [
    {
     "name": "stdout",
     "output_type": "stream",
     "text": [
      "Name is: john and percentage is: 75\n"
     ]
    }
   ],
   "source": [
    "class Student:\n",
    "    def __init__(self,name,percentage):\n",
    "        self.name =name\n",
    "        self.percentage =percentage\n",
    "\n",
    "    def show(self):\n",
    "        print(\"Name is:\",self.name,\"and percentage is:\",self.percentage)\n",
    "\n",
    "stud = Student(\"john\",75)\n",
    "stud.show()"
   ]
  },
  {
   "cell_type": "code",
   "execution_count": 20,
   "id": "1eb78a49-6eb4-4a0f-9c9e-1db708a97c65",
   "metadata": {},
   "outputs": [
    {
     "name": "stdout",
     "output_type": "stream",
     "text": [
      "Name is: eddy and percentage is: 86\n"
     ]
    }
   ],
   "source": [
    "class Student:\n",
    "    def __init__(self,name,percentage):\n",
    "        self.name =name\n",
    "        self.percentage =percentage\n",
    "\n",
    "    def show(self):\n",
    "        print(\"Name is:\",self.name,\"and percentage is:\",self.percentage)\n",
    "\n",
    "stud = Student(\"eddy\",86)\n",
    "stud.show()"
   ]
  },
  {
   "cell_type": "code",
   "execution_count": 19,
   "id": "e1dfd21e-4675-4b25-a487-3c746bb3d1f4",
   "metadata": {},
   "outputs": [
    {
     "name": "stdout",
     "output_type": "stream",
     "text": [
      "Name is: nitin and percentage is: 90\n"
     ]
    }
   ],
   "source": [
    "class Student:\n",
    "    def __init__(self,name,percentage):\n",
    "        self.name =name\n",
    "        self.percentage =percentage\n",
    "\n",
    "    def show(self):\n",
    "        print(\"Name is:\",self.name,\"and percentage is:\",self.percentage)\n",
    "\n",
    "stud = Student(\"nitin\",90)\n",
    "stud.show()"
   ]
  },
  {
   "cell_type": "code",
   "execution_count": 1,
   "id": "bd89d190-1378-4aba-88a5-3658f08549cb",
   "metadata": {},
   "outputs": [
    {
     "name": "stdout",
     "output_type": "stream",
     "text": [
      "Name: ram Sex: male Height(cm): 67\n"
     ]
    }
   ],
   "source": [
    "class Person:\n",
    "    def __init__(self,name,sex,height):\n",
    "        self.name = name\n",
    "        self.sex = sex\n",
    "        self.height = height \n",
    "        \n",
    "    def show(self):\n",
    "        print(\"Name:\",self.name,\"Sex:\",self.sex,\"Height(cm):\",self.height)\n",
    "\n",
    "a = Person(\"ram\",\"male\",67)\n",
    "a.show()"
   ]
  },
  {
   "cell_type": "markdown",
   "id": "24b12331-6c8b-4c1c-ba9d-32c8ed0253e8",
   "metadata": {},
   "source": [
    "### Class Attributes\n",
    "When we design a class, we use instance variables and class variables.\n",
    "- In Class, attributes can be defined into two parts:\n",
    "- instace variable : The instance variables are attributes attached to an object (instance) of a class. We define instace variables in the constructor (the int() method of a class).\n",
    "- Class variables: A class variable is a variable that is declared inside of class, but outside of any instace method or init() method."
   ]
  },
  {
   "cell_type": "code",
   "execution_count": 4,
   "id": "b9b5151c-6224-47de-bc45-8f823f5bfac0",
   "metadata": {},
   "outputs": [],
   "source": [
    "class Person:\n",
    "    def __init__(self, name, sex, profession): # inside init parenthesis name and sex are parameters.\n",
    "        #data member (creation of instance variable name and sex by attribute.)\n",
    "        self.x = name\n",
    "        self.y = sex\n",
    "        self.z = profession\n",
    "    # behavior(instance method)\n",
    "    def show(self):\n",
    "        print(\"Name:\",self.x,\"Sex:\",self.y,\"Profession:\",self.z)\n",
    "    # behavior(instance method)\n",
    "    def work(self):\n",
    "        print(self.x,\"work as a\", self.z)"
   ]
  },
  {
   "cell_type": "code",
   "execution_count": 6,
   "id": "33626e7c-d6b8-4c55-9da4-637a34165492",
   "metadata": {},
   "outputs": [
    {
     "name": "stdout",
     "output_type": "stream",
     "text": [
      "Name: ram Sex: male Profession: data scientist\n",
      "ram work as a data scientist\n"
     ]
    }
   ],
   "source": [
    "class Person:\n",
    "    def __init__(self, name, sex, profession): # inside init parenthesis name and sex are parameters.\n",
    "        #data member (creation of instance variable name and sex by attributes x, y and z.)\n",
    "        self.x = name\n",
    "        self.y = sex\n",
    "        self.z = profession\n",
    "    # behavior(instance method)\n",
    "    def show(self):\n",
    "        print(\"Name:\",self.x,\"Sex:\",self.y,\"Profession:\",self.z)\n",
    "    # behavior(instance method)\n",
    "    def work(self):\n",
    "        print(self.x,\"work as a\", self.z)\n",
    "\n",
    "Person1= Person(\"ram\",\"male\",\"data scientist\")\n",
    "Person1.show()\n",
    "Person1.work()"
   ]
  },
  {
   "cell_type": "markdown",
   "id": "c29937e2-c1f7-4e25-ab89-2cebce2e2069",
   "metadata": {},
   "source": [
    "## blueprint\n",
    "class <className>:\n",
    "     <class_attribute_name> = <value>\n",
    "\n",
    "     def __init__(self, <prarm1>, <param2>, ...):\n",
    "         self.<attr1> = <param1>\n",
    "         self.<attr2> = <param2>\n",
    "         .\n",
    "         .\n",
    "         .\n",
    "         # As many attributes as needed\n",
    "\n",
    "     def <method_name>(self.<param1>, ...):\n",
    "         <code>\n",
    "     # As many methods as needed"
   ]
  },
  {
   "cell_type": "code",
   "execution_count": 1,
   "id": "cddd0ed5-a548-42c7-9757-ba07555989a4",
   "metadata": {},
   "outputs": [
    {
     "name": "stdout",
     "output_type": "stream",
     "text": [
      "Name: Chandramani Age: 19 Profession: Robotic Engineer Salary: 20000\n",
      "Chandramani work as a Robotic Engineer\n"
     ]
    }
   ],
   "source": [
    "class Engineer:\n",
    "    def __init__(self, name, age, profession, salary):\n",
    "        self.a = name\n",
    "        self.b = age\n",
    "        self.c = profession\n",
    "        self.d = salary\n",
    "\n",
    "    def show(self):\n",
    "        print(\"Name:\",self.a,\"Age:\",self.b,\"Profession:\",self.c,\"Salary:\",self.d)\n",
    "    def work(self):\n",
    "        print(self.a,\"work as a\",self.c)\n",
    "\n",
    "engi = Engineer(\"Chandramani\",19,\"Robotic Engineer\",20000)\n",
    "engi.show()\n",
    "engi.work()"
   ]
  },
  {
   "cell_type": "code",
   "execution_count": 10,
   "id": "fefb1d7f-73fd-42c2-89ed-0ef7427f892c",
   "metadata": {},
   "outputs": [
    {
     "ename": "TypeError",
     "evalue": "Engineer.show() missing 4 required positional arguments: 'name', 'age', 'profession', and 'salary'",
     "output_type": "error",
     "traceback": [
      "\u001b[1;31m---------------------------------------------------------------------------\u001b[0m",
      "\u001b[1;31mTypeError\u001b[0m                                 Traceback (most recent call last)",
      "Cell \u001b[1;32mIn[10], line 14\u001b[0m\n\u001b[0;32m     11\u001b[0m         \u001b[38;5;28mprint\u001b[39m(\u001b[38;5;28mself\u001b[39m\u001b[38;5;241m.\u001b[39ma,\u001b[38;5;124m\"\u001b[39m\u001b[38;5;124mwork as a\u001b[39m\u001b[38;5;124m\"\u001b[39m,\u001b[38;5;28mself\u001b[39m\u001b[38;5;241m.\u001b[39mc)\n\u001b[0;32m     13\u001b[0m engi \u001b[38;5;241m=\u001b[39m Engineer(\u001b[38;5;124m\"\u001b[39m\u001b[38;5;124mChandramani\u001b[39m\u001b[38;5;124m\"\u001b[39m,\u001b[38;5;241m19\u001b[39m,\u001b[38;5;124m\"\u001b[39m\u001b[38;5;124mData Scientist\u001b[39m\u001b[38;5;124m\"\u001b[39m,\u001b[38;5;241m20000\u001b[39m)\n\u001b[1;32m---> 14\u001b[0m engi\u001b[38;5;241m.\u001b[39mshow()\n\u001b[0;32m     15\u001b[0m engi\u001b[38;5;241m.\u001b[39mwork()\n",
      "\u001b[1;31mTypeError\u001b[0m: Engineer.show() missing 4 required positional arguments: 'name', 'age', 'profession', and 'salary'"
     ]
    }
   ],
   "source": [
    "class Engineer:\n",
    "    def __init__(self, name, age, profession, salary):\n",
    "        self.a = name\n",
    "        self.b = age\n",
    "        self.c = profession\n",
    "        self.d = salary\n",
    "\n",
    "    def show(self, name, age, profession, salary):\n",
    "        print(\"Name:\",self.a,\"Age:\",self.b,\"Profession:\",self.c,\"Salary:\",self.d)\n",
    "    def work(self):\n",
    "        print(self.a,\"work as a\",self.c)\n",
    "\n",
    "engi = Engineer(\"Chandramani\",19,\"Data Scientist\",20000)\n",
    "engi.show()\n",
    "engi.work()"
   ]
  },
  {
   "cell_type": "code",
   "execution_count": 3,
   "id": "3e1c3a9f-2bb2-4ef2-b98d-a3778a9e587a",
   "metadata": {},
   "outputs": [
    {
     "name": "stdout",
     "output_type": "stream",
     "text": [
      "Name: Chandramani Age: 19 Profession: Data Scientist Salary: 20000\n",
      "Chandramani work as a Data Scientist\n"
     ]
    }
   ],
   "source": [
    "class Engineer:\n",
    "    def __init__( name,self, age, profession, salary):\n",
    "        name.a = self\n",
    "        name.b = age\n",
    "        name.c = profession\n",
    "        name.d = salary\n",
    "\n",
    "    def show(name):\n",
    "        print(\"Name:\",name.a,\"Age:\",name.b,\"Profession:\",name.c,\"Salary:\",name.d)\n",
    "    def work(name):\n",
    "        print(name.a,\"work as a\",name.c)\n",
    "\n",
    "engi = Engineer(\"Chandramani\",19,\"Data Scientist\",20000)\n",
    "engi.show()\n",
    "engi.work()"
   ]
  },
  {
   "cell_type": "code",
   "execution_count": 4,
   "id": "b72afb0f-0937-45b9-ae55-6f8797fdc355",
   "metadata": {
    "scrolled": true
   },
   "outputs": [
    {
     "ename": "AttributeError",
     "evalue": "'str' object has no attribute 'a'",
     "output_type": "error",
     "traceback": [
      "\u001b[1;31m---------------------------------------------------------------------------\u001b[0m",
      "\u001b[1;31mAttributeError\u001b[0m                            Traceback (most recent call last)",
      "Cell \u001b[1;32mIn[4], line 13\u001b[0m\n\u001b[0;32m     10\u001b[0m     \u001b[38;5;28;01mdef\u001b[39;00m \u001b[38;5;21mwork\u001b[39m(name):\n\u001b[0;32m     11\u001b[0m         \u001b[38;5;28mprint\u001b[39m(name\u001b[38;5;241m.\u001b[39ma,\u001b[38;5;124m\"\u001b[39m\u001b[38;5;124mwork as a\u001b[39m\u001b[38;5;124m\"\u001b[39m,name\u001b[38;5;241m.\u001b[39mc)\n\u001b[1;32m---> 13\u001b[0m engi \u001b[38;5;241m=\u001b[39m Engineer(\u001b[38;5;124m\"\u001b[39m\u001b[38;5;124mChandramani\u001b[39m\u001b[38;5;124m\"\u001b[39m,\u001b[38;5;241m19\u001b[39m,\u001b[38;5;124m\"\u001b[39m\u001b[38;5;124mData Scientist\u001b[39m\u001b[38;5;124m\"\u001b[39m,\u001b[38;5;241m20000\u001b[39m)\n\u001b[0;32m     14\u001b[0m engi\u001b[38;5;241m.\u001b[39mshow()\n\u001b[0;32m     15\u001b[0m engi\u001b[38;5;241m.\u001b[39mwork()\n",
      "Cell \u001b[1;32mIn[4], line 3\u001b[0m, in \u001b[0;36mEngineer.__init__\u001b[1;34m(self, name, age, profession, salary)\u001b[0m\n\u001b[0;32m      2\u001b[0m \u001b[38;5;28;01mdef\u001b[39;00m \u001b[38;5;21m__init__\u001b[39m( \u001b[38;5;28mself\u001b[39m,name, age, profession, salary):\n\u001b[1;32m----> 3\u001b[0m     name\u001b[38;5;241m.\u001b[39ma \u001b[38;5;241m=\u001b[39m \u001b[38;5;28mself\u001b[39m\n\u001b[0;32m      4\u001b[0m     name\u001b[38;5;241m.\u001b[39mb \u001b[38;5;241m=\u001b[39m age\n\u001b[0;32m      5\u001b[0m     name\u001b[38;5;241m.\u001b[39mc \u001b[38;5;241m=\u001b[39m profession\n",
      "\u001b[1;31mAttributeError\u001b[0m: 'str' object has no attribute 'a'"
     ]
    }
   ],
   "source": [
    "class Engineer:\n",
    "    def __init__( self,name, age, profession, salary):\n",
    "        name.a = self\n",
    "        name.b = age\n",
    "        name.c = profession\n",
    "        name.d = salary\n",
    "\n",
    "    def show(name):\n",
    "        print(\"Name:\",name.a,\"Age:\",name.b,\"Profession:\",name.c,\"Salary:\",name.d)\n",
    "    def work(name):\n",
    "        print(name.a,\"work as a\",name.c)\n",
    "\n",
    "engi = Engineer(\"Chandramani\",19,\"Data Scientist\",20000)\n",
    "engi.show()\n",
    "engi.work()"
   ]
  },
  {
   "cell_type": "code",
   "execution_count": 1,
   "id": "f7dd76c4-1388-4a48-afb3-29539513c987",
   "metadata": {},
   "outputs": [
    {
     "name": "stdout",
     "output_type": "stream",
     "text": [
      "list1: [2, 3, 42, 51, 62, 70, 5, 9]\n"
     ]
    }
   ],
   "source": [
    "class even_number:\n",
    "    def __init__(self,list1):\n",
    "        self.x=list1\n",
    "        even_num = []\n",
    "        for n in list1:\n",
    "             if n % 2 == 0 :\n",
    "                even_num.append(n)\n",
    "    def show(self):\n",
    "        print(\"list1:\",self.x)\n",
    "\n",
    "# pass list to the function \n",
    "even_num = even_number([2,3,42,51,62,70,5,9])\n",
    "even_num.show()"
   ]
  },
  {
   "cell_type": "code",
   "execution_count": 1,
   "id": "db3fc113-70de-4b8b-ad01-c2653de0426c",
   "metadata": {},
   "outputs": [
    {
     "ename": "NameError",
     "evalue": "name 'even_num' is not defined",
     "output_type": "error",
     "traceback": [
      "\u001b[1;31m---------------------------------------------------------------------------\u001b[0m",
      "\u001b[1;31mNameError\u001b[0m                                 Traceback (most recent call last)",
      "Cell \u001b[1;32mIn[1], line 9\u001b[0m\n\u001b[0;32m      7\u001b[0m     \u001b[38;5;28;01mdef\u001b[39;00m \u001b[38;5;21mshow\u001b[39m(\u001b[38;5;28mself\u001b[39m):\n\u001b[0;32m      8\u001b[0m         \u001b[38;5;28mprint\u001b[39m(\u001b[38;5;124m\"\u001b[39m\u001b[38;5;124mlist1:\u001b[39m\u001b[38;5;124m\"\u001b[39m,\u001b[38;5;28mself\u001b[39m\u001b[38;5;241m.\u001b[39mx) \n\u001b[1;32m----> 9\u001b[0m even_num \u001b[38;5;241m=\u001b[39m even([\u001b[38;5;241m2\u001b[39m,\u001b[38;5;241m3\u001b[39m,\u001b[38;5;241m42\u001b[39m,\u001b[38;5;241m51\u001b[39m,\u001b[38;5;241m62\u001b[39m,\u001b[38;5;241m70\u001b[39m,\u001b[38;5;241m5\u001b[39m,\u001b[38;5;241m9\u001b[39m])\n\u001b[0;32m     10\u001b[0m even_num\u001b[38;5;241m.\u001b[39mshow()\n",
      "Cell \u001b[1;32mIn[1], line 6\u001b[0m, in \u001b[0;36meven.__init__\u001b[1;34m(self, list1)\u001b[0m\n\u001b[0;32m      4\u001b[0m \u001b[38;5;28;01mfor\u001b[39;00m n \u001b[38;5;129;01min\u001b[39;00m list1:\n\u001b[0;32m      5\u001b[0m      \u001b[38;5;28;01mif\u001b[39;00m n \u001b[38;5;241m%\u001b[39m \u001b[38;5;241m2\u001b[39m \u001b[38;5;241m==\u001b[39m \u001b[38;5;241m0\u001b[39m :\n\u001b[1;32m----> 6\u001b[0m         \u001b[38;5;28;01mreturn\u001b[39;00m even_num\n",
      "\u001b[1;31mNameError\u001b[0m: name 'even_num' is not defined"
     ]
    }
   ],
   "source": [
    "class even:\n",
    "    def __init__(self,list1):\n",
    "        self.x=list1\n",
    "        for n in list1:\n",
    "             if n % 2 == 0 :\n",
    "                return even_num\n",
    "    def show(self):\n",
    "        print(\"list1:\",self.x) \n",
    "even_num = even([2,3,42,51,62,70,5,9])\n",
    "even_num.show()"
   ]
  },
  {
   "cell_type": "code",
   "execution_count": 2,
   "id": "0e96c966-72cb-4dbe-9828-280a5c71018e",
   "metadata": {},
   "outputs": [
    {
     "name": "stdout",
     "output_type": "stream",
     "text": [
      "Student: Harry 12\n",
      "Schoolname: ABC School\n",
      "Student: vidishi 24\n",
      "School name XYZ School\n"
     ]
    }
   ],
   "source": [
    "class Student:\n",
    "    school_name=\"ABC School\"\n",
    "    #constructor\n",
    "    def __init__(self,name,age):\n",
    "        # instance variables\n",
    "        self.name=name\n",
    "        self.age=age\n",
    "\n",
    "s1 = Student(\"Harry\",12)\n",
    "# access instance variables\n",
    "print(\"Student:\",s1.name,s1.age)\n",
    "\n",
    "# access class variable\n",
    "print(\"Schoolname:\",Student.school_name)\n",
    "\n",
    "# Modify instance variables\n",
    "s1.name=\"vidishi\"\n",
    "s1.age=24\n",
    "print(\"Student:\",s1.name,s1.age)\n",
    "\n",
    "# modify class variables\n",
    "Student.school_name=\"XYZ School\"\n",
    "print('School name',Student.school_name)"
   ]
  },
  {
   "cell_type": "markdown",
   "id": "b1795b49-1bec-42bd-a902-95925e53302d",
   "metadata": {},
   "source": [
    "30/05/2024\n"
   ]
  },
  {
   "cell_type": "markdown",
   "id": "a3238edd-d9f9-454d-ae12-96fe22d95f84",
   "metadata": {},
   "source": [
    "# What is an Instance Variable in Python?\n",
    "If the value of a variable varies from object to object, then such variable are called instance variables. For every object, a separete copy of the instance variable will be created.\n",
    "\n",
    "Instance variable are not shared by objects. Every object has its own copy of the intance attribute. this meas that for each object \n",
    "\n",
    "Class Naming Convention\n",
    "We should follow specific rulez while we are deciding a name foe the class in python.\n",
    "- Rule 1: Class names should follow the upper case\n",
    "- Rule 2: Expection classes should end in \"error\"\n",
    "- Rule 3: if a class is callable( calling the class from somewhere),in that case,we give a class name like a function.\n",
    "- Rule 4: python built-in classes are typically lower case"
   ]
  },
  {
   "cell_type": "markdown",
   "id": "d152d770-d028-4224-93c6-f296b4d16efd",
   "metadata": {},
   "source": [
    "# There three type of method\n",
    "### Instance method\n",
    "- bound to the object of a class\n",
    "- it can modify a object state\n",
    "- can access and modify both class and instance variables\n",
    "### Class method \n",
    "- bound to the  class\n",
    "- it can modify a class state\n",
    "- use to create factory methods\n",
    "- can access only class variable\n",
    "### Static method \n",
    "- bound to the  class\n",
    "- it can't modify a class or  object state\n",
    "- can't access and modify both class and instance variables"
   ]
  },
  {
   "cell_type": "markdown",
   "id": "64718a93-3043-4011-9f24-c50afb480e37",
   "metadata": {},
   "source": [
    "### modify object properties\n",
    "Every object has properties associated with them. We can set or modify the object's properties after initialization by calling the directly using the dot operator.\n"
   ]
  },
  {
   "cell_type": "code",
   "execution_count": 2,
   "id": "9fc08f50-4de7-43a8-9042-da53cd477f0f",
   "metadata": {},
   "outputs": [
    {
     "name": "stdout",
     "output_type": "stream",
     "text": [
      "fruit is  banana and colour is  yellow\n"
     ]
    }
   ],
   "source": [
    "class fruit:\n",
    "    def __init__(self, name, colour):\n",
    "        self.x=name\n",
    "        self.y=colour\n",
    "# x and y are object properties or attributes respectively\n",
    "# qualifying for name and colour\n",
    "    def show(self):\n",
    "        print(\"fruit is \", self.x,\"and colour is \",self.y)\n",
    "\n",
    "# creating object of a class\n",
    "obj = fruit(\"mango\",\"yellow\")\n",
    "\n",
    "# modifying object properties\n",
    "obj.x = \"banana\"\n",
    "# calling the intance method using the object obj\n",
    "obj.show()\n",
    "# output is fruit is  banana and colour is  yellow"
   ]
  },
  {
   "cell_type": "markdown",
   "id": "6e5db877-2b87-4b94-904b-1e54bf5a3af4",
   "metadata": {},
   "source": [
    "### Delete object properties\n",
    "We can delete the object property by using the del keyword. After deleting it, if we try to access it. We will get error."
   ]
  },
  {
   "cell_type": "code",
   "execution_count": 1,
   "id": "e9ded621-07fc-49e6-b745-1ec55c320c24",
   "metadata": {},
   "outputs": [
    {
     "ename": "AttributeError",
     "evalue": "'fruit' object has no attribute 'x'",
     "output_type": "error",
     "traceback": [
      "\u001b[1;31m---------------------------------------------------------------------------\u001b[0m",
      "\u001b[1;31mAttributeError\u001b[0m                            Traceback (most recent call last)",
      "Cell \u001b[1;32mIn[1], line 16\u001b[0m\n\u001b[0;32m     14\u001b[0m \u001b[38;5;28;01mdel\u001b[39;00m obj\u001b[38;5;241m.\u001b[39mx \n\u001b[0;32m     15\u001b[0m \u001b[38;5;66;03m# calling the intance method using the object obj\u001b[39;00m\n\u001b[1;32m---> 16\u001b[0m obj\u001b[38;5;241m.\u001b[39mshow()\n",
      "Cell \u001b[1;32mIn[1], line 8\u001b[0m, in \u001b[0;36mfruit.show\u001b[1;34m(self)\u001b[0m\n\u001b[0;32m      7\u001b[0m \u001b[38;5;28;01mdef\u001b[39;00m \u001b[38;5;21mshow\u001b[39m(\u001b[38;5;28mself\u001b[39m):\n\u001b[1;32m----> 8\u001b[0m     \u001b[38;5;28mprint\u001b[39m(\u001b[38;5;124m\"\u001b[39m\u001b[38;5;124mfruit is \u001b[39m\u001b[38;5;124m\"\u001b[39m, \u001b[38;5;28mself\u001b[39m\u001b[38;5;241m.\u001b[39mx,\u001b[38;5;124m\"\u001b[39m\u001b[38;5;124mand colour is \u001b[39m\u001b[38;5;124m\"\u001b[39m,\u001b[38;5;28mself\u001b[39m\u001b[38;5;241m.\u001b[39my)\n",
      "\u001b[1;31mAttributeError\u001b[0m: 'fruit' object has no attribute 'x'"
     ]
    }
   ],
   "source": [
    "class fruit:\n",
    "    def __init__(self, name, colour):\n",
    "        self.x=name\n",
    "        self.y=colour\n",
    "# x and y are object properties or attributes respectively\n",
    "# qualifying for name and colour\n",
    "    def show(self):\n",
    "        print(\"fruit is \", self.x,\"and colour is \",self.y)\n",
    "\n",
    "# creating object of a class\n",
    "obj = fruit(\"mango\",\"yellow\")\n",
    "\n",
    "# modifying object properties\n",
    "del obj.x \n",
    "# calling the intance method using the object obj\n",
    "obj.show()\n",
    "# output is fruit is  banana and colour is  yellow"
   ]
  },
  {
   "cell_type": "code",
   "execution_count": 3,
   "id": "007597e2-bdcd-457e-a9be-48ce1002dfbe",
   "metadata": {},
   "outputs": [
    {
     "ename": "NameError",
     "evalue": "name 'name' is not defined",
     "output_type": "error",
     "traceback": [
      "\u001b[1;31m---------------------------------------------------------------------------\u001b[0m",
      "\u001b[1;31mNameError\u001b[0m                                 Traceback (most recent call last)",
      "Cell \u001b[1;32mIn[3], line 14\u001b[0m\n\u001b[0;32m     11\u001b[0m obj \u001b[38;5;241m=\u001b[39m fruit(\u001b[38;5;124m\"\u001b[39m\u001b[38;5;124mmango\u001b[39m\u001b[38;5;124m\"\u001b[39m,\u001b[38;5;124m\"\u001b[39m\u001b[38;5;124myellow\u001b[39m\u001b[38;5;124m\"\u001b[39m)\n\u001b[0;32m     13\u001b[0m \u001b[38;5;66;03m# modifying object properties\u001b[39;00m\n\u001b[1;32m---> 14\u001b[0m \u001b[38;5;28;01mdel\u001b[39;00m name\n\u001b[0;32m     15\u001b[0m \u001b[38;5;66;03m# calling the intance method using the object obj\u001b[39;00m\n\u001b[0;32m     16\u001b[0m obj\u001b[38;5;241m.\u001b[39mshow()\n",
      "\u001b[1;31mNameError\u001b[0m: name 'name' is not defined"
     ]
    }
   ],
   "source": [
    "class fruit:\n",
    "    def __init__(self, name, colour):\n",
    "        self.x=name\n",
    "        self.y=colour\n",
    "# x and y are object properties or attributes respectively\n",
    "# qualifying for name and colour\n",
    "    def show(self):\n",
    "        print(\"fruit is \", self.x,\"and colour is \",self.y)\n",
    "\n",
    "# creating object of a class\n",
    "obj = fruit(\"mango\",\"yellow\")\n",
    "\n",
    "# modifying object properties\n",
    "del name\n",
    "# calling the intance method using the object obj\n",
    "obj.show()\n",
    "# output is fruit is  banana and colour is  yellow"
   ]
  },
  {
   "cell_type": "markdown",
   "id": "290b5bef-18d3-4dca-87e5-49783d82a6d4",
   "metadata": {},
   "source": [
    "# Encapsulation in Python\n",
    "\n",
    "### What is Encapsulation in Python?\n",
    "Encapsulation in python describe the concept of bundling data methods within a single unit. So, for example, when you create a class, it means you are impleamenting encapsulation.A class is an example of encapsulation as it binds all data members(instance variables)and methods into a single unit.\r\n",
    "\r\n",
    "For example,Suppose you have an attribute that is not visible from the outside of an object and bundle it with method that provide read or write access.In that case, you can hide specific information and control access to the objects internal state. Encapsulation offers way for us to access the require variable without providing the program full-fledged access to all variables of a class. This mechanism is used to protect the data of an object from other objects."
   ]
  },
  {
   "cell_type": "markdown",
   "id": "959f0a47-8b4c-46b4-ab3a-6a6b1afb5acc",
   "metadata": {},
   "source": [
    "Using encapsulation, we can hide an objects internal representation from the outside. This is called information hiding.\n",
    "\n",
    "Also, encapsulation allow us to restrict accessing variables and methods directly and prevent accidental data modification by creating private data members and methods within a class."
   ]
  },
  {
   "cell_type": "markdown",
   "id": "ef5e3c5e-1a5a-4d5f-bc04-80709858c76d",
   "metadata": {},
   "source": [
    "## Access Modifiers in Python\n",
    "Encapsulation can be achieved by declaring the data members and methods of a class either as private or protected. But In Python, we don't have direct access modifiers like public, private, and protected . we can achieve this by using single underscore and double underscore.\n",
    "\n",
    "Access modifiers limit access to the variables and methods of a class. Python provides three types of access modifiers private, public, and protected.\n",
    "\n",
    "- Public Member: Accessible anywhere from outside of class\n",
    "- Private Member: Accessible within the class\n",
    "- Protected Member: Accessible within the class and its sub classes"
   ]
  },
  {
   "cell_type": "markdown",
   "id": "056b06c3-6c72-4d1f-915c-240a5ceb9b61",
   "metadata": {},
   "source": [
    "class Employee:\n",
    "    def __init__(self,name,project,salary):<br>\n",
    "        self.name=name              # public member<br>\n",
    "        self._ project=project      # protected<br>\n",
    "        self.__ salary=salary        #private\n",
    "        "
   ]
  },
  {
   "cell_type": "code",
   "execution_count": 3,
   "id": "3abb612c-295d-4307-9c69-729cd0acb901",
   "metadata": {},
   "outputs": [],
   "source": [
    "class Engineer:\n",
    "    def __init__( self,name, profession, salary):\n",
    "        self.name= name # public member \n",
    "        self._profession = profession # protected member\n",
    "        self.__salary = salary # private member\n",
    "       \n"
   ]
  },
  {
   "cell_type": "markdown",
   "id": "f282ad97-985a-4ba3-8028-33ba62d34e5c",
   "metadata": {},
   "source": [
    "## Public Member\n"
   ]
  },
  {
   "cell_type": "code",
   "execution_count": 4,
   "id": "d0ade516-76b6-4daa-9011-f75f25771288",
   "metadata": {},
   "outputs": [
    {
     "name": "stdout",
     "output_type": "stream",
     "text": [
      "fruit is  banana and colour is  yellow\n"
     ]
    }
   ],
   "source": [
    "class fruit:\n",
    "    def __init__(self, name, colour):\n",
    "        self.x=name\n",
    "        self.y=colour\n",
    "# x and y are object properties or attributes respectively\n",
    "# qualifying for name and colour\n",
    "    def show(self):\n",
    "        print(\"fruit is \", self.x,\"and colour is \",self.y)\n",
    "\n",
    "# creating object of a class\n",
    "obj = fruit(\"mango\",\"yellow\")\n",
    "\n",
    "# modifying object properties\n",
    "obj.x = \"banana\"\n",
    "# calling the intance method using the object obj\n",
    "obj.show()\n",
    "# output is fruit is  banana and colour is  yellow"
   ]
  },
  {
   "cell_type": "markdown",
   "id": "96124e89-f39c-4134-9e74-b237d809b3c1",
   "metadata": {},
   "source": [
    "## Private Member"
   ]
  },
  {
   "cell_type": "code",
   "execution_count": 5,
   "id": "ec6d0375-fef4-47a2-8b85-b33a80da29c0",
   "metadata": {},
   "outputs": [
    {
     "ename": "AttributeError",
     "evalue": "'fruit' object has no attribute 'y'",
     "output_type": "error",
     "traceback": [
      "\u001b[1;31m---------------------------------------------------------------------------\u001b[0m",
      "\u001b[1;31mAttributeError\u001b[0m                            Traceback (most recent call last)",
      "Cell \u001b[1;32mIn[5], line 16\u001b[0m\n\u001b[0;32m     14\u001b[0m obj\u001b[38;5;241m.\u001b[39mx \u001b[38;5;241m=\u001b[39m \u001b[38;5;124m\"\u001b[39m\u001b[38;5;124mbanana\u001b[39m\u001b[38;5;124m\"\u001b[39m\n\u001b[0;32m     15\u001b[0m \u001b[38;5;66;03m# calling the intance method using the object obj\u001b[39;00m\n\u001b[1;32m---> 16\u001b[0m obj\u001b[38;5;241m.\u001b[39mshow()\n",
      "Cell \u001b[1;32mIn[5], line 8\u001b[0m, in \u001b[0;36mfruit.show\u001b[1;34m(self)\u001b[0m\n\u001b[0;32m      7\u001b[0m \u001b[38;5;28;01mdef\u001b[39;00m \u001b[38;5;21mshow\u001b[39m(\u001b[38;5;28mself\u001b[39m):\n\u001b[1;32m----> 8\u001b[0m     \u001b[38;5;28mprint\u001b[39m(\u001b[38;5;124m\"\u001b[39m\u001b[38;5;124mfruit is \u001b[39m\u001b[38;5;124m\"\u001b[39m, \u001b[38;5;28mself\u001b[39m\u001b[38;5;241m.\u001b[39mx,\u001b[38;5;124m\"\u001b[39m\u001b[38;5;124mand colour is \u001b[39m\u001b[38;5;124m\"\u001b[39m,\u001b[38;5;28mself\u001b[39m\u001b[38;5;241m.\u001b[39my)\n",
      "\u001b[1;31mAttributeError\u001b[0m: 'fruit' object has no attribute 'y'"
     ]
    }
   ],
   "source": [
    "class fruit:\n",
    "    def __init__(self, name, colour):\n",
    "        self.x=name\n",
    "        self.__y=colour\n",
    "# x and y are object properties or attributes respectively\n",
    "# qualifying for name and colour\n",
    "    def show(self):\n",
    "        print(\"fruit is \", self.x,\"and colour is \",self.y)\n",
    "\n",
    "# creating object of a class\n",
    "obj = fruit(\"mango\",\"yellow\")\n",
    "\n",
    "# modifying object properties\n",
    "obj.x = \"banana\"\n",
    "# calling the intance method using the object obj\n",
    "obj.show()\n",
    "# output is fruit is  banana and colour is  yellow"
   ]
  },
  {
   "cell_type": "code",
   "execution_count": 6,
   "id": "97dc88e5-96f1-4283-a38e-a9a4213b1ee8",
   "metadata": {},
   "outputs": [
    {
     "ename": "AttributeError",
     "evalue": "'Student' object has no attribute 'percentage'",
     "output_type": "error",
     "traceback": [
      "\u001b[1;31m---------------------------------------------------------------------------\u001b[0m",
      "\u001b[1;31mAttributeError\u001b[0m                            Traceback (most recent call last)",
      "Cell \u001b[1;32mIn[6], line 10\u001b[0m\n\u001b[0;32m      7\u001b[0m         \u001b[38;5;28mprint\u001b[39m(\u001b[38;5;124m\"\u001b[39m\u001b[38;5;124mName is:\u001b[39m\u001b[38;5;124m\"\u001b[39m,\u001b[38;5;28mself\u001b[39m\u001b[38;5;241m.\u001b[39mname,\u001b[38;5;124m\"\u001b[39m\u001b[38;5;124mand percentage is:\u001b[39m\u001b[38;5;124m\"\u001b[39m,\u001b[38;5;28mself\u001b[39m\u001b[38;5;241m.\u001b[39mpercentage)\n\u001b[0;32m      9\u001b[0m stud \u001b[38;5;241m=\u001b[39m Student(\u001b[38;5;124m\"\u001b[39m\u001b[38;5;124mJessa\u001b[39m\u001b[38;5;124m\"\u001b[39m,\u001b[38;5;241m80\u001b[39m)\n\u001b[1;32m---> 10\u001b[0m stud\u001b[38;5;241m.\u001b[39mshow()\n",
      "Cell \u001b[1;32mIn[6], line 7\u001b[0m, in \u001b[0;36mStudent.show\u001b[1;34m(self)\u001b[0m\n\u001b[0;32m      6\u001b[0m \u001b[38;5;28;01mdef\u001b[39;00m \u001b[38;5;21mshow\u001b[39m(\u001b[38;5;28mself\u001b[39m):\n\u001b[1;32m----> 7\u001b[0m     \u001b[38;5;28mprint\u001b[39m(\u001b[38;5;124m\"\u001b[39m\u001b[38;5;124mName is:\u001b[39m\u001b[38;5;124m\"\u001b[39m,\u001b[38;5;28mself\u001b[39m\u001b[38;5;241m.\u001b[39mname,\u001b[38;5;124m\"\u001b[39m\u001b[38;5;124mand percentage is:\u001b[39m\u001b[38;5;124m\"\u001b[39m,\u001b[38;5;28mself\u001b[39m\u001b[38;5;241m.\u001b[39mpercentage)\n",
      "\u001b[1;31mAttributeError\u001b[0m: 'Student' object has no attribute 'percentage'"
     ]
    }
   ],
   "source": [
    "class Student:\n",
    "    def __init__(self,name,percentage):\n",
    "        self.name = name\n",
    "        self.__percentage = percentage\n",
    "\n",
    "    def show(self):\n",
    "        print(\"Name is:\",self.name,\"and percentage is:\",self.percentage)\n",
    "\n",
    "stud = Student(\"Jessa\",80)\n",
    "stud.show()"
   ]
  },
  {
   "cell_type": "markdown",
   "id": "afa319b3-7f07-4039-8d25-a8e53c3c7ed7",
   "metadata": {},
   "source": [
    "### Public methods to access private members\n",
    "Example: Access private member outside of a class using an instance method"
   ]
  },
  {
   "cell_type": "code",
   "execution_count": 2,
   "id": "e53dd4bb-361a-437f-bb63-3a5839612b12",
   "metadata": {},
   "outputs": [
    {
     "name": "stdout",
     "output_type": "stream",
     "text": [
      "Name: vidisha Salary: 10000\n"
     ]
    }
   ],
   "source": [
    "class Employee:\n",
    "    # constructor\n",
    "    def __init__(self, name, salary):\n",
    "        # public data member\n",
    "        self.name = name\n",
    "        self.__salary = salary\n",
    "\n",
    "    # public instance methods\n",
    "    def show(self):\n",
    "    # private members are accessible from a class    \n",
    "        print(\"Name:\",self.name, \"Salary:\",self.__salary)\n",
    "\n",
    "# creating object of a class\n",
    "emp= Employee(\"vidisha\",10000)\n",
    "emp.show()"
   ]
  },
  {
   "cell_type": "markdown",
   "id": "84ba7ada-acc3-420c-8ce0-68f44445469d",
   "metadata": {},
   "source": [
    "## Name Mangling to access private members\n",
    "We can directly access private and protected variable from outside of a through name mangling. The name mangling is create on an identifier by adding two leading underscores and one trailing underscore, like this _classname__dataMember, where classname is the current class, and data member is the private variable name."
   ]
  },
  {
   "cell_type": "code",
   "execution_count": 3,
   "id": "10a2ee79-5442-40cd-ba5f-f5b3a004d3bf",
   "metadata": {},
   "outputs": [
    {
     "name": "stdout",
     "output_type": "stream",
     "text": [
      "Name: vidisha\n",
      "salary: 10000\n"
     ]
    }
   ],
   "source": [
    "class Employee:\n",
    "    # constructor\n",
    "    def __init__(self, name, salary):\n",
    "        # public data member\n",
    "        self.name = name\n",
    "        self.__salary = salary\n",
    "\n",
    "# creating object of a class\n",
    "emp= Employee(\"vidisha\",10000)\n",
    "\n",
    "print(\"Name:\",emp.name)\n",
    "# direct access to private member using mangling\n",
    "print('salary:',emp._Employee__salary)"
   ]
  },
  {
   "cell_type": "code",
   "execution_count": null,
   "id": "ca3d1064-4c55-4296-8e8a-a96b0a8a04d7",
   "metadata": {},
   "outputs": [],
   "source": []
  },
  {
   "cell_type": "code",
   "execution_count": null,
   "id": "feeed66c-fd48-4fd2-bdad-d11232660d37",
   "metadata": {},
   "outputs": [],
   "source": []
  },
  {
   "cell_type": "markdown",
   "id": "d1cfdd2d-942f-4453-a00c-4406a590a6cd",
   "metadata": {},
   "source": [
    "# Protected Member\n",
    "Protected member are accessible within the class and also available to its sub-classes. To define a protected member, prifix the member name with a single underscore_.\n",
    "\n",
    "Protected data mambers are used when you implement inheritance and want to allow data members access to only child classes.\n",
    "\n",
    "Example: Protected member in inheritance."
   ]
  },
  {
   "cell_type": "code",
   "execution_count": 9,
   "id": "430da450-9d02-454d-b81f-7fa19b37a14a",
   "metadata": {},
   "outputs": [
    {
     "name": "stdout",
     "output_type": "stream",
     "text": [
      "Employee name: vidisha\n",
      "Working on project: ML\n",
      "Project: ML\n"
     ]
    }
   ],
   "source": [
    "# base class\n",
    "class Company:\n",
    "    def __init__(self):\n",
    "        # Protected member\n",
    "        self._project = \"ML\"\n",
    "\n",
    "# child class\n",
    "class Employee(Company):\n",
    "    def __init__(self, name):\n",
    "        self.name = name\n",
    "        Company.__init__(self)\n",
    "\n",
    "    def show(self):\n",
    "        print(\"Employee name:\", self.name)\n",
    "        # Accessing protected member in child class\n",
    "        print(\"Working on project:\", self._project)\n",
    "\n",
    "emp1 = Employee(\"vidisha\")\n",
    "emp1.show()\n",
    "\n",
    "# Direct access protected data member\n",
    "print(\"Project:\",emp1._project)"
   ]
  },
  {
   "cell_type": "markdown",
   "id": "572c0fae-fb8b-44dd-8546-0d74c8fbf16d",
   "metadata": {},
   "source": [
    "### Getters and Setters in Python\n"
   ]
  },
  {
   "cell_type": "markdown",
   "id": "99c2ca9c-73a0-4205-91fb-d20478030952",
   "metadata": {},
   "source": [
    "### Python super() function \n",
    "When a class inherits all properties and behaviors from the parent class is called inhertiance. In such a case, the inherited class is a subcalss and the latter class is the parent class.\n",
    "\n",
    "In child class, we can refer to parent class by using the super() function. The super function returns a temporary object of the parent class that allows us to call a parent class method inside a child class method.\n",
    "\n",
    "Benefits of using the super() function.\n",
    "\n",
    "We can not required to remember or specify the parent class name to access its methods. We can use the super() function in both single and multiple inheritance. The super() function supports code reuseability as there is no need to write the entire function."
   ]
  },
  {
   "cell_type": "code",
   "execution_count": 7,
   "id": "b0939205-93e5-4405-b9c2-f2d995dd094f",
   "metadata": {},
   "outputs": [
    {
     "name": "stdout",
     "output_type": "stream",
     "text": [
      "vidisha work at\n"
     ]
    },
    {
     "data": {
      "text/plain": [
       "'Google'"
      ]
     },
     "execution_count": 7,
     "metadata": {},
     "output_type": "execute_result"
    }
   ],
   "source": [
    "# base class\n",
    "class Company:\n",
    "    def company_name(self):\n",
    "        return \"Google\"\n",
    "\n",
    "# child class\n",
    "class Employee(Company):\n",
    "    def info(self):\n",
    "        print(\"vidisha work at\")\n",
    "\n",
    "\n",
    "emp1 = Employee()\n",
    "emp1.info()\n",
    "emp.company_name()"
   ]
  },
  {
   "cell_type": "code",
   "execution_count": 5,
   "id": "f3069d88-9e14-492a-91af-b89b00202a77",
   "metadata": {},
   "outputs": [
    {
     "name": "stdout",
     "output_type": "stream",
     "text": [
      "vidisha work at Google\n"
     ]
    }
   ],
   "source": [
    "# base class\n",
    "class Company:\n",
    "    def company_name(self):\n",
    "        return \"Google\"\n",
    "\n",
    "# child class\n",
    "class Employee(Company):\n",
    "    def info(self):\n",
    "        c_name = super().company_name()\n",
    "        print(\"vidisha work at\",c_name)\n",
    "\n",
    "# \n",
    "emp = Employee()\n",
    "emp.info()"
   ]
  },
  {
   "cell_type": "markdown",
   "id": "d695318f-b2e1-4cd0-9c5a-4ab301a88196",
   "metadata": {},
   "source": [
    "### type of inheritance\n",
    "In python, based upon the number of child and parent classes involved, there are five types of inheritance. The type of inheritance are listed below:\n",
    "- Single Inheritance\n",
    "- Multiple Inheritance\n",
    "- Multilevel Inheritance\n",
    "- Hierarchical Inheritance\n",
    "- Hybrid Inheritance\n",
    "  \n",
    "Now let's see each in detail with an example."
   ]
  },
  {
   "cell_type": "markdown",
   "id": "22e46eb1-ae02-4ff8-a5ad-40e6cbe996fe",
   "metadata": {},
   "source": [
    "#### Single Inheritance\n",
    "In single Inheritance, a child class inherits from a single-parent class. Here is a one chlid class and one parent class."
   ]
  },
  {
   "cell_type": "code",
   "execution_count": 9,
   "id": "98de702f-44b1-4b37-a807-cc3c0da167f2",
   "metadata": {},
   "outputs": [
    {
     "name": "stdout",
     "output_type": "stream",
     "text": [
      "Inside Vehicle class\n",
      "Inside car class\n"
     ]
    }
   ],
   "source": [
    "# base class\n",
    "class Vehicle:\n",
    "    def Vehicle_info(self):\n",
    "        print('Inside Vehicle class')\n",
    "\n",
    "# Child class\n",
    "class Car(Vehicle):\n",
    "    def car_info(self):\n",
    "        print('Inside car class')\n",
    "\n",
    "# create object of car\n",
    "car = Car()\n",
    "# access Vehicle's info using car object\n",
    "car.Vehicle_info()\n",
    "car.car_info()\n"
   ]
  },
  {
   "cell_type": "code",
   "execution_count": 12,
   "id": "455a56c7-65eb-4e5e-b1e4-991694b70393",
   "metadata": {},
   "outputs": [
    {
     "name": "stdout",
     "output_type": "stream",
     "text": [
      "Inside car class Inside Vehicle class\n"
     ]
    }
   ],
   "source": [
    "# base class\n",
    "class Vehicle:\n",
    "    def Vehicle_info(self):\n",
    "        return 'Inside Vehicle class'\n",
    "\n",
    "# Child class\n",
    "class Car(Vehicle):\n",
    "    def car_info(self):\n",
    "        c_name= super().Vehicle_info()\n",
    "        print('Inside car class',c_name)\n",
    "\n",
    "# create object of car\n",
    "car = Car()\n",
    "# access Vehicle's info using car object\n",
    "\n",
    "car.car_info()\n"
   ]
  },
  {
   "cell_type": "markdown",
   "id": "edf6edf7-51ab-4f27-856d-bafa37cc66a8",
   "metadata": {},
   "source": [
    "### Multiple Inheritance\n",
    "In multiple Inheritance,one child class can inherit from multiple parent classes.So here is one child class and multiple parent classes."
   ]
  },
  {
   "cell_type": "code",
   "execution_count": 1,
   "id": "232bc65d-0a66-462d-a6f8-26cd52a6bda9",
   "metadata": {},
   "outputs": [
    {
     "name": "stdout",
     "output_type": "stream",
     "text": [
      "company \n",
      "Fashion company\n",
      "aluminum company\n"
     ]
    }
   ],
   "source": [
    "class Company1:\n",
    "    def Company1_info(self):\n",
    "        print(\"Fashion company\")\n",
    "class Company2:\n",
    "    def Company2_info(self):\n",
    "        print(\"aluminum company\")\n",
    "class Company(Company1, Company2):\n",
    "    def Company_info(self):\n",
    "        print(\"company \")\n",
    "\n",
    "com= Company()\n",
    "com.Company_info()\n",
    "com.Company1_info()\n",
    "com.Company2_info()"
   ]
  },
  {
   "cell_type": "markdown",
   "id": "889dcfcd-5938-4590-92f1-497278e96c44",
   "metadata": {},
   "source": [
    "### Multilevel inheritance\n",
    "In multilevel inheritance, a class inherit from a child class or derived class. Suppose there are three classesA,B,C. A is the superclass,B is the child class of A. C is the child class of B. In other words, we can say a chain of classes is called multilevel inheritance. "
   ]
  },
  {
   "cell_type": "code",
   "execution_count": 2,
   "id": "428171af-4963-478c-8e30-31fb66019491",
   "metadata": {},
   "outputs": [
    {
     "name": "stdout",
     "output_type": "stream",
     "text": [
      "Person1 is grandparent\n",
      "Person2 is parent\n",
      "Person3 child\n"
     ]
    }
   ],
   "source": [
    "class person1:\n",
    "    def person_info(self):\n",
    "        print(\"Person1 is grandparent\")\n",
    "class person2(person1):\n",
    "    def person2_info(self):\n",
    "        print('Person2 is parent')\n",
    "class person3(person2):\n",
    "    def person3_info(self):\n",
    "        print(\"Person3 child\")\n",
    "per=person3()\n",
    "per.person_info()\n",
    "per.person2_info()\n",
    "per.person3_info()"
   ]
  },
  {
   "cell_type": "code",
   "execution_count": null,
   "id": "37bc1f94-9773-43d8-8ac8-1845ff32c221",
   "metadata": {},
   "outputs": [],
   "source": []
  },
  {
   "cell_type": "code",
   "execution_count": null,
   "id": "2f87c692-a2b4-4935-8157-b60fda94f4bb",
   "metadata": {},
   "outputs": [],
   "source": []
  },
  {
   "cell_type": "code",
   "execution_count": null,
   "id": "4cd7e59c-2ecf-47c8-bf75-7895e2976f29",
   "metadata": {},
   "outputs": [],
   "source": []
  },
  {
   "cell_type": "code",
   "execution_count": null,
   "id": "34504f6c-4a11-4af6-bcaa-a7e0258d51f9",
   "metadata": {},
   "outputs": [],
   "source": []
  },
  {
   "cell_type": "code",
   "execution_count": null,
   "id": "ec013fbf-3585-4a73-a55d-3d6e9461a42f",
   "metadata": {},
   "outputs": [],
   "source": []
  },
  {
   "cell_type": "markdown",
   "id": "c99071e9-e923-4b84-b1f1-2d18227b4a60",
   "metadata": {},
   "source": [
    "### Method Overriding\n",
    "In inheritance, all members available in the parent class are by default available in the child class.If the child class does not satisfy with parent class implementation, then the child classs is allowed to redefine that method by extending addtional function in the child class."
   ]
  },
  {
   "cell_type": "code",
   "execution_count": 1,
   "id": "46f3cf9d-ded0-4367-a3e1-20ced38eac03",
   "metadata": {},
   "outputs": [
    {
     "name": "stdout",
     "output_type": "stream",
     "text": [
      "max speed is 200 km/hr\n"
     ]
    }
   ],
   "source": [
    "class Vehicle:\n",
    "    def max_speed(self):\n",
    "        print('max speed is 100 km/hr')\n",
    "\n",
    "class Car(Vehicle):\n",
    "    # overridden the implementation of vehicle class\n",
    "    def max_speed(self):\n",
    "        print(\"max speed is 200 km/hr\")\n",
    "\n",
    "# creating object class \n",
    "car = Car()\n",
    "car.max_speed()"
   ]
  },
  {
   "cell_type": "markdown",
   "id": "79a3eb3c-e7dc-4617-b5c6-4e7f256d2e0a",
   "metadata": {},
   "source": [
    "### Method Resolution Order in Python\n",
    "In Python, Method Resolution Order(MRO) is the order by which Python looks for a method or attribute. First, the method or attribute in seached within a class, and then it follow the order we specified while inheriting.\n",
    "\n",
    "This order is also called the Linearization of a class, and a set of rules is called MRO (Method Resolution Order). The MRO plays an essential role in multiple inheritance as a single method may found in multiple parent classes.\n",
    "\n",
    "In multiple inheritance, the following search order is followed.\n",
    "\n",
    "first it seached in the current parent class iff not available, then searches in the parent class spefcified while inheriting(that is left to right). we can get the MRO of a class, for this purpose, We can use either the mro attribute or the mro() method.\n",
    "\n"
   ]
  },
  {
   "cell_type": "code",
   "execution_count": 2,
   "id": "57f4e9ab-f893-492d-b80c-9e92a2e701ba",
   "metadata": {},
   "outputs": [
    {
     "name": "stdout",
     "output_type": "stream",
     "text": [
      "In class C\n",
      "[<class '__main__.C'>, <class '__main__.B'>, <class '__main__.A'>, <class 'object'>]\n"
     ]
    }
   ],
   "source": [
    "class A:\n",
    "    def process(self):\n",
    "        print(\"In class A\")\n",
    "\n",
    "class B(A):\n",
    "    def process(self):\n",
    "        print(\"In class B\")\n",
    "\n",
    "class C(B, A):\n",
    "    def process(self):\n",
    "        print(\"In class C\")\n",
    "\n",
    "# creating object class\n",
    "C1 = C()\n",
    "C1.process()\n",
    "print(C.mro())"
   ]
  },
  {
   "cell_type": "markdown",
   "id": "c93cd301-bf78-44dd-a192-e360e97325b9",
   "metadata": {},
   "source": [
    "In the above example, we create three classes nemed A, B and C. class B is inherited from A, class C inherits from B and A. when we create an object of the C class and calling the process() method, Python looks for the process() method in the current class in the C class itself.\n",
    "\n",
    "Then search for parent classes, namely B and A, because C class inherit from B and A. that is C(B, A) and alWAYS search is left to right manners."
   ]
  },
  {
   "cell_type": "markdown",
   "id": "d5ecfe88-349a-43a2-aca4-6b4a4dcf9aac",
   "metadata": {},
   "source": [
    "### Polymorphism in Python \n",
    "Object-Oriented Programming (OOP) has four essential characteristics: abstraction, encapsulation, inheritance, and polymorphism.\n",
    "\n",
    "This lesson will cover what polymorphism is how to implement then in python. Also, we will learn how to implement polymorphism using function overloading , Method overloading and operator overloading."
   ]
  },
  {
   "cell_type": "markdown",
   "id": "748d6f4f-ead0-4fbc-9434-8d8476d46555",
   "metadata": {},
   "source": [
    "### What is Polymorphism in Python? : Multi role in life\n",
    "polymorphism in Python is the ability of an object to make many forms. In simple works, polymorphism allow us to perform the action in many different ways.\n",
    "\n",
    "polymorphism is a word that came from two greek words, poly means many and morphos means forms, if sometime exhibits various forms, it is called as polymorphism.\n",
    "\n",
    "Let's take a simple example in our daily life. Assume that we have wheat flour. Using this wheat flour, we can make burgers, rotis or loaves of bread.\n",
    "\n",
    "It means same wheat flour is taking different edible forms and hence we can say wheat flour is exibiting polymorphism."
   ]
  },
  {
   "cell_type": "markdown",
   "id": "9cb3d11a-d80a-4cc5-9119-6f70a73c9eeb",
   "metadata": {},
   "source": [
    "### How to implement Polymorphism \n",
    " We can make the function, method and operator polymorphic through overloading\n",
    " - function overloading,\n",
    " - method override,and\n",
    " - operator overloading"
   ]
  },
  {
   "cell_type": "markdown",
   "id": "bc3c3670-36ce-4cab-9e70-8071d66b3598",
   "metadata": {},
   "source": [
    "### polymorphism in built-in function len()\n",
    "The built-in function len() calculate the length, of an object depending upon its type, if an object is a string. it return the count of characters, and if an object is a list, it returns the count of items in a list.\n",
    "\n",
    "<b>The len() method treats an object as per its class type</b>"
   ]
  },
  {
   "cell_type": "code",
   "execution_count": 5,
   "id": "729cd288-a776-48e6-87af-d7d2fc01ccec",
   "metadata": {},
   "outputs": [
    {
     "name": "stdout",
     "output_type": "stream",
     "text": [
      "3\n",
      "5\n"
     ]
    }
   ],
   "source": [
    "student = [\"gomes\",\"disha\",\"rupali\"]\n",
    "institute = \"viaAI\"\n",
    "\n",
    "print(len(student))\n",
    "print(len(institute))"
   ]
  },
  {
   "cell_type": "markdown",
   "id": "7dce6875-09a2-4852-9e55-46189adf8221",
   "metadata": {},
   "source": [
    "### Polymorphism With Inheritance\n",
    "- Polymorphism is mainly used with inheritance. In inheritance, child class inherits the attributes and methods of a parent class. The existing class is called a base class or parent class, and the new class is called a subclass or child class or drived class.\n",
    "- Using method overriding polymorphism allows us to define methods in the child class that have the same name as subclass or child or derived class."
   ]
  },
  {
   "cell_type": "markdown",
   "id": "54151474-bdb7-4284-837a-a62e79eaa857",
   "metadata": {},
   "source": [
    "### what is method overriding?\n",
    "This process of re-implementing the inherited method in the child class is known as Method Overridong."
   ]
  },
  {
   "cell_type": "markdown",
   "id": "867c7ae2-efff-4a73-ac67-b62b222e06d4",
   "metadata": {},
   "source": [
    "### Advantage of method overriding\n",
    "It is effective when we want to extend the functionally "
   ]
  },
  {
   "cell_type": "code",
   "execution_count": 3,
   "id": "3224ea80-dce2-4faf-a209-d76a65539954",
   "metadata": {},
   "outputs": [
    {
     "name": "stdout",
     "output_type": "stream",
     "text": [
      "details car x1 red 20000\n",
      "Car max speed is 240\n",
      "vehicle change 7 gear\n",
      "details truck x1 white 75000\n",
      "vehicle max speed is 150\n",
      "vehicle change 6 gear\n"
     ]
    }
   ],
   "source": [
    "class Vehicle:\n",
    "    def __init__(self,name,color,price):\n",
    "        self.name= name\n",
    "        self.color=color\n",
    "        self.price=price\n",
    "\n",
    "    def show(self):\n",
    "        print('details',self.name,self.color,self.price)\n",
    "\n",
    "    def max_speed(self):\n",
    "        print('vehicle max speed is 150')\n",
    "\n",
    "    def change_gear(self):\n",
    "        print('vehicle change 6 gear')\n",
    "\n",
    "# inherit from class\n",
    "class Car(Vehicle):\n",
    "    def max_speed(self):\n",
    "        print('Car max speed is 240')\n",
    "\n",
    "    def change_gear(self):\n",
    "        print('vehicle change 7 gear')\n",
    "\n",
    "# car Object\n",
    "car = Car(\"car x1\",'red',20000)\n",
    "car.show()\n",
    "# call methods from car class\n",
    "car.max_speed()\n",
    "car.change_gear()\n",
    "\n",
    "# Vehicle object\n",
    "vehicle = Vehicle('truck x1',\"white\",75000)\n",
    "vehicle.show()\n",
    "# call methods from vehicle class\n",
    "vehicle.max_speed()\n",
    "vehicle.change_gear()"
   ]
  },
  {
   "cell_type": "markdown",
   "id": "e81f28fc-0959-4ded-ae8c-2cc7688e1e19",
   "metadata": {},
   "source": [
    "### What is method overriding?\n",
    "This process of re-implementing the inherited method in the child class is known as method overriding."
   ]
  },
  {
   "cell_type": "markdown",
   "id": "2cdcc3e1-9770-476a-ab0c-d3d19f558562",
   "metadata": {},
   "source": [
    "### Override Built-in function\n",
    "In Python, we can change the default behavior of the built-in-function. For example, we can change or extend the built-in-function such as len(), abs(), or divmod() by redefining them in our class. Let's see the example.\n",
    "\n",
    "We can \n",
    "\n",
    "overriding can be done only in built-in-function\n",
    "\n",
    "Example\n",
    "\n",
    "In this examle, we will redefine the function len()\n"
   ]
  },
  {
   "cell_type": "code",
   "execution_count": 2,
   "id": "81075564-dbbf-4260-82ea-1e667b3817c8",
   "metadata": {},
   "outputs": [
    {
     "name": "stdout",
     "output_type": "stream",
     "text": [
      "Redefine length\n",
      "2\n"
     ]
    }
   ],
   "source": [
    "class Shopping:\n",
    "    def __init__(self,basket,buyer):\n",
    "        self.basket = list(basket)\n",
    "        self.buyer = buyer\n",
    "\n",
    "    def __len__(self):\n",
    "        print('Redefine length')\n",
    "        count = len(self.basket)\n",
    "        # count total items in a different way\n",
    "        return count\n",
    "\n",
    "shopping = Shopping(['shoes','dress'],'vidisha')\n",
    "print(len(shopping))"
   ]
  },
  {
   "cell_type": "code",
   "execution_count": 1,
   "id": "cf0a67e6-932c-458f-9489-609cb77f99fa",
   "metadata": {},
   "outputs": [
    {
     "name": "stdout",
     "output_type": "stream",
     "text": [
      "Redefine length\n",
      "6\n"
     ]
    }
   ],
   "source": [
    "class Shopping:\n",
    "    def __init__(self,basket,buyer):\n",
    "        self.basket = list(basket)\n",
    "        self.buyer = buyer\n",
    "\n",
    "    def __len__(self):\n",
    "        print('Redefine length')\n",
    "        count = len(self.basket)\n",
    "        # count total items in a different way\n",
    "        return count*3\n",
    "\n",
    "shopping = Shopping(['shoes','dress'],'vidisha')\n",
    "print(len(shopping))"
   ]
  },
  {
   "cell_type": "code",
   "execution_count": 2,
   "id": "3526c690-aed0-49f5-9a1a-30e491ec0296",
   "metadata": {},
   "outputs": [
    {
     "ename": "NameError",
     "evalue": "name 'pen' is not defined",
     "output_type": "error",
     "traceback": [
      "\u001b[1;31m---------------------------------------------------------------------------\u001b[0m",
      "\u001b[1;31mNameError\u001b[0m                                 Traceback (most recent call last)",
      "Cell \u001b[1;32mIn[2], line 13\u001b[0m\n\u001b[0;32m     10\u001b[0m         \u001b[38;5;28;01mreturn\u001b[39;00m count\u001b[38;5;241m*\u001b[39m\u001b[38;5;241m3\u001b[39m\n\u001b[0;32m     12\u001b[0m shopping \u001b[38;5;241m=\u001b[39m Shopping([\u001b[38;5;124m'\u001b[39m\u001b[38;5;124mshoes\u001b[39m\u001b[38;5;124m'\u001b[39m,\u001b[38;5;124m'\u001b[39m\u001b[38;5;124mdress\u001b[39m\u001b[38;5;124m'\u001b[39m],\u001b[38;5;124m'\u001b[39m\u001b[38;5;124mvidisha\u001b[39m\u001b[38;5;124m'\u001b[39m)\n\u001b[1;32m---> 13\u001b[0m \u001b[38;5;28mprint\u001b[39m(pen(shopping))\n",
      "\u001b[1;31mNameError\u001b[0m: name 'pen' is not defined"
     ]
    }
   ],
   "source": [
    "class Shopping:\n",
    "    def __init__(self,basket,buyer):\n",
    "        self.basket = list(basket)\n",
    "        self.buyer = buyer\n",
    "\n",
    "    def __pen__(self):\n",
    "        print('Redefine length')\n",
    "        count = len(self.basket)\n",
    "        # count total items in a different way\n",
    "        return count*3\n",
    "\n",
    "shopping = Shopping(['shoes','dress'],'vidisha')\n",
    "print(pen(shopping))"
   ]
  },
  {
   "cell_type": "markdown",
   "id": "96f6e6cc-3223-4cf4-92fd-7ba8df8f4afb",
   "metadata": {},
   "source": [
    "### Polymorphism In Class Methods\n",
    "Polymorphism with class methods is useful when we group different objects having the same method. we can add them to a list or a tuple, and we don't need to check type before calling their methods. Instead, Python will check object type at runtime and call the correct method. Thus, we can call the methods without being concerned about which class type each object is. We assume that these methods exist in each class. \n",
    "\n",
    "Python allow different classes to have methods with the same name."
   ]
  },
  {
   "cell_type": "code",
   "execution_count": 3,
   "id": "b610f744-04e7-4f05-8ec8-e401c1d7aaf2",
   "metadata": {},
   "outputs": [
    {
     "name": "stdout",
     "output_type": "stream",
     "text": [
      "Petrol\n",
      "Max speed 340\n",
      "diesel\n",
      "Max speed is 245\n"
     ]
    }
   ],
   "source": [
    "class Ferrari:\n",
    "    def fuel_type(self):\n",
    "        print('Petrol')\n",
    "\n",
    "    def max_speed(self):\n",
    "        print('Max speed 340')\n",
    "\n",
    "class BMW:\n",
    "    def fuel_type(self):\n",
    "        print('diesel')\n",
    "\n",
    "    def max_speed(self):\n",
    "        print('Max speed is 245')\n",
    "\n",
    "ferrari = Ferrari()\n",
    "bmw=BMW()\n",
    "\n",
    "# iterate objects of same type\n",
    "for car in (ferrari,bmw):\n",
    "    # call methods without checking class of object\n",
    "    car.fuel_type()\n",
    "    car.max_speed()"
   ]
  },
  {
   "cell_type": "code",
   "execution_count": 4,
   "id": "550a2a41-da3a-4e55-a589-7083445d094f",
   "metadata": {},
   "outputs": [
    {
     "name": "stdout",
     "output_type": "stream",
     "text": [
      "Petrol\n",
      "diesel\n",
      "Max speed 340\n",
      "Max speed is 245\n"
     ]
    }
   ],
   "source": [
    "class Ferrari:\n",
    "    def fuel_type(self):\n",
    "        print('Petrol')\n",
    "\n",
    "    def max_speed(self):\n",
    "        print('Max speed 340')\n",
    "\n",
    "class BMW:\n",
    "    def fuel_type(self):\n",
    "        print('diesel')\n",
    "\n",
    "    def max_speed(self):\n",
    "        print('Max speed is 245')\n",
    "\n",
    "ferrari = Ferrari()\n",
    "bmw=BMW()\n",
    "ferrari.fuel_type()\n",
    "bmw.fuel_type()\n",
    "ferrari.max_speed()\n",
    "bmw.max_speed()"
   ]
  },
  {
   "cell_type": "code",
   "execution_count": 3,
   "id": "f53d3062-608a-49fd-a33f-87eb1e80eda0",
   "metadata": {},
   "outputs": [
    {
     "name": "stdout",
     "output_type": "stream",
     "text": [
      "Petrol\n",
      "Max speed 340\n",
      "diesel\n",
      "Max speed is 245\n"
     ]
    }
   ],
   "source": [
    "class Ferrari:\n",
    "    def fuel_type(self):\n",
    "        print('Petrol')\n",
    "\n",
    "    def max_speed(self):\n",
    "        print('Max speed 340')\n",
    "\n",
    "class BMW:\n",
    "    def fuel_type(self):\n",
    "        print('diesel')\n",
    "\n",
    "    def max_speed(self):\n",
    "        print('Max speed is 245')\n",
    "\n",
    "ferrari = Ferrari()\n",
    "bmw=BMW()\n",
    "\n",
    "car_details(ferrari)\n",
    "car_details(bmw)\n"
   ]
  },
  {
   "cell_type": "markdown",
   "id": "f125e851-9927-4fce-890a-642b4ab41960",
   "metadata": {},
   "source": [
    "### Polymorphism with Function and Objects\n",
    "We can create polymorphism with a function that can take any object as a parameter and execute its method without checking its class type. Using this, we can call object actions using the same function instead of repeating method calls."
   ]
  },
  {
   "cell_type": "code",
   "execution_count": 2,
   "id": "9c0c4ffd-11ed-469c-b906-e544d5b55e3e",
   "metadata": {},
   "outputs": [
    {
     "name": "stdout",
     "output_type": "stream",
     "text": [
      "Petrol\n",
      "Max speed 350\n",
      "diesel\n",
      "Max speed is 240\n"
     ]
    }
   ],
   "source": [
    "class Ferrari:\n",
    "    def fuel_type(self):\n",
    "        print('Petrol')\n",
    "\n",
    "    def max_speed(self):\n",
    "        print('Max speed 350')\n",
    "\n",
    "class BMW:\n",
    "    def fuel_type(self):\n",
    "        print('diesel')\n",
    "\n",
    "    def max_speed(self):\n",
    "        print('Max speed is 240')\n",
    "\n",
    "# normal function\n",
    "def car_details(obj):\n",
    "    obj.fuel_type()\n",
    "    obj.max_speed()\n",
    "\n",
    "ferrari = Ferrari()\n",
    "bmw = BMW()\n",
    "\n",
    "car_details(ferrari)\n",
    "car_details(bmw)"
   ]
  },
  {
   "cell_type": "code",
   "execution_count": 8,
   "id": "4bf1181c-2f4b-4a0c-83c8-13c8effb8aeb",
   "metadata": {},
   "outputs": [
    {
     "name": "stdout",
     "output_type": "stream",
     "text": [
      "petrol\n",
      "max speed is 350\n",
      "diesel\n",
      "max speed is 240\n"
     ]
    }
   ],
   "source": [
    "class Ferrari:\n",
    "    def fuel_type(self):\n",
    "        print('petrol')\n",
    "\n",
    "    def max_speed(self):\n",
    "        print('max speed is 350')\n",
    "\n",
    "class BMW:\n",
    "    def fuel_type(self):\n",
    "        print('diesel')\n",
    "\n",
    "    def max_speed(self):\n",
    "        print('max speed is 240')\n",
    "\n",
    "def car_details(obj):\n",
    "    obj.fuel_type()\n",
    "    obj.max_speed()\n",
    "\n",
    "ferrari = Ferrari()\n",
    "bmw=BMW()\n",
    "\n",
    "car_details(ferrari)\n",
    "car_details(bmw)\n"
   ]
  },
  {
   "cell_type": "code",
   "execution_count": 11,
   "id": "827865af-e2ac-42f5-97aa-8d9cfa9f0b2d",
   "metadata": {},
   "outputs": [
    {
     "name": "stdout",
     "output_type": "stream",
     "text": [
      "petrol\n",
      "max speed is 350\n",
      "diesel\n",
      "max speed is 245\n",
      "diesel\n",
      "max speed is 400\n"
     ]
    }
   ],
   "source": [
    "class Ferrari:\n",
    "    def fuel_type(self):\n",
    "        print('petrol')\n",
    "\n",
    "    def max_speed(self):\n",
    "        print('max speed is 350')\n",
    "\n",
    "class BMW:\n",
    "    def fuel_type(self):\n",
    "        print('diesel')\n",
    "\n",
    "    def max_speed(self):\n",
    "        print('max speed is 245')\n",
    "\n",
    "class Maruti:\n",
    "     def fuel_type(self):\n",
    "        print('diesel')\n",
    "\n",
    "     def max_speed(self):\n",
    "        print('max speed is 400')\n",
    "def car_details(obj):\n",
    "    obj.fuel_type()\n",
    "    obj.max_speed()\n",
    "\n",
    "ferrari = Ferrari()\n",
    "bmw = BMW()\n",
    "maruti = Maruti()\n",
    "car_details(ferrari)\n",
    "car_details(bmw)\n",
    "car_details(maruti)"
   ]
  },
  {
   "cell_type": "markdown",
   "id": "b4e377c1-eddb-440a-a79f-bfd18c0c3780",
   "metadata": {},
   "source": [
    "# Polymorphism in built in methods\n",
    "The word polymorphism is taken from the Greek words poly (many) and morphism (forms). It means a method can process objects differently depending on the class type or data type."
   ]
  },
  {
   "cell_type": "code",
   "execution_count": 1,
   "id": "eaafc753-4df0-4dba-9a88-9696269a9548",
   "metadata": {},
   "outputs": [
    {
     "name": "stdout",
     "output_type": "stream",
     "text": [
      "reverse string\n",
      "I A J I V \n",
      "Reverse list\n",
      "Yash Raj Sururyansh "
     ]
    }
   ],
   "source": [
    "students = ['Emma','Jessa', 'Kelly']\n",
    "school = 'ABC School'\n",
    "\n",
    "print('reverse string')\n",
    "for i in reversed('VIJAI'):\n",
    "    print(i,end=' ')\n",
    "\n",
    "print('\\nReverse list')\n",
    "for i in reversed(['Sururyansh', 'Raj', 'Yash']):\n",
    "    print(i, end=' ')"
   ]
  },
  {
   "cell_type": "markdown",
   "id": "9b39cb5e-bb67-4c4d-987a-867b05971591",
   "metadata": {},
   "source": [
    "### Overloading\n",
    "Overloading, in the context of computer programming, refers to the ability to define multiple function or methods with the same name within same scope, but with different parameters or type. In other words, you can have multiple functions or methods in a program with the same name , but they should have a different numbers or type of parameters.\n"
   ]
  },
  {
   "cell_type": "code",
   "execution_count": 2,
   "id": "ef0cbd62-9399-4f1e-8591-122ed3e1c00f",
   "metadata": {},
   "outputs": [
    {
     "name": "stdout",
     "output_type": "stream",
     "text": [
      "preparing a medium-sized regular.\n",
      "preparing a large-sized caramel.\n"
     ]
    }
   ],
   "source": [
    "def coffee_order(size, type_of_coffee):\n",
    "    print(f\"preparing a {size}-sized {type_of_coffee}.\")\n",
    "\n",
    "# function overloading based on the number of parameters\n",
    "def make_coffee(size):\n",
    "    coffee_order(size,\"regular\")\n",
    "\n",
    "def make_special_coffee(size, special_flavor):\n",
    "    coffee_order(size, special_flavor)\n",
    "\n",
    "# Example usage\n",
    "make_coffee(\"medium\")\n",
    "make_special_coffee(\"large\",\"caramel\")"
   ]
  },
  {
   "cell_type": "markdown",
   "id": "99832fcc-8628-4315-a79d-d6a788ec825a",
   "metadata": {},
   "source": [
    "in this example, the coffee_order function is 'overloaded' based on the number of parameters depending on how many parameters are provided, the function behaves differently, this is simplified analogy to function overloading in programming. when the behaviour of function is determined by the types and number of its parameters."
   ]
  },
  {
   "cell_type": "markdown",
   "id": "b247f6c5-07b0-4f35-b44d-8345115c994c",
   "metadata": {},
   "source": [
    "## Method overloading\n",
    "The process of calling same method with different parameters is known as method overloading. Python does not support method overloading. Python considers only the latest defined method even if you overload the method. Python will raise a 'typeError' if you overload the method."
   ]
  },
  {
   "cell_type": "markdown",
   "id": "1726ec98-9065-4e41-b42b-f92b872e70e8",
   "metadata": {},
   "source": []
  },
  {
   "cell_type": "raw",
   "id": "8ecc5875-64a4-4af9-be8b-ef7f2d61399e",
   "metadata": {},
   "source": []
  },
  {
   "cell_type": "code",
   "execution_count": 3,
   "id": "0714f195-0f8f-4440-9047-adbceffc4392",
   "metadata": {},
   "outputs": [
    {
     "ename": "TypeError",
     "evalue": "addition() missing 1 required positional argument: 'c'",
     "output_type": "error",
     "traceback": [
      "\u001b[1;31m---------------------------------------------------------------------------\u001b[0m",
      "\u001b[1;31mTypeError\u001b[0m                                 Traceback (most recent call last)",
      "Cell \u001b[1;32mIn[3], line 10\u001b[0m\n\u001b[0;32m      7\u001b[0m     \u001b[38;5;28mprint\u001b[39m(d)\n\u001b[0;32m      9\u001b[0m \u001b[38;5;66;03m# the below line show an error\u001b[39;00m\n\u001b[1;32m---> 10\u001b[0m addition(\u001b[38;5;241m4\u001b[39m,\u001b[38;5;241m5\u001b[39m)\n\u001b[0;32m     12\u001b[0m \u001b[38;5;66;03m# this line will call the second product method\u001b[39;00m\n\u001b[0;32m     13\u001b[0m addition(\u001b[38;5;241m3\u001b[39m, \u001b[38;5;241m7\u001b[39m, \u001b[38;5;241m5\u001b[39m)\n",
      "\u001b[1;31mTypeError\u001b[0m: addition() missing 1 required positional argument: 'c'"
     ]
    }
   ],
   "source": [
    "def adddition(a, b):\n",
    "    c=a+b\n",
    "    print(c)\n",
    "\n",
    "def addition(a, b, c):\n",
    "    d= a+b+c\n",
    "    print(d)\n",
    "\n",
    "# the below line show an error\n",
    "addition(4,5)\n",
    "\n",
    "# this line will call the second product method\n",
    "addition(3, 7, 5)"
   ]
  },
  {
   "cell_type": "markdown",
   "id": "3c1e287a-08a4-44c6-a07a-9ccf15aec2f0",
   "metadata": {},
   "source": [
    "### Operator overloading in Python\n",
    "Operator overloasing means changing the default behaviour of an operator depending on the operands (values) that we use. In other words, we can use the same operand for multiple purposes.\n",
    "\n",
    "For example, the + operator will perform an arithematic addition operation whenused with numbers likewise, it will perform concatination when used with string.\n",
    "\n",
    "the operator + is used to carery out different operations for distinct data types. this is one of the most simple occurances of polymorphism in python."
   ]
  },
  {
   "cell_type": "code",
   "execution_count": 1,
   "id": "0d8af504-22f7-4487-9434-eaddcefcfdb7",
   "metadata": {},
   "outputs": [
    {
     "name": "stdout",
     "output_type": "stream",
     "text": [
      "300\n",
      "VijayaRoy\n",
      "[10, 20, 30, 'vidisha', 'vinod', 'vibhuti']\n"
     ]
    },
    {
     "data": {
      "text/plain": [
       "56"
      ]
     },
     "execution_count": 1,
     "metadata": {},
     "output_type": "execute_result"
    }
   ],
   "source": [
    "# add 2 numbers\n",
    "print(100+200)\n",
    "\n",
    "# concatenate two string\n",
    "print(\"Vijaya\"+'Roy')\n",
    "\n",
    "# merge two list\n",
    "print([10,20,30]+['vidisha','vinod','vibhuti'])\n",
    "56"
   ]
  },
  {
   "cell_type": "markdown",
   "id": "119df485-7cb2-4d60-87c8-53e33ab32b6f",
   "metadata": {},
   "source": [
    "### Overloading + operator for custom objects\n",
    "Suppose we have two objects, and we want to add these two objects with a binary + operator . However, it will throw an error if we perform addition because the compiler doesn't sdd two objects. see the following examples for more details,"
   ]
  },
  {
   "cell_type": "code",
   "execution_count": 2,
   "id": "a6dbbe8b-6d33-4f40-b2ff-6800b6ab3042",
   "metadata": {},
   "outputs": [
    {
     "ename": "TypeError",
     "evalue": "unsupported operand type(s) for +: 'Book' and 'Book'",
     "output_type": "error",
     "traceback": [
      "\u001b[1;31m---------------------------------------------------------------------------\u001b[0m",
      "\u001b[1;31mTypeError\u001b[0m                                 Traceback (most recent call last)",
      "Cell \u001b[1;32mIn[2], line 10\u001b[0m\n\u001b[0;32m      7\u001b[0m b2\u001b[38;5;241m=\u001b[39m Book(\u001b[38;5;241m300\u001b[39m)\n\u001b[0;32m      9\u001b[0m \u001b[38;5;66;03m# add two objects\u001b[39;00m\n\u001b[1;32m---> 10\u001b[0m \u001b[38;5;28mprint\u001b[39m(b1\u001b[38;5;241m+\u001b[39mb2)\n",
      "\u001b[1;31mTypeError\u001b[0m: unsupported operand type(s) for +: 'Book' and 'Book'"
     ]
    }
   ],
   "source": [
    "class Book:\n",
    "    def __init__(self,pages):\n",
    "        self.pages = pages\n",
    "\n",
    "# creating two objects\n",
    "b1= Book(400)\n",
    "b2= Book(300)\n",
    "\n",
    "# add two objects\n",
    "print(b1+b2)"
   ]
  },
  {
   "cell_type": "markdown",
   "id": "35dde30c-2ffd-4063-9cba-3cad0a671c42",
   "metadata": {},
   "source": [
    "we can overload + operator to work with custom objects also. Python provides some special or magic function that is automatically invoked when associated with that particular operator.\n",
    "\n",
    "For example, when we use the + operator, the magic method add() is automatically invoked. Internally + operator is implemented by using add() method. We have to override this method in our class if you want to add two custom objects."
   ]
  },
  {
   "cell_type": "code",
   "execution_count": 3,
   "id": "51e20de8-b1a8-453e-ae55-9c3dd93df068",
   "metadata": {},
   "outputs": [
    {
     "name": "stdout",
     "output_type": "stream",
     "text": [
      "Total number of pages: 700\n"
     ]
    }
   ],
   "source": [
    "class Book:\n",
    "    def __init__(self,pages):\n",
    "        self.pages = pages\n",
    "\n",
    "    # overloading + operator with magic method\n",
    "    def __add__(self, other):\n",
    "        return self.pages + other.pages\n",
    "# creating two objects\n",
    "b1= Book(400)\n",
    "b2= Book(300)\n",
    "print('Total number of pages:',b1+b2)"
   ]
  },
  {
   "cell_type": "code",
   "execution_count": 9,
   "id": "c6c6420e-c2b3-413e-924e-b8967f7d028a",
   "metadata": {},
   "outputs": [
    {
     "name": "stdout",
     "output_type": "stream",
     "text": [
      "Total number of pages: 700\n"
     ]
    }
   ],
   "source": [
    "class Book:\n",
    "    def __init__(self,pages):\n",
    "        self.pages = pages\n",
    "\n",
    "    # overloading + operator with magic method\n",
    "    def __add__(self, other):\n",
    "        return self.pages + other.pages\n",
    "# creating two objects\n",
    "b1= Book(400)\n",
    "b2= Book(300)\n",
    "\n",
    "print('Total number of pages:',b1+b2)"
   ]
  },
  {
   "cell_type": "markdown",
   "id": "1fd76346-2cbb-4c7c-9b74-0ff702cf28f4",
   "metadata": {},
   "source": [
    "### Overloading the * Operator\n",
    "The * operator is used to perform the multiplication. Let's see how overloading it to calculate the satary of an emmployee for a specific of an employee for a specific period. Internally * operator is implemented by using the mul() method."
   ]
  },
  {
   "cell_type": "code",
   "execution_count": 10,
   "id": "d1fcb65a-efdb-46a7-a2ea-8df50ccd1006",
   "metadata": {},
   "outputs": [
    {
     "name": "stdout",
     "output_type": "stream",
     "text": [
      "Total number of pages: 120000\n"
     ]
    }
   ],
   "source": [
    "class Book:\n",
    "    def __init__(self,pages):\n",
    "        self.pages = pages\n",
    "\n",
    "    # overloading * operator with magic method\n",
    "    def __mul__(self, other):\n",
    "        return self.pages * other.pages\n",
    "# creating two objects\n",
    "b1= Book(400)\n",
    "b2= Book(300)\n",
    "print('Total number of pages:',b1*b2)\n",
    "    "
   ]
  },
  {
   "cell_type": "code",
   "execution_count": 16,
   "id": "c63b8d1f-f546-4785-85ac-a6b7919c05b9",
   "metadata": {},
   "outputs": [
    {
     "ename": "TypeError",
     "evalue": "unsupported operand type(s) for /: 'Book' and 'Book'",
     "output_type": "error",
     "traceback": [
      "\u001b[1;31m---------------------------------------------------------------------------\u001b[0m",
      "\u001b[1;31mTypeError\u001b[0m                                 Traceback (most recent call last)",
      "Cell \u001b[1;32mIn[16], line 12\u001b[0m\n\u001b[0;32m      9\u001b[0m b1\u001b[38;5;241m=\u001b[39m Book(\u001b[38;5;241m400.0\u001b[39m)\n\u001b[0;32m     10\u001b[0m b2\u001b[38;5;241m=\u001b[39m Book(\u001b[38;5;241m300.0\u001b[39m)\n\u001b[1;32m---> 12\u001b[0m \u001b[38;5;28mprint\u001b[39m(\u001b[38;5;124m'\u001b[39m\u001b[38;5;124mTotal number of pages:\u001b[39m\u001b[38;5;124m'\u001b[39m,b1\u001b[38;5;241m/\u001b[39mb2)\n",
      "\u001b[1;31mTypeError\u001b[0m: unsupported operand type(s) for /: 'Book' and 'Book'"
     ]
    }
   ],
   "source": [
    "class Book:\n",
    "    def __init__(self,pages):\n",
    "        self.pages = pages\n",
    "\n",
    "    # overloading / operator with magic method\n",
    "    def __div__(self, other):\n",
    "        return self.pages / other.pages\n",
    "# creating two objects\n",
    "b1= Book(400)\n",
    "b2= Book(300)\n",
    "\n",
    "print('Total number of pages:',b1/b2)"
   ]
  },
  {
   "cell_type": "code",
   "execution_count": 17,
   "id": "6b9f5f3e-d0ea-402a-a02c-5272fc406bf0",
   "metadata": {},
   "outputs": [
    {
     "data": {
      "text/plain": [
       "1.3333333333333333"
      ]
     },
     "execution_count": 17,
     "metadata": {},
     "output_type": "execute_result"
    }
   ],
   "source": [
    "b1= 400\n",
    "b2= 300\n",
    "b1/b2"
   ]
  },
  {
   "cell_type": "code",
   "execution_count": 14,
   "id": "ba7328bf-67ce-4fb7-b58c-eb5f7da87827",
   "metadata": {},
   "outputs": [
    {
     "name": "stdout",
     "output_type": "stream",
     "text": [
      "Total number of pages: 100\n"
     ]
    }
   ],
   "source": [
    "class Book:\n",
    "    def __init__(self,pages):\n",
    "        self.pages = pages\n",
    "\n",
    "    # overloading - operator with magic method\n",
    "    def __sub__(self, other):\n",
    "        return self.pages - other.pages\n",
    "# creating two objects\n",
    "b1= Book(400)\n",
    "b2= Book(300)\n",
    "\n",
    "print('Total number of pages:',b1-b2)"
   ]
  },
  {
   "cell_type": "code",
   "execution_count": 15,
   "id": "16619a9e-bc8e-496b-8285-6b87bfa7807c",
   "metadata": {},
   "outputs": [
    {
     "name": "stdout",
     "output_type": "stream",
     "text": [
      "Total number of pages: 1\n"
     ]
    }
   ],
   "source": [
    "class Book:\n",
    "    def __init__(self,pages):\n",
    "        self.pages = pages\n",
    "\n",
    "    # overloading // operator with magic method\n",
    "    def __floordiv__(self, other):\n",
    "        return self.pages // other.pages\n",
    "# creating two objects\n",
    "b1= Book(400)\n",
    "b2= Book(300)\n",
    "\n",
    "print('Total number of pages:',b1//b2)"
   ]
  },
  {
   "cell_type": "code",
   "execution_count": 2,
   "id": "be350ba1-2fc9-4611-b430-130305fb9bde",
   "metadata": {},
   "outputs": [
    {
     "ename": "TypeError",
     "evalue": "unsupported operand type(s) for /: 'Book' and 'Book'",
     "output_type": "error",
     "traceback": [
      "\u001b[1;31m---------------------------------------------------------------------------\u001b[0m",
      "\u001b[1;31mTypeError\u001b[0m                                 Traceback (most recent call last)",
      "Cell \u001b[1;32mIn[2], line 12\u001b[0m\n\u001b[0;32m      9\u001b[0m b1\u001b[38;5;241m=\u001b[39m Book(\u001b[38;5;241m400\u001b[39m)\n\u001b[0;32m     10\u001b[0m b2\u001b[38;5;241m=\u001b[39m Book(\u001b[38;5;241m300\u001b[39m)\n\u001b[1;32m---> 12\u001b[0m \u001b[38;5;28mprint\u001b[39m(\u001b[38;5;124m'\u001b[39m\u001b[38;5;124mTotal number of pages:\u001b[39m\u001b[38;5;124m'\u001b[39m,b1\u001b[38;5;241m/\u001b[39mb2)\n",
      "\u001b[1;31mTypeError\u001b[0m: unsupported operand type(s) for /: 'Book' and 'Book'"
     ]
    }
   ],
   "source": [
    "class Book:\n",
    "    def __init__(self,pages):\n",
    "        self.pages = pages\n",
    "\n",
    "    # overloading / operator with magic method\n",
    "    def __div__(self, other):\n",
    "        return self.pages / other.pages\n",
    "# creating two objects\n",
    "b1= Book(400)\n",
    "b2= Book(300)\n",
    "\n",
    "print('Total number of pages:',b1/b2)"
   ]
  },
  {
   "cell_type": "code",
   "execution_count": 1,
   "id": "064237fe-4a7e-41e2-9ad5-d686855a62ad",
   "metadata": {},
   "outputs": [
    {
     "name": "stdout",
     "output_type": "stream",
     "text": [
      "Total number of pages: 1.3333333333333333\n"
     ]
    }
   ],
   "source": [
    "class Book:\n",
    "    def __init__(self,pages):\n",
    "        self.pages = pages\n",
    "\n",
    "    # overloading / operator with magic method\n",
    "    def __truediv__(self, other):\n",
    "        return self.pages / other.pages\n",
    "# creating two objects\n",
    "b1= Book(400)\n",
    "b2= Book(300)\n",
    "\n",
    "print('Total number of pages:',b1/b2)"
   ]
  },
  {
   "cell_type": "code",
   "execution_count": null,
   "id": "09d593c2-3bc6-444d-8636-c3edb3d1c6b3",
   "metadata": {},
   "outputs": [],
   "source": []
  }
 ],
 "metadata": {
  "kernelspec": {
   "display_name": "Python 3 (ipykernel)",
   "language": "python",
   "name": "python3"
  },
  "language_info": {
   "codemirror_mode": {
    "name": "ipython",
    "version": 3
   },
   "file_extension": ".py",
   "mimetype": "text/x-python",
   "name": "python",
   "nbconvert_exporter": "python",
   "pygments_lexer": "ipython3",
   "version": "3.11.7"
  }
 },
 "nbformat": 4,
 "nbformat_minor": 5
}
