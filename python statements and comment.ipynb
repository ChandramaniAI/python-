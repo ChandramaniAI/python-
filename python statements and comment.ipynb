{
 "cells": [
  {
   "cell_type": "markdown",
   "id": "803fa253-4d00-4d21-ab85-0c31eb0e18a5",
   "metadata": {},
   "source": [
    "# Python Statement\n",
    "\n",
    "When we write instructions for the computer using the Python programming language, we call those instructions Python statements."
   ]
  },
  {
   "cell_type": "code",
   "execution_count": 1,
   "id": "054338df-c7c1-4645-a42c-9028f7d890b3",
   "metadata": {},
   "outputs": [
    {
     "name": "stdout",
     "output_type": "stream",
     "text": [
      "hello world\n"
     ]
    }
   ],
   "source": [
    "print(\"hello world\")# it is a python statement"
   ]
  },
  {
   "cell_type": "code",
   "execution_count": 2,
   "id": "bff84faf-85ef-4bde-8170-81a3a653751c",
   "metadata": {},
   "outputs": [
    {
     "data": {
      "text/plain": [
       "123"
      ]
     },
     "execution_count": 2,
     "metadata": {},
     "output_type": "execute_result"
    }
   ],
   "source": [
    "56+67"
   ]
  },
  {
   "cell_type": "markdown",
   "id": "5d5ef6fa-78b5-4fb7-b387-c7c9eb44b9ac",
   "metadata": {},
   "source": [
    "# Comments\n",
    "Python comments are simple sentence that we use to make the code easier to understand.\n",
    "\n",
    "# Types of Comments\n",
    "- Single Line Comment\n",
    "- multiline Comment\n",
    "- Docstring "
   ]
  },
  {
   "cell_type": "code",
   "execution_count": 3,
   "id": "a4fadfbf-3980-43ce-a91e-26246f740878",
   "metadata": {},
   "outputs": [
    {
     "name": "stdout",
     "output_type": "stream",
     "text": [
      "my name is chandra\n"
     ]
    }
   ],
   "source": [
    "print(\"my name is chandra\")# my name is chandra"
   ]
  },
  {
   "cell_type": "code",
   "execution_count": 5,
   "id": "968de5ef-f3d4-474b-b0fb-6af0d66ad26c",
   "metadata": {},
   "outputs": [
    {
     "data": {
      "text/plain": [
       "89"
      ]
     },
     "execution_count": 5,
     "metadata": {},
     "output_type": "execute_result"
    }
   ],
   "source": [
    "22+67 #89"
   ]
  },
  {
   "cell_type": "code",
   "execution_count": 15,
   "id": "259627fb-ef8c-4c0e-9617-56dce3a839ca",
   "metadata": {},
   "outputs": [],
   "source": [
    "# multiline comment"
   ]
  },
  {
   "cell_type": "code",
   "execution_count": 6,
   "id": "bbf082a7-54ba-4143-8a04-7ff05cc7d6b0",
   "metadata": {},
   "outputs": [
    {
     "name": "stdout",
     "output_type": "stream",
     "text": [
      "9\n"
     ]
    }
   ],
   "source": [
    "a=4#a assign 4\n",
    "b=5 # b assign 5\n",
    "print(a+b)# if i am print a+b\n",
    "# output is 9"
   ]
  },
  {
   "cell_type": "code",
   "execution_count": 7,
   "id": "bfe9e5d0-9063-488f-8452-376595e331d1",
   "metadata": {},
   "outputs": [
    {
     "data": {
      "text/plain": [
       "'helloworld'"
      ]
     },
     "execution_count": 7,
     "metadata": {},
     "output_type": "execute_result"
    }
   ],
   "source": [
    "a=\"hello\" # hello\n",
    "b= \"world\" # world\n",
    "a+b\n",
    "# output \"helloworld\""
   ]
  },
  {
   "cell_type": "markdown",
   "id": "0abe338d-d832-4342-8c62-863c6692818a",
   "metadata": {},
   "source": [
    "### Rules of Docstring comment\n",
    "Docstrings are denoted by triple quotations. <br>\n",
    "\n",
    "They act as comments before the code. <br> \n",
    "\n",
    "When written after the code, docstrings also appear in the output. <br>\n",
    "\n",
    "Docstrings can also function as comments between two blocks of code.<br>\n",
    "\n",
    "That's why docstrings are categorized as comments."
   ]
  },
  {
   "cell_type": "code",
   "execution_count": 8,
   "id": "6536a898-8ef3-4096-8eca-4c46f5646644",
   "metadata": {},
   "outputs": [
    {
     "data": {
      "text/plain": [
       "'hello every one'"
      ]
     },
     "execution_count": 8,
     "metadata": {},
     "output_type": "execute_result"
    }
   ],
   "source": [
    "# denotes triple quotation\n",
    "\"\"\"hello every one\"\"\""
   ]
  },
  {
   "cell_type": "code",
   "execution_count": 9,
   "id": "e6d370fb-a4e7-43a8-86b9-bd2b47eeffc5",
   "metadata": {},
   "outputs": [
    {
     "name": "stdout",
     "output_type": "stream",
     "text": [
      "hello\n"
     ]
    },
    {
     "data": {
      "text/plain": [
       "'right'"
      ]
     },
     "execution_count": 9,
     "metadata": {},
     "output_type": "execute_result"
    }
   ],
   "source": [
    "# when written after the code docstring also appear in the output\n",
    "print(\"hello\")\n",
    "\"\"\"right\"\"\""
   ]
  },
  {
   "cell_type": "code",
   "execution_count": 10,
   "id": "37678a91-f855-4ec6-ba3e-f67cc891d0d9",
   "metadata": {},
   "outputs": [
    {
     "name": "stdout",
     "output_type": "stream",
     "text": [
      "68\n"
     ]
    }
   ],
   "source": [
    "#They act as comments before the code.\n",
    "\"\"\"my name is chandramani\"\"\"\n",
    "print(12+56)"
   ]
  },
  {
   "cell_type": "code",
   "execution_count": 11,
   "id": "81b277a7-8c17-43c6-ac59-827a8855faaf",
   "metadata": {},
   "outputs": [
    {
     "name": "stdout",
     "output_type": "stream",
     "text": [
      "pratiksha\n",
      "Rishi\n"
     ]
    }
   ],
   "source": [
    "# Docstrings can also function as comments between two blocks of code.\n",
    "print(\"pratiksha\")\n",
    "\"\"\"she is a good girl\"\"\"\n",
    "print(\"Rishi\")"
   ]
  },
  {
   "cell_type": "code",
   "execution_count": null,
   "id": "03254597-3f9a-4db7-aa83-eddd47acb6b5",
   "metadata": {},
   "outputs": [],
   "source": []
  }
 ],
 "metadata": {
  "kernelspec": {
   "display_name": "Python 3 (ipykernel)",
   "language": "python",
   "name": "python3"
  },
  "language_info": {
   "codemirror_mode": {
    "name": "ipython",
    "version": 3
   },
   "file_extension": ".py",
   "mimetype": "text/x-python",
   "name": "python",
   "nbconvert_exporter": "python",
   "pygments_lexer": "ipython3",
   "version": "3.11.7"
  }
 },
 "nbformat": 4,
 "nbformat_minor": 5
}
