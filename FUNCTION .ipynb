{
 "cells": [
  {
   "cell_type": "markdown",
   "id": "8d26d9f9-aab6-4e5b-8345-34948cdecefa",
   "metadata": {},
   "source": [
    "### Python Function\n",
    "\n",
    "→ In Python, the function is a block of code defined with a name. we use functions whenever we need to perform the same task multiple times without writing the same code again. it can take arguments and return the value.\n",
    "\n",
    "→ Python has a DRY principle like other programming languages. DRY stands for Don't Repeat Yourself. Consider a scenario where we need to do some action/task many times. we can define that action only once using a function and call that function whenever required to do the same activity.\n",
    "\n",
    "→ function improves efficiency and reduces errors because of the reusability of a code. once we create a function, we can call it anywhere and anytime the benifit of using a function is reusability and modularity.\n",
    "\n",
    "#### Types of Functions\n",
    "\n",
    "Python supports two types of Functions\n",
    "\n",
    "- Built-in function\n",
    "- user-defined function\n",
    "\n",
    "the functions which come along with Python itself are called a built-in function or predefined function. some of them are listed below, range(), id(), type(), input() etc.\n",
    "\n",
    "####  user-defined function\n",
    "\n",
    "function which are created by programmer explicitly according to the requirement are called a user-defined function.\n",
    "\n",
    "- creating a function use the following steps to define a function in python.\n",
    "                                          \n",
    "                                          ↓\n",
    "                                          \n",
    "- use the def keyword with the function name to define a function.\n",
    "- next, pass the number of parameters as per your requirement. ( optional )\n",
    "- next, define the function body with a block of code. this block code is nothing but the action you wanted to perform.\n",
    "- in python, no need to specify curly braces for the function body. the only indentation is essential to seperate code blocks. otherwise, you will get an error.\n",
    "\n",
    "\n",
    "              technically we have not to change the built-in fucntion but sometimes some function get change."
   ]
  },
  {
   "cell_type": "markdown",
   "id": "81420757-5250-4724-9318-ff7cc79e58e6",
   "metadata": {},
   "source": [
    "# creating a function with parameters \n",
    "\n",
    "Now, Let's the example of creating a simple function that prints a welcome message."
   ]
  },
  {
   "cell_type": "code",
   "execution_count": 3,
   "id": "4a1123bb-5f43-41c3-b5e4-9d9a8899fa57",
   "metadata": {},
   "outputs": [],
   "source": [
    "# function without paramerters and expression will have no return \n",
    "def message():\n",
    "    print(\"Welcome to VijAI\")   # no output calling the function\n",
    "\n",
    "# call function using its name\n"
   ]
  },
  {
   "cell_type": "code",
   "execution_count": 4,
   "id": "80d6703b-ead3-43cb-b4ee-48332f5f30ac",
   "metadata": {},
   "outputs": [
    {
     "name": "stdout",
     "output_type": "stream",
     "text": [
      "Welcome to VijAI\n"
     ]
    }
   ],
   "source": [
    "# function without paramerters and expression will have no return \n",
    "def message():\n",
    "    print(\"Welcome to VijAI\")   # no output calling the function\n",
    "\n",
    "# call function using its name\n",
    "message() # print is the output of the message function when we call the function it will display the output the ,\n",
    "          # if we not call the function no output will display output"
   ]
  },
  {
   "cell_type": "code",
   "execution_count": 5,
   "id": "9a490a90-7d0e-42c7-afc2-cf1d3e34b8e5",
   "metadata": {},
   "outputs": [
    {
     "data": {
      "text/plain": [
       "'Welcome to VijAI'"
      ]
     },
     "execution_count": 5,
     "metadata": {},
     "output_type": "execute_result"
    }
   ],
   "source": [
    "# function without paramerters and expression will have no return \n",
    "def message():\n",
    "    return(\"Welcome to VijAI\")   # no output calling the function\n",
    "\n",
    "# call function using its name\n",
    "message()"
   ]
  },
  {
   "cell_type": "code",
   "execution_count": 23,
   "id": "e4154e64-85f9-4a9a-9022-0d3633d7d471",
   "metadata": {},
   "outputs": [
    {
     "name": "stdout",
     "output_type": "stream",
     "text": [
      "8\n"
     ]
    }
   ],
   "source": [
    "\"\"\"Suppose we have a function that calculates the sum of two numbers. We can imp function in two ways .\n",
    "one using print() and the other using return\"\"\"\n",
    "# Using print()\n",
    "def sum_with_print(a,b):\n",
    "    result = a+b\n",
    "    print(result)\n",
    "\n",
    "    \"\"\"Here , sum_with_print() calculates the sum of a and b , and then prints the result.\n",
    "    If you call sum_with_print(3,5), it will display 8 on the screen .\n",
    "    However, if you try to use the result of\n",
    "    this function (e.g., new_result = sum_with_print(3,5)),\n",
    "    new_result will be none because print() doesnot return the sum\"\"\"\n",
    "\n",
    "sum_with_print(3,5)"
   ]
  },
  {
   "cell_type": "markdown",
   "id": "8e1b2153-178d-4ded-a5e7-e7b9e1ae4196",
   "metadata": {},
   "source": [
    "# Creating a function with parameters\n",
    "\n",
    "Let's create a function that takes two parameters and display their values.\n",
    "\n",
    "In this example, we are creating function with two parameters 'name' and 'age'."
   ]
  },
  {
   "cell_type": "code",
   "execution_count": 6,
   "id": "dc92b246-434c-470a-b432-1a5d7d3bec4f",
   "metadata": {},
   "outputs": [
    {
     "name": "stdout",
     "output_type": "stream",
     "text": [
      "Hello vidushi Welcome to VijAI\n",
      "your course name is  Python\n"
     ]
    }
   ],
   "source": [
    "# function with two parameters without return value\n",
    "def course_func(name, course_name):\n",
    "    print(\"Hello\", name, \"Welcome to VijAI\")\n",
    "    print(\"your course name is \", course_name)\n",
    "\n",
    "# call function \n",
    "course_func('vidushi','Python')"
   ]
  },
  {
   "cell_type": "code",
   "execution_count": 1,
   "id": "0a6f4d7d-3310-40da-a984-8b8575220e03",
   "metadata": {},
   "outputs": [
    {
     "name": "stdout",
     "output_type": "stream",
     "text": [
      "name is rahul\n",
      "my age 45\n"
     ]
    }
   ],
   "source": [
    "def welcom_func(name,age):\n",
    "    print(\"name is\",name)\n",
    "    print(\"my age\",age)\n",
    "\n",
    "welcom_func(\"rahul\",45)"
   ]
  },
  {
   "cell_type": "code",
   "execution_count": 2,
   "id": "26f7ed6e-a9d8-4192-9d54-8004d3668593",
   "metadata": {},
   "outputs": [
    {
     "name": "stdout",
     "output_type": "stream",
     "text": [
      "name is raj\n",
      "my age 78\n"
     ]
    }
   ],
   "source": [
    "welcom_func(\"raj\",78)"
   ]
  },
  {
   "cell_type": "code",
   "execution_count": 3,
   "id": "5562bd7d-4ea1-4bd2-a5c2-739a596a43d8",
   "metadata": {},
   "outputs": [
    {
     "data": {
      "text/plain": [
       "('name is', 'rahul')"
      ]
     },
     "execution_count": 3,
     "metadata": {},
     "output_type": "execute_result"
    }
   ],
   "source": [
    "def welcom_func(name,age):\n",
    "    return(\"name is\",name)\n",
    "    return(\"my age\",age)\n",
    "\n",
    "welcom_func(\"rahul\",45)"
   ]
  },
  {
   "cell_type": "markdown",
   "id": "459afe81-2754-40e6-8cd2-ca9c47eda146",
   "metadata": {},
   "source": [
    "# How does Function work in Python?\n",
    "\n",
    "In Python, functions allow the programmer to create short and clean code to be refused in an entire program \n",
    "\n",
    "The function helps us to organize code . The function accepts parameters as input, processes them , and in the end, return values as output.\n",
    "\n",
    "Let's assume we defined a function that completes some task. When we call that function from another function, the program controller goes to that function, does some computation, and returns, some value as output to the caller location.\n",
    "\n",
    "The following diagram shows how the function works."
   ]
  },
  {
   "cell_type": "markdown",
   "id": "16f2a2eb-b2b8-4c5e-a238-b6243985247e",
   "metadata": {},
   "source": [
    "# Difference between return and print() \n",
    "\n",
    "In python , print() and return are two distinct operations with different purposes:\n",
    "\n",
    "<b>print() Function:</b>\n",
    "Purpose: print()is used to display a value or a message to the console or standard output.\n",
    "\n",
    "Usage: It's often used for debugging or providing output to the user.\n",
    "\n",
    "Effect: When print() is called, it outputs the provided data to the screen and return None . It does not affect the flow of a function or its return value.\n",
    "\n",
    "<b>return Statement:</b>\n",
    "Purpose: return statement is used to exit a function and go back to the place where it was called. It can optionally return a value to the caller.\n",
    "\n",
    "Usage: Iy's used to send results from a function to the caller.\n",
    "\n",
    "Effect: When return is executed, the function terminates, optionally passing back a value . If no value is specified, None is returned.\n",
    "\n",
    "For example, in a function, using print() will display a value. but using return will send a value back to where the function was called. This distinction is critical in programming , espacially when you need to use the rsult of a function else where in your code.\n",
    "\n",
    "<b>creating a function with parameters and return value</b>\n",
    "\n",
    "Function can be return a value. The return value is the output of the function. use the return keyword to return value from a function."
   ]
  },
  {
   "cell_type": "code",
   "execution_count": 5,
   "id": "3d571c9e-57d4-4805-af95-a160c65e5869",
   "metadata": {},
   "outputs": [
    {
     "name": "stdout",
     "output_type": "stream",
     "text": [
      "8\n"
     ]
    }
   ],
   "source": [
    "def add(x1,x2):\n",
    "    x=x1+x2\n",
    "    print(x)\n",
    "\n",
    "add(3,5)"
   ]
  },
  {
   "cell_type": "code",
   "execution_count": 7,
   "id": "9651f5ae-48a6-405c-bc26-8ad3b663c561",
   "metadata": {},
   "outputs": [
    {
     "data": {
      "text/plain": [
       "8"
      ]
     },
     "execution_count": 7,
     "metadata": {},
     "output_type": "execute_result"
    }
   ],
   "source": [
    "def add(x1,x2):\n",
    "    x=x1+x2\n",
    "    return x\n",
    "\n",
    "add(3,5)"
   ]
  },
  {
   "cell_type": "code",
   "execution_count": 9,
   "id": "8eeeec41-30d2-4aa9-af91-ceb39e0bd636",
   "metadata": {},
   "outputs": [
    {
     "name": "stdout",
     "output_type": "stream",
     "text": [
      "nisha\n"
     ]
    }
   ],
   "source": [
    "def add(x1,x2):\n",
    "    print(\"nisha\")\n",
    "    \n",
    "\n",
    "add(3,5)"
   ]
  },
  {
   "cell_type": "code",
   "execution_count": 10,
   "id": "2a55835d-65cf-408b-a13c-77297daf3fc2",
   "metadata": {},
   "outputs": [
    {
     "name": "stdout",
     "output_type": "stream",
     "text": [
      "chandramani\n"
     ]
    }
   ],
   "source": [
    "print(\"chandramani\")"
   ]
  },
  {
   "cell_type": "code",
   "execution_count": 1,
   "id": "787238c5-53ee-4ff2-8ae3-a8b232fb056c",
   "metadata": {},
   "outputs": [
    {
     "name": "stdout",
     "output_type": "stream",
     "text": [
      "chandramani\n",
      "None\n"
     ]
    }
   ],
   "source": [
    "x=print(\"chandramani\")\n",
    "print(x)"
   ]
  },
  {
   "cell_type": "code",
   "execution_count": null,
   "id": "79e0d407-6c25-49dc-b2e9-3abbdcf07dfb",
   "metadata": {},
   "outputs": [],
   "source": [
    "x=print(\"chandramani\")\n"
   ]
  },
  {
   "cell_type": "code",
   "execution_count": 14,
   "id": "1b27011a-bc1d-4a05-ac55-552485a0871f",
   "metadata": {},
   "outputs": [
    {
     "name": "stdout",
     "output_type": "stream",
     "text": [
      "8\n",
      "None\n"
     ]
    }
   ],
   "source": [
    "def add(x1,x2):\n",
    "    x=x1+x2\n",
    "    print(x)\n",
    "\n",
    "y=add(3,5)\n",
    "print(y)"
   ]
  },
  {
   "cell_type": "code",
   "execution_count": 17,
   "id": "50f91ce3-2c37-435e-a8d0-34bacd702a8c",
   "metadata": {},
   "outputs": [
    {
     "name": "stdout",
     "output_type": "stream",
     "text": [
      "None\n"
     ]
    }
   ],
   "source": [
    "def add(x1,x2):\n",
    "    x=x1+x2\n",
    "    return x\n",
    "\n",
    "y=add(3,5)\n",
    "print(x)"
   ]
  },
  {
   "cell_type": "code",
   "execution_count": 18,
   "id": "1492432f-3f37-43a2-9fa7-8f504cba26a7",
   "metadata": {},
   "outputs": [
    {
     "name": "stdout",
     "output_type": "stream",
     "text": [
      "8\n"
     ]
    }
   ],
   "source": [
    "def add(x1,x2):\n",
    "    x=x1+x2\n",
    "    return x\n",
    "\n",
    "y=add(3,5)\n",
    "print(y)"
   ]
  },
  {
   "cell_type": "code",
   "execution_count": 19,
   "id": "7847c6ec-1d3d-4012-90eb-91788d9c6c33",
   "metadata": {},
   "outputs": [
    {
     "name": "stdout",
     "output_type": "stream",
     "text": [
      "<function add at 0x0000019C574DC7C0>\n"
     ]
    }
   ],
   "source": [
    "def add(x1,x2):\n",
    "    x=x1+x2\n",
    "    return add\n",
    "\n",
    "y=add(3,5)\n",
    "print(y)"
   ]
  },
  {
   "cell_type": "code",
   "execution_count": 20,
   "id": "a4b5d7aa-c7f1-465c-aaaf-2efd6401f5a7",
   "metadata": {},
   "outputs": [
    {
     "name": "stdout",
     "output_type": "stream",
     "text": [
      "addition: 25\n"
     ]
    }
   ],
   "source": [
    "# function \n",
    "def calculator(a,b):\n",
    "    add=a+b\n",
    "    #return the addition\n",
    "    return add\n",
    "\n",
    "# call function\n",
    "# take return value in variable\n",
    "res = calculator(20,5)\n",
    "print(\"addition:\",res)\n",
    "# output addition : 25\n"
   ]
  },
  {
   "cell_type": "code",
   "execution_count": 21,
   "id": "3076757e-6cbb-427c-abd1-8e12cbd19b0f",
   "metadata": {},
   "outputs": [
    {
     "name": "stdout",
     "output_type": "stream",
     "text": [
      "25\n",
      "addition: None\n"
     ]
    }
   ],
   "source": [
    "# function \n",
    "def calculator(a,b):\n",
    "    add=a+b\n",
    "    #return the addition\n",
    "    print(add)\n",
    "\n",
    "# call function\n",
    "# take return value in variable\n",
    "res = calculator(20,5)\n",
    "\n",
    "print(\"addition:\",res)\n",
    "# output addition : 25\n"
   ]
  },
  {
   "cell_type": "code",
   "execution_count": 22,
   "id": "84710f8d-eafc-4c07-b463-16be5e0d10c5",
   "metadata": {},
   "outputs": [
    {
     "name": "stdout",
     "output_type": "stream",
     "text": [
      "addition: 25\n"
     ]
    },
    {
     "data": {
      "text/plain": [
       "33"
      ]
     },
     "execution_count": 22,
     "metadata": {},
     "output_type": "execute_result"
    }
   ],
   "source": [
    "# function \n",
    "def calculator(a,b):\n",
    "    add=a+b\n",
    "    #return the addition\n",
    "    return add\n",
    "\n",
    "# call function\n",
    "# take return value in variable\n",
    "res = calculator(20,5)\n",
    "print(\"addition:\",res)\n",
    "# output addition : 25\n",
    "res+8"
   ]
  },
  {
   "cell_type": "code",
   "execution_count": 5,
   "id": "9979f298-64ef-4ab3-ba6f-589fb174356e",
   "metadata": {},
   "outputs": [
    {
     "name": "stdout",
     "output_type": "stream",
     "text": [
      "Number 1 : 2\n",
      "Number 2 : 4\n",
      "6\n"
     ]
    }
   ],
   "source": [
    "def add(num1,num2):\n",
    "    print(\"Number 1 :\",num1)\n",
    "    print(\"Number 2 :\",num2)\n",
    "    addition = num1 + num2\n",
    "    \n",
    "    return addition\n",
    "\n",
    "res=add(2,4)\n",
    "print(res)"
   ]
  },
  {
   "cell_type": "code",
   "execution_count": 6,
   "id": "ee0e1052-82b5-4ea6-b901-c3539d477740",
   "metadata": {},
   "outputs": [
    {
     "name": "stdout",
     "output_type": "stream",
     "text": [
      "Number 1 : 2\n",
      "Number 2 : 4\n",
      "6\n"
     ]
    },
    {
     "data": {
      "text/plain": [
       "48"
      ]
     },
     "execution_count": 6,
     "metadata": {},
     "output_type": "execute_result"
    }
   ],
   "source": [
    "def add(num1,num2):\n",
    "    print(\"Number 1 :\",num1)\n",
    "    print(\"Number 2 :\",num2)\n",
    "    addition = num1 + num2\n",
    "    \n",
    "    return addition\n",
    "\n",
    "res=add(2,4)\n",
    "print(res)\n",
    "res*8"
   ]
  },
  {
   "cell_type": "code",
   "execution_count": 11,
   "id": "03357d5b-3931-49bd-9aee-15549ec626f8",
   "metadata": {},
   "outputs": [
    {
     "name": "stdout",
     "output_type": "stream",
     "text": [
      "Number 1 : 2\n",
      "Number 2 : 4\n"
     ]
    },
    {
     "ename": "TypeError",
     "evalue": "'int' object is not iterable",
     "output_type": "error",
     "traceback": [
      "\u001b[1;31m---------------------------------------------------------------------------\u001b[0m",
      "\u001b[1;31mTypeError\u001b[0m                                 Traceback (most recent call last)",
      "Cell \u001b[1;32mIn[11], line 8\u001b[0m\n\u001b[0;32m      4\u001b[0m     addition \u001b[38;5;241m=\u001b[39m num1 \u001b[38;5;241m+\u001b[39m num2\n\u001b[0;32m      6\u001b[0m     \u001b[38;5;28;01mreturn\u001b[39;00m addition\n\u001b[1;32m----> 8\u001b[0m res\u001b[38;5;241m=\u001b[39m\u001b[38;5;28mlist\u001b[39m(add(\u001b[38;5;241m2\u001b[39m,\u001b[38;5;241m4\u001b[39m))\n\u001b[0;32m      9\u001b[0m \u001b[38;5;28mprint\u001b[39m(res)\n",
      "\u001b[1;31mTypeError\u001b[0m: 'int' object is not iterable"
     ]
    }
   ],
   "source": [
    "def add(num1,num2):\n",
    "    print(\"Number 1 :\",num1)\n",
    "    print(\"Number 2 :\",num2)\n",
    "    addition = num1 + num2\n",
    "    \n",
    "    return addition\n",
    "\n",
    "res=list(add(2,4))\n",
    "print(res)\n"
   ]
  },
  {
   "cell_type": "code",
   "execution_count": 8,
   "id": "1dfbc14a-17bb-4e58-97a5-bf8eb103c9f6",
   "metadata": {},
   "outputs": [
    {
     "name": "stdout",
     "output_type": "stream",
     "text": [
      "Number 1 : 2\n",
      "Number 2 : 4\n"
     ]
    },
    {
     "ename": "TypeError",
     "evalue": "'int' object is not iterable",
     "output_type": "error",
     "traceback": [
      "\u001b[1;31m---------------------------------------------------------------------------\u001b[0m",
      "\u001b[1;31mTypeError\u001b[0m                                 Traceback (most recent call last)",
      "Cell \u001b[1;32mIn[8], line 8\u001b[0m\n\u001b[0;32m      4\u001b[0m     addition \u001b[38;5;241m=\u001b[39m num1 \u001b[38;5;241m+\u001b[39m num2\n\u001b[0;32m      6\u001b[0m     \u001b[38;5;28;01mreturn\u001b[39;00m addition\n\u001b[1;32m----> 8\u001b[0m res\u001b[38;5;241m=\u001b[39m\u001b[38;5;28mset\u001b[39m(add(\u001b[38;5;241m2\u001b[39m,\u001b[38;5;241m4\u001b[39m))\n\u001b[0;32m      9\u001b[0m \u001b[38;5;28mprint\u001b[39m(res)\n",
      "\u001b[1;31mTypeError\u001b[0m: 'int' object is not iterable"
     ]
    }
   ],
   "source": [
    "def add(num1,num2):\n",
    "    print(\"Number 1 :\",num1)\n",
    "    print(\"Number 2 :\",num2)\n",
    "    addition = num1 + num2\n",
    "    \n",
    "    return addition\n",
    "\n",
    "res=set(add(2,4))\n",
    "print(res)"
   ]
  },
  {
   "cell_type": "code",
   "execution_count": 9,
   "id": "a4a97a17-f6f2-46d6-81ef-2dbc504d34b2",
   "metadata": {},
   "outputs": [
    {
     "name": "stdout",
     "output_type": "stream",
     "text": [
      "Number 1 : 2\n",
      "Number 2 : 4\n"
     ]
    },
    {
     "ename": "TypeError",
     "evalue": "'int' object is not iterable",
     "output_type": "error",
     "traceback": [
      "\u001b[1;31m---------------------------------------------------------------------------\u001b[0m",
      "\u001b[1;31mTypeError\u001b[0m                                 Traceback (most recent call last)",
      "Cell \u001b[1;32mIn[9], line 8\u001b[0m\n\u001b[0;32m      4\u001b[0m     addition \u001b[38;5;241m=\u001b[39m num1 \u001b[38;5;241m+\u001b[39m num2\n\u001b[0;32m      6\u001b[0m     \u001b[38;5;28;01mreturn\u001b[39;00m addition\n\u001b[1;32m----> 8\u001b[0m res\u001b[38;5;241m=\u001b[39m\u001b[38;5;28mdict\u001b[39m(add(\u001b[38;5;241m2\u001b[39m,\u001b[38;5;241m4\u001b[39m))\n\u001b[0;32m      9\u001b[0m \u001b[38;5;28mprint\u001b[39m(res)\n",
      "\u001b[1;31mTypeError\u001b[0m: 'int' object is not iterable"
     ]
    }
   ],
   "source": [
    "def add(num1,num2):\n",
    "    print(\"Number 1 :\",num1)\n",
    "    print(\"Number 2 :\",num2)\n",
    "    addition = num1 + num2\n",
    "    \n",
    "    return addition\n",
    "\n",
    "res=dict(add(2,4))\n",
    "print(res)"
   ]
  },
  {
   "cell_type": "code",
   "execution_count": 10,
   "id": "6a4a5e32-31de-423f-9f74-c54307e43fe8",
   "metadata": {},
   "outputs": [
    {
     "name": "stdout",
     "output_type": "stream",
     "text": [
      "Number 1 : 2\n",
      "Number 2 : 4\n"
     ]
    },
    {
     "ename": "TypeError",
     "evalue": "'int' object is not iterable",
     "output_type": "error",
     "traceback": [
      "\u001b[1;31m---------------------------------------------------------------------------\u001b[0m",
      "\u001b[1;31mTypeError\u001b[0m                                 Traceback (most recent call last)",
      "Cell \u001b[1;32mIn[10], line 8\u001b[0m\n\u001b[0;32m      4\u001b[0m     addition \u001b[38;5;241m=\u001b[39m num1 \u001b[38;5;241m+\u001b[39m num2\n\u001b[0;32m      6\u001b[0m     \u001b[38;5;28;01mreturn\u001b[39;00m addition\n\u001b[1;32m----> 8\u001b[0m res\u001b[38;5;241m=\u001b[39m\u001b[38;5;28mtuple\u001b[39m(add(\u001b[38;5;241m2\u001b[39m,\u001b[38;5;241m4\u001b[39m))\n\u001b[0;32m      9\u001b[0m \u001b[38;5;28mprint\u001b[39m(res)\n",
      "\u001b[1;31mTypeError\u001b[0m: 'int' object is not iterable"
     ]
    }
   ],
   "source": [
    "def add(num1,num2):\n",
    "    print(\"Number 1 :\",num1)\n",
    "    print(\"Number 2 :\",num2)\n",
    "    addition = num1 + num2\n",
    "    \n",
    "    return addition\n",
    "\n",
    "res=tuple(add(2,4))\n",
    "print(res)"
   ]
  },
  {
   "cell_type": "code",
   "execution_count": 13,
   "id": "f2daf8b0-0d43-4fac-a533-5354d9ef3482",
   "metadata": {},
   "outputs": [
    {
     "name": "stdout",
     "output_type": "stream",
     "text": [
      "Number 1 : 2\n",
      "Number 2 : 4\n",
      "6.0\n"
     ]
    }
   ],
   "source": [
    "def add(num1,num2):\n",
    "    print(\"Number 1 :\",num1)\n",
    "    print(\"Number 2 :\",num2)\n",
    "    addition = num1 + num2\n",
    "    \n",
    "    return addition\n",
    "\n",
    "res=float(add(2,4))\n",
    "print(res)"
   ]
  },
  {
   "cell_type": "code",
   "execution_count": 14,
   "id": "96c5c9a8-2ae8-4558-bd29-da6731a188f0",
   "metadata": {},
   "outputs": [
    {
     "name": "stdout",
     "output_type": "stream",
     "text": [
      "Number 1 : 2\n",
      "Number 2 : 4\n",
      "[6]\n"
     ]
    }
   ],
   "source": [
    "def add(num1,num2):\n",
    "    print(\"Number 1 :\",num1)\n",
    "    print(\"Number 2 :\",num2)\n",
    "    addition = num1 + num2\n",
    "    \n",
    "    return addition\n",
    "\n",
    "res=[add(2,4)]\n",
    "print(res)"
   ]
  },
  {
   "cell_type": "code",
   "execution_count": 16,
   "id": "4e988cb5-61f8-467c-b3b7-cdbaf5aeefb1",
   "metadata": {},
   "outputs": [
    {
     "name": "stdout",
     "output_type": "stream",
     "text": [
      "Number 1 : 2\n",
      "Number 2 : 4\n",
      "[6, 23, 56]\n"
     ]
    }
   ],
   "source": [
    "def add(num1,num2):\n",
    "    print(\"Number 1 :\",num1)\n",
    "    print(\"Number 2 :\",num2)\n",
    "    addition = num1 + num2\n",
    "    \n",
    "    return addition\n",
    "\n",
    "res=[add(2,4)]\n",
    "res1=res+[23,56]\n",
    "print(res1)"
   ]
  },
  {
   "cell_type": "code",
   "execution_count": 17,
   "id": "85c471a6-68ff-412d-a20d-fe1bee2965fc",
   "metadata": {},
   "outputs": [
    {
     "name": "stdout",
     "output_type": "stream",
     "text": [
      "Number 1 : 2\n",
      "Number 2 : 4\n",
      "6\n",
      "[None, 23, 56]\n"
     ]
    }
   ],
   "source": [
    "def add(num1,num2):\n",
    "    print(\"Number 1 :\",num1)\n",
    "    print(\"Number 2 :\",num2)\n",
    "    addition = num1 + num2\n",
    "    \n",
    "    print(addition)\n",
    "\n",
    "res=[add(2,4)]\n",
    "res1=res+[23,56]\n",
    "print(res1)"
   ]
  },
  {
   "cell_type": "code",
   "execution_count": 18,
   "id": "856353bb-7d12-4a42-b750-1f6b4ebcff23",
   "metadata": {},
   "outputs": [
    {
     "name": "stdout",
     "output_type": "stream",
     "text": [
      "Number 1 : 2\n",
      "Number 2 : 4\n",
      "{6: 'hello'}\n"
     ]
    }
   ],
   "source": [
    "def add(num1,num2):\n",
    "    print(\"Number 1 :\",num1)\n",
    "    print(\"Number 2 :\",num2)\n",
    "    addition = num1 + num2\n",
    "    \n",
    "    return addition\n",
    "\n",
    "res={add(2,4):\"hello\"}\n",
    "print(res)"
   ]
  },
  {
   "cell_type": "code",
   "execution_count": 19,
   "id": "edbf6e73-6358-484b-ad23-3a58d9782701",
   "metadata": {},
   "outputs": [
    {
     "name": "stdout",
     "output_type": "stream",
     "text": [
      "Number 1 : 2\n",
      "Number 2 : 4\n",
      "{6}\n"
     ]
    }
   ],
   "source": [
    "def add(num1,num2):\n",
    "    print(\"Number 1 :\",num1)\n",
    "    print(\"Number 2 :\",num2)\n",
    "    addition = num1 + num2\n",
    "    \n",
    "    return addition\n",
    "\n",
    "res={add(2,4)}\n",
    "print(res)"
   ]
  },
  {
   "cell_type": "code",
   "execution_count": 21,
   "id": "c15148e6-70b0-4c26-a765-59afcaed331a",
   "metadata": {},
   "outputs": [
    {
     "name": "stdout",
     "output_type": "stream",
     "text": [
      "{'5', 6, '4'}\n"
     ]
    }
   ],
   "source": [
    "res.update('45')\n",
    "print(res)"
   ]
  },
  {
   "cell_type": "code",
   "execution_count": 24,
   "id": "599c4c05-c0c7-45a2-a252-57425ddcbeba",
   "metadata": {},
   "outputs": [
    {
     "name": "stdout",
     "output_type": "stream",
     "text": [
      "Number 1 : 2\n",
      "Number 2 : 4\n",
      "{34, 6}\n"
     ]
    }
   ],
   "source": [
    "def add(num1,num2):\n",
    "    print(\"Number 1 :\",num1)\n",
    "    print(\"Number 2 :\",num2)\n",
    "    addition = num1 + num2\n",
    "    \n",
    "    return addition\n",
    "\n",
    "res={add(2,4)}\n",
    "res.add(34)\n",
    "print(res)"
   ]
  },
  {
   "cell_type": "code",
   "execution_count": 25,
   "id": "d7879fd9-8d70-4f38-9e0f-98121b7ec17d",
   "metadata": {},
   "outputs": [
    {
     "name": "stdout",
     "output_type": "stream",
     "text": [
      "Number 1 : 2\n",
      "Number 2 : 4\n",
      "6\n",
      "{None, 34}\n"
     ]
    }
   ],
   "source": [
    "def add(num1,num2):\n",
    "    print(\"Number 1 :\",num1)\n",
    "    print(\"Number 2 :\",num2)\n",
    "    addition = num1 + num2\n",
    "    \n",
    "    print(addition)\n",
    "\n",
    "res={add(2,4)}\n",
    "res.add(34)\n",
    "print(res)"
   ]
  },
  {
   "cell_type": "code",
   "execution_count": 26,
   "id": "32e13615-bce9-4974-890f-ec5b38abeda5",
   "metadata": {},
   "outputs": [
    {
     "name": "stdout",
     "output_type": "stream",
     "text": [
      "{None, 34}\n"
     ]
    }
   ],
   "source": [
    "print(res)"
   ]
  },
  {
   "cell_type": "code",
   "execution_count": 28,
   "id": "64cc5fc5-0138-430f-8fad-f2d43922f561",
   "metadata": {},
   "outputs": [
    {
     "name": "stdout",
     "output_type": "stream",
     "text": [
      "Number 1 : 2\n",
      "Number 2 : 4\n",
      "{34, 6}\n"
     ]
    }
   ],
   "source": [
    "def add(num1,num2):\n",
    "    print(\"Number 1 :\",num1)\n",
    "    print(\"Number 2 :\",num2)\n",
    "    addition = num1 + num2\n",
    "    \n",
    "    return addition\n",
    "\n",
    "res={add(2,4)}\n",
    "res.add(34)\n",
    "print(res)"
   ]
  },
  {
   "cell_type": "code",
   "execution_count": 7,
   "id": "de3af574-3e14-4c7b-b99c-1d781ce6fd24",
   "metadata": {},
   "outputs": [
    {
     "name": "stdout",
     "output_type": "stream",
     "text": [
      "Number 1 : 2\n",
      "Number 2 : 4\n"
     ]
    },
    {
     "data": {
      "text/plain": [
       "21"
      ]
     },
     "execution_count": 7,
     "metadata": {},
     "output_type": "execute_result"
    }
   ],
   "source": [
    "def add(num1,num2):\n",
    "    print(\"Number 1 :\",num1)\n",
    "    print(\"Number 2 :\",num2)\n",
    "    addition = num1 + num2\n",
    "    \n",
    "    return addition\n",
    "\n",
    "a=add(2,4)\n",
    "a+15"
   ]
  },
  {
   "cell_type": "code",
   "execution_count": 8,
   "id": "9138a3dc-24f6-498e-93bb-1b7d0b0dadde",
   "metadata": {},
   "outputs": [
    {
     "name": "stdout",
     "output_type": "stream",
     "text": [
      "Number 1 : 2\n",
      "Number 2 : 4\n",
      "6\n"
     ]
    },
    {
     "ename": "TypeError",
     "evalue": "unsupported operand type(s) for +: 'NoneType' and 'int'",
     "output_type": "error",
     "traceback": [
      "\u001b[1;31m---------------------------------------------------------------------------\u001b[0m",
      "\u001b[1;31mTypeError\u001b[0m                                 Traceback (most recent call last)",
      "Cell \u001b[1;32mIn[8], line 9\u001b[0m\n\u001b[0;32m      6\u001b[0m     \u001b[38;5;28mprint\u001b[39m(addition)\n\u001b[0;32m      8\u001b[0m b\u001b[38;5;241m=\u001b[39madd(\u001b[38;5;241m2\u001b[39m,\u001b[38;5;241m4\u001b[39m)\n\u001b[1;32m----> 9\u001b[0m b\u001b[38;5;241m+\u001b[39m\u001b[38;5;241m15\u001b[39m\n",
      "\u001b[1;31mTypeError\u001b[0m: unsupported operand type(s) for +: 'NoneType' and 'int'"
     ]
    }
   ],
   "source": [
    "def add(num1,num2):\n",
    "    print(\"Number 1 :\",num1)\n",
    "    print(\"Number 2 :\",num2)\n",
    "    addition = num1 + num2\n",
    "    \n",
    "    print(addition)\n",
    "\n",
    "b=add(2,4)\n",
    "b+15"
   ]
  },
  {
   "cell_type": "code",
   "execution_count": 30,
   "id": "a02e900f-6d73-4f19-86a5-5a1242135a95",
   "metadata": {},
   "outputs": [
    {
     "name": "stdout",
     "output_type": "stream",
     "text": [
      "Number 1 : 2\n",
      "Number 2 : 4\n",
      "None\n",
      "[6, 34]\n"
     ]
    }
   ],
   "source": [
    "def add(num1,num2):\n",
    "    print(\"Number 1 :\",num1)\n",
    "    print(\"Number 2 :\",num2)\n",
    "    addition = num1 + num2\n",
    "    \n",
    "    return addition\n",
    "\n",
    "res=[add(2,4)]\n",
    "print(res.append(34))\n",
    "print(res)"
   ]
  },
  {
   "cell_type": "code",
   "execution_count": 32,
   "id": "b337d7e1-b9f7-4288-bd83-f995337773f0",
   "metadata": {},
   "outputs": [
    {
     "name": "stdout",
     "output_type": "stream",
     "text": [
      "Number 1 : 2\n",
      "Number 2 : 4\n",
      "[6, 67, 56, 34]\n"
     ]
    }
   ],
   "source": [
    "def add(num1,num2):\n",
    "    print(\"Number 1 :\",num1)\n",
    "    print(\"Number 2 :\",num2)\n",
    "    addition = num1 + num2\n",
    "    \n",
    "    return addition\n",
    "\n",
    "res=[add(2,4)]\n",
    "res.extend([67,56,34])\n",
    "print(res)"
   ]
  },
  {
   "cell_type": "code",
   "execution_count": 34,
   "id": "876d386c-19c5-44d4-8391-cd5cb822e9bb",
   "metadata": {},
   "outputs": [
    {
     "name": "stdout",
     "output_type": "stream",
     "text": [
      "Number 1 : 2\n",
      "Number 2 : 4\n",
      "None\n"
     ]
    },
    {
     "data": {
      "text/plain": [
       "[6, 67, 56, 34]"
      ]
     },
     "execution_count": 34,
     "metadata": {},
     "output_type": "execute_result"
    }
   ],
   "source": [
    "def add(num1,num2):\n",
    "    print(\"Number 1 :\",num1)\n",
    "    print(\"Number 2 :\",num2)\n",
    "    addition = num1 + num2\n",
    "    \n",
    "    return addition\n",
    "\n",
    "res=[add(2,4)]\n",
    "print(res.extend([67,56,34]))\n",
    "print(res)"
   ]
  },
  {
   "cell_type": "markdown",
   "id": "66e40571-d321-43d2-8c94-97f4013b51db",
   "metadata": {},
   "source": [
    "# Return multiple values"
   ]
  },
  {
   "cell_type": "code",
   "execution_count": 37,
   "id": "5dfeb9e6-125e-4d8d-bc3b-7b04659d1209",
   "metadata": {},
   "outputs": [
    {
     "name": "stdout",
     "output_type": "stream",
     "text": [
      "Addition: 12\n",
      "Subtraction: 8\n",
      "Multiply: 20\n",
      "Division: 5.0\n"
     ]
    }
   ],
   "source": [
    "def arithmetic(num1,num2):\n",
    "    add=num1+num2\n",
    "    sub=num1-num2\n",
    "    multiply=num1*num2\n",
    "    division=num1/num2\n",
    "    # return four values\n",
    "    return add, sub, multiply, division\n",
    "\n",
    "# read four return values in four variables\n",
    "a,b,c,d=arithmetic(10,2)\n",
    "\n",
    "print(\"Addition:\",a)\n",
    "print(\"Subtraction:\",b)\n",
    "print(\"Multiply:\",c)\n",
    "print(\"Division:\",d)"
   ]
  },
  {
   "cell_type": "code",
   "execution_count": 2,
   "id": "43961baa-ccb9-4177-b728-8d9d4c13373b",
   "metadata": {},
   "outputs": [
    {
     "name": "stdout",
     "output_type": "stream",
     "text": [
      "Addition: 99\n",
      "Subtraction: 77\n",
      "Multiply: 968\n",
      "Division: 8.0\n"
     ]
    }
   ],
   "source": [
    "def arithmetic(num1,num2):\n",
    "    add=num1+num2\n",
    "    sub=num1-num2\n",
    "    multiply=num1*num2\n",
    "    division=num1/num2\n",
    "    # return four values\n",
    "    return add, sub, multiply, division\n",
    "\n",
    "# read four return values in four variables\n",
    "a,b,c,d=arithmetic(88,11)\n",
    "\n",
    "print(\"Addition:\",a)\n",
    "print(\"Subtraction:\",b)\n",
    "print(\"Multiply:\",c)\n",
    "print(\"Division:\",d)"
   ]
  },
  {
   "cell_type": "code",
   "execution_count": 1,
   "id": "95fa68d5-22cc-4051-b23d-e53513ccaebc",
   "metadata": {},
   "outputs": [
    {
     "name": "stdout",
     "output_type": "stream",
     "text": [
      "99 77 968 8.0\n"
     ]
    },
    {
     "ename": "TypeError",
     "evalue": "cannot unpack non-iterable NoneType object",
     "output_type": "error",
     "traceback": [
      "\u001b[1;31m---------------------------------------------------------------------------\u001b[0m",
      "\u001b[1;31mTypeError\u001b[0m                                 Traceback (most recent call last)",
      "Cell \u001b[1;32mIn[1], line 10\u001b[0m\n\u001b[0;32m      7\u001b[0m     \u001b[38;5;28mprint\u001b[39m(add, sub, multiply, division)\n\u001b[0;32m      9\u001b[0m \u001b[38;5;66;03m# read four return values in four variables\u001b[39;00m\n\u001b[1;32m---> 10\u001b[0m a,b,c,d\u001b[38;5;241m=\u001b[39marithmetic(\u001b[38;5;241m88\u001b[39m,\u001b[38;5;241m11\u001b[39m)\n\u001b[0;32m     12\u001b[0m \u001b[38;5;28mprint\u001b[39m(\u001b[38;5;124m\"\u001b[39m\u001b[38;5;124mAddition:\u001b[39m\u001b[38;5;124m\"\u001b[39m,a)\n\u001b[0;32m     13\u001b[0m \u001b[38;5;28mprint\u001b[39m(\u001b[38;5;124m\"\u001b[39m\u001b[38;5;124mSubtraction:\u001b[39m\u001b[38;5;124m\"\u001b[39m,b)\n",
      "\u001b[1;31mTypeError\u001b[0m: cannot unpack non-iterable NoneType object"
     ]
    }
   ],
   "source": [
    "def arithmetic(num1,num2):\n",
    "    add=num1+num2\n",
    "    sub=num1-num2\n",
    "    multiply=num1*num2\n",
    "    division=num1/num2\n",
    "    # return four values\n",
    "    print(add, sub, multiply, division)\n",
    "\n",
    "# read four return values in four variables\n",
    "a,b,c,d=arithmetic(88,11)\n",
    "\n",
    "print(\"Addition:\",a)\n",
    "print(\"Subtraction:\",b)\n",
    "print(\"Multiply:\",c)\n",
    "print(\"Division:\",d)"
   ]
  },
  {
   "cell_type": "code",
   "execution_count": 4,
   "id": "7bf2badd-936e-460f-bec9-64b3589402ca",
   "metadata": {},
   "outputs": [
    {
     "name": "stdout",
     "output_type": "stream",
     "text": [
      "99 77 968 8.0\n"
     ]
    }
   ],
   "source": [
    "def arithmetic(num1,num2):\n",
    "    add=num1+num2\n",
    "    sub=num1-num2\n",
    "    multiply=num1*num2\n",
    "    division=num1/num2\n",
    "    # return four values\n",
    "    print(add, sub, multiply, division)\n",
    "\n",
    "# read four return values in four variables\n",
    "arithmetic(88,11)\n"
   ]
  },
  {
   "cell_type": "code",
   "execution_count": 5,
   "id": "e4d7acbd-4add-4f8c-841f-ec5cbf65df67",
   "metadata": {},
   "outputs": [
    {
     "name": "stdout",
     "output_type": "stream",
     "text": [
      "Addition: 99\n",
      "Subtraction: 77\n",
      "Multiply: 968\n",
      "Division: 8.0\n"
     ]
    }
   ],
   "source": [
    "def arithmetic(num1,num2):\n",
    "    add=num1+num2\n",
    "    sub=num1-num2\n",
    "    multiply=num1*num2\n",
    "    division=num1/num2\n",
    "    # return four values\n",
    "    return add, sub, multiply, division\n",
    "\n",
    "# read four return values in four variables\n",
    "a,b,c,d=arithmetic(88,11)\n",
    "\n",
    "print(\"Addition:\",a)\n",
    "print(\"Subtraction:\",b)\n",
    "print(\"Multiply:\",c)\n",
    "print(\"Division:\",d)"
   ]
  },
  {
   "cell_type": "code",
   "execution_count": 6,
   "id": "2ad44159-0c1d-4bae-82e2-811c750ea7f5",
   "metadata": {},
   "outputs": [
    {
     "data": {
      "text/plain": [
       "144"
      ]
     },
     "execution_count": 6,
     "metadata": {},
     "output_type": "execute_result"
    }
   ],
   "source": [
    "a+45"
   ]
  },
  {
   "cell_type": "code",
   "execution_count": 7,
   "id": "50d6c8eb-922c-4f63-8387-0be06b628be4",
   "metadata": {},
   "outputs": [
    {
     "data": {
      "text/plain": [
       "54"
      ]
     },
     "execution_count": 7,
     "metadata": {},
     "output_type": "execute_result"
    }
   ],
   "source": [
    "b-23"
   ]
  },
  {
   "cell_type": "code",
   "execution_count": 8,
   "id": "ee755bc2-c4d8-48fb-a2c7-e7bf895bb595",
   "metadata": {},
   "outputs": [
    {
     "data": {
      "text/plain": [
       "2904"
      ]
     },
     "execution_count": 8,
     "metadata": {},
     "output_type": "execute_result"
    }
   ],
   "source": [
    "c*3"
   ]
  },
  {
   "cell_type": "code",
   "execution_count": 9,
   "id": "db3e5f45-1e2d-401a-9e08-713edf9589b5",
   "metadata": {},
   "outputs": [
    {
     "data": {
      "text/plain": [
       "4.0"
      ]
     },
     "execution_count": 9,
     "metadata": {},
     "output_type": "execute_result"
    }
   ],
   "source": [
    "d/2"
   ]
  },
  {
   "cell_type": "markdown",
   "id": "8052203b-428f-421c-9975-164253a47257",
   "metadata": {},
   "source": [
    "# The pass statement\n",
    "In python the pass is the keyword, which won't do anything. Sometimes there is a situation where we need to define a syntactically empty block. We can define that block using the pass keyword.\n",
    "\n",
    "When the interpreter finds a pass statement in the python, it return no operation."
   ]
  },
  {
   "cell_type": "code",
   "execution_count": null,
   "id": "a612b635-fb75-476c-9a12-2facb63a24d2",
   "metadata": {},
   "outputs": [],
   "source": [
    "def addition(num1, num2):\n",
    "    "
   ]
  },
  {
   "cell_type": "code",
   "execution_count": 19,
   "id": "cbcad216-bce5-46c8-b9ac-ae8b4eb17fbd",
   "metadata": {},
   "outputs": [
    {
     "name": "stdout",
     "output_type": "stream",
     "text": [
      "Addition: 99\n",
      "Subtraction: 77\n",
      "Multiply: 968\n",
      "Division: 8.0\n"
     ]
    }
   ],
   "source": [
    "def arithmetic(num1,num2):\n",
    "    pass\n",
    "    add=num1+num2\n",
    "    sub=num1-num2\n",
    "    multiply=num1*num2\n",
    "    division=num1/num2\n",
    "    # return four values\n",
    "    return add, sub, multiply, division\n",
    "\n",
    "# read four return values in four variables\n",
    "pass\n",
    "a,b,c,d=arithmetic(88,11)\n",
    "\n",
    "print(\"Addition:\",a)\n",
    "print(\"Subtraction:\",b)\n",
    "print(\"Multiply:\",c)\n",
    "print(\"Division:\",d)\n",
    "pass"
   ]
  },
  {
   "cell_type": "code",
   "execution_count": 1,
   "id": "e0d9bdff-6e20-426e-a107-ea8ed61bf819",
   "metadata": {},
   "outputs": [
    {
     "name": "stdout",
     "output_type": "stream",
     "text": [
      "Addition: 99\n",
      "Subtraction: 77\n",
      "Multiply: 968\n",
      "Division: 8.0\n"
     ]
    }
   ],
   "source": [
    "def arithmetic(num1,num2):\n",
    "    pass\n",
    "    add=num1+num2\n",
    "    sub=num1-num2\n",
    "    multiply=num1*num2\n",
    "    division=num1/num2\n",
    "    # return four values\n",
    "    return add, sub, multiply, division\n",
    "\n",
    "# read four return values in four variables\n",
    "pass\n",
    "a,b,c,d=arithmetic(88,11)\n",
    "pass\n",
    "print(\"Addition:\",a)\n",
    "print(\"Subtraction:\",b)\n",
    "print(\"Multiply:\",c)\n",
    "print(\"Division:\",d)"
   ]
  },
  {
   "cell_type": "code",
   "execution_count": null,
   "id": "ed1a65f2-9eb4-4d70-bc09-aadc0f07ca0b",
   "metadata": {},
   "outputs": [],
   "source": []
  },
  {
   "cell_type": "markdown",
   "id": "f74fb8e9-460a-4542-9f8f-1df8ee554678",
   "metadata": {},
   "source": [
    "# Scope and Lifetime of Variable\n",
    "When we define a function with variable then those variables scope is limited to that function . In python the scope of a variable is an area where a variable is declared. it is called the variable's local scope."
   ]
  },
  {
   "cell_type": "markdown",
   "id": "c7b7538d-3d48-4d73-a04f-72eb57f4910b",
   "metadata": {},
   "source": [
    "# Local variable in function\n",
    "A local variable is a variable declared inside the function that is not accessible from outside of the function. The scope of the local variable is limited to that function only where it is declared.\n",
    "\n",
    "If we try to access the local variable from the outside of the function, we will get the error as nameError."
   ]
  },
  {
   "cell_type": "code",
   "execution_count": 21,
   "id": "55cf2397-7955-4f37-a6e3-f2dcc3fc8a8d",
   "metadata": {},
   "outputs": [
    {
     "name": "stdout",
     "output_type": "stream",
     "text": [
      "value is 888\n"
     ]
    },
    {
     "ename": "NameError",
     "evalue": "name 'loc_var' is not defined",
     "output_type": "error",
     "traceback": [
      "\u001b[1;31m---------------------------------------------------------------------------\u001b[0m",
      "\u001b[1;31mNameError\u001b[0m                                 Traceback (most recent call last)",
      "Cell \u001b[1;32mIn[21], line 10\u001b[0m\n\u001b[0;32m      7\u001b[0m     \u001b[38;5;28mprint\u001b[39m(\u001b[38;5;124m\"\u001b[39m\u001b[38;5;124mvalue is\u001b[39m\u001b[38;5;124m\"\u001b[39m, loc_var)\n\u001b[0;32m      9\u001b[0m function1()\n\u001b[1;32m---> 10\u001b[0m function2()\n",
      "Cell \u001b[1;32mIn[21], line 7\u001b[0m, in \u001b[0;36mfunction2\u001b[1;34m()\u001b[0m\n\u001b[0;32m      6\u001b[0m \u001b[38;5;28;01mdef\u001b[39;00m \u001b[38;5;21mfunction2\u001b[39m():\n\u001b[1;32m----> 7\u001b[0m     \u001b[38;5;28mprint\u001b[39m(\u001b[38;5;124m\"\u001b[39m\u001b[38;5;124mvalue is\u001b[39m\u001b[38;5;124m\"\u001b[39m, loc_var)\n",
      "\u001b[1;31mNameError\u001b[0m: name 'loc_var' is not defined"
     ]
    }
   ],
   "source": [
    "def function1():\n",
    "    # local variable \n",
    "    loc_var=888\n",
    "    print(\"value is\", loc_var)\n",
    "\n",
    "def function2():\n",
    "    print(\"value is\", loc_var)\n",
    "\n",
    "function1()\n",
    "function2()"
   ]
  },
  {
   "cell_type": "code",
   "execution_count": 1,
   "id": "5b5a4757-1a19-477e-81d7-8b54d9247ce9",
   "metadata": {},
   "outputs": [
    {
     "name": "stdout",
     "output_type": "stream",
     "text": [
      "vlue is  343\n"
     ]
    },
    {
     "ename": "NameError",
     "evalue": "name 'a' is not defined",
     "output_type": "error",
     "traceback": [
      "\u001b[1;31m---------------------------------------------------------------------------\u001b[0m",
      "\u001b[1;31mNameError\u001b[0m                                 Traceback (most recent call last)",
      "Cell \u001b[1;32mIn[1], line 9\u001b[0m\n\u001b[0;32m      6\u001b[0m     \u001b[38;5;28mprint\u001b[39m(\u001b[38;5;124m\"\u001b[39m\u001b[38;5;124mvlue is \u001b[39m\u001b[38;5;124m\"\u001b[39m,a)\n\u001b[0;32m      8\u001b[0m add1()\n\u001b[1;32m----> 9\u001b[0m add2()\n",
      "Cell \u001b[1;32mIn[1], line 6\u001b[0m, in \u001b[0;36madd2\u001b[1;34m()\u001b[0m\n\u001b[0;32m      5\u001b[0m \u001b[38;5;28;01mdef\u001b[39;00m \u001b[38;5;21madd2\u001b[39m():\n\u001b[1;32m----> 6\u001b[0m     \u001b[38;5;28mprint\u001b[39m(\u001b[38;5;124m\"\u001b[39m\u001b[38;5;124mvlue is \u001b[39m\u001b[38;5;124m\"\u001b[39m,a)\n",
      "\u001b[1;31mNameError\u001b[0m: name 'a' is not defined"
     ]
    }
   ],
   "source": [
    "def add1():\n",
    "    a=343\n",
    "    print(\"vlue is \",a)\n",
    "\n",
    "def add2():\n",
    "    print(\"vlue is \",a)\n",
    "\n",
    "add1()\n",
    "add2()\n",
    "    "
   ]
  },
  {
   "cell_type": "markdown",
   "id": "1c198e07-7d31-4802-a5d7-04f610e95008",
   "metadata": {},
   "source": [
    "# Nonlocal variable in function\n",
    "in python, nonlocal variable is the variable is the keyword used to declared a variable so that if acts as a globle variable for a nested function(i.e., function within another function)\n",
    "\n",
    "we can use nonlocal keyword when we want to declare a variable in the local scope and to make it by nonlocal keyword global variable.\n",
    "\n",
    "example"
   ]
  },
  {
   "cell_type": "code",
   "execution_count": 2,
   "id": "bd95d88a-1706-4ce7-929e-fd8ea1eeb99f",
   "metadata": {},
   "outputs": [
    {
     "name": "stdout",
     "output_type": "stream",
     "text": [
      "value of x inside inner function is : 200\n",
      "value of x inside outer function is : 200\n"
     ]
    }
   ],
   "source": [
    "def outer_func():\n",
    "    x=777\n",
    "    def inner_func():\n",
    "        # local variable now acts as globle variable\n",
    "        nonlocal x\n",
    "        x=200\n",
    "        print('value of x inside inner function is :',x)\n",
    "\n",
    "    inner_func()\n",
    "    print('value of x inside outer function is :',x)\n",
    "\n",
    "outer_func()"
   ]
  },
  {
   "cell_type": "code",
   "execution_count": 4,
   "id": "c12c0364-c1e4-4c0a-8a1e-e130b725880b",
   "metadata": {},
   "outputs": [
    {
     "name": "stdout",
     "output_type": "stream",
     "text": [
      "addition: 68\n"
     ]
    },
    {
     "ename": "NameError",
     "evalue": "name 'addition' is not defined",
     "output_type": "error",
     "traceback": [
      "\u001b[1;31m---------------------------------------------------------------------------\u001b[0m",
      "\u001b[1;31mNameError\u001b[0m                                 Traceback (most recent call last)",
      "Cell \u001b[1;32mIn[4], line 10\u001b[0m\n\u001b[0;32m      7\u001b[0m     \u001b[38;5;28mprint\u001b[39m(\u001b[38;5;124m\"\u001b[39m\u001b[38;5;124mab:\u001b[39m\u001b[38;5;124m\"\u001b[39m,addition)\n\u001b[0;32m      9\u001b[0m add(\u001b[38;5;241m23\u001b[39m,\u001b[38;5;241m45\u001b[39m)\n\u001b[1;32m---> 10\u001b[0m a(\u001b[38;5;241m1\u001b[39m,\u001b[38;5;241m2\u001b[39m)\n",
      "Cell \u001b[1;32mIn[4], line 7\u001b[0m, in \u001b[0;36ma\u001b[1;34m(a, b)\u001b[0m\n\u001b[0;32m      5\u001b[0m \u001b[38;5;28;01mdef\u001b[39;00m \u001b[38;5;21ma\u001b[39m(a,b):\n\u001b[0;32m      6\u001b[0m     ab\u001b[38;5;241m=\u001b[39ma\u001b[38;5;241m+\u001b[39mb\n\u001b[1;32m----> 7\u001b[0m     \u001b[38;5;28mprint\u001b[39m(\u001b[38;5;124m\"\u001b[39m\u001b[38;5;124mab:\u001b[39m\u001b[38;5;124m\"\u001b[39m,addition)\n",
      "\u001b[1;31mNameError\u001b[0m: name 'addition' is not defined"
     ]
    }
   ],
   "source": [
    "def add(num1, num2):\n",
    "    addition=num1+num2\n",
    "    print(\"addition:\",addition)\n",
    "\n",
    "def a(a,b):\n",
    "    ab=a+b\n",
    "    print(\"ab:\",addition)\n",
    "\n",
    "add(23,45)\n",
    "a(1,2)"
   ]
  },
  {
   "cell_type": "markdown",
   "id": "695e8b43-cd83-41f5-a353-dd90d5a05076",
   "metadata": {},
   "source": [
    "### Global Variable in Function\n",
    "A Global variable is a variable that declares outside of the function. The scope of a global variable is broad. It is accessible in all functions of the same module.\n",
    "\n",
    "Example"
   ]
  },
  {
   "cell_type": "code",
   "execution_count": 5,
   "id": "a671b489-1ef4-4899-a361-b1f0ebf395fe",
   "metadata": {},
   "outputs": [
    {
     "name": "stdout",
     "output_type": "stream",
     "text": [
      "Value in 1st function : 999\n",
      "Value in 2nd function : 999\n"
     ]
    }
   ],
   "source": [
    "global_var =999\n",
    "def function1():\n",
    "    print(\"Value in 1st function :\", global_var)\n",
    "\n",
    "def function2():\n",
    "    print(\"Value in 2nd function :\", global_var)\n",
    "\n",
    "function1()\n",
    "function2()"
   ]
  },
  {
   "cell_type": "code",
   "execution_count": 6,
   "id": "9d10789f-1145-4c75-92e9-fa028e0da289",
   "metadata": {},
   "outputs": [
    {
     "name": "stdout",
     "output_type": "stream",
     "text": [
      "Value in 1st function : 145\n",
      "Value in 2nd function : 145\n"
     ]
    }
   ],
   "source": [
    "global_var = 89+56\n",
    "def function1(a,b):\n",
    "    add=a+b\n",
    "    print(\"Value in 1st function :\", global_var)\n",
    "\n",
    "def function2(c,d):\n",
    "    sub=c-d\n",
    "    print(\"Value in 2nd function :\", global_var)\n",
    "\n",
    "function1(12,23)\n",
    "function2(65,23)"
   ]
  },
  {
   "cell_type": "code",
   "execution_count": null,
   "id": "cff05962-da34-4522-bc45-e4e24d2496f2",
   "metadata": {},
   "outputs": [],
   "source": [
    "global_var = 89+56\n",
    "def function1(a,b):\n",
    "    add=a+b\n",
    "    print(\"Value in 1st function :\", global_var)\n",
    "\n",
    "def function2(c,d):\n",
    "    sub=c-d\n",
    "    print(\"Value in 2nd function :\", global_var)\n",
    "\n",
    "function1(12,23)\n",
    "function2(65,23)"
   ]
  },
  {
   "cell_type": "code",
   "execution_count": null,
   "id": "12f8d0ae-9bd8-4e12-b91f-387fd99658b0",
   "metadata": {},
   "outputs": [],
   "source": []
  },
  {
   "cell_type": "code",
   "execution_count": null,
   "id": "6f2180fa-df95-45f3-889b-2783f6daa488",
   "metadata": {},
   "outputs": [],
   "source": []
  },
  {
   "cell_type": "code",
   "execution_count": 10,
   "id": "d5e4d077-430b-42e2-add3-d0406f375c99",
   "metadata": {},
   "outputs": [
    {
     "name": "stdout",
     "output_type": "stream",
     "text": [
      "35\n",
      "Value in 1st function : 145\n",
      "42\n",
      "Value in 2nd function : 145\n"
     ]
    }
   ],
   "source": [
    "global_var = 89+56\n",
    "def function1(a,b):\n",
    "    add=a+b\n",
    "    print(add)\n",
    "    print(\"Value in 1st function :\", global_var)\n",
    "\n",
    "def function2(c,d):\n",
    "    sub=c-d\n",
    "    print(sub)\n",
    "    print(\"Value in 2nd function :\", global_var)\n",
    "\n",
    "function1(12,23)\n",
    "function2(65,23)"
   ]
  },
  {
   "cell_type": "code",
   "execution_count": 13,
   "id": "3b70a82b-0eb7-457d-9cc0-92b2e8064565",
   "metadata": {},
   "outputs": [
    {
     "name": "stdout",
     "output_type": "stream",
     "text": [
      "Value in 1st function : 202\n",
      "Value in 2nd function : 112\n"
     ]
    }
   ],
   "source": [
    "global_var = 56+56\n",
    "a=45+45\n",
    "def function1():\n",
    "    print(\"Value in 1st function :\", global_var+a)\n",
    "\n",
    "def function2():\n",
    "    print(\"Value in 2nd function :\", global_var)\n",
    "\n",
    "function1()\n",
    "function2()"
   ]
  },
  {
   "cell_type": "code",
   "execution_count": 14,
   "id": "bd832f01-9fff-4198-9929-8b2d5dbd1ebc",
   "metadata": {},
   "outputs": [
    {
     "name": "stdout",
     "output_type": "stream",
     "text": [
      "Value in 1st function : 202\n",
      "Value in 2nd function : 112\n"
     ]
    }
   ],
   "source": [
    "\n",
    "def function1():\n",
    "    print(\"Value in 1st function :\", global_var+a)\n",
    "\n",
    "def function2():\n",
    "    print(\"Value in 2nd function :\", global_var)\n",
    "\n",
    "global_var = 56+56\n",
    "a=45+45\n",
    "function1()\n",
    "function2()"
   ]
  },
  {
   "cell_type": "code",
   "execution_count": 3,
   "id": "d9f83dbf-9821-4cf7-90ec-661214101653",
   "metadata": {},
   "outputs": [
    {
     "name": "stdout",
     "output_type": "stream",
     "text": [
      "Value in 1st function : 10080\n",
      "Value in 2nd function : 112\n"
     ]
    }
   ],
   "source": [
    "global_var = 56+56\n",
    "a=45+45\n",
    "global_var1 = global_var * a\n",
    "def function1():\n",
    "    print(\"Value in 1st function :\", global_var1)\n",
    "\n",
    "def function2():\n",
    "    print(\"Value in 2nd function :\", global_var)\n",
    "\n",
    "function1()\n",
    "function2()\n",
    "\n"
   ]
  },
  {
   "cell_type": "code",
   "execution_count": 4,
   "id": "dc733012-10e5-47cb-a3db-210f185f94dd",
   "metadata": {},
   "outputs": [
    {
     "name": "stdout",
     "output_type": "stream",
     "text": [
      "Value in 1st function : 10080\n",
      "Value in 2nd function : 112\n"
     ]
    }
   ],
   "source": [
    "\n",
    "def function1():\n",
    "    print(\"Value in 1st function :\", global_var1)\n",
    "\n",
    "def function2():\n",
    "    print(\"Value in 2nd function :\", global_var)\n",
    "\n",
    "function1()\n",
    "function2()\n",
    "global_var = 56+56\n",
    "a=45+45\n",
    "global_var1 = global_var * a\n"
   ]
  },
  {
   "cell_type": "code",
   "execution_count": 1,
   "id": "0e38b199-e6f9-4d3a-a8e6-4f022138ab3a",
   "metadata": {},
   "outputs": [
    {
     "ename": "NameError",
     "evalue": "name 'x1' is not defined",
     "output_type": "error",
     "traceback": [
      "\u001b[1;31m---------------------------------------------------------------------------\u001b[0m",
      "\u001b[1;31mNameError\u001b[0m                                 Traceback (most recent call last)",
      "Cell \u001b[1;32mIn[1], line 8\u001b[0m\n\u001b[0;32m      5\u001b[0m \u001b[38;5;28;01mdef\u001b[39;00m \u001b[38;5;21madd\u001b[39m(x1,x2):\n\u001b[0;32m      6\u001b[0m    \u001b[38;5;28mprint\u001b[39m(x)\n\u001b[1;32m----> 8\u001b[0m add(x1,x2)\n",
      "\u001b[1;31mNameError\u001b[0m: name 'x1' is not defined"
     ]
    }
   ],
   "source": [
    " def add(x1,x2):\n",
    "     x=x1+x2\n",
    "     print(x)\n",
    "\n",
    "def add(x1,x2):\n",
    "    print(x)\n",
    "\n",
    "add(x1,x2)"
   ]
  },
  {
   "cell_type": "code",
   "execution_count": 2,
   "id": "ad0fbed3-202d-457b-8fab-5e3af7ded53f",
   "metadata": {},
   "outputs": [
    {
     "ename": "NameError",
     "evalue": "name 'x' is not defined",
     "output_type": "error",
     "traceback": [
      "\u001b[1;31m---------------------------------------------------------------------------\u001b[0m",
      "\u001b[1;31mNameError\u001b[0m                                 Traceback (most recent call last)",
      "Cell \u001b[1;32mIn[2], line 8\u001b[0m\n\u001b[0;32m      5\u001b[0m \u001b[38;5;28;01mdef\u001b[39;00m \u001b[38;5;21madd\u001b[39m(x1,x2):\n\u001b[0;32m      6\u001b[0m    \u001b[38;5;28mprint\u001b[39m(x)\n\u001b[1;32m----> 8\u001b[0m add(\u001b[38;5;241m1\u001b[39m,\u001b[38;5;241m2\u001b[39m)\n",
      "Cell \u001b[1;32mIn[2], line 6\u001b[0m, in \u001b[0;36madd\u001b[1;34m(x1, x2)\u001b[0m\n\u001b[0;32m      5\u001b[0m \u001b[38;5;28;01mdef\u001b[39;00m \u001b[38;5;21madd\u001b[39m(x1,x2):\n\u001b[1;32m----> 6\u001b[0m    \u001b[38;5;28mprint\u001b[39m(x)\n",
      "\u001b[1;31mNameError\u001b[0m: name 'x' is not defined"
     ]
    }
   ],
   "source": [
    " def add(x1,x2):\n",
    "     x=x1+x2\n",
    "     print(x)\n",
    "\n",
    "def add(x1,x2):\n",
    "    print(x)\n",
    "\n",
    "add(1,2)"
   ]
  },
  {
   "cell_type": "code",
   "execution_count": 6,
   "id": "29dc4ad7-6bd8-4d1f-855c-ff098d162430",
   "metadata": {},
   "outputs": [
    {
     "name": "stdout",
     "output_type": "stream",
     "text": [
      "8\n",
      "8\n"
     ]
    }
   ],
   "source": [
    "\n",
    "def function1(x1,x2):\n",
    "    x=x1+x2\n",
    "    print(x)\n",
    "\n",
    "    def function2(x1,x2):\n",
    "        nonlocal x\n",
    "    \n",
    "\n",
    "    function2(2,5)\n",
    "    print(x)\n",
    "function1(2,6)\n",
    "    "
   ]
  },
  {
   "cell_type": "code",
   "execution_count": 5,
   "id": "0e982cbe-2973-4a47-b7ae-3b757547bdce",
   "metadata": {},
   "outputs": [
    {
     "name": "stdout",
     "output_type": "stream",
     "text": [
      "8\n",
      "8\n"
     ]
    }
   ],
   "source": [
    "\n",
    "def function1(a,b):\n",
    "    x=777\n",
    "    \n",
    "\n",
    "    def function2(a,b):\n",
    "       nonlocal x\n",
    "       x=a+b\n",
    "       print(x)\n",
    "    function2(2,6)\n",
    "    print(x)\n",
    "function1(4,6)\n",
    "    "
   ]
  },
  {
   "cell_type": "code",
   "execution_count": 16,
   "id": "ae7aa117-e2a1-4ba3-a588-c58306086cc7",
   "metadata": {},
   "outputs": [
    {
     "name": "stdout",
     "output_type": "stream",
     "text": [
      "888\n"
     ]
    }
   ],
   "source": [
    "def outer():\n",
    "    x=777\n",
    "\n",
    "    def middle():\n",
    "        nonlocal x\n",
    "        x=700\n",
    "\n",
    "        def inner():\n",
    "            nonlocal x\n",
    "            x=888\n",
    "            print(x)\n",
    "        inner()\n",
    "    middle()        \n",
    "outer()"
   ]
  },
  {
   "cell_type": "code",
   "execution_count": 4,
   "id": "0c995397-0a6c-42a6-af9f-8cf397ce7b8f",
   "metadata": {},
   "outputs": [
    {
     "name": "stdout",
     "output_type": "stream",
     "text": [
      "777\n",
      "888\n",
      "888\n",
      "888\n"
     ]
    }
   ],
   "source": [
    "def outer():\n",
    "    x=777\n",
    "    print(x)\n",
    "    def middle():\n",
    "        nonlocal x\n",
    "        x=700\n",
    "\n",
    "        def inner():\n",
    "            nonlocal x\n",
    "            x=888\n",
    "            print(x)\n",
    "        inner()\n",
    "        print(x)\n",
    "    middle()\n",
    "    print(x)\n",
    "outer()\n"
   ]
  },
  {
   "cell_type": "code",
   "execution_count": 6,
   "id": "095b5bec-e4ca-4c62-b256-612bf7f83bea",
   "metadata": {},
   "outputs": [
    {
     "name": "stdout",
     "output_type": "stream",
     "text": [
      "value of x inside inner function is : 8\n",
      "value of x inside outer function is : 8\n"
     ]
    }
   ],
   "source": [
    "def outer_func(a,b):\n",
    "    x=777\n",
    "    def inner_func(a,b):\n",
    "        # local variable now acts as globle variable\n",
    "        nonlocal x\n",
    "        x=a+b\n",
    "        print('value of x inside inner function is :',x)\n",
    "\n",
    "    inner_func(2,6)\n",
    "    print('value of x inside outer function is :',x)\n",
    "\n",
    "outer_func(4,6)"
   ]
  },
  {
   "cell_type": "code",
   "execution_count": 1,
   "id": "5519c50f-13cc-4ce2-8635-5e59ed60ebf0",
   "metadata": {},
   "outputs": [],
   "source": [
    "\n",
    "def function1(a,b):\n",
    "    x=777\n",
    "    \n",
    "\n",
    "    def function2(a,b):\n",
    "       nonlocal x\n",
    "       x=a+b\n",
    "       print(x)\n",
    "    function2(2,6)\n",
    "    print(x)\n",
    "    function1(4,6)\n",
    "    "
   ]
  },
  {
   "cell_type": "code",
   "execution_count": 13,
   "id": "8c9793e1-1ce7-44b0-8f11-7045b3b9304b",
   "metadata": {},
   "outputs": [
    {
     "name": "stdout",
     "output_type": "stream",
     "text": [
      "10\n",
      "8\n",
      "8\n"
     ]
    }
   ],
   "source": [
    "\n",
    "def function1(a,b):\n",
    "    x=a+b\n",
    "    print(x)\n",
    "\n",
    "    def function2(a,b):\n",
    "       nonlocal x\n",
    "       x=a+b\n",
    "       print(x)\n",
    "    function2(2,6)\n",
    "    print(x)\n",
    "function1(4,6)\n",
    "    "
   ]
  },
  {
   "cell_type": "code",
   "execution_count": 1,
   "id": "34ddc91f-6358-4de6-a73e-92ac71205199",
   "metadata": {},
   "outputs": [
    {
     "name": "stdout",
     "output_type": "stream",
     "text": [
      "10\n",
      "8\n",
      "8\n"
     ]
    }
   ],
   "source": [
    "\n",
    "def function1(a,b):\n",
    "    x=a+b\n",
    "    print(x)\n",
    "\n",
    "    def function2(a,b):\n",
    "       nonlocal x\n",
    "       x=a+b\n",
    "       print(x)\n",
    "    function2(2,6)\n",
    "    print(x)\n",
    "function1(4,6)\n",
    "    "
   ]
  },
  {
   "cell_type": "code",
   "execution_count": 2,
   "id": "cbd8e304-a03d-4b51-8d7b-43b647deb597",
   "metadata": {},
   "outputs": [
    {
     "name": "stdout",
     "output_type": "stream",
     "text": [
      "135\n",
      "35\n"
     ]
    }
   ],
   "source": [
    "a=35\n",
    "def add():\n",
    "    print(a+100)\n",
    "\n",
    "def add1():\n",
    "    print(a)\n",
    "\n",
    "add()\n",
    "add1()"
   ]
  },
  {
   "cell_type": "code",
   "execution_count": 7,
   "id": "b7f659a7-858b-4427-a0fe-2bbd3aaec769",
   "metadata": {},
   "outputs": [
    {
     "name": "stdout",
     "output_type": "stream",
     "text": [
      "15\n"
     ]
    }
   ],
   "source": [
    "x=x1+x2\n",
    "def add(x1,x2):\n",
    "    x=x1+x2\n",
    "    print(x)\n",
    "\n",
    "def add1(x1,x2):\n",
    "    x=x1+x2\n",
    "    print(x)\n",
    "\n",
    "add(5,6)\n",
    "add1(7,8)"
   ]
  },
  {
   "cell_type": "code",
   "execution_count": 28,
   "id": "af23cd1b-3678-4e7a-8a20-a0dfe8cc2eb5",
   "metadata": {},
   "outputs": [
    {
     "name": "stdout",
     "output_type": "stream",
     "text": [
      "Value in 1st function : 35\n",
      "Value in 2nd function : 35\n"
     ]
    }
   ],
   "source": [
    "a=12\n",
    "b=23\n",
    "global_var = a+b\n",
    "def function1(a,b):\n",
    "    \n",
    "    print(\"Value in 1st function :\", global_var)\n",
    "\n",
    "def function2(a,b):\n",
    "    \n",
    "    print(\"Value in 2nd function :\", global_var)\n",
    "\n",
    "function1(12,23)\n",
    "function2(12,23)"
   ]
  },
  {
   "cell_type": "code",
   "execution_count": 22,
   "id": "afeb3356-eba4-4b9b-8c28-17a099dd747c",
   "metadata": {},
   "outputs": [
    {
     "name": "stdin",
     "output_type": "stream",
     "text": [
      " 56\n",
      " 23\n"
     ]
    },
    {
     "name": "stdout",
     "output_type": "stream",
     "text": [
      "Value in 1st function : 79\n",
      "Value in 2nd function : 79\n"
     ]
    }
   ],
   "source": [
    "a=int(input())\n",
    "b=int(input())\n",
    "global_var = a+b\n",
    "def function1():\n",
    "\n",
    "    \n",
    "    print(\"Value in 1st function :\", global_var)\n",
    "\n",
    "def function2():\n",
    "    \n",
    "    print(\"Value in 2nd function :\", global_var)\n",
    "\n",
    "function1()\n",
    "function2()"
   ]
  },
  {
   "cell_type": "code",
   "execution_count": 29,
   "id": "ed6a5a37-932a-40a0-a3b8-497ee9428e78",
   "metadata": {},
   "outputs": [
    {
     "name": "stdin",
     "output_type": "stream",
     "text": [
      " 56\n",
      " 89\n"
     ]
    },
    {
     "name": "stdout",
     "output_type": "stream",
     "text": [
      "Value in 1st function : 145\n",
      "Value in 2nd function : 145\n"
     ]
    }
   ],
   "source": [
    "a=int(input())\n",
    "b=int(input())\n",
    "global_var = a+b\n",
    "def function1():\n",
    "\n",
    "    \n",
    "    print(\"Value in 1st function :\", global_var)\n",
    "\n",
    "def function2():\n",
    "    \n",
    "    print(\"Value in 2nd function :\", global_var)\n",
    "\n",
    "function1()\n",
    "function2()"
   ]
  },
  {
   "cell_type": "code",
   "execution_count": 34,
   "id": "1253c514-53ef-40ce-bedb-4a925a7382cc",
   "metadata": {},
   "outputs": [
    {
     "name": "stdout",
     "output_type": "stream",
     "text": [
      "90\n",
      "27\n"
     ]
    }
   ],
   "source": [
    "def fun(x1,x2):\n",
    "    x=x1+x2\n",
    "    print(x)\n",
    "    def fun1(x1,x2):\n",
    "        nonlocal x\n",
    "        x=x1+x2\n",
    "        print(x)\n",
    "\n",
    "    fun1(12,15)\n",
    "fun(34,56)\n",
    "    "
   ]
  },
  {
   "cell_type": "code",
   "execution_count": 33,
   "id": "d3cf8ff0-fa03-4173-8997-516b91c8fd2b",
   "metadata": {},
   "outputs": [
    {
     "name": "stdout",
     "output_type": "stream",
     "text": [
      "104\n",
      "8\n"
     ]
    }
   ],
   "source": [
    "s=26 \n",
    "def a():\n",
    "    print(s*4)\n",
    "    def a1():\n",
    "        print(s//3)\n",
    "    a1()\n",
    "a()"
   ]
  },
  {
   "cell_type": "code",
   "execution_count": 40,
   "id": "84428a41-d3c6-4787-9fa0-20f432a80ab3",
   "metadata": {
    "scrolled": true
   },
   "outputs": [
    {
     "name": "stdout",
     "output_type": "stream",
     "text": [
      "27\n",
      "27\n",
      "15\n"
     ]
    }
   ],
   "source": [
    "def fun(x1,x2):\n",
    "    x=x1-x2\n",
    "    \n",
    "    def fun1(x1,x2):\n",
    "        nonlocal x\n",
    "        x=x1+x2\n",
    "        print(x)\n",
    "\n",
    "    fun1(12,15)\n",
    "    print(x)\n",
    "fun(34,56)\n",
    "print(x)    "
   ]
  },
  {
   "cell_type": "markdown",
   "id": "5f363593-75c8-4511-9aab-10ce7c4e68f9",
   "metadata": {},
   "source": [
    "### Python Function Arguments\n",
    "The argument is a value , a variable, or an objects that we pass to a function or method call. In Python, there are four types of arguments allowed.\n",
    "\n",
    "- Positional arguments\n",
    "- Keyword arguments\n",
    "- default arguments\n",
    "- Variable-length arguments"
   ]
  },
  {
   "cell_type": "markdown",
   "id": "5213b253-a81a-4cd2-bb88-657be6dcb8f2",
   "metadata": {},
   "source": [
    "### positional Arguments\n",
    "Positional arguments are that are pass to function in proper positional order. That is, the 1st positional argument needs to be 1st when the function is called. The 2nd positional argument needs to be 2nd when the function is called, etc. See the following example for more understanding.\n"
   ]
  },
  {
   "cell_type": "code",
   "execution_count": 6,
   "id": "820795b0-98e7-442c-ba1e-e49fd1d76409",
   "metadata": {},
   "outputs": [
    {
     "name": "stdout",
     "output_type": "stream",
     "text": [
      "40\n",
      "-40\n"
     ]
    }
   ],
   "source": [
    "def add(a,b):\n",
    "    print(a-b)\n",
    "\n",
    "add(50,10) # output 40\n",
    "add(10,50) #output -40"
   ]
  },
  {
   "cell_type": "markdown",
   "id": "1ae13ba9-355a-4ce0-a559-32db95f49efd",
   "metadata": {},
   "source": [
    "### Keyword Arguments\n",
    "A keyword argument is an argument value, passed to function preceded by the variable name and an equals sign."
   ]
  },
  {
   "cell_type": "code",
   "execution_count": 1,
   "id": "4ed26805-dc45-4931-9b37-b15e755c77d9",
   "metadata": {},
   "outputs": [
    {
     "name": "stdout",
     "output_type": "stream",
     "text": [
      "Hello Suryansh Joshi\n",
      "Hello Disha Chaudhary\n",
      "Hello John wilson\n"
     ]
    }
   ],
   "source": [
    "def message(name, surname):\n",
    "    print(\"Hello\", name, surname)\n",
    "\n",
    "message(name=\"Suryansh\",surname=\"Joshi\")\n",
    "message(name=\"Disha\",surname=\"Chaudhary\")\n",
    "message(\"John\",\"wilson\") # you have made it positional"
   ]
  },
  {
   "cell_type": "markdown",
   "id": "7e666e30-0329-4d7e-adc5-37e895d1fe00",
   "metadata": {},
   "source": [
    "### Default Arguments\n",
    "In a function, arguments can have default values. We assign default values to the arguments using the \"=\"(assignment operator) at the time of function definition. you can define a function with any number of default arguments."
   ]
  },
  {
   "cell_type": "code",
   "execution_count": 6,
   "id": "6068dfc6-38f6-43f1-b0a9-d871fba0448d",
   "metadata": {},
   "outputs": [
    {
     "ename": "NameError",
     "evalue": "name 'Disha' is not defined",
     "output_type": "error",
     "traceback": [
      "\u001b[1;31m---------------------------------------------------------------------------\u001b[0m",
      "\u001b[1;31mNameError\u001b[0m                                 Traceback (most recent call last)",
      "Cell \u001b[1;32mIn[6], line 1\u001b[0m\n\u001b[1;32m----> 1\u001b[0m \u001b[38;5;28;01mdef\u001b[39;00m \u001b[38;5;21mmessage\u001b[39m(name\u001b[38;5;241m=\u001b[39mDisha, surname\u001b[38;5;241m=\u001b[39meddy):\n\u001b[0;32m      2\u001b[0m     \u001b[38;5;28mprint\u001b[39m(\u001b[38;5;124m\"\u001b[39m\u001b[38;5;124mHello\u001b[39m\u001b[38;5;124m\"\u001b[39m, name, surname)\n\u001b[0;32m      4\u001b[0m message()\n",
      "\u001b[1;31mNameError\u001b[0m: name 'Disha' is not defined"
     ]
    }
   ],
   "source": [
    "def message(name=Disha, surname=eddy):\n",
    "    print(\"Hello\", name, surname)\n",
    "\n",
    "message()"
   ]
  },
  {
   "cell_type": "code",
   "execution_count": 20,
   "id": "0ddb21aa-33a1-4221-a772-70a407ca3e1b",
   "metadata": {},
   "outputs": [
    {
     "ename": "SyntaxError",
     "evalue": "non-default argument follows default argument (3775716507.py, line 1)",
     "output_type": "error",
     "traceback": [
      "\u001b[1;36m  Cell \u001b[1;32mIn[20], line 1\u001b[1;36m\u001b[0m\n\u001b[1;33m    def message(name=\"Disha\",surname):\u001b[0m\n\u001b[1;37m                             ^\u001b[0m\n\u001b[1;31mSyntaxError\u001b[0m\u001b[1;31m:\u001b[0m non-default argument follows default argument\n"
     ]
    }
   ],
   "source": [
    "def message(name=\"Disha\",surname):\n",
    "    print(\"Hello\", name, surname)\n",
    "\n",
    "message(name=\"Disha\",\"Chaudhary\")"
   ]
  },
  {
   "cell_type": "code",
   "execution_count": 7,
   "id": "59becffd-fa84-4a7b-bdd8-37c0b8be7f74",
   "metadata": {},
   "outputs": [
    {
     "data": {
      "text/plain": [
       "100"
      ]
     },
     "execution_count": 7,
     "metadata": {},
     "output_type": "execute_result"
    }
   ],
   "source": [
    "def my_sum(a,b,c,d=40):\n",
    "    return a+b+c+d\n",
    "\n",
    "my_sum(10,20,c=30)"
   ]
  },
  {
   "cell_type": "code",
   "execution_count": 23,
   "id": "cd89628c-5d1f-4f81-9a8e-6c653074ada7",
   "metadata": {},
   "outputs": [
    {
     "ename": "SyntaxError",
     "evalue": "non-default argument follows default argument (2763768479.py, line 1)",
     "output_type": "error",
     "traceback": [
      "\u001b[1;36m  Cell \u001b[1;32mIn[23], line 1\u001b[1;36m\u001b[0m\n\u001b[1;33m    def message(name=\"Disha\", surname):\u001b[0m\n\u001b[1;37m                              ^\u001b[0m\n\u001b[1;31mSyntaxError\u001b[0m\u001b[1;31m:\u001b[0m non-default argument follows default argument\n"
     ]
    }
   ],
   "source": [
    "def message(name=\"Disha\", surname):\n",
    "    return  name + surname\n",
    "message(name=\"Disha\",\"eddy\")"
   ]
  },
  {
   "cell_type": "code",
   "execution_count": 10,
   "id": "c972ec8f-74c6-4916-b9cd-bdcd158ccda2",
   "metadata": {},
   "outputs": [
    {
     "name": "stdout",
     "output_type": "stream",
     "text": [
      "100\n"
     ]
    }
   ],
   "source": [
    "def my_sum(a,b,c,d=40):\n",
    "    print(a+b+c+d)\n",
    "\n",
    "my_sum(10,20,c=30)"
   ]
  },
  {
   "cell_type": "code",
   "execution_count": 22,
   "id": "45bd6520-7ab6-4113-9b87-0db3efa2a88a",
   "metadata": {},
   "outputs": [
    {
     "name": "stdout",
     "output_type": "stream",
     "text": [
      "Hello Disha Chaudhary\n"
     ]
    }
   ],
   "source": [
    "def message(surname,name=\"Disha\"):\n",
    "    print(\"Hello\", name, surname)\n",
    "\n",
    "message(\"Chaudhary\",name=\"Disha\")"
   ]
  },
  {
   "cell_type": "code",
   "execution_count": 24,
   "id": "d2c6a262-54e9-4dfc-9567-5bbb22623897",
   "metadata": {},
   "outputs": [
    {
     "name": "stdout",
     "output_type": "stream",
     "text": [
      "chandra mani\n"
     ]
    }
   ],
   "source": [
    "def add(surname,name=\"chandra\"):\n",
    "    print(name,surname)\n",
    "\n",
    "add(\"mani\" , name=\"chandra\")"
   ]
  },
  {
   "cell_type": "code",
   "execution_count": 4,
   "id": "e0e174ce-1479-423f-91fc-8a78ea03e170",
   "metadata": {},
   "outputs": [
    {
     "name": "stdout",
     "output_type": "stream",
     "text": [
      "creating a program of calculator\n"
     ]
    },
    {
     "name": "stdin",
     "output_type": "stream",
     "text": [
      "enter 1st number: 56\n",
      "enter 2nd number: 28\n",
      "operator /\n"
     ]
    },
    {
     "ename": "UnboundLocalError",
     "evalue": "cannot access local variable 'sum' where it is not associated with a value",
     "output_type": "error",
     "traceback": [
      "\u001b[1;31m---------------------------------------------------------------------------\u001b[0m",
      "\u001b[1;31mUnboundLocalError\u001b[0m                         Traceback (most recent call last)",
      "Cell \u001b[1;32mIn[4], line 17\u001b[0m\n\u001b[0;32m     15\u001b[0m         \u001b[38;5;28mprint\u001b[39m(\u001b[38;5;124m\"\u001b[39m\u001b[38;5;124mwrong\u001b[39m\u001b[38;5;124m\"\u001b[39m)\n\u001b[0;32m     16\u001b[0m     \u001b[38;5;28mprint\u001b[39m(\u001b[38;5;124m\"\u001b[39m\u001b[38;5;124mResult:\u001b[39m\u001b[38;5;124m\"\u001b[39m,\u001b[38;5;28msum\u001b[39m)\n\u001b[1;32m---> 17\u001b[0m calculator(\u001b[38;5;241m22\u001b[39m,\u001b[38;5;241m56\u001b[39m)\n",
      "Cell \u001b[1;32mIn[4], line 16\u001b[0m, in \u001b[0;36mcalculator\u001b[1;34m(a, b)\u001b[0m\n\u001b[0;32m     14\u001b[0m \u001b[38;5;28;01melse\u001b[39;00m:\n\u001b[0;32m     15\u001b[0m     \u001b[38;5;28mprint\u001b[39m(\u001b[38;5;124m\"\u001b[39m\u001b[38;5;124mwrong\u001b[39m\u001b[38;5;124m\"\u001b[39m)\n\u001b[1;32m---> 16\u001b[0m \u001b[38;5;28mprint\u001b[39m(\u001b[38;5;124m\"\u001b[39m\u001b[38;5;124mResult:\u001b[39m\u001b[38;5;124m\"\u001b[39m,\u001b[38;5;28msum\u001b[39m)\n",
      "\u001b[1;31mUnboundLocalError\u001b[0m: cannot access local variable 'sum' where it is not associated with a value"
     ]
    }
   ],
   "source": [
    "print(\"creating a program of calculator\")\n",
    "a=int(input(\"enter 1st number:\"))\n",
    "b=int(input(\"enter 2nd number:\"))\n",
    "c=input(\"operator\")\n",
    "def calculator(a,b):\n",
    "    if c==\"+\":\n",
    "        sum=a+b\n",
    "    elif c==\"-\":\n",
    "        sum=a-b or b-a\n",
    "    elif c==\"*\":\n",
    "        sum=a*b\n",
    "    elif c==\"/\":\n",
    "        div=a/b or b/a\n",
    "    else:\n",
    "        print(\"wrong\")\n",
    "    print(\"Result:\",sum)\n",
    "calculator(22,56)"
   ]
  },
  {
   "cell_type": "code",
   "execution_count": 2,
   "id": "5cc3a9a9-6634-4ed4-a1fd-2d016df5cae5",
   "metadata": {},
   "outputs": [
    {
     "name": "stdout",
     "output_type": "stream",
     "text": [
      "Welcome to the Python Scientific Calculator!\n",
      "Operations:\n",
      "1. Add\n",
      "2. Subtract\n",
      "3. Multiply\n",
      "4. Divide\n",
      "5. Power\n",
      "6. Square Root\n",
      "7. Factorial\n",
      "0. Exit\n"
     ]
    },
    {
     "name": "stdin",
     "output_type": "stream",
     "text": [
      "Enter operation number:  5\n",
      "Enter first number:  56\n",
      "Enter second number:  45\n"
     ]
    },
    {
     "name": "stdout",
     "output_type": "stream",
     "text": [
      "Result: 4.660808027410506e+78\n"
     ]
    }
   ],
   "source": [
    "import math\n",
    "\n",
    "def add(x, y):\n",
    "    return x + y\n",
    "\n",
    "def subtract(x, y):\n",
    "    return x - y\n",
    "\n",
    "def multiply(x, y):\n",
    "    return x * y\n",
    "\n",
    "def divide(x, y):\n",
    "    if y == 0:\n",
    "        return \"Error! Division by zero.\"\n",
    "    else:\n",
    "        return x / y\n",
    "\n",
    "def power(x, y):\n",
    "    return x ** y\n",
    "\n",
    "def square_root(x):\n",
    "    if x < 0:\n",
    "        return \"Error! Cannot compute square root of a negative number.\"\n",
    "    else:\n",
    "        return math.sqrt(x)\n",
    "\n",
    "def factorial(x):\n",
    "    if x < 0:\n",
    "        return \"Error! Cannot compute factorial of a negative number.\"\n",
    "    elif x == 0:\n",
    "        return 1\n",
    "    else:\n",
    "        return x * factorial(x - 1)\n",
    "\n",
    "def main():\n",
    "    print(\"Welcome to the Python Scientific Calculator!\")\n",
    "    print(\"Operations:\")\n",
    "    print(\"1. Add\")\n",
    "    print(\"2. Subtract\")\n",
    "    print(\"3. Multiply\")\n",
    "    print(\"4. Divide\")\n",
    "    print(\"5. Power\")\n",
    "    print(\"6. Square Root\")\n",
    "    print(\"7. Factorial\")\n",
    "    print(\"0. Exit\")\n",
    "\n",
    "    choice = input(\"Enter operation number: \")\n",
    "\n",
    "    if choice == '0':\n",
    "        print(\"Exiting calculator. Goodbye!\")\n",
    "\n",
    "    elif choice in ('1', '2', '3', '4', '5'):\n",
    "        num1 = float(input(\"Enter first number: \"))\n",
    "        num2 = float(input(\"Enter second number: \"))\n",
    "\n",
    "        if choice == '1':\n",
    "            print(\"Result:\", add(num1, num2))\n",
    "        elif choice == '2':\n",
    "            print(\"Result:\", subtract(num1, num2))\n",
    "        elif choice == '3':\n",
    "            print(\"Result:\", multiply(num1, num2))\n",
    "        elif choice == '4':\n",
    "            print(\"Result:\", divide(num1, num2))\n",
    "        elif choice == '5':\n",
    "            print(\"Result:\", power(num1, num2))\n",
    "\n",
    "    elif choice == '6':\n",
    "        num = float(input(\"Enter number: \"))\n",
    "        print(\"Result:\", square_root(num))\n",
    "\n",
    "    elif choice == '7':\n",
    "        num = int(input(\"Enter number: \"))\n",
    "        print(\"Result:\", factorial(num))\n",
    "\n",
    "    else:\n",
    "        print(\"Invalid input. Please enter a valid operation number.\")\n",
    "\n",
    "if __name__ == \"__main__\":\n",
    "    main()\n"
   ]
  },
  {
   "cell_type": "code",
   "execution_count": 5,
   "id": "6633b87b-b783-44a6-8c2b-b502c3beaab7",
   "metadata": {},
   "outputs": [
    {
     "data": {
      "text/plain": [
       "{'ananda ghee',\n",
       " 'anchal ghee',\n",
       " 'motherdairy',\n",
       " 'musterd oli',\n",
       " 'refine',\n",
       " 'soya oli'}"
      ]
     },
     "execution_count": 5,
     "metadata": {},
     "output_type": "execute_result"
    }
   ],
   "source": [
    "list_spices=['cumin','coriander','turmeric','cardamom','cinnamon','mustard seed','fenugreek','garam masala']\n",
    "list_pickle=['amla pickle','assorted pickle','carrot pickle','garlic pickle','lemon pickle']\n",
    "list_vegetable=['beetroot','black-eyed been','broad beans','carrot','garlic','green beans','mushrooms','onions','peas','potato','cabage']\n",
    "list_rice=['arboric rice','basmati rice','black rice','bomba rice','brown rice','jasmine rice','sticky rice','sishi rice']\n",
    "list_pulses=['masoor dal','moong dal','urad dal','toor dal','chana dal','rajma','arhar dal','green gram']\n",
    "list_salt=['sea salt','black salt','flake salt','himalayan salt','smoked salt']\n",
    "list_ghee=['motherdairy','anchal ghee','ananda ghee']\n",
    "list_oil=['musterd oli','soya oli','refine']\n",
    "list_ghee=set(list_ghee)\n",
    "list_oil=set(list_oil)\n",
    "list_oil.symmetric_difference(list_ghee)\n"
   ]
  },
  {
   "cell_type": "code",
   "execution_count": 2,
   "id": "06b3961d-e4ba-4ef3-8aac-f0e7af65f7ad",
   "metadata": {},
   "outputs": [
    {
     "name": "stdin",
     "output_type": "stream",
     "text": [
      "Enter the name of an animal :  dragon\n"
     ]
    },
    {
     "name": "stdout",
     "output_type": "stream",
     "text": [
      "The dragon is a unknown.\n",
      "Unknown category. This animal is not in our database.\n",
      "\n"
     ]
    }
   ],
   "source": [
    "def classify_animal(animal_name):\n",
    "    animal_name = animal_name.lower() \n",
    "    if animal_name in [\"dog\", \"cat\", \"elephant\", \"tiger\", \"human\"]:\n",
    "        return \"mammal\"\n",
    "    elif animal_name in [\"sparrow\", \"eagle\", \"parrot\", \"penguin\"]:\n",
    "        return \"bird\"\n",
    "    elif animal_name in [\"snake\", \"lizard\", \"crocodile\", \"turtle\"]:\n",
    "        return \"reptile\"\n",
    "    elif animal_name in [\"frog\", \"salamander\", \"newt\"]:\n",
    "        return \"amphibian\"\n",
    "    elif animal_name in [\"shark\", \"salmon\", \"goldfish\"]:\n",
    "        return \"fish\"\n",
    "    else:\n",
    "        return \"unknown\"\n",
    "\n",
    "def characteristics(category):\n",
    "    if category == \"mammal\":\n",
    "        return \"Mammals are warm-blooded vertebrates that have hair or fur and most give live birth.\"\n",
    "    elif category == \"bird\":\n",
    "        return \"Birds are warm-blooded vertebrates with feathers, wings, and beaks. Most can fly.\"\n",
    "    elif category == \"reptile\":\n",
    "        return \"Reptiles are cold-blooded vertebrates that have scales and lay eggs.\"\n",
    "    elif category == \"amphibian\":\n",
    "        return \"Amphibians are cold-blooded vertebrates that live both in water and on land.\"\n",
    "    elif category == \"fish\":\n",
    "        return \"Fish are cold-blooded vertebrates that live in water and have gills, fins, and scales.\"\n",
    "    else:\n",
    "        return \"Unknown category. This animal is not in our database.\"\n",
    "\n",
    "def main():\n",
    "    \n",
    "        animal = input(\"Enter the name of an animal : \")\n",
    "        category = classify_animal(animal)\n",
    "        print(f\"The {animal} is a {category}.\")\n",
    "        print(characteristics(category))\n",
    "        print() \n",
    "\n",
    "if __name__ == \"__main__\":\n",
    "    main()\n"
   ]
  },
  {
   "cell_type": "code",
   "execution_count": null,
   "id": "80964da2-3867-4731-bad7-68c95f923283",
   "metadata": {},
   "outputs": [],
   "source": []
  }
 ],
 "metadata": {
  "kernelspec": {
   "display_name": "Python 3 (ipykernel)",
   "language": "python",
   "name": "python3"
  },
  "language_info": {
   "codemirror_mode": {
    "name": "ipython",
    "version": 3
   },
   "file_extension": ".py",
   "mimetype": "text/x-python",
   "name": "python",
   "nbconvert_exporter": "python",
   "pygments_lexer": "ipython3",
   "version": "3.11.7"
  }
 },
 "nbformat": 4,
 "nbformat_minor": 5
}
