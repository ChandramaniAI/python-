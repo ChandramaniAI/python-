{
 "cells": [
  {
   "cell_type": "code",
   "execution_count": 3,
   "id": "84151af7-2742-43a4-9527-6c06b4ba1afc",
   "metadata": {},
   "outputs": [],
   "source": [
    "def fgf(x1,x2):\n",
    "    pass\n",
    "\n",
    "fgf(1,2)"
   ]
  },
  {
   "cell_type": "code",
   "execution_count": 5,
   "id": "f638e46b-1105-4627-a1ec-44a2128a0e4f",
   "metadata": {},
   "outputs": [],
   "source": [
    "def fgf(x1,x2):\n",
    "    \n",
    "fgf(1,2)"
   ]
  },
  {
   "cell_type": "code",
   "execution_count": 13,
   "id": "8a260eb5-4d95-4503-bc4c-d5e86a6f817e",
   "metadata": {},
   "outputs": [
    {
     "name": "stdin",
     "output_type": "stream",
     "text": [
      " 2\n"
     ]
    },
    {
     "name": "stdout",
     "output_type": "stream",
     "text": [
      "hi\n"
     ]
    }
   ],
   "source": [
    "x=int(input())\n",
    "for i in range(10):\n",
    "    if x==10: print(\"yes\")\n",
    "    else:\n",
    "        print(\"hi\")\n",
    "        break"
   ]
  },
  {
   "cell_type": "code",
   "execution_count": 14,
   "id": "d48fa11d-651d-4fbf-90fa-813758145e64",
   "metadata": {},
   "outputs": [
    {
     "name": "stdin",
     "output_type": "stream",
     "text": [
      " 5\n"
     ]
    },
    {
     "ename": "SyntaxError",
     "evalue": "'break' outside loop (3376653766.py, line 6)",
     "output_type": "error",
     "traceback": [
      "\u001b[1;36m  Cell \u001b[1;32mIn[14], line 6\u001b[1;36m\u001b[0m\n\u001b[1;33m    break\u001b[0m\n\u001b[1;37m    ^\u001b[0m\n\u001b[1;31mSyntaxError\u001b[0m\u001b[1;31m:\u001b[0m 'break' outside loop\n"
     ]
    }
   ],
   "source": [
    "x=int(input())\n",
    "#for i in range(10):\n",
    "if x==10: print(\"yes\")\n",
    "else:\n",
    "    print(\"hi\")\n",
    "    break"
   ]
  },
  {
   "cell_type": "code",
   "execution_count": 15,
   "id": "d3074194-8dbe-4f61-9d6d-27e5fb17f073",
   "metadata": {},
   "outputs": [
    {
     "name": "stdin",
     "output_type": "stream",
     "text": [
      " 4\n",
      " 2\n"
     ]
    },
    {
     "name": "stdout",
     "output_type": "stream",
     "text": [
      "2.0\n"
     ]
    },
    {
     "name": "stdin",
     "output_type": "stream",
     "text": [
      " 4\n",
      " 0\n"
     ]
    },
    {
     "name": "stdout",
     "output_type": "stream",
     "text": [
      "denom is zero\n"
     ]
    },
    {
     "name": "stdin",
     "output_type": "stream",
     "text": [
      " 6\n",
      " 3\n"
     ]
    },
    {
     "name": "stdout",
     "output_type": "stream",
     "text": [
      "2.0\n"
     ]
    }
   ],
   "source": [
    "for i in range(0,3):\n",
    "    a=int(input())\n",
    "    b=int(input())\n",
    "    if b==0:\n",
    "        print('denom is zero')\n",
    "        continue\n",
    "    else:\n",
    "        print(a/b)"
   ]
  },
  {
   "cell_type": "code",
   "execution_count": 17,
   "id": "bf1e78da-c512-4d63-a077-491e85af95d9",
   "metadata": {},
   "outputs": [
    {
     "name": "stdin",
     "output_type": "stream",
     "text": [
      " 4\n",
      " 2\n"
     ]
    },
    {
     "name": "stdout",
     "output_type": "stream",
     "text": [
      "2.0\n"
     ]
    },
    {
     "name": "stdin",
     "output_type": "stream",
     "text": [
      " 4\n",
      " 0\n"
     ]
    },
    {
     "name": "stdout",
     "output_type": "stream",
     "text": [
      "denom is zero\n"
     ]
    }
   ],
   "source": [
    "for i in range(0,3):\n",
    "    a=int(input())\n",
    "    b=int(input())\n",
    "    if b==0:\n",
    "        print('denom is zero')\n",
    "        break\n",
    "    else:\n",
    "        print(a/b)"
   ]
  },
  {
   "cell_type": "code",
   "execution_count": null,
   "id": "6d09d378-2ec8-45c5-9f65-9a0033ef8e21",
   "metadata": {},
   "outputs": [],
   "source": []
  }
 ],
 "metadata": {
  "kernelspec": {
   "display_name": "Python 3 (ipykernel)",
   "language": "python",
   "name": "python3"
  },
  "language_info": {
   "codemirror_mode": {
    "name": "ipython",
    "version": 3
   },
   "file_extension": ".py",
   "mimetype": "text/x-python",
   "name": "python",
   "nbconvert_exporter": "python",
   "pygments_lexer": "ipython3",
   "version": "3.11.7"
  }
 },
 "nbformat": 4,
 "nbformat_minor": 5
}
