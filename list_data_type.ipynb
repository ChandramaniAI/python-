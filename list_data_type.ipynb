{
 "cells": [
  {
   "cell_type": "markdown",
   "metadata": {
    "id": "j7Qubx_VhpaV"
   },
   "source": [
    "## List rule"
   ]
  },
  {
   "cell_type": "markdown",
   "metadata": {
    "id": "5IzwnfnniICb"
   },
   "source": [
    "- Mutable data type\n",
    "- Iterable\n",
    "- Hetrogenious\n",
    "- Ordered\n",
    "- use of square bracket [ ]\n"
   ]
  },
  {
   "cell_type": "markdown",
   "metadata": {
    "id": "RbWOMqcpi9Fz"
   },
   "source": [
    "### .append()\n",
    "In append the single element can be add to a list.\n",
    "### .extend()\n",
    "in extend the multiple element can be add in a list.\n",
    "### .index()\n",
    "In we use index argument to know about what element is store at that place.\n",
    "### .remove()\n",
    "In this single element can be remove from the list.\n",
    "### .clear()\n",
    "In this whole element is clear from the list.\n",
    "### .sort()\n",
    "In this the element store in a list can be arrenge in ascending order.\n",
    "### .pop()\n",
    "In this the argument is index number which is given is going to remove from that place and the last argument can be remove by default if we not give any argument.\n",
    "### .insert()\n",
    "In insert we will take two argument in first index number and number which we want to insert.\n",
    "### .count()\n",
    "In this the number of element is present in the list.\n",
    "### .min()\n",
    "In this the minimum number is count from the list.\n",
    "### .max()\n",
    "In the maximum number is count from the list.\n",
    "### .all()\n",
    "In this when the all value is true or greater than 0 it will give true.\n",
    "If no element present in a list it count greater than 0 and give true.\n",
    "### .any()\n",
    "In this when 0 is present in a list it give  false.\n",
    "### .del()\n",
    "In this the compelete list is delete"
   ]
  },
  {
   "cell_type": "code",
   "execution_count": null,
   "metadata": {
    "colab": {
     "base_uri": "https://localhost:8080/"
    },
    "id": "oDl49NusiHGR",
    "outputId": "05a13459-f844-41e6-d929-0270bfcd382e"
   },
   "outputs": [
    {
     "name": "stdout",
     "output_type": "stream",
     "text": [
      "[1, 2, 3, 4, 5]\n"
     ]
    }
   ],
   "source": [
    "x=[1,2,3,4]\n",
    "y=[6,7,8,9]\n",
    "x.append(5)\n",
    "print(x)"
   ]
  },
  {
   "cell_type": "code",
   "execution_count": null,
   "metadata": {
    "colab": {
     "base_uri": "https://localhost:8080/"
    },
    "id": "4ud8K1KYr0tC",
    "outputId": "44f2604f-1f02-4e31-e871-d72dabf6183e"
   },
   "outputs": [
    {
     "name": "stdout",
     "output_type": "stream",
     "text": [
      "[1, 2, 3, 4, 5, 6, 6, 7, 7, 8, 8, 9, 9, 6, 7, 8, 9]\n"
     ]
    }
   ],
   "source": [
    "x.extend(y)\n",
    "print(x)"
   ]
  },
  {
   "cell_type": "code",
   "execution_count": null,
   "metadata": {
    "colab": {
     "base_uri": "https://localhost:8080/"
    },
    "id": "DYwPV5QhsG3R",
    "outputId": "74219f9e-dd53-4ef9-a870-1c089ed34991"
   },
   "outputs": [
    {
     "data": {
      "text/plain": [
       "11"
      ]
     },
     "execution_count": 15,
     "metadata": {},
     "output_type": "execute_result"
    }
   ],
   "source": [
    "x.index(8)"
   ]
  },
  {
   "cell_type": "code",
   "execution_count": null,
   "metadata": {
    "colab": {
     "base_uri": "https://localhost:8080/"
    },
    "id": "EzI4HLUYsZuW",
    "outputId": "6388f5eb-c24e-48f4-f570-720ab5539c21"
   },
   "outputs": [
    {
     "name": "stdout",
     "output_type": "stream",
     "text": [
      "[1, 2, 3, 4, 5, 6, 6, 6, 7, 7, 7, 8, 8, 8, 9, 9, 9]\n"
     ]
    }
   ],
   "source": [
    "x.sort()\n",
    "print(x)"
   ]
  },
  {
   "cell_type": "code",
   "execution_count": null,
   "metadata": {
    "colab": {
     "base_uri": "https://localhost:8080/"
    },
    "id": "GsFBrxyOsqb4",
    "outputId": "d24d6623-675b-45a9-9a19-076849a61754"
   },
   "outputs": [
    {
     "data": {
      "text/plain": [
       "11"
      ]
     },
     "execution_count": 14,
     "metadata": {},
     "output_type": "execute_result"
    }
   ],
   "source": [
    "x.index(8)"
   ]
  },
  {
   "cell_type": "code",
   "execution_count": 1,
   "metadata": {
    "id": "2nqGFArGtBMt"
   },
   "outputs": [
    {
     "data": {
      "text/plain": [
       "[1, 2, 3, 4, 5, 6, 7, 8, 9]"
      ]
     },
     "execution_count": 1,
     "metadata": {},
     "output_type": "execute_result"
    }
   ],
   "source": [
    "a=[1,2,3]\n",
    "b=[4,5,6]\n",
    "c=[7,8,9]\n",
    "a.extend(b[:]+c[:])\n",
    "a"
   ]
  },
  {
   "cell_type": "code",
   "execution_count": null,
   "metadata": {
    "colab": {
     "base_uri": "https://localhost:8080/"
    },
    "id": "73WsqbErhkic",
    "outputId": "67f56d0a-d462-4a0f-df04-a19c30d49ce8"
   },
   "outputs": [
    {
     "name": "stdout",
     "output_type": "stream",
     "text": [
      "[1, 2, 3, 4]\n"
     ]
    }
   ],
   "source": [
    "a=[1,2]\n",
    "a.extend([3,4])\n",
    "print(a)"
   ]
  },
  {
   "cell_type": "code",
   "execution_count": 1,
   "metadata": {},
   "outputs": [
    {
     "name": "stdout",
     "output_type": "stream",
     "text": [
      "[12, 23, 23, 9, 'h', 'e', 'l', 'l', 'o', 'w', 'o', 'r', 'l', 'd', 'm', 'y', ' ', 'n', 'a', 'm', 'e', ' ', 'i', 's']\n"
     ]
    }
   ],
   "source": [
    "x=[12,23,23,9]\n",
    "y=\"hello\"\n",
    "z=\"world\"\n",
    "a=\"my name is\"\n",
    "x.extend(y[:]+z[:]+a[:])\n",
    "print(x)"
   ]
  },
  {
   "cell_type": "code",
   "execution_count": 3,
   "metadata": {},
   "outputs": [
    {
     "data": {
      "text/plain": [
       "[1, 2, 3, 4, 5, 'hello']"
      ]
     },
     "execution_count": 3,
     "metadata": {},
     "output_type": "execute_result"
    }
   ],
   "source": [
    "x=[1,2,3,4,5]\n",
    "x.insert(x[4],\"hello\")\n",
    "x"
   ]
  },
  {
   "cell_type": "code",
   "execution_count": 6,
   "metadata": {},
   "outputs": [
    {
     "data": {
      "text/plain": [
       "3"
      ]
     },
     "execution_count": 6,
     "metadata": {},
     "output_type": "execute_result"
    }
   ],
   "source": [
    "x=[\"a\",1,2,3,\"hello\"]\n",
    "x.index(10-7)\n"
   ]
  },
  {
   "cell_type": "code",
   "execution_count": 11,
   "metadata": {},
   "outputs": [
    {
     "ename": "IndexError",
     "evalue": "pop index out of range",
     "output_type": "error",
     "traceback": [
      "\u001b[1;31m---------------------------------------------------------------------------\u001b[0m",
      "\u001b[1;31mIndexError\u001b[0m                                Traceback (most recent call last)",
      "Cell \u001b[1;32mIn[11], line 2\u001b[0m\n\u001b[0;32m      1\u001b[0m z\u001b[38;5;241m=\u001b[39m[\u001b[38;5;241m1\u001b[39m, \u001b[38;5;241m2\u001b[39m, \u001b[38;5;241m3\u001b[39m, \u001b[38;5;241m4\u001b[39m, \u001b[38;5;241m5\u001b[39m,\u001b[38;5;241m6\u001b[39m]\n\u001b[1;32m----> 2\u001b[0m z\u001b[38;5;241m.\u001b[39mpop(\u001b[38;5;241m7\u001b[39m)\n\u001b[0;32m      3\u001b[0m z\n",
      "\u001b[1;31mIndexError\u001b[0m: pop index out of range"
     ]
    }
   ],
   "source": [
    "z=[1, 2, 3, 4, 5,6]\n",
    "z.pop(7)\n",
    "z"
   ]
  },
  {
   "cell_type": "code",
   "execution_count": 3,
   "metadata": {},
   "outputs": [
    {
     "ename": "TypeError",
     "evalue": "'<' not supported between instances of 'tuple' and 'int'",
     "output_type": "error",
     "traceback": [
      "\u001b[1;31m---------------------------------------------------------------------------\u001b[0m",
      "\u001b[1;31mTypeError\u001b[0m                                 Traceback (most recent call last)",
      "Cell \u001b[1;32mIn[3], line 2\u001b[0m\n\u001b[0;32m      1\u001b[0m a\u001b[38;5;241m=\u001b[39m[\u001b[38;5;241m1\u001b[39m,\u001b[38;5;241m2\u001b[39m,\u001b[38;5;241m67\u001b[39m,\u001b[38;5;241m24\u001b[39m,\u001b[38;5;241m4545\u001b[39m,\u001b[38;5;241m5461\u001b[39m,(\u001b[38;5;241m1\u001b[39m,\u001b[38;5;241m2\u001b[39m,\u001b[38;5;241m3\u001b[39m)]\n\u001b[1;32m----> 2\u001b[0m \u001b[38;5;28mmin\u001b[39m(a)\n",
      "\u001b[1;31mTypeError\u001b[0m: '<' not supported between instances of 'tuple' and 'int'"
     ]
    }
   ],
   "source": [
    "a=[1,2,67,24,4545,5461,(1,2,3)]\n",
    "min(a)"
   ]
  },
  {
   "cell_type": "code",
   "execution_count": 6,
   "metadata": {},
   "outputs": [
    {
     "name": "stdout",
     "output_type": "stream",
     "text": [
      "['p', 'a', 'l', 'l', 'a', 'v', 'i']\n"
     ]
    },
    {
     "data": {
      "text/plain": [
       "'a'"
      ]
     },
     "execution_count": 6,
     "metadata": {},
     "output_type": "execute_result"
    }
   ],
   "source": [
    "a=[]\n",
    "a.extend('pallavi')\n",
    "print(a)\n",
    "min(a)\n"
   ]
  },
  {
   "cell_type": "code",
   "execution_count": null,
   "metadata": {},
   "outputs": [],
   "source": []
  }
 ],
 "metadata": {
  "colab": {
   "provenance": []
  },
  "kernelspec": {
   "display_name": "Python 3 (ipykernel)",
   "language": "python",
   "name": "python3"
  },
  "language_info": {
   "codemirror_mode": {
    "name": "ipython",
    "version": 3
   },
   "file_extension": ".py",
   "mimetype": "text/x-python",
   "name": "python",
   "nbconvert_exporter": "python",
   "pygments_lexer": "ipython3",
   "version": "3.11.7"
  }
 },
 "nbformat": 4,
 "nbformat_minor": 4
}
