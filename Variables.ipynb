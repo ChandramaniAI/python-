{
 "cells": [
  {
   "cell_type": "code",
   "execution_count": 32,
   "id": "67189191-291e-46ab-b1c6-01e8bf1c2e1e",
   "metadata": {},
   "outputs": [
    {
     "data": {
      "text/plain": [
       "5"
      ]
     },
     "execution_count": 32,
     "metadata": {},
     "output_type": "execute_result"
    }
   ],
   "source": [
    "5"
   ]
  },
  {
   "cell_type": "code",
   "execution_count": 33,
   "id": "265b1953-ebe3-4772-ae66-c60d0a4ba835",
   "metadata": {},
   "outputs": [
    {
     "data": {
      "text/plain": [
       "'hello'"
      ]
     },
     "execution_count": 33,
     "metadata": {},
     "output_type": "execute_result"
    }
   ],
   "source": [
    "\"hello\""
   ]
  },
  {
   "cell_type": "markdown",
   "id": "c4185fa4-70af-4f91-9d4f-ade2ae5b7f6e",
   "metadata": {},
   "source": [
    "# What is Variables/ Identifier?\n",
    "In Python, you can define a variable by simply assigning a value to a variable name."
   ]
  },
  {
   "cell_type": "code",
   "execution_count": 35,
   "id": "f88b5095-2bbd-4df5-b082-90c9e4512fda",
   "metadata": {},
   "outputs": [
    {
     "name": "stdout",
     "output_type": "stream",
     "text": [
      "5\n"
     ]
    }
   ],
   "source": [
    "x=5\n",
    "print(x)"
   ]
  },
  {
   "cell_type": "markdown",
   "id": "be9f0f9f-e6cc-4eb8-9285-68798ef45578",
   "metadata": {},
   "source": [
    "# Rules of Variables\n",
    "- A Variable name must start with an **alphabet** or an **Underscores**.\n",
    "- A variable name cannot start with a **number** or any **special character(#,@,$,&)**.\n",
    "- A variable name can only **contain alphabets,numbers and underscores**.\n",
    "- The use of special character is **prohibited**.\n",
    "- Variable names are **case sensitive** in Python.\n",
    "- **Python keywords** cannot be used as variable names."
   ]
  },
  {
   "cell_type": "code",
   "execution_count": 37,
   "id": "8e4cdb68-469e-478c-bf4e-0cdc8dc334b2",
   "metadata": {},
   "outputs": [
    {
     "name": "stdout",
     "output_type": "stream",
     "text": [
      "3\n"
     ]
    }
   ],
   "source": [
    "# A VAriable name must start with an alphabet or an Underscores.\n",
    "_a = 3\n",
    "print(_a)"
   ]
  },
  {
   "cell_type": "code",
   "execution_count": 38,
   "id": "e3036af5-bafa-459b-bae2-15e8e62cd16e",
   "metadata": {},
   "outputs": [
    {
     "name": "stdout",
     "output_type": "stream",
     "text": [
      "3\n"
     ]
    }
   ],
   "source": [
    "a_ = 3\n",
    "print(a_)"
   ]
  },
  {
   "cell_type": "code",
   "execution_count": null,
   "id": "5ca9de1e-26f1-4623-97de-2ed733426062",
   "metadata": {},
   "outputs": [],
   "source": []
  },
  {
   "cell_type": "code",
   "execution_count": 39,
   "id": "3892b3ec-7e2a-4664-9386-4c30f0ce9d62",
   "metadata": {},
   "outputs": [
    {
     "ename": "SyntaxError",
     "evalue": "invalid decimal literal (1403234607.py, line 2)",
     "output_type": "error",
     "traceback": [
      "\u001b[1;36m  Cell \u001b[1;32mIn[39], line 2\u001b[1;36m\u001b[0m\n\u001b[1;33m    1a = 5\u001b[0m\n\u001b[1;37m    ^\u001b[0m\n\u001b[1;31mSyntaxError\u001b[0m\u001b[1;31m:\u001b[0m invalid decimal literal\n"
     ]
    }
   ],
   "source": [
    "# A variable name cannot start with a number or any special character(#,@,$,&)\n",
    "1a = 5\n",
    "print(1a)"
   ]
  },
  {
   "cell_type": "code",
   "execution_count": 40,
   "id": "e5865c4b-5583-4dce-9500-58e46f66e1ac",
   "metadata": {},
   "outputs": [
    {
     "ename": "SyntaxError",
     "evalue": "invalid syntax. Maybe you meant '==' or ':=' instead of '='? (3276779086.py, line 1)",
     "output_type": "error",
     "traceback": [
      "\u001b[1;36m  Cell \u001b[1;32mIn[40], line 1\u001b[1;36m\u001b[0m\n\u001b[1;33m    @sa = 23\u001b[0m\n\u001b[1;37m     ^\u001b[0m\n\u001b[1;31mSyntaxError\u001b[0m\u001b[1;31m:\u001b[0m invalid syntax. Maybe you meant '==' or ':=' instead of '='?\n"
     ]
    }
   ],
   "source": [
    "@sa = 23\n",
    "print(@sa)"
   ]
  },
  {
   "cell_type": "code",
   "execution_count": null,
   "id": "d6f5bb51-150e-47fb-965e-ac2a956dc380",
   "metadata": {},
   "outputs": [],
   "source": []
  },
  {
   "cell_type": "code",
   "execution_count": 41,
   "id": "f77923fe-4872-44b9-9433-fb426acb42b5",
   "metadata": {},
   "outputs": [
    {
     "name": "stdout",
     "output_type": "stream",
     "text": [
      "5\n"
     ]
    }
   ],
   "source": [
    "# A variable name can only contain alphabets,numbers and underscores.\n",
    "a1 = 5\n",
    "print(a1)"
   ]
  },
  {
   "cell_type": "code",
   "execution_count": 42,
   "id": "34289f92-092c-4427-92c8-e31c4010cdac",
   "metadata": {},
   "outputs": [
    {
     "name": "stdout",
     "output_type": "stream",
     "text": [
      "532\n"
     ]
    }
   ],
   "source": [
    "_1 = 532\n",
    "print(_1)"
   ]
  },
  {
   "cell_type": "code",
   "execution_count": 43,
   "id": "eea0390e-bd41-450f-a46e-d36b42b90efe",
   "metadata": {},
   "outputs": [
    {
     "ename": "SyntaxError",
     "evalue": "invalid syntax (1378154630.py, line 2)",
     "output_type": "error",
     "traceback": [
      "\u001b[1;36m  Cell \u001b[1;32mIn[43], line 2\u001b[1;36m\u001b[0m\n\u001b[1;33m    a$ = 1\u001b[0m\n\u001b[1;37m     ^\u001b[0m\n\u001b[1;31mSyntaxError\u001b[0m\u001b[1;31m:\u001b[0m invalid syntax\n"
     ]
    }
   ],
   "source": [
    "# The use of special character is prohibited.\n",
    "a$ = 1\n",
    "print(a$)"
   ]
  },
  {
   "cell_type": "code",
   "execution_count": null,
   "id": "100d440c-a522-47bf-833a-0630afd12fc7",
   "metadata": {},
   "outputs": [],
   "source": []
  },
  {
   "cell_type": "code",
   "execution_count": 44,
   "id": "a6c3904b-87e3-4720-903c-e2995bda606e",
   "metadata": {},
   "outputs": [
    {
     "ename": "NameError",
     "evalue": "name 'a' is not defined",
     "output_type": "error",
     "traceback": [
      "\u001b[1;31m---------------------------------------------------------------------------\u001b[0m",
      "\u001b[1;31mNameError\u001b[0m                                 Traceback (most recent call last)",
      "Cell \u001b[1;32mIn[44], line 3\u001b[0m\n\u001b[0;32m      1\u001b[0m \u001b[38;5;66;03m#Variable names are case sensitive in Python.\u001b[39;00m\n\u001b[0;32m      2\u001b[0m A\u001b[38;5;241m=\u001b[39m\u001b[38;5;241m4\u001b[39m\n\u001b[1;32m----> 3\u001b[0m \u001b[38;5;28mprint\u001b[39m(a)\n",
      "\u001b[1;31mNameError\u001b[0m: name 'a' is not defined"
     ]
    }
   ],
   "source": [
    "#Variable names are case sensitive in Python.\n",
    "A=4\n",
    "print(a)"
   ]
  },
  {
   "cell_type": "code",
   "execution_count": null,
   "id": "9a24e9b1-9810-4732-88a0-7c7e867b7508",
   "metadata": {},
   "outputs": [],
   "source": []
  },
  {
   "cell_type": "code",
   "execution_count": 6,
   "id": "df04e186-3268-45e5-87f7-e95b68f944a8",
   "metadata": {},
   "outputs": [],
   "source": [
    "# Python keywords cannot be used as variable names."
   ]
  },
  {
   "cell_type": "code",
   "execution_count": 45,
   "id": "a7f10b38-9453-4723-a9b9-f667cd43a3bb",
   "metadata": {},
   "outputs": [
    {
     "ename": "SyntaxError",
     "evalue": "invalid syntax (68515780.py, line 1)",
     "output_type": "error",
     "traceback": [
      "\u001b[1;36m  Cell \u001b[1;32mIn[45], line 1\u001b[1;36m\u001b[0m\n\u001b[1;33m    if=\"hello\"\u001b[0m\n\u001b[1;37m      ^\u001b[0m\n\u001b[1;31mSyntaxError\u001b[0m\u001b[1;31m:\u001b[0m invalid syntax\n"
     ]
    }
   ],
   "source": [
    "if=\"hello\"\n",
    "print(if)"
   ]
  },
  {
   "cell_type": "code",
   "execution_count": null,
   "id": "fdf50eb1-6199-4237-b7d4-144ba0e4c2f1",
   "metadata": {},
   "outputs": [],
   "source": []
  }
 ],
 "metadata": {
  "kernelspec": {
   "display_name": "Python 3 (ipykernel)",
   "language": "python",
   "name": "python3"
  },
  "language_info": {
   "codemirror_mode": {
    "name": "ipython",
    "version": 3
   },
   "file_extension": ".py",
   "mimetype": "text/x-python",
   "name": "python",
   "nbconvert_exporter": "python",
   "pygments_lexer": "ipython3",
   "version": "3.11.7"
  }
 },
 "nbformat": 4,
 "nbformat_minor": 5
}
