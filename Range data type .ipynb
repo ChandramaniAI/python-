{
 "cells": [
  {
   "cell_type": "markdown",
   "id": "c893b5c5-7303-4de6-984d-0b7ffcbff223",
   "metadata": {},
   "source": [
    "# range data type"
   ]
  },
  {
   "cell_type": "markdown",
   "id": "95710eef-fc37-4cd9-af38-367d2b74fad2",
   "metadata": {},
   "source": [
    "#### Range data type(or range object) is an immutable sequence of integers starting from the given start integer to the stop integer."
   ]
  },
  {
   "cell_type": "code",
   "execution_count": 1,
   "id": "21b8cc29-56d9-4a15-9650-08f8d97281b4",
   "metadata": {},
   "outputs": [
    {
     "data": {
      "text/plain": [
       "range(1, 10)"
      ]
     },
     "execution_count": 1,
     "metadata": {},
     "output_type": "execute_result"
    }
   ],
   "source": [
    "# range(start,stop,step)\n",
    "x=range(1,10,1)\n",
    "x"
   ]
  },
  {
   "cell_type": "code",
   "execution_count": 4,
   "id": "553f1ef9-b97e-480c-89a6-31ca058eaaf4",
   "metadata": {},
   "outputs": [
    {
     "data": {
      "text/plain": [
       "range"
      ]
     },
     "execution_count": 4,
     "metadata": {},
     "output_type": "execute_result"
    }
   ],
   "source": [
    "# let us check the data type of range object\n",
    "type(range(1,10,1))"
   ]
  },
  {
   "cell_type": "code",
   "execution_count": 3,
   "id": "7ade5866-bc9c-4ad9-9d14-4f796c2a2f1b",
   "metadata": {},
   "outputs": [
    {
     "data": {
      "text/plain": [
       "[1, 2, 3, 4, 5, 6, 7, 8, 9]"
      ]
     },
     "execution_count": 3,
     "metadata": {},
     "output_type": "execute_result"
    }
   ],
   "source": [
    "list(x)"
   ]
  },
  {
   "cell_type": "code",
   "execution_count": 5,
   "id": "78e0e1d9-d9c3-46bd-82b5-98a6c80ac8ff",
   "metadata": {},
   "outputs": [
    {
     "data": {
      "text/plain": [
       "{1, 4, 7, 10, 13, 16, 19}"
      ]
     },
     "execution_count": 5,
     "metadata": {},
     "output_type": "execute_result"
    }
   ],
   "source": [
    "x=range(1,20,3)\n",
    "set(x)"
   ]
  },
  {
   "cell_type": "code",
   "execution_count": 7,
   "id": "a711a485-6a6f-4f83-84b5-13f0efa85ca2",
   "metadata": {},
   "outputs": [
    {
     "data": {
      "text/plain": [
       "(1, 6, 11, 16, 21, 26, 31, 36, 41, 46, 51, 56, 61, 66, 71, 76, 81, 86, 91, 96)"
      ]
     },
     "execution_count": 7,
     "metadata": {},
     "output_type": "execute_result"
    }
   ],
   "source": [
    "z=range(1,100,5)\n",
    "tuple(z)"
   ]
  },
  {
   "cell_type": "code",
   "execution_count": 8,
   "id": "ee33a646-2159-408d-a851-d22a4c021e9f",
   "metadata": {},
   "outputs": [
    {
     "data": {
      "text/plain": [
       "'range(1, 88, 6)'"
      ]
     },
     "execution_count": 8,
     "metadata": {},
     "output_type": "execute_result"
    }
   ],
   "source": [
    "a=range(1,88,6)\n",
    "str(a)"
   ]
  },
  {
   "cell_type": "code",
   "execution_count": 9,
   "id": "f3ac0654-0e38-4610-80a1-0df3b87b4537",
   "metadata": {},
   "outputs": [
    {
     "ename": "TypeError",
     "evalue": "int() argument must be a string, a bytes-like object or a real number, not 'range'",
     "output_type": "error",
     "traceback": [
      "\u001b[1;31m---------------------------------------------------------------------------\u001b[0m",
      "\u001b[1;31mTypeError\u001b[0m                                 Traceback (most recent call last)",
      "Cell \u001b[1;32mIn[9], line 1\u001b[0m\n\u001b[1;32m----> 1\u001b[0m \u001b[38;5;28mint\u001b[39m(a)\n",
      "\u001b[1;31mTypeError\u001b[0m: int() argument must be a string, a bytes-like object or a real number, not 'range'"
     ]
    }
   ],
   "source": [
    "int(a)"
   ]
  },
  {
   "cell_type": "code",
   "execution_count": 11,
   "id": "d579b623-65e1-4252-9907-d75bd154504a",
   "metadata": {},
   "outputs": [
    {
     "data": {
      "text/plain": [
       "True"
      ]
     },
     "execution_count": 11,
     "metadata": {},
     "output_type": "execute_result"
    }
   ],
   "source": [
    "bool(a)"
   ]
  },
  {
   "cell_type": "code",
   "execution_count": 12,
   "id": "155b350a-427f-475c-9654-6a8ba6cb5542",
   "metadata": {},
   "outputs": [
    {
     "ename": "TypeError",
     "evalue": "complex() first argument must be a string or a number, not 'range'",
     "output_type": "error",
     "traceback": [
      "\u001b[1;31m---------------------------------------------------------------------------\u001b[0m",
      "\u001b[1;31mTypeError\u001b[0m                                 Traceback (most recent call last)",
      "Cell \u001b[1;32mIn[12], line 1\u001b[0m\n\u001b[1;32m----> 1\u001b[0m \u001b[38;5;28mcomplex\u001b[39m(a)\n",
      "\u001b[1;31mTypeError\u001b[0m: complex() first argument must be a string or a number, not 'range'"
     ]
    }
   ],
   "source": [
    "complex(a)"
   ]
  },
  {
   "cell_type": "code",
   "execution_count": 13,
   "id": "7749f50b-dbe5-4d00-8e00-049c509d4ff1",
   "metadata": {},
   "outputs": [
    {
     "data": {
      "text/plain": [
       "[0, 1, 2, 3, 4, 5, 6, 7, 8, 9]"
      ]
     },
     "execution_count": 13,
     "metadata": {},
     "output_type": "execute_result"
    }
   ],
   "source": [
    "a=range(10)\n",
    "list(a)"
   ]
  },
  {
   "cell_type": "code",
   "execution_count": 10,
   "id": "66f58463-268d-4f03-959e-ddb0ab290f04",
   "metadata": {},
   "outputs": [
    {
     "ename": "TypeError",
     "evalue": "float() argument must be a string or a real number, not 'range'",
     "output_type": "error",
     "traceback": [
      "\u001b[1;31m---------------------------------------------------------------------------\u001b[0m",
      "\u001b[1;31mTypeError\u001b[0m                                 Traceback (most recent call last)",
      "Cell \u001b[1;32mIn[10], line 1\u001b[0m\n\u001b[1;32m----> 1\u001b[0m \u001b[38;5;28mfloat\u001b[39m(a)\n",
      "\u001b[1;31mTypeError\u001b[0m: float() argument must be a string or a real number, not 'range'"
     ]
    }
   ],
   "source": [
    "float(a)"
   ]
  },
  {
   "cell_type": "code",
   "execution_count": 16,
   "id": "f3a1f0c0-2ee3-4ddc-8cb2-2cc79d6d7b4a",
   "metadata": {},
   "outputs": [
    {
     "data": {
      "text/plain": [
       "[100, 92, 84, 76, 68, 60, 52, 44, 36, 28, 20, 12, 4]"
      ]
     },
     "execution_count": 16,
     "metadata": {},
     "output_type": "execute_result"
    }
   ],
   "source": [
    "z=range(100,1,-8)\n",
    "list(z)"
   ]
  },
  {
   "cell_type": "code",
   "execution_count": 19,
   "id": "efac0f51-bb9a-43fd-8b07-97a90ed65fb5",
   "metadata": {},
   "outputs": [
    {
     "data": {
      "text/plain": [
       "[-1, -9, -17, -25, -33, -41, -49, -57, -65, -73, -81, -89, -97]"
      ]
     },
     "execution_count": 19,
     "metadata": {},
     "output_type": "execute_result"
    }
   ],
   "source": [
    "z=range(-1,-100,-8)\n",
    "list(z)"
   ]
  },
  {
   "cell_type": "code",
   "execution_count": 21,
   "id": "96499294-684f-4538-836f-778d92875bcf",
   "metadata": {},
   "outputs": [
    {
     "data": {
      "text/plain": [
       "{5, 6, 7}"
      ]
     },
     "execution_count": 21,
     "metadata": {},
     "output_type": "execute_result"
    }
   ],
   "source": [
    "c=range(5,8,1)\n",
    "set(c)"
   ]
  },
  {
   "cell_type": "code",
   "execution_count": null,
   "id": "81c208eb-e97e-4d83-9462-1a870009f90a",
   "metadata": {},
   "outputs": [],
   "source": [
    "# range indexing\n",
    "range_x=range(1,10)"
   ]
  },
  {
   "cell_type": "code",
   "execution_count": 23,
   "id": "8782fa7a-b04d-4434-88f4-c3305b44668a",
   "metadata": {},
   "outputs": [
    {
     "data": {
      "text/plain": [
       "[100, 90, 80, 70, 60, 50, 40, 30, 20, 10]"
      ]
     },
     "execution_count": 23,
     "metadata": {},
     "output_type": "execute_result"
    }
   ],
   "source": [
    "a=range(100,0,-10)\n",
    "list(a)"
   ]
  },
  {
   "cell_type": "code",
   "execution_count": 26,
   "id": "6e2e8dcb-226d-4361-8ca4-f90e43d1e179",
   "metadata": {},
   "outputs": [
    {
     "data": {
      "text/plain": [
       "[100, 90, 80, 70]"
      ]
     },
     "execution_count": 26,
     "metadata": {},
     "output_type": "execute_result"
    }
   ],
   "source": [
    "list(a[0:4])"
   ]
  },
  {
   "cell_type": "code",
   "execution_count": 27,
   "id": "c756b8a8-a144-4d67-b8b0-7d7381f8eba5",
   "metadata": {},
   "outputs": [
    {
     "data": {
      "text/plain": [
       "[100, 80, 60, 40, 20]"
      ]
     },
     "execution_count": 27,
     "metadata": {},
     "output_type": "execute_result"
    }
   ],
   "source": [
    "list(a[0:9:2])"
   ]
  },
  {
   "cell_type": "code",
   "execution_count": 1,
   "id": "a91cb441-e1d7-4dae-bb35-3d3bdd331a0c",
   "metadata": {},
   "outputs": [
    {
     "name": "stdin",
     "output_type": "stream",
     "text": [
      " hr\n",
      " ds\n"
     ]
    },
    {
     "ename": "ValueError",
     "evalue": "invalid literal for int() with base 10: 'ds'",
     "output_type": "error",
     "traceback": [
      "\u001b[1;31m---------------------------------------------------------------------------\u001b[0m",
      "\u001b[1;31mValueError\u001b[0m                                Traceback (most recent call last)",
      "Cell \u001b[1;32mIn[1], line 4\u001b[0m\n\u001b[0;32m      2\u001b[0m \u001b[38;5;28;01mif\u001b[39;00m num1\u001b[38;5;241m==\u001b[39m\u001b[38;5;124m\"\u001b[39m\u001b[38;5;124mint\u001b[39m\u001b[38;5;124m\"\u001b[39m:\n\u001b[0;32m      3\u001b[0m     num1\u001b[38;5;241m=\u001b[39m\u001b[38;5;28mint\u001b[39m(num1)\n\u001b[1;32m----> 4\u001b[0m num2\u001b[38;5;241m=\u001b[39m\u001b[38;5;28mint\u001b[39m(\u001b[38;5;28minput\u001b[39m())\n\u001b[0;32m      5\u001b[0m op\u001b[38;5;241m=\u001b[39m\u001b[38;5;28minput\u001b[39m()\n",
      "\u001b[1;31mValueError\u001b[0m: invalid literal for int() with base 10: 'ds'"
     ]
    }
   ],
   "source": [
    "num1=input()\n",
    "if num1==\"int\":\n",
    "    num1=int(num1)\n",
    "num2=int(input())\n",
    "op=input()\n"
   ]
  },
  {
   "cell_type": "code",
   "execution_count": 1,
   "id": "07393f7e-2432-41e9-812c-c6c9a256c5bf",
   "metadata": {},
   "outputs": [
    {
     "name": "stdout",
     "output_type": "stream",
     "text": [
      "2x1 = 2\n",
      "2x2 = 4\n",
      "2x3 = 6\n",
      "2x4 = 8\n",
      "2x5 = 10\n",
      "2x6 = 12\n",
      "2x7 = 14\n",
      "2x8 = 16\n",
      "2x9 = 18\n",
      "2x10 = 20\n"
     ]
    }
   ],
   "source": [
    "a=2\n",
    "print(\"2x1\",\"=\",a*1)\n",
    "print(\"2x2\",\"=\",a*2)\n",
    "print(\"2x3\",\"=\",a*3)\n",
    "print(\"2x4\",\"=\",a*4)\n",
    "print(\"2x5\",\"=\",a*5)\n",
    "print(\"2x6\",\"=\",a*6)\n",
    "print(\"2x7\",\"=\",a*7)\n",
    "print(\"2x8\",\"=\",a*8)\n",
    "print(\"2x9\",\"=\",a*9)\n",
    "print(\"2x10\",\"=\",a*10)"
   ]
  },
  {
   "cell_type": "code",
   "execution_count": 1,
   "id": "faec2c4c-77bd-48ff-b600-01c59534e47a",
   "metadata": {},
   "outputs": [
    {
     "name": "stdout",
     "output_type": "stream",
     "text": [
      "1x1= 1\n",
      "1x2= 2\n",
      "1x3= 3\n",
      "1x4= 4\n",
      "1x5= 5\n",
      "1x6= 6\n",
      "1x7= 7\n",
      "1x8= 8\n",
      "1x9= 9\n",
      "1x10= 10 \n",
      "\n",
      "2x1= 2\n",
      "2x2= 4\n",
      "2x3= 6\n",
      "2x4= 8\n",
      "2x5= 10\n",
      "2x6= 12\n",
      "2x7= 14\n",
      "2x8= 16\n",
      "2x9= 18\n",
      "2x10= 20 \n",
      "\n",
      "3x1= 3\n",
      "3x2= 6\n",
      "3x3= 9\n",
      "3x4= 12\n",
      "3x5= 15\n",
      "3x6= 18\n",
      "3x7= 21\n",
      "3x8= 24\n",
      "3x9= 27\n",
      "3x10= 30\n"
     ]
    }
   ],
   "source": [
    "x=1\n",
    "y=1\n",
    "print(f\"{y}x{x}=\",x*y)\n",
    "x=x+1\n",
    "print(f\"{y}x{x}=\",x*y)\n",
    "x=x+1\n",
    "print(f\"{y}x{x}=\",x*y)\n",
    "x=x+1\n",
    "print(f\"{y}x{x}=\",x*y)\n",
    "x=x+1\n",
    "print(f\"{y}x{x}=\",x*y)\n",
    "x=x+1\n",
    "print(f\"{y}x{x}=\",x*y)\n",
    "x=x+1\n",
    "print(f\"{y}x{x}=\",x*y)\n",
    "x=x+1\n",
    "print(f\"{y}x{x}=\",x*y)\n",
    "x=x+1\n",
    "print(f\"{y}x{x}=\",x*y)\n",
    "x=x+1\n",
    "print(f\"{y}x{x}=\",x*y,\"\\n\")\n",
    "x=1\n",
    "y=y+1\n",
    "print(f\"{y}x{x}=\",x*y)\n",
    "x=x+1\n",
    "print(f\"{y}x{x}=\",x*y)\n",
    "x=x+1\n",
    "print(f\"{y}x{x}=\",x*y)\n",
    "x=x+1\n",
    "print(f\"{y}x{x}=\",x*y)\n",
    "x=x+1\n",
    "print(f\"{y}x{x}=\",x*y)\n",
    "x=x+1\n",
    "print(f\"{y}x{x}=\",x*y)\n",
    "x=x+1\n",
    "print(f\"{y}x{x}=\",x*y)\n",
    "x=x+1\n",
    "print(f\"{y}x{x}=\",x*y)\n",
    "x=x+1\n",
    "print(f\"{y}x{x}=\",x*y)\n",
    "x=x+1\n",
    "print(f\"{y}x{x}=\",x*y,\"\\n\")\n",
    "x=1\n",
    "y=y+1\n",
    "print(f\"{y}x{x}=\",x*y)\n",
    "x=x+1\n",
    "print(f\"{y}x{x}=\",x*y)\n",
    "x=x+1\n",
    "print(f\"{y}x{x}=\",x*y)\n",
    "x=x+1\n",
    "print(f\"{y}x{x}=\",x*y)\n",
    "x=x+1\n",
    "print(f\"{y}x{x}=\",x*y)\n",
    "x=x+1\n",
    "print(f\"{y}x{x}=\",x*y)\n",
    "x=x+1\n",
    "print(f\"{y}x{x}=\",x*y)\n",
    "x=x+1\n",
    "print(f\"{y}x{x}=\",x*y)\n",
    "x=x+1\n",
    "print(f\"{y}x{x}=\",x*y)\n",
    "x=x+1\n",
    "print(f\"{y}x{x}=\",x*y)"
   ]
  },
  {
   "cell_type": "code",
   "execution_count": null,
   "id": "c02f2bca-24be-4928-8302-4f95cb278d8b",
   "metadata": {},
   "outputs": [],
   "source": []
  }
 ],
 "metadata": {
  "kernelspec": {
   "display_name": "Python 3 (ipykernel)",
   "language": "python",
   "name": "python3"
  },
  "language_info": {
   "codemirror_mode": {
    "name": "ipython",
    "version": 3
   },
   "file_extension": ".py",
   "mimetype": "text/x-python",
   "name": "python",
   "nbconvert_exporter": "python",
   "pygments_lexer": "ipython3",
   "version": "3.11.7"
  }
 },
 "nbformat": 4,
 "nbformat_minor": 5
}
