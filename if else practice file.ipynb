{
 "cells": [
  {
   "cell_type": "code",
   "execution_count": 1,
   "id": "55c3b8b3-7575-44d6-8ebd-72faf67dac13",
   "metadata": {},
   "outputs": [],
   "source": [
    "# tell whether a person is eligible for voting or not\n",
    "# criteria - 18+ and citizen of india"
   ]
  },
  {
   "cell_type": "code",
   "execution_count": 2,
   "id": "50882840-b9c0-44ea-8895-223cb2c20a4d",
   "metadata": {},
   "outputs": [
    {
     "name": "stdin",
     "output_type": "stream",
     "text": [
      "name: tt\n",
      "age: 25\n",
      "citizen: indian\n"
     ]
    },
    {
     "name": "stdout",
     "output_type": "stream",
     "text": [
      "tt 25 indian is eligible to vote\n"
     ]
    }
   ],
   "source": [
    "x=input(\"name:\")\n",
    "y=int(input(\"age:\"))\n",
    "z=input(\"citizen:\")\n",
    "if y>=18 and z==\"indian\":\n",
    "    print(x,y,z,\"is eligible to vote\")\n",
    "else:\n",
    "    print(\"wrong\")"
   ]
  },
  {
   "cell_type": "code",
   "execution_count": 3,
   "id": "8ec1765e-d35c-46de-afac-09bd0addab18",
   "metadata": {},
   "outputs": [
    {
     "name": "stdin",
     "output_type": "stream",
     "text": [
      "Please enter an operator (+, -, *, /):  /\n",
      "Enter first number:  12\n",
      "Enter second number:  0\n"
     ]
    },
    {
     "name": "stdout",
     "output_type": "stream",
     "text": [
      "Result: Error! Division by zero is not allowed.\n"
     ]
    }
   ],
   "source": [
    "# Operator input lena\n",
    "operator = input(\"Please enter an operator (+, -, *, /): \")\n",
    "\n",
    "# User se do numbers input lena\n",
    "num1 = float(input(\"Enter first number: \"))\n",
    "num2 = float(input(\"Enter second number: \"))\n",
    "\n",
    "# Ab switch statement ka use karke operator ke hisab se calculation karna\n",
    "if operator == '+':\n",
    "    result = num1 + num2\n",
    "elif operator == '-':\n",
    "    result = num1 - num2\n",
    "elif operator == '*':\n",
    "    result = num1 * num2\n",
    "elif operator == '/':\n",
    "    # Check karna ke division by zero to nahi hai\n",
    "    if num2 != 0:\n",
    "        result = num1 / num2\n",
    "    else:\n",
    "        result = \"Error! Division by zero is not allowed.\"\n",
    "else:\n",
    "    result = \"Invalid operator entered!\"\n",
    "\n",
    "# Result ko print karna\n",
    "print(\"Result:\", result)\n"
   ]
  },
  {
   "cell_type": "code",
   "execution_count": 4,
   "id": "7c95c0c1-8d64-4568-8c25-befb3b45ca2a",
   "metadata": {},
   "outputs": [
    {
     "name": "stdin",
     "output_type": "stream",
     "text": [
      " *\n",
      " 12\n",
      " 2\n"
     ]
    },
    {
     "name": "stdout",
     "output_type": "stream",
     "text": [
      "S: 24\n"
     ]
    }
   ],
   "source": [
    "x=input()\n",
    "y=int(input())\n",
    "z=int(input())\n",
    "if x==\"+\":\n",
    "    s=y+z\n",
    "elif x==\"-\":\n",
    "    s=y-z\n",
    "elif x==\"*\":\n",
    "    s=y*z\n",
    "elif x==\"/\":\n",
    "    s=y/z\n",
    "else:\n",
    "    s=y<z\n",
    "print(\"S:\",s)    \n",
    "    "
   ]
  },
  {
   "cell_type": "code",
   "execution_count": 1,
   "id": "6e2d4f5a-7435-4b94-ad5a-bf8340a38a93",
   "metadata": {},
   "outputs": [
    {
     "name": "stdin",
     "output_type": "stream",
     "text": [
      "Enter your password:  Ram2345@\n"
     ]
    },
    {
     "name": "stdout",
     "output_type": "stream",
     "text": [
      "Password is valid.\n"
     ]
    }
   ],
   "source": [
    "def check_password(password):\n",
    "    # Check if password length is between 8 and 20 characters\n",
    "    if len(password) < 8 or len(password) > 20:\n",
    "        return False\n",
    "    \n",
    "    # Check if password contains at least one uppercase letter\n",
    "    has_upper = any(char.isupper() for char in password)\n",
    "    \n",
    "    # Check if password contains at least one lowercase letter\n",
    "    has_lower = any(char.islower() for char in password)\n",
    "    \n",
    "    # Check if password contains at least one digit\n",
    "    has_digit = any(char.isdigit() for char in password)\n",
    "    \n",
    "    # Check if password contains at least one special character\n",
    "    special_characters = \"!@#$%^&*()_+-=[]{}|;:,.<>?/~\"\n",
    "    has_special = any(char in special_characters for char in password)\n",
    "    \n",
    "    # Return True if all conditions are met, otherwise False\n",
    "    if has_upper and has_lower and has_digit and has_special:\n",
    "        return True\n",
    "    else:\n",
    "        return False\n",
    "\n",
    "# Test the function\n",
    "password = input(\"Enter your password: \")\n",
    "if check_password(password):\n",
    "    print(\"Password is valid.\")\n",
    "else:\n",
    "    print(\"Password does not meet the criteria.\")\n"
   ]
  },
  {
   "cell_type": "code",
   "execution_count": 1,
   "id": "2e1773a8-3445-4073-a1a4-7c2f6629c3ed",
   "metadata": {},
   "outputs": [
    {
     "name": "stdin",
     "output_type": "stream",
     "text": [
      "Enter a word starting with 's' or 't', followed by any vowel, and ending with any consonant except 's' or 't':  stre\n"
     ]
    },
    {
     "name": "stdout",
     "output_type": "stream",
     "text": [
      "Please enter a word with exactly three characters.\n"
     ]
    },
    {
     "name": "stdin",
     "output_type": "stream",
     "text": [
      "Enter a word starting with 's' or 't', followed by any vowel, and ending with any consonant except 's' or 't':  sat\n"
     ]
    },
    {
     "name": "stdout",
     "output_type": "stream",
     "text": [
      "Last letter cannot be 's' or 't'.\n"
     ]
    },
    {
     "name": "stdin",
     "output_type": "stream",
     "text": [
      "Enter a word starting with 's' or 't', followed by any vowel, and ending with any consonant except 's' or 't':  s\n"
     ]
    },
    {
     "name": "stdout",
     "output_type": "stream",
     "text": [
      "Please enter a word with exactly three characters.\n"
     ]
    },
    {
     "name": "stdin",
     "output_type": "stream",
     "text": [
      "Enter a word starting with 's' or 't', followed by any vowel, and ending with any consonant except 's' or 't':  sun\n"
     ]
    },
    {
     "name": "stdout",
     "output_type": "stream",
     "text": [
      "Your word is: sun\n"
     ]
    }
   ],
   "source": [
    "def generate_word():\n",
    "    while True:\n",
    "        word = input(\"Enter a word starting with 's' or 't', followed by any vowel, and ending with any consonant except 's' or 't': \").lower()\n",
    "        if len(word) != 3:\n",
    "            print(\"Please enter a word with exactly three characters.\")\n",
    "            continue\n",
    "        elif word[0] not in ['s', 't']:\n",
    "            print(\"First letter must be 's' or 't'.\")\n",
    "            continue\n",
    "        elif word[1] not in ['a', 'e', 'i', 'o', 'u']:\n",
    "            print(\"Second letter must be a vowel.\")\n",
    "            continue\n",
    "        elif word[2] in ['s', 't']:\n",
    "            print(\"Last letter cannot be 's' or 't'.\")\n",
    "            continue\n",
    "        elif not word[2].isalpha() or word[2] in ['a', 'e', 'i', 'o', 'u']:\n",
    "            print(\"Last letter must be a consonant.\")\n",
    "            continue\n",
    "        else:\n",
    "            return word\n",
    "\n",
    "if __name__ == \"__main__\":\n",
    "    word = generate_word()\n",
    "    print(\"Your word is:\", word)\n"
   ]
  },
  {
   "cell_type": "code",
   "execution_count": 6,
   "id": "81fbc8a0-172a-463d-9e91-1dc3fb5b60cd",
   "metadata": {},
   "outputs": [
    {
     "data": {
      "text/plain": [
       "78"
      ]
     },
     "execution_count": 6,
     "metadata": {},
     "output_type": "execute_result"
    }
   ],
   "source": [
    "a={\"3\":78,89:\"hello\",12:\"37\"}\n",
    "a.pop(\"3\")\n"
   ]
  },
  {
   "cell_type": "code",
   "execution_count": 5,
   "id": "effaf28b-1ea8-4859-becf-b04dc2ad4ab8",
   "metadata": {},
   "outputs": [
    {
     "name": "stdout",
     "output_type": "stream",
     "text": [
      "{89: 'hello', 12: '37'}\n"
     ]
    }
   ],
   "source": [
    "print(a)"
   ]
  },
  {
   "cell_type": "code",
   "execution_count": null,
   "id": "70f7c222-bb2f-417f-abe6-d34eff7ab9b1",
   "metadata": {},
   "outputs": [],
   "source": []
  }
 ],
 "metadata": {
  "kernelspec": {
   "display_name": "Python 3 (ipykernel)",
   "language": "python",
   "name": "python3"
  },
  "language_info": {
   "codemirror_mode": {
    "name": "ipython",
    "version": 3
   },
   "file_extension": ".py",
   "mimetype": "text/x-python",
   "name": "python",
   "nbconvert_exporter": "python",
   "pygments_lexer": "ipython3",
   "version": "3.11.7"
  }
 },
 "nbformat": 4,
 "nbformat_minor": 5
}
