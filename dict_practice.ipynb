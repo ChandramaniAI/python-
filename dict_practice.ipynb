{
 "cells": [
  {
   "cell_type": "code",
   "execution_count": null,
   "metadata": {
    "colab": {
     "base_uri": "https://localhost:8080/"
    },
    "id": "i6OQRj4cq2VZ",
    "outputId": "4beab777-b96b-47bd-ddde-d58e8f39c47c"
   },
   "outputs": [
    {
     "data": {
      "text/plain": [
       "dict"
      ]
     },
     "execution_count": 1,
     "metadata": {},
     "output_type": "execute_result"
    }
   ],
   "source": [
    "x=dict([])\n",
    "type(x)"
   ]
  },
  {
   "cell_type": "code",
   "execution_count": null,
   "metadata": {
    "colab": {
     "base_uri": "https://localhost:8080/",
     "height": 159
    },
    "id": "8KPbZ0YTsa4o",
    "outputId": "f17fa4f0-3034-4f69-f607-47322ac50ba8"
   },
   "outputs": [
    {
     "ename": "TypeError",
     "evalue": "unhashable type: 'list'",
     "output_type": "error",
     "traceback": [
      "\u001b[0;31m---------------------------------------------------------------------------\u001b[0m",
      "\u001b[0;31mTypeError\u001b[0m                                 Traceback (most recent call last)",
      "\u001b[0;32m<ipython-input-3-3a59568999e1>\u001b[0m in \u001b[0;36m<cell line: 1>\u001b[0;34m()\u001b[0m\n\u001b[0;32m----> 1\u001b[0;31m \u001b[0mx\u001b[0m\u001b[0;34m=\u001b[0m\u001b[0;34m{\u001b[0m\u001b[0;34m[\u001b[0m\u001b[0;36m1\u001b[0m\u001b[0;34m]\u001b[0m\u001b[0;34m:\u001b[0m\u001b[0;36m1\u001b[0m\u001b[0;34m}\u001b[0m\u001b[0;34m\u001b[0m\u001b[0;34m\u001b[0m\u001b[0m\n\u001b[0m\u001b[1;32m      2\u001b[0m \u001b[0mprint\u001b[0m\u001b[0;34m(\u001b[0m\u001b[0mx\u001b[0m\u001b[0;34m)\u001b[0m\u001b[0;34m\u001b[0m\u001b[0;34m\u001b[0m\u001b[0m\n",
      "\u001b[0;31mTypeError\u001b[0m: unhashable type: 'list'"
     ]
    }
   ],
   "source": [
    "x={[1]:1}\n",
    "print(x)"
   ]
  },
  {
   "cell_type": "code",
   "execution_count": null,
   "metadata": {
    "colab": {
     "base_uri": "https://localhost:8080/"
    },
    "id": "ZSgJG5pOwK0_",
    "outputId": "d7edb5cc-d072-49bd-cce8-8fa64d53b7d9"
   },
   "outputs": [
    {
     "name": "stdout",
     "output_type": "stream",
     "text": [
      "{1: 2}\n"
     ]
    }
   ],
   "source": [
    "x={1:2}\n",
    "print(x)"
   ]
  },
  {
   "cell_type": "code",
   "execution_count": null,
   "metadata": {
    "colab": {
     "base_uri": "https://localhost:8080/"
    },
    "id": "gw2g5zj-wSv6",
    "outputId": "2ee2b791-4e48-4297-ac3e-a0e1aaaae997"
   },
   "outputs": [
    {
     "name": "stdout",
     "output_type": "stream",
     "text": [
      "abc\r",
      "defg\n"
     ]
    }
   ],
   "source": [
    "print('abc\\rdefg')"
   ]
  },
  {
   "cell_type": "code",
   "execution_count": null,
   "metadata": {
    "colab": {
     "base_uri": "https://localhost:8080/"
    },
    "id": "FDnFZBYGwyHw",
    "outputId": "c075eecc-6d9c-4370-97f1-3f54b6bace16"
   },
   "outputs": [
    {
     "name": "stdout",
     "output_type": "stream",
     "text": [
      "assdasad\r",
      "ads\n"
     ]
    }
   ],
   "source": [
    "print('assdasad\\rads')"
   ]
  },
  {
   "cell_type": "code",
   "execution_count": null,
   "metadata": {
    "colab": {
     "base_uri": "https://localhost:8080/"
    },
    "id": "ubfwp-4lw6y9",
    "outputId": "98f06074-6c0d-45c4-dd60-d03d8aae3dee"
   },
   "outputs": [
    {
     "name": "stdout",
     "output_type": "stream",
     "text": [
      "abcd\r",
      "ef\n"
     ]
    }
   ],
   "source": [
    "print('abcd\\ref')"
   ]
  },
  {
   "cell_type": "code",
   "execution_count": null,
   "metadata": {
    "id": "2RHZMJS4lwO2"
   },
   "outputs": [],
   "source": [
    "a={1:\"abc\",2:\"sdf\"}"
   ]
  },
  {
   "cell_type": "code",
   "execution_count": null,
   "metadata": {
    "colab": {
     "base_uri": "https://localhost:8080/"
    },
    "id": "bKKcDpefmTmk",
    "outputId": "4b4ba3d2-cb2a-4f11-e33c-02970db50362"
   },
   "outputs": [
    {
     "name": "stdout",
     "output_type": "stream",
     "text": [
      "{1: 'abc', 2: 'sdf'}\n"
     ]
    }
   ],
   "source": [
    "print(a)"
   ]
  },
  {
   "cell_type": "code",
   "execution_count": null,
   "metadata": {
    "colab": {
     "base_uri": "https://localhost:8080/"
    },
    "id": "IpCoR-kGmVJp",
    "outputId": "c8fea7f9-5b89-41c3-bd19-dd62bc06dc75"
   },
   "outputs": [
    {
     "data": {
      "text/plain": [
       "2"
      ]
     },
     "execution_count": 5,
     "metadata": {},
     "output_type": "execute_result"
    }
   ],
   "source": [
    "a={'ram':2,'shyam':4,'abc':5}\n",
    "a['ram']"
   ]
  },
  {
   "cell_type": "code",
   "execution_count": null,
   "metadata": {
    "colab": {
     "base_uri": "https://localhost:8080/"
    },
    "id": "5CXHO22QoPnt",
    "outputId": "0092454e-776f-4fca-8a55-6132bbf67b70"
   },
   "outputs": [
    {
     "data": {
      "text/plain": [
       "{'ram': 2, 'shyam': 4, 'abc': 5, 'rahul': 7}"
      ]
     },
     "execution_count": 6,
     "metadata": {},
     "output_type": "execute_result"
    }
   ],
   "source": [
    "a['rahul']=7\n",
    "a"
   ]
  },
  {
   "cell_type": "code",
   "execution_count": null,
   "metadata": {
    "colab": {
     "base_uri": "https://localhost:8080/"
    },
    "id": "viYJ0SwJofEx",
    "outputId": "9159d9fc-6e45-41ae-bb26-aab76f4edde1"
   },
   "outputs": [
    {
     "data": {
      "text/plain": [
       "{'ram': 2, 'abc': 5, 'rahul': 7}"
      ]
     },
     "execution_count": 8,
     "metadata": {},
     "output_type": "execute_result"
    }
   ],
   "source": [
    "del a['shyam']\n",
    "a"
   ]
  },
  {
   "cell_type": "code",
   "execution_count": null,
   "metadata": {
    "colab": {
     "base_uri": "https://localhost:8080/"
    },
    "id": "liFK3AjNotZo",
    "outputId": "575638a6-91ce-4253-bb94-a6b4baec7544"
   },
   "outputs": [
    {
     "data": {
      "text/plain": [
       "{'ram': 9, 'abc': 5, 'rahul': 7}"
      ]
     },
     "execution_count": 10,
     "metadata": {},
     "output_type": "execute_result"
    }
   ],
   "source": [
    "a['ram']=9\n",
    "a"
   ]
  },
  {
   "cell_type": "code",
   "execution_count": null,
   "metadata": {
    "colab": {
     "base_uri": "https://localhost:8080/",
     "height": 35
    },
    "id": "F7mbtv_0o_P0",
    "outputId": "c2c3f072-9125-45f3-9c98-f29c3b5f51a9"
   },
   "outputs": [
    {
     "data": {
      "application/vnd.google.colaboratory.intrinsic+json": {
       "type": "string"
      },
      "text/plain": [
       "'rahul'"
      ]
     },
     "execution_count": 11,
     "metadata": {},
     "output_type": "execute_result"
    }
   ],
   "source": [
    "a={'s1':{'name':'rahul','age':'23'},'s2':{'name':'raj','age':'20'}}\n",
    "a['s1']['name']"
   ]
  },
  {
   "cell_type": "code",
   "execution_count": null,
   "metadata": {
    "colab": {
     "base_uri": "https://localhost:8080/",
     "height": 35
    },
    "id": "CDZwNWq9ujCt",
    "outputId": "ac3de43e-eb77-439c-838c-cde5798a347c"
   },
   "outputs": [
    {
     "data": {
      "application/vnd.google.colaboratory.intrinsic+json": {
       "type": "string"
      },
      "text/plain": [
       "'20'"
      ]
     },
     "execution_count": 12,
     "metadata": {},
     "output_type": "execute_result"
    }
   ],
   "source": [
    "a['s2']['age']"
   ]
  },
  {
   "cell_type": "code",
   "execution_count": null,
   "metadata": {
    "colab": {
     "base_uri": "https://localhost:8080/"
    },
    "id": "md_84_GXuyJP",
    "outputId": "1b382895-3933-417b-9b04-fe149cb41379"
   },
   "outputs": [
    {
     "name": "stdout",
     "output_type": "stream",
     "text": [
      "{'s1': {'name': 'rahul', 'age': '23'}, 's2': {'name': 'raj', 'age': '20'}, 's3': {'name': 'ram', 'age': 21}}\n"
     ]
    }
   ],
   "source": [
    "a['s3']={'name':'ram','age':21}\n",
    "print(a)"
   ]
  },
  {
   "cell_type": "code",
   "execution_count": null,
   "metadata": {
    "colab": {
     "base_uri": "https://localhost:8080/"
    },
    "id": "NA36Gdc_vITK",
    "outputId": "590b074d-d187-49fb-83ae-58fa86ed4061"
   },
   "outputs": [
    {
     "name": "stdout",
     "output_type": "stream",
     "text": [
      "{1: 1, 2: 4, 3: 9, 4: 16, 5: 25, 6: 36}\n"
     ]
    }
   ],
   "source": [
    "b={x:x*x for x in range(1,7)}\n",
    "print(b)"
   ]
  },
  {
   "cell_type": "code",
   "execution_count": null,
   "metadata": {
    "colab": {
     "base_uri": "https://localhost:8080/"
    },
    "id": "i_lCQ_pSwsd_",
    "outputId": "bac04fd8-7ee2-4db8-d435-59b41ea4d244"
   },
   "outputs": [
    {
     "name": "stdout",
     "output_type": "stream",
     "text": [
      "{42: 'answer', 'hello': 'world', (1, 2): 'tuple'}\n"
     ]
    }
   ],
   "source": [
    "# Using different types as keys\n",
    "mixed_dict = {42: 'answer', 'hello': 'world', (1, 2): 'tuple'}\n",
    "print(mixed_dict)  # Output: {42: 'answer', 'hello': 'world', (1, 2): 'tuple'}\n"
   ]
  },
  {
   "cell_type": "code",
   "execution_count": null,
   "metadata": {
    "colab": {
     "base_uri": "https://localhost:8080/"
    },
    "id": "YB-E5YV_w9xM",
    "outputId": "c541cf2e-fd8a-4fc2-b46b-297b410d78bb"
   },
   "outputs": [
    {
     "name": "stdout",
     "output_type": "stream",
     "text": [
      "5\n",
      "0\n",
      "dict_keys(['apple', 'banana', 'orange'])\n",
      "dict_values([5, 3, 7])\n",
      "dict_items([('apple', 5), ('banana', 3), ('orange', 7)])\n"
     ]
    }
   ],
   "source": [
    "# Dictionary methods\n",
    "fruits = {'apple': 5, 'banana': 3, 'orange': 7}\n",
    "\n",
    "# Get a value with default if key not found\n",
    "print(fruits.get('apple', 0))  # Output: 5\n",
    "print(fruits.get('grape', 0))  # Output: 0\n",
    "\n",
    "# Get all keys\n",
    "print(fruits.keys())  # Output: dict_keys(['apple', 'banana', 'orange'])\n",
    "\n",
    "# Get all values\n",
    "print(fruits.values())  # Output: dict_values([5, 3, 7])\n",
    "\n",
    "# Get all key-value pairs\n",
    "print(fruits.items())  # Output: dict_items([('apple', 5), ('banana', 3), ('orange', 7)])\n"
   ]
  },
  {
   "cell_type": "code",
   "execution_count": null,
   "metadata": {
    "id": "6w5D0IqX0q8I"
   },
   "outputs": [],
   "source": []
  }
 ],
 "metadata": {
  "colab": {
   "provenance": []
  },
  "kernelspec": {
   "display_name": "Python 3",
   "name": "python3"
  },
  "language_info": {
   "name": "python"
  }
 },
 "nbformat": 4,
 "nbformat_minor": 0
}
