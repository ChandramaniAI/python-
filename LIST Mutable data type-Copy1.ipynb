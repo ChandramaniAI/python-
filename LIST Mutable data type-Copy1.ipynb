{
 "cells": [
  {
   "cell_type": "markdown",
   "id": "47c5121e",
   "metadata": {},
   "source": [
    "# List-\n",
    "Lists are a versatile and commonly used data type. they have several properties for various tasks.\n",
    "\n",
    "#### Mutable = \n",
    "lists are mutable which means you can modify their elements after their creation. you can add,remove or change elements in a lists.\n",
    "\n",
    "#### Ordered=\n",
    "lists maintain the order of elements meaning the elements are stored in the same order as they are added.\n",
    "\n",
    "#### Duplicates=\n",
    "lists can hold elements. you can have multiple occurance of the same value in a list\n",
    "\n",
    "#### Heterogevous=\n",
    "list can hold element of different data types. you can have integers,float,or even other lists as element in the list.\n",
    "\n",
    "#### interable=\n",
    "- iterable: in python an interable refers to an object that can be iterate over meaning you can loop through its element one by one. interable are a fundamental concept in python's iteraction protocol and they are used in various contexts where you need to process elements sequentially such as in loop and comprehension expressions example of built in python iterable include list,tuples,strings,dicitionaries (when iterating over keys values and iteams set,and more.\n"
   ]
  },
  {
   "cell_type": "code",
   "execution_count": 5,
   "id": "f28c41c2",
   "metadata": {},
   "outputs": [],
   "source": [
    "# list \n",
    "# list is always in square bracket\n",
    "my_list = [5,8,\"geoffy hinston\",7.5,\"sam altman\"]"
   ]
  },
  {
   "cell_type": "markdown",
   "id": "8d0d77ae",
   "metadata": {},
   "source": [
    "#### append:\n",
    "append(element):adds an element to the end of the list."
   ]
  },
  {
   "cell_type": "code",
   "execution_count": 6,
   "id": "d133671c",
   "metadata": {},
   "outputs": [
    {
     "name": "stdout",
     "output_type": "stream",
     "text": [
      "[5, 8, 'geoffy hinston', 7.5, 'sam altman', 'robin sharma']\n"
     ]
    }
   ],
   "source": [
    "my_list = [5,8,\"geoffy hinston\",7.5,\"sam altman\"]\n",
    "my_list.append(\"robin sharma\")\n",
    "print(my_list)"
   ]
  },
  {
   "cell_type": "code",
   "execution_count": 13,
   "id": "47c725a9",
   "metadata": {},
   "outputs": [
    {
     "ename": "TypeError",
     "evalue": "list.append() takes exactly one argument (2 given)",
     "output_type": "error",
     "traceback": [
      "\u001b[1;31m---------------------------------------------------------------------------\u001b[0m",
      "\u001b[1;31mTypeError\u001b[0m                                 Traceback (most recent call last)",
      "Cell \u001b[1;32mIn[13], line 2\u001b[0m\n\u001b[0;32m      1\u001b[0m my_list \u001b[38;5;241m=\u001b[39m [\u001b[38;5;241m5\u001b[39m,\u001b[38;5;241m8\u001b[39m,\u001b[38;5;124m\"\u001b[39m\u001b[38;5;124mgeoffy hinston\u001b[39m\u001b[38;5;124m\"\u001b[39m,\u001b[38;5;241m7.5\u001b[39m,\u001b[38;5;124m\"\u001b[39m\u001b[38;5;124msam altman\u001b[39m\u001b[38;5;124m\"\u001b[39m] \u001b[38;5;66;03m# so thats mens append takes one argument if you put 2 its gave error\u001b[39;00m\n\u001b[1;32m----> 2\u001b[0m \u001b[43mmy_list\u001b[49m\u001b[38;5;241;43m.\u001b[39;49m\u001b[43mappend\u001b[49m\u001b[43m(\u001b[49m\u001b[38;5;124;43m\"\u001b[39;49m\u001b[38;5;124;43mrobin sharma\u001b[39;49m\u001b[38;5;124;43m\"\u001b[39;49m\u001b[43m,\u001b[49m\u001b[38;5;124;43m\"\u001b[39;49m\u001b[38;5;124;43mmega living\u001b[39;49m\u001b[38;5;124;43m\"\u001b[39;49m\u001b[43m)\u001b[49m\n\u001b[0;32m      3\u001b[0m \u001b[38;5;28mprint\u001b[39m(my_list)\n",
      "\u001b[1;31mTypeError\u001b[0m: list.append() takes exactly one argument (2 given)"
     ]
    }
   ],
   "source": [
    "my_list = [5,8,\"geoffy hinston\",7.5,\"sam altman\"] # so thats mens append takes one argument if you put 2 its gave error\n",
    "my_list.append(\"robin sharma\",\"mega living\")\n",
    "print(my_list)"
   ]
  },
  {
   "cell_type": "code",
   "execution_count": 14,
   "id": "824325f9",
   "metadata": {},
   "outputs": [
    {
     "name": "stdout",
     "output_type": "stream",
     "text": [
      "[5, 8, 'geoffy hinston', 7.5, 'sam altman', ['robin sharma', 'mega living', 89, 90]]\n"
     ]
    }
   ],
   "source": [
    "# if we want to get more element in the list using append.\n",
    "my_list = [5,8,\"geoffy hinston\",7.5,\"sam altman\"] # we append a list,therefore its gave seperste list in the end of the list\n",
    "my_list.append([\"robin sharma\",\"mega living\",89,90])\n",
    "print(my_list)"
   ]
  },
  {
   "cell_type": "markdown",
   "id": "48dd61e4",
   "metadata": {},
   "source": [
    "#### extend:\n",
    "extend(interable):appends element from an interable to the end of the list.\n",
    "the extend method will accept the list in  element and add them at the end of the list. We can even add another list by using this method."
   ]
  },
  {
   "cell_type": "code",
   "execution_count": 15,
   "id": "414d6e0b",
   "metadata": {},
   "outputs": [
    {
     "name": "stdout",
     "output_type": "stream",
     "text": [
      "[5, 8, 'geoffy hinston', 7.5, 'sam altman', 'robin sharma', 'mega living', 89, 90]\n"
     ]
    }
   ],
   "source": [
    "my_list = [5,8,\"geoffy hinston\",7.5,\"sam altman\"] # extend append element from the list to the end of the list.\n",
    "my_list.extend([\"robin sharma\",\"mega living\",89,90])\n",
    "print(my_list)"
   ]
  },
  {
   "cell_type": "code",
   "execution_count": 16,
   "id": "eea7d139",
   "metadata": {},
   "outputs": [
    {
     "name": "stdout",
     "output_type": "stream",
     "text": [
      "[5, 8, 'geoffy hinston', 7.5, 'sam altman', 'r', 'o', 'b', 'i', 'n', ' ', 's', 'h', 'a', 'r', 'm', 'a']\n"
     ]
    }
   ],
   "source": [
    "# when we will applay extend method to add any data type in a list the outcome,\n",
    "my_list = [5,8,\"geoffy hinston\",7.5,\"sam altman\"]# will be a list having all the data types gaving seprately\n",
    "my_list.extend(\"robin sharma\")                   #in the list.\n",
    "print(my_list)"
   ]
  },
  {
   "cell_type": "code",
   "execution_count": 17,
   "id": "73c31875",
   "metadata": {},
   "outputs": [
    {
     "ename": "TypeError",
     "evalue": "list.extend() takes exactly one argument (4 given)",
     "output_type": "error",
     "traceback": [
      "\u001b[1;31m---------------------------------------------------------------------------\u001b[0m",
      "\u001b[1;31mTypeError\u001b[0m                                 Traceback (most recent call last)",
      "Cell \u001b[1;32mIn[17], line 2\u001b[0m\n\u001b[0;32m      1\u001b[0m my_list \u001b[38;5;241m=\u001b[39m [\u001b[38;5;241m5\u001b[39m,\u001b[38;5;241m8\u001b[39m,\u001b[38;5;124m\"\u001b[39m\u001b[38;5;124mgeoffy hinston\u001b[39m\u001b[38;5;124m\"\u001b[39m,\u001b[38;5;241m7.5\u001b[39m,\u001b[38;5;124m\"\u001b[39m\u001b[38;5;124msam altman\u001b[39m\u001b[38;5;124m\"\u001b[39m]\u001b[38;5;66;03m# so thats means extend takes one argument if you put 2 its gave error\u001b[39;00m\n\u001b[1;32m----> 2\u001b[0m \u001b[43mmy_list\u001b[49m\u001b[38;5;241;43m.\u001b[39;49m\u001b[43mextend\u001b[49m\u001b[43m(\u001b[49m\u001b[38;5;124;43m\"\u001b[39;49m\u001b[38;5;124;43mrobin sharma\u001b[39;49m\u001b[38;5;124;43m\"\u001b[39;49m\u001b[43m,\u001b[49m\u001b[38;5;124;43m\"\u001b[39;49m\u001b[38;5;124;43mmega living\u001b[39;49m\u001b[38;5;124;43m\"\u001b[39;49m\u001b[43m,\u001b[49m\u001b[38;5;241;43m89\u001b[39;49m\u001b[43m,\u001b[49m\u001b[38;5;241;43m90\u001b[39;49m\u001b[43m)\u001b[49m\n\u001b[0;32m      3\u001b[0m \u001b[38;5;28mprint\u001b[39m(my_list)\n",
      "\u001b[1;31mTypeError\u001b[0m: list.extend() takes exactly one argument (4 given)"
     ]
    }
   ],
   "source": [
    "my_list = [5,8,\"geoffy hinston\",7.5,\"sam altman\"]# so thats means extend takes one argument if you put 2 its gave error\n",
    "my_list.extend(\"robin sharma\",\"mega living\",89,90)\n",
    "print(my_list)"
   ]
  },
  {
   "cell_type": "markdown",
   "id": "440c5db3",
   "metadata": {},
   "source": [
    "#### insert:\n",
    "insert(insdex,element):insert an element at a specific index in the list"
   ]
  },
  {
   "cell_type": "code",
   "execution_count": 20,
   "id": "cc4c61d1",
   "metadata": {},
   "outputs": [
    {
     "name": "stdout",
     "output_type": "stream",
     "text": [
      "[4, 5, 8, 'geoffy hinston', 7.5, 'sam altman']\n"
     ]
    }
   ],
   "source": [
    "my_list = [5,8,\"geoffy hinston\",7.5,\"sam altman\"]# its add a new element in the index number.\n",
    "my_list.insert(0,4) # 4 in index number 0 \n",
    "print(my_list)"
   ]
  },
  {
   "cell_type": "code",
   "execution_count": 26,
   "id": "7eeb62f0",
   "metadata": {},
   "outputs": [
    {
     "ename": "TypeError",
     "evalue": "insert expected 2 arguments, got 3",
     "output_type": "error",
     "traceback": [
      "\u001b[1;31m---------------------------------------------------------------------------\u001b[0m",
      "\u001b[1;31mTypeError\u001b[0m                                 Traceback (most recent call last)",
      "Cell \u001b[1;32mIn[26], line 2\u001b[0m\n\u001b[0;32m      1\u001b[0m my_list \u001b[38;5;241m=\u001b[39m [\u001b[38;5;241m5\u001b[39m,\u001b[38;5;241m8\u001b[39m,\u001b[38;5;124m\"\u001b[39m\u001b[38;5;124mgeoffy hinston\u001b[39m\u001b[38;5;124m\"\u001b[39m,\u001b[38;5;241m7.5\u001b[39m,\u001b[38;5;124m\"\u001b[39m\u001b[38;5;124msam altman\u001b[39m\u001b[38;5;124m\"\u001b[39m]\u001b[38;5;66;03m# insert allow 2 argument if we put more and less than 2 its gave error.\u001b[39;00m\n\u001b[1;32m----> 2\u001b[0m \u001b[43mmy_list\u001b[49m\u001b[38;5;241;43m.\u001b[39;49m\u001b[43minsert\u001b[49m\u001b[43m(\u001b[49m\u001b[38;5;241;43m0\u001b[39;49m\u001b[43m,\u001b[49m\u001b[38;5;241;43m8\u001b[39;49m\u001b[43m,\u001b[49m\u001b[38;5;241;43m3\u001b[39;49m\u001b[43m)\u001b[49m\n\u001b[0;32m      3\u001b[0m \u001b[38;5;28mprint\u001b[39m(my_list)\n",
      "\u001b[1;31mTypeError\u001b[0m: insert expected 2 arguments, got 3"
     ]
    }
   ],
   "source": [
    "my_list = [5,8,\"geoffy hinston\",7.5,\"sam altman\"]# insert allow 2 argument if we put more and less than 2 its gave error.\n",
    "my_list.insert(0,8,3)\n",
    "print(my_list)"
   ]
  },
  {
   "cell_type": "code",
   "execution_count": 28,
   "id": "a8ee333a",
   "metadata": {},
   "outputs": [
    {
     "name": "stdout",
     "output_type": "stream",
     "text": [
      "[5, 8, ['robin sharma', 'mega living'], 'geoffy hinston', 7.5, 'sam altman']\n"
     ]
    }
   ],
   "source": [
    "my_list = [5,8,\"geoffy hinston\",7.5,\"sam altman\"]# insert also add another list in the index number.\n",
    "my_list.insert(2,[\"robin sharma\",\"mega living\"])\n",
    "print(my_list)"
   ]
  },
  {
   "cell_type": "markdown",
   "id": "c582600f",
   "metadata": {},
   "source": [
    "#### remove:\n",
    "remove(element):removes the first occurance of the specified element from the list"
   ]
  },
  {
   "cell_type": "code",
   "execution_count": 42,
   "id": "30364a67",
   "metadata": {},
   "outputs": [
    {
     "name": "stdout",
     "output_type": "stream",
     "text": [
      "[5, 8, 'geoffy hinston', 7.5]\n"
     ]
    }
   ],
   "source": [
    "my_list = [5,8,\"geoffy hinston\",7.5,\"sam altman\"]\n",
    "my_list.remove(\"sam altman\")# to remove sam altman fom the list.\n",
    "print(my_list)"
   ]
  },
  {
   "cell_type": "code",
   "execution_count": 43,
   "id": "352a76fd",
   "metadata": {},
   "outputs": [
    {
     "ename": "TypeError",
     "evalue": "list.remove() takes exactly one argument (2 given)",
     "output_type": "error",
     "traceback": [
      "\u001b[1;31m---------------------------------------------------------------------------\u001b[0m",
      "\u001b[1;31mTypeError\u001b[0m                                 Traceback (most recent call last)",
      "Cell \u001b[1;32mIn[43], line 2\u001b[0m\n\u001b[0;32m      1\u001b[0m my_list \u001b[38;5;241m=\u001b[39m [\u001b[38;5;241m5\u001b[39m,\u001b[38;5;241m8\u001b[39m,\u001b[38;5;124m\"\u001b[39m\u001b[38;5;124mgeoffy hinston\u001b[39m\u001b[38;5;124m\"\u001b[39m,\u001b[38;5;241m7.5\u001b[39m,\u001b[38;5;124m\"\u001b[39m\u001b[38;5;124msam altman\u001b[39m\u001b[38;5;124m\"\u001b[39m]\u001b[38;5;66;03m# remove also allowed only one argument than error.\u001b[39;00m\n\u001b[1;32m----> 2\u001b[0m \u001b[43mmy_list\u001b[49m\u001b[38;5;241;43m.\u001b[39;49m\u001b[43mremove\u001b[49m\u001b[43m(\u001b[49m\u001b[38;5;124;43m\"\u001b[39;49m\u001b[38;5;124;43msam altman\u001b[39;49m\u001b[38;5;124;43m\"\u001b[39;49m\u001b[43m,\u001b[49m\u001b[38;5;241;43m5\u001b[39;49m\u001b[43m)\u001b[49m\n\u001b[0;32m      3\u001b[0m \u001b[38;5;28mprint\u001b[39m(my_list)\n",
      "\u001b[1;31mTypeError\u001b[0m: list.remove() takes exactly one argument (2 given)"
     ]
    }
   ],
   "source": [
    "my_list = [5,8,\"geoffy hinston\",7.5,\"sam altman\"]# remove also allowed only one argument than error.\n",
    "my_list.remove(\"sam altman\",5)\n",
    "print(my_list)"
   ]
  },
  {
   "cell_type": "code",
   "execution_count": 44,
   "id": "91b33c1e",
   "metadata": {},
   "outputs": [
    {
     "ename": "TypeError",
     "evalue": "list.remove() takes exactly one argument (0 given)",
     "output_type": "error",
     "traceback": [
      "\u001b[1;31m---------------------------------------------------------------------------\u001b[0m",
      "\u001b[1;31mTypeError\u001b[0m                                 Traceback (most recent call last)",
      "Cell \u001b[1;32mIn[44], line 2\u001b[0m\n\u001b[0;32m      1\u001b[0m my_list \u001b[38;5;241m=\u001b[39m [\u001b[38;5;241m5\u001b[39m,\u001b[38;5;241m8\u001b[39m,\u001b[38;5;124m\"\u001b[39m\u001b[38;5;124mgeoffy hinston\u001b[39m\u001b[38;5;124m\"\u001b[39m,\u001b[38;5;241m7.5\u001b[39m,\u001b[38;5;124m\"\u001b[39m\u001b[38;5;124msam altman\u001b[39m\u001b[38;5;124m\"\u001b[39m] \u001b[38;5;66;03m# if we put empty its gave error because its takes exactly one argument.\u001b[39;00m\n\u001b[1;32m----> 2\u001b[0m \u001b[43mmy_list\u001b[49m\u001b[38;5;241;43m.\u001b[39;49m\u001b[43mremove\u001b[49m\u001b[43m(\u001b[49m\u001b[43m)\u001b[49m\n\u001b[0;32m      3\u001b[0m \u001b[38;5;28mprint\u001b[39m(my_list)\n",
      "\u001b[1;31mTypeError\u001b[0m: list.remove() takes exactly one argument (0 given)"
     ]
    }
   ],
   "source": [
    "my_list = [5,8,\"geoffy hinston\",7.5,\"sam altman\"] # if we put empty its gave error because its takes exactly one argument.\n",
    "my_list.remove()\n",
    "print(my_list)"
   ]
  },
  {
   "cell_type": "markdown",
   "id": "8d6df3a1",
   "metadata": {},
   "source": [
    "#### pop(index):\n",
    "pop(index):removes the element of the specified index from the list"
   ]
  },
  {
   "cell_type": "code",
   "execution_count": 1,
   "id": "fce385d2",
   "metadata": {},
   "outputs": [
    {
     "name": "stdout",
     "output_type": "stream",
     "text": [
      "[8, 'geoffy hinston', 7.5, 'sam altman']\n"
     ]
    }
   ],
   "source": [
    "my_list = [5,8,\"geoffy hinston\",7.5,\"sam altman\"] # its remove by the index number \n",
    "my_list.pop(0)\n",
    "print(my_list)"
   ]
  },
  {
   "cell_type": "code",
   "execution_count": 46,
   "id": "9b2fcfb4",
   "metadata": {},
   "outputs": [
    {
     "name": "stdout",
     "output_type": "stream",
     "text": [
      "[5, 8, 'geoffy hinston', 7.5]\n"
     ]
    }
   ],
   "source": [
    "my_list = [5,8,\"geoffy hinston\",7.5,\"sam altman\"]\n",
    "my_list.pop() # if we put empty so its remove the last element of the list.\n",
    "print(my_list)"
   ]
  },
  {
   "cell_type": "code",
   "execution_count": 48,
   "id": "ea091c7e",
   "metadata": {},
   "outputs": [
    {
     "ename": "TypeError",
     "evalue": "pop expected at most 1 argument, got 2",
     "output_type": "error",
     "traceback": [
      "\u001b[1;31m---------------------------------------------------------------------------\u001b[0m",
      "\u001b[1;31mTypeError\u001b[0m                                 Traceback (most recent call last)",
      "Cell \u001b[1;32mIn[48], line 2\u001b[0m\n\u001b[0;32m      1\u001b[0m my_list \u001b[38;5;241m=\u001b[39m [\u001b[38;5;241m5\u001b[39m,\u001b[38;5;241m8\u001b[39m,\u001b[38;5;124m\"\u001b[39m\u001b[38;5;124mgeoffy hinston\u001b[39m\u001b[38;5;124m\"\u001b[39m,\u001b[38;5;241m7.5\u001b[39m,\u001b[38;5;124m\"\u001b[39m\u001b[38;5;124msam altman\u001b[39m\u001b[38;5;124m\"\u001b[39m] \u001b[38;5;66;03m# pop also allow one argument if gave 2 its gave error\u001b[39;00m\n\u001b[1;32m----> 2\u001b[0m \u001b[43mmy_list\u001b[49m\u001b[38;5;241;43m.\u001b[39;49m\u001b[43mpop\u001b[49m\u001b[43m(\u001b[49m\u001b[38;5;241;43m0\u001b[39;49m\u001b[43m,\u001b[49m\u001b[38;5;241;43m3\u001b[39;49m\u001b[43m)\u001b[49m\n\u001b[0;32m      3\u001b[0m \u001b[38;5;28mprint\u001b[39m(my_list)\n",
      "\u001b[1;31mTypeError\u001b[0m: pop expected at most 1 argument, got 2"
     ]
    }
   ],
   "source": [
    "my_list = [5,8,\"geoffy hinston\",7.5,\"sam altman\"] # pop also allow one argument if gave 2 its gave error\n",
    "my_list.pop(0,3)\n",
    "print(my_list)"
   ]
  },
  {
   "cell_type": "markdown",
   "id": "af43f082",
   "metadata": {},
   "source": [
    "#### clear()\n",
    "remove all items of the list"
   ]
  },
  {
   "cell_type": "code",
   "execution_count": 3,
   "id": "33efc71a",
   "metadata": {},
   "outputs": [
    {
     "name": "stdout",
     "output_type": "stream",
     "text": [
      "[]\n"
     ]
    }
   ],
   "source": [
    "my_list = [5,8,\"geoffy hinston\",7.5,\"sam altman\"] \n",
    "my_list.clear()\n",
    "print(my_list)"
   ]
  },
  {
   "cell_type": "markdown",
   "id": "b4cda4a3",
   "metadata": {},
   "source": [
    "#### delete list\n",
    "del list : delete intire list"
   ]
  },
  {
   "cell_type": "code",
   "execution_count": 2,
   "id": "c615911f",
   "metadata": {},
   "outputs": [],
   "source": [
    "my_list = [5,8,\"geoffy hinston\",7.5,\"sam altman\"] \n",
    "del my_list"
   ]
  },
  {
   "cell_type": "code",
   "execution_count": 2,
   "id": "99059521",
   "metadata": {},
   "outputs": [
    {
     "ename": "NameError",
     "evalue": "name 'my_list' is not defined",
     "output_type": "error",
     "traceback": [
      "\u001b[1;31m---------------------------------------------------------------------------\u001b[0m",
      "\u001b[1;31mNameError\u001b[0m                                 Traceback (most recent call last)",
      "Cell \u001b[1;32mIn[2], line 1\u001b[0m\n\u001b[1;32m----> 1\u001b[0m \u001b[38;5;28mprint\u001b[39m(my_list)\n",
      "\u001b[1;31mNameError\u001b[0m: name 'my_list' is not defined"
     ]
    }
   ],
   "source": [
    "print(my_list) # its comes error because my_list is deleted "
   ]
  },
  {
   "cell_type": "code",
   "execution_count": null,
   "id": "7d67fa80",
   "metadata": {},
   "outputs": [],
   "source": [
    "my_list = [5,8,\"geoffy hinston\",7.5,\"sam altman\"]\n",
    "del my_list[1:4]\n",
    "print(my_list)"
   ]
  },
  {
   "cell_type": "markdown",
   "id": "2e6e26b2",
   "metadata": {},
   "source": [
    "#### index:\n",
    "index(element):return the index of the first occurance of the specified elements."
   ]
  },
  {
   "cell_type": "code",
   "execution_count": null,
   "id": "f4cca3f6",
   "metadata": {},
   "outputs": [],
   "source": [
    "my_list=[1,2,3,4,5,6,7,8,9,10]\n",
    "my_list.index(5)"
   ]
  },
  {
   "cell_type": "markdown",
   "id": "b98b8e90",
   "metadata": {},
   "source": [
    "#### count:\n",
    "count(element):return the number of occurance of the supecified elements in the list."
   ]
  },
  {
   "cell_type": "code",
   "execution_count": null,
   "id": "5fa2a025",
   "metadata": {},
   "outputs": [],
   "source": [
    "my_list = [5,8,\"geoffy hinston\",7.5,\"sam altman\",7.5,7.5]#its count the element how many times does the element are in the list.\n",
    "my_list.count(7.5)"
   ]
  },
  {
   "cell_type": "code",
   "execution_count": null,
   "id": "2d078fd2",
   "metadata": {},
   "outputs": [],
   "source": [
    "my_list = [5,8,\"geoffy hinston\",7.5,\"sam altman\"]# count takes one argument if we gave 2 its gave error\n",
    "my_list.count(5,8)\n"
   ]
  },
  {
   "cell_type": "markdown",
   "id": "daa0475e",
   "metadata": {},
   "source": [
    "#### sort\n",
    "sort():sort the list in ascending order."
   ]
  },
  {
   "cell_type": "code",
   "execution_count": 100,
   "id": "f0800d3e",
   "metadata": {},
   "outputs": [
    {
     "name": "stdout",
     "output_type": "stream",
     "text": [
      "[0, 1, 2, 3, 4, 5, 6, 7, 8, 9]\n"
     ]
    }
   ],
   "source": [
    "my_list=[3,5,7,9,8,6,4,2,0,1]\n",
    "my_list.sort()\n",
    "print(my_list)"
   ]
  },
  {
   "cell_type": "code",
   "execution_count": 5,
   "id": "50ee169d",
   "metadata": {},
   "outputs": [
    {
     "name": "stdout",
     "output_type": "stream",
     "text": [
      "['geoffy hinston', 'harry styles', 'sam altman']\n"
     ]
    }
   ],
   "source": [
    "my_list = [\"harry styles\",\"geoffy hinston\",\"sam altman\"]\n",
    "my_list.sort()    # its also work in string from ascending order\n",
    "print(my_list)"
   ]
  },
  {
   "cell_type": "code",
   "execution_count": 6,
   "id": "ce3be976",
   "metadata": {},
   "outputs": [
    {
     "data": {
      "text/plain": [
       "[0, 1, 2, 3, 4, 5, 6, 7, 8, 9]"
      ]
     },
     "execution_count": 6,
     "metadata": {},
     "output_type": "execute_result"
    }
   ],
   "source": [
    "my_list=[3,5,7,9,8,6,4,2,0,1]\n",
    "sorted(my_list)"
   ]
  },
  {
   "cell_type": "markdown",
   "id": "ff584d11",
   "metadata": {},
   "source": [
    "#### reverse()\n",
    "reverse the order of the element in the list."
   ]
  },
  {
   "cell_type": "code",
   "execution_count": 107,
   "id": "04137db0",
   "metadata": {},
   "outputs": [
    {
     "name": "stdout",
     "output_type": "stream",
     "text": [
      "[9, 8, 7, 6, 5, 4, 3, 2, 1]\n"
     ]
    }
   ],
   "source": [
    "my_list=[1,2,3,4,5,6,7,8,9]\n",
    "my_list.reverse()\n",
    "print(my_list)"
   ]
  },
  {
   "cell_type": "markdown",
   "id": "7cd2bbc1",
   "metadata": {},
   "source": [
    "#### copy\n",
    "copy():return the shallow copy of the list"
   ]
  },
  {
   "cell_type": "code",
   "execution_count": 113,
   "id": "c9872fa1",
   "metadata": {},
   "outputs": [
    {
     "name": "stdout",
     "output_type": "stream",
     "text": [
      "1898409437248\n",
      "[5, 8, 'geoffy hinston', 7.5, 'sam altman']\n",
      "1898409437248\n"
     ]
    }
   ],
   "source": [
    "my_list = [5,8,\"geoffy hinston\",7.5,\"sam altman\"]\n",
    "print(id(my_list))\n",
    "x=my_list\n",
    "print(x)\n",
    "print(id(x))# here the id is same of the list where we gave another variable because its mutable data type."
   ]
  },
  {
   "cell_type": "code",
   "execution_count": 1,
   "id": "3358f683",
   "metadata": {},
   "outputs": [
    {
     "name": "stdout",
     "output_type": "stream",
     "text": [
      "2479680681792\n",
      "[5, 8, 'geoffy hinston', 7.5, 'sam altman']\n",
      "2479680683008\n"
     ]
    }
   ],
   "source": [
    "my_list = [5,8,\"geoffy hinston\",7.5,\"sam altman\"]\n",
    "print(id(my_list)) \n",
    "x=my_list.copy()\n",
    "print(x)\n",
    "print(id(x))# here we copy the list so its make another list so the id is change "
   ]
  },
  {
   "cell_type": "markdown",
   "id": "0f6775f0",
   "metadata": {},
   "source": [
    "#### some more methods \n",
    "- len():print length of thge list\n",
    "- max():print max valse of the list\n",
    "- min():print min value of the list\n",
    "- sum():print the whole add of the list"
   ]
  },
  {
   "cell_type": "code",
   "execution_count": 2,
   "id": "1a1c228a",
   "metadata": {},
   "outputs": [
    {
     "name": "stdout",
     "output_type": "stream",
     "text": [
      "10\n",
      "9\n",
      "0\n",
      "45\n"
     ]
    }
   ],
   "source": [
    "my_list=[0,1,2,3,4,5,6,7,8,9]\n",
    "print(len(my_list))\n",
    "print(max(my_list))\n",
    "print(min(my_list))\n",
    "print(sum(my_list))"
   ]
  },
  {
   "cell_type": "markdown",
   "id": "3755da83",
   "metadata": {},
   "source": [
    "#### nested list\n",
    "all list in one list is called nested list."
   ]
  },
  {
   "cell_type": "code",
   "execution_count": 3,
   "id": "7348dff9",
   "metadata": {},
   "outputs": [
    {
     "name": "stdout",
     "output_type": "stream",
     "text": [
      "nested list= [[1, 2, 3, 4, 5], [6, 7, 8, 9, 0], [10, 11, 12, 13]]\n",
      "<class 'list'>\n",
      "3\n"
     ]
    }
   ],
   "source": [
    "list1=[1,2,3,4,5]\n",
    "list2=[6,7,8,9,0]\n",
    "list3=[10,11,12,13]\n",
    "nested_list=[list1,list2,list3]\n",
    "print(\"nested list=\",nested_list)\n",
    "print(type(nested_list))\n",
    "print(len(nested_list))"
   ]
  },
  {
   "cell_type": "markdown",
   "id": "c474fd1a",
   "metadata": {},
   "source": [
    "## list slicing \n",
    "in python,list slicing allows you to extract a portion of a list by specifying start,stop,and step valuse within square bracket.\n",
    "- list[start:stop:step]"
   ]
  },
  {
   "cell_type": "code",
   "execution_count": 5,
   "id": "b7761cea",
   "metadata": {},
   "outputs": [
    {
     "data": {
      "text/plain": [
       "'sam altman'"
      ]
     },
     "execution_count": 5,
     "metadata": {},
     "output_type": "execute_result"
    }
   ],
   "source": [
    "# sinding the element with the index number\n",
    "my_list = [5,8,\"geoffy hinston\",7.5,\"sam altman\"]\n",
    "my_list[4]"
   ]
  },
  {
   "cell_type": "code",
   "execution_count": 7,
   "id": "0d9fe614",
   "metadata": {},
   "outputs": [
    {
     "data": {
      "text/plain": [
       "[3, 4, 5, 6, 7, 8]"
      ]
     },
     "execution_count": 7,
     "metadata": {},
     "output_type": "execute_result"
    }
   ],
   "source": [
    "# basic slicing\n",
    "my_list=[1,2,3,4,5,6,7,8,9,10]\n",
    "my_list[2:8]# its slice index number 2 to 8 like 3,4,5,6,7,8 to 8 its does not take last its take second last."
   ]
  },
  {
   "cell_type": "code",
   "execution_count": 8,
   "id": "39de3c54",
   "metadata": {},
   "outputs": [
    {
     "data": {
      "text/plain": [
       "[20, 40, 60, 80]"
      ]
     },
     "execution_count": 8,
     "metadata": {},
     "output_type": "execute_result"
    }
   ],
   "source": [
    "# slicing with step\n",
    "my_list=[10,20,30,40,50,60,70,80,90,100]# first its go to index 1 then to index 9 and takes step of 2.\n",
    "my_list[1:9:2]"
   ]
  },
  {
   "cell_type": "code",
   "execution_count": 14,
   "id": "709ac17c",
   "metadata": {},
   "outputs": [
    {
     "name": "stdout",
     "output_type": "stream",
     "text": [
      "['a', 'b', 'c', 'd', 'e']\n",
      "['f', 'g', 'h', 'i', 'j']\n"
     ]
    }
   ],
   "source": [
    "# start and end with slicing \n",
    "my_list=['a','b','c','d','e','f','g','h','i','j']\n",
    "x=my_list[:5]\n",
    "y=my_list[5:]\n",
    "print(x)\n",
    "print(y)"
   ]
  },
  {
   "cell_type": "code",
   "execution_count": 21,
   "id": "67e6b3ec",
   "metadata": {},
   "outputs": [
    {
     "data": {
      "text/plain": [
       "[8, 'geoffy hinston', 7.5]"
      ]
     },
     "execution_count": 21,
     "metadata": {},
     "output_type": "execute_result"
    }
   ],
   "source": [
    "# negative indexing\n",
    "my_list = [5,8,\"geoffy hinston\",7.5,\"sam altman\"]\n",
    "my_list[-4:-1]"
   ]
  },
  {
   "cell_type": "code",
   "execution_count": 22,
   "id": "eccf3682",
   "metadata": {},
   "outputs": [
    {
     "data": {
      "text/plain": [
       "['j', 'i', 'h', 'g', 'f', 'e', 'd', 'c', 'b', 'a']"
      ]
     },
     "execution_count": 22,
     "metadata": {},
     "output_type": "execute_result"
    }
   ],
   "source": [
    "# reversing a list\n",
    "my_list=['a','b','c','d','e','f','g','h','i','j']\n",
    "my_list[::-1]"
   ]
  },
  {
   "cell_type": "code",
   "execution_count": 26,
   "id": "75af41c4",
   "metadata": {},
   "outputs": [
    {
     "data": {
      "text/plain": [
       "['a', 'b', 'c', 'd', 'e', 'f', 'g', 'h', 'i', 'j']"
      ]
     },
     "execution_count": 26,
     "metadata": {},
     "output_type": "execute_result"
    }
   ],
   "source": [
    "my_list=['a','b','c','d','e','f','g','h','i','j']\n",
    "my_list[0::]"
   ]
  },
  {
   "cell_type": "code",
   "execution_count": 4,
   "id": "8890e506",
   "metadata": {},
   "outputs": [
    {
     "data": {
      "text/plain": [
       "[1, 2, 3]"
      ]
     },
     "execution_count": 4,
     "metadata": {},
     "output_type": "execute_result"
    }
   ],
   "source": [
    "# slicing nested list\n",
    "nested_list=[[1,2,3],['a','b','c'],['@','#','$']]\n",
    "nested_list[0]"
   ]
  },
  {
   "cell_type": "code",
   "execution_count": 1,
   "id": "362e3989",
   "metadata": {},
   "outputs": [
    {
     "data": {
      "text/plain": [
       "'f'"
      ]
     },
     "execution_count": 1,
     "metadata": {},
     "output_type": "execute_result"
    }
   ],
   "source": [
    "my_list = [5,8,\"geoffy hinston\",7.5,\"sam altman\"]\n",
    "my_list[2][4]# so items indexing also of string alphabests"
   ]
  }
 ],
 "metadata": {
  "kernelspec": {
   "display_name": "Python 3 (ipykernel)",
   "language": "python",
   "name": "python3"
  },
  "language_info": {
   "codemirror_mode": {
    "name": "ipython",
    "version": 3
   },
   "file_extension": ".py",
   "mimetype": "text/x-python",
   "name": "python",
   "nbconvert_exporter": "python",
   "pygments_lexer": "ipython3",
   "version": "3.11.7"
  }
 },
 "nbformat": 4,
 "nbformat_minor": 5
}
