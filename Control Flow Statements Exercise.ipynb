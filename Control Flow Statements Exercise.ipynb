{
 "cells": [
  {
   "cell_type": "raw",
   "id": "c869c105-d343-4d1a-b247-bd36910b0739",
   "metadata": {},
   "source": [
    "Even or Odd Number: Create a Python program that asks the user to enter a number. Use an if-else statement to check if the number is even (divisible by 2) or odd. Print a message indicating whether the number is even or odd"
   ]
  },
  {
   "cell_type": "raw",
   "id": "b10442f4-cf31-4238-9824-3628df7a921a",
   "metadata": {},
   "source": [
    "Temperature Check: Write a Python program that prompts the user for the temperature in degrees Celsius. Use an if-else chain to provide clothing recommendations based on the temperature ranges:\n",
    "\n",
    "30 degrees Celsius or above: It's hot! Wear light clothing.\n",
    "20 to 29 degrees Celsius: It's comfortable. Wear moderate clothing.\n",
    "10 to 19 degrees Celsius: It's a bit cold. Wear a jacket.\n",
    "Below 10 degrees Celsius: It's cold! Bundle up."
   ]
  },
  {
   "cell_type": "raw",
   "id": "5dc69340-ee12-4629-aa19-83777df4c11d",
   "metadata": {},
   "source": [
    "Write a Python program that calculates the movie ticket price based on age and day of the week. Here's the pricing structure:\n",
    "\n",
    "Adults (18+):\n",
    "Weekdays (Mon-Fri): Rs.12\n",
    "Weekends (Sat-Sun): Rs.15\n",
    "Children (below 18):\n",
    "Always pay Rs.8\n",
    "Use nested if-else statements to determine the age group and then apply the appropriate price based on the day of the week."
   ]
  },
  {
   "cell_type": "raw",
   "id": "549bd8ac-c2a6-4b16-9fe8-5a9aa2c68702",
   "metadata": {},
   "source": [
    "Write a Python program that prompts the user for their exam grade (between 0 and 100) and then assigns a letter grade based on the following criteria:\n",
    "\n",
    "A: 90 to 100 \n",
    "B: 80 to 89 \n",
    "C: 70 to 79 \n",
    "D: 60 to 69 \n",
    "F: Below 60\n"
   ]
  },
  {
   "cell_type": "raw",
   "id": "593132fb-d57b-4dda-aff7-42b6e2f3d326",
   "metadata": {},
   "source": [
    "This program simulates a guessing game where the user tries to guess a secret word built using a set of rules.\n",
    "\n",
    "Rules:\n",
    "The secret word is always three letters long.\n",
    "The first letter can be either \"S\" or \"T\".\n",
    "The second letter can be any vowel (a, e, i, o, u).\n",
    "The third letter can be any consonant except \"s\" and \"t\".\n",
    "Use nested if-else statements to determine if the user's guess matches the secret word based on these rule"
   ]
  },
  {
   "cell_type": "raw",
   "id": "c1b4a0bb-c641-4935-82c0-dc89c03c5827",
   "metadata": {},
   "source": [
    "Check whether a number is a palindrome number or not.\n",
    "A palindrome number is a number that remains the same when its digits are reversed. For example, 121 , 1221, 44,767, 132231 etc are palindrome numbers"
   ]
  },
  {
   "cell_type": "code",
   "execution_count": null,
   "id": "d25bed2d-dcfc-4c73-8d11-abc370181ac0",
   "metadata": {},
   "outputs": [],
   "source": []
  },
  {
   "cell_type": "code",
   "execution_count": null,
   "id": "49a7b8b2-bbad-4bae-aac5-b818e5e242b3",
   "metadata": {},
   "outputs": [],
   "source": []
  }
 ],
 "metadata": {
  "kernelspec": {
   "display_name": "Python 3 (ipykernel)",
   "language": "python",
   "name": "python3"
  },
  "language_info": {
   "codemirror_mode": {
    "name": "ipython",
    "version": 3
   },
   "file_extension": ".py",
   "mimetype": "text/x-python",
   "name": "python",
   "nbconvert_exporter": "python",
   "pygments_lexer": "ipython3",
   "version": "3.11.7"
  }
 },
 "nbformat": 4,
 "nbformat_minor": 5
}
